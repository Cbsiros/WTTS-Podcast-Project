{
 "cells": [
  {
   "cell_type": "markdown",
   "id": "dba2b962",
   "metadata": {},
   "source": [
    "## Importing Libraries"
   ]
  },
  {
   "cell_type": "code",
   "execution_count": 1,
   "id": "d55463cf",
   "metadata": {},
   "outputs": [
    {
     "data": {
      "text/html": [
       "        <script type=\"text/javascript\">\n",
       "        window.PlotlyConfig = {MathJaxConfig: 'local'};\n",
       "        if (window.MathJax && window.MathJax.Hub && window.MathJax.Hub.Config) {window.MathJax.Hub.Config({SVG: {font: \"STIX-Web\"}});}\n",
       "        if (typeof require !== 'undefined') {\n",
       "        require.undef(\"plotly\");\n",
       "        requirejs.config({\n",
       "            paths: {\n",
       "                'plotly': ['https://cdn.plot.ly/plotly-2.12.1.min']\n",
       "            }\n",
       "        });\n",
       "        require(['plotly'], function(Plotly) {\n",
       "            window._Plotly = Plotly;\n",
       "        });\n",
       "        }\n",
       "        </script>\n",
       "        "
      ]
     },
     "metadata": {},
     "output_type": "display_data"
    },
    {
     "data": {
      "text/html": [
       "        <script type=\"text/javascript\">\n",
       "        window.PlotlyConfig = {MathJaxConfig: 'local'};\n",
       "        if (window.MathJax && window.MathJax.Hub && window.MathJax.Hub.Config) {window.MathJax.Hub.Config({SVG: {font: \"STIX-Web\"}});}\n",
       "        if (typeof require !== 'undefined') {\n",
       "        require.undef(\"plotly\");\n",
       "        requirejs.config({\n",
       "            paths: {\n",
       "                'plotly': ['https://cdn.plot.ly/plotly-2.12.1.min']\n",
       "            }\n",
       "        });\n",
       "        require(['plotly'], function(Plotly) {\n",
       "            window._Plotly = Plotly;\n",
       "        });\n",
       "        }\n",
       "        </script>\n",
       "        "
      ]
     },
     "metadata": {},
     "output_type": "display_data"
    }
   ],
   "source": [
    "# Data processing\n",
    "import numpy as np \n",
    "import pandas as pd \n",
    "\n",
    "# Data visualization\n",
    "import matplotlib.pyplot as plt \n",
    "import chart_studio\n",
    "import chart_studio.plotly as py\n",
    "import cufflinks as cf\n",
    "import plotly.express as px\n",
    "import plotly.graph_objects as go\n",
    "\n",
    "# Make Plotly work in Jupyter Notebook\n",
    "from plotly.offline import download_plotlyjs, init_notebook_mode, plot, iplot\n",
    "init_notebook_mode(connected=True)\n",
    "# Use Plotly locally\n",
    "cf.go_offline()"
   ]
  },
  {
   "cell_type": "code",
   "execution_count": 2,
   "id": "dcc737c2",
   "metadata": {},
   "outputs": [
    {
     "data": {
      "text/html": [
       "<style>.container { width:90% !important; }</style>"
      ],
      "text/plain": [
       "<IPython.core.display.HTML object>"
      ]
     },
     "metadata": {},
     "output_type": "display_data"
    }
   ],
   "source": [
    "# Makes Jupyter Notebook cells wider\n",
    "from IPython.display import display, HTML\n",
    "display(HTML(\"<style>.container { width:90% !important; }</style>\"))\n",
    "\n",
    "# Print the full contents of each dataframe cell\n",
    "pd.set_option('display.max_colwidth', None)"
   ]
  },
  {
   "cell_type": "markdown",
   "id": "80df136f",
   "metadata": {},
   "source": [
    "## Importing Data"
   ]
  },
  {
   "cell_type": "code",
   "execution_count": 3,
   "id": "fd542c31",
   "metadata": {},
   "outputs": [],
   "source": [
    "WTTS_df = pd.read_excel('WTTS_Info.xlsx')"
   ]
  },
  {
   "cell_type": "code",
   "execution_count": 4,
   "id": "85d9b862",
   "metadata": {},
   "outputs": [],
   "source": [
    "most_recent_reviewed_episode = 193\n",
    "\n",
    "ratings_df = WTTS_df.iloc[:most_recent_reviewed_episode, :6]"
   ]
  },
  {
   "cell_type": "code",
   "execution_count": 5,
   "id": "1b78d42e",
   "metadata": {},
   "outputs": [
    {
     "data": {
      "text/html": [
       "<div>\n",
       "<style scoped>\n",
       "    .dataframe tbody tr th:only-of-type {\n",
       "        vertical-align: middle;\n",
       "    }\n",
       "\n",
       "    .dataframe tbody tr th {\n",
       "        vertical-align: top;\n",
       "    }\n",
       "\n",
       "    .dataframe thead th {\n",
       "        text-align: right;\n",
       "    }\n",
       "</style>\n",
       "<table border=\"1\" class=\"dataframe\">\n",
       "  <thead>\n",
       "    <tr style=\"text-align: right;\">\n",
       "      <th></th>\n",
       "      <th>Episode_Total</th>\n",
       "      <th>Season_Num</th>\n",
       "      <th>Episode_Num</th>\n",
       "      <th>Title</th>\n",
       "      <th>Original_Chevrons</th>\n",
       "      <th>Second_Chance</th>\n",
       "    </tr>\n",
       "  </thead>\n",
       "  <tbody>\n",
       "    <tr>\n",
       "      <th>0</th>\n",
       "      <td>1</td>\n",
       "      <td>1</td>\n",
       "      <td>1</td>\n",
       "      <td>Children of the Gods</td>\n",
       "      <td>4,4</td>\n",
       "      <td>6,4</td>\n",
       "    </tr>\n",
       "    <tr>\n",
       "      <th>1</th>\n",
       "      <td>2</td>\n",
       "      <td>1</td>\n",
       "      <td>2</td>\n",
       "      <td>The Enemy Within</td>\n",
       "      <td>2,5</td>\n",
       "      <td>NaN</td>\n",
       "    </tr>\n",
       "    <tr>\n",
       "      <th>2</th>\n",
       "      <td>3</td>\n",
       "      <td>1</td>\n",
       "      <td>3</td>\n",
       "      <td>Emancipation</td>\n",
       "      <td>1,0.5</td>\n",
       "      <td>0,0</td>\n",
       "    </tr>\n",
       "    <tr>\n",
       "      <th>3</th>\n",
       "      <td>4</td>\n",
       "      <td>1</td>\n",
       "      <td>4</td>\n",
       "      <td>The Broca Divide</td>\n",
       "      <td>6,5</td>\n",
       "      <td>NaN</td>\n",
       "    </tr>\n",
       "    <tr>\n",
       "      <th>4</th>\n",
       "      <td>5</td>\n",
       "      <td>1</td>\n",
       "      <td>5</td>\n",
       "      <td>The First Commandment</td>\n",
       "      <td>3,2.5</td>\n",
       "      <td>NaN</td>\n",
       "    </tr>\n",
       "    <tr>\n",
       "      <th>...</th>\n",
       "      <td>...</td>\n",
       "      <td>...</td>\n",
       "      <td>...</td>\n",
       "      <td>...</td>\n",
       "      <td>...</td>\n",
       "      <td>...</td>\n",
       "    </tr>\n",
       "    <tr>\n",
       "      <th>188</th>\n",
       "      <td>189</td>\n",
       "      <td>9</td>\n",
       "      <td>16</td>\n",
       "      <td>Off the Grid</td>\n",
       "      <td>7,7</td>\n",
       "      <td>NaN</td>\n",
       "    </tr>\n",
       "    <tr>\n",
       "      <th>189</th>\n",
       "      <td>190</td>\n",
       "      <td>9</td>\n",
       "      <td>17</td>\n",
       "      <td>The Scourge</td>\n",
       "      <td>2,2.5</td>\n",
       "      <td>NaN</td>\n",
       "    </tr>\n",
       "    <tr>\n",
       "      <th>190</th>\n",
       "      <td>191</td>\n",
       "      <td>9</td>\n",
       "      <td>18</td>\n",
       "      <td>Arthur's Mantle</td>\n",
       "      <td>5,5</td>\n",
       "      <td>NaN</td>\n",
       "    </tr>\n",
       "    <tr>\n",
       "      <th>191</th>\n",
       "      <td>192</td>\n",
       "      <td>9</td>\n",
       "      <td>19</td>\n",
       "      <td>Crusade</td>\n",
       "      <td>5,5.5</td>\n",
       "      <td>NaN</td>\n",
       "    </tr>\n",
       "    <tr>\n",
       "      <th>192</th>\n",
       "      <td>193</td>\n",
       "      <td>9</td>\n",
       "      <td>20</td>\n",
       "      <td>Camelot</td>\n",
       "      <td>6,6</td>\n",
       "      <td>NaN</td>\n",
       "    </tr>\n",
       "  </tbody>\n",
       "</table>\n",
       "<p>193 rows × 6 columns</p>\n",
       "</div>"
      ],
      "text/plain": [
       "     Episode_Total  Season_Num  Episode_Num                  Title  \\\n",
       "0                1           1            1   Children of the Gods   \n",
       "1                2           1            2       The Enemy Within   \n",
       "2                3           1            3           Emancipation   \n",
       "3                4           1            4       The Broca Divide   \n",
       "4                5           1            5  The First Commandment   \n",
       "..             ...         ...          ...                    ...   \n",
       "188            189           9           16           Off the Grid   \n",
       "189            190           9           17            The Scourge   \n",
       "190            191           9           18        Arthur's Mantle   \n",
       "191            192           9           19                Crusade   \n",
       "192            193           9           20                Camelot   \n",
       "\n",
       "    Original_Chevrons Second_Chance  \n",
       "0                 4,4           6,4  \n",
       "1                 2,5           NaN  \n",
       "2               1,0.5           0,0  \n",
       "3                 6,5           NaN  \n",
       "4               3,2.5           NaN  \n",
       "..                ...           ...  \n",
       "188               7,7           NaN  \n",
       "189             2,2.5           NaN  \n",
       "190               5,5           NaN  \n",
       "191             5,5.5           NaN  \n",
       "192               6,6           NaN  \n",
       "\n",
       "[193 rows x 6 columns]"
      ]
     },
     "execution_count": 5,
     "metadata": {},
     "output_type": "execute_result"
    }
   ],
   "source": [
    "ratings_df"
   ]
  },
  {
   "cell_type": "markdown",
   "id": "cae063bd",
   "metadata": {},
   "source": [
    "## Data Transformation"
   ]
  },
  {
   "cell_type": "code",
   "execution_count": 6,
   "id": "736beccc",
   "metadata": {},
   "outputs": [],
   "source": [
    "# Convert all values within a column to tuples, if the value is not null\n",
    "def transform_column_values_to_tuples(df: pd.DataFrame, column_name: str):\n",
    "    df[column_name] = df[column_name].apply(lambda x: tuple(map(float, x.split(','))) if pd.notnull(x) else float('NaN'))\n",
    "    \n",
    "    \n",
    "# Convert 'Original_Chevrons' column to tuples\n",
    "transform_column_values_to_tuples(ratings_df, 'Original_Chevrons')\n",
    "# Convert 'Second_Chance' column to tuples\n",
    "transform_column_values_to_tuples(ratings_df, 'Second_Chance')"
   ]
  },
  {
   "cell_type": "markdown",
   "id": "5ce5afa2",
   "metadata": {},
   "source": [
    "## Creating New Features"
   ]
  },
  {
   "cell_type": "code",
   "execution_count": 7,
   "id": "97e5ccd9",
   "metadata": {},
   "outputs": [],
   "source": [
    "# Create a list with the current ratings of each episode, accounting for second chance ratings\n",
    "updated_ratings = np.where(pd.isna(ratings_df['Second_Chance']), # If Second_Chance is NaN\n",
    "                                   ratings_df['Original_Chevrons'], # select Chevron_Ratings\n",
    "                                   ratings_df['Second_Chance']) # otherwise select Second_Chance\n",
    "\n",
    "\n",
    "# Extract the first host's ratings into a new column\n",
    "ratings_df['Brent_Chevrons'] = [rating[0] for rating in updated_ratings]\n",
    "\n",
    "# Extract the second host's ratings into a new column\n",
    "ratings_df['Zach_Chevrons'] = [rating[1] for rating in updated_ratings]\n",
    "\n",
    "\n",
    "# Remove column Second_Chance, as it will not be used again\n",
    "ratings_df.drop('Second_Chance', axis = 1, inplace = True)"
   ]
  },
  {
   "cell_type": "code",
   "execution_count": 8,
   "id": "797efd83",
   "metadata": {},
   "outputs": [],
   "source": [
    "# Create a list with the difference between the host's scores\n",
    "ratings_df['Rating_Differential'] = abs(ratings_df['Brent_Chevrons'] - ratings_df['Zach_Chevrons'])"
   ]
  },
  {
   "cell_type": "code",
   "execution_count": 9,
   "id": "9987c97a",
   "metadata": {},
   "outputs": [
    {
     "data": {
      "text/html": [
       "<div>\n",
       "<style scoped>\n",
       "    .dataframe tbody tr th:only-of-type {\n",
       "        vertical-align: middle;\n",
       "    }\n",
       "\n",
       "    .dataframe tbody tr th {\n",
       "        vertical-align: top;\n",
       "    }\n",
       "\n",
       "    .dataframe thead th {\n",
       "        text-align: right;\n",
       "    }\n",
       "</style>\n",
       "<table border=\"1\" class=\"dataframe\">\n",
       "  <thead>\n",
       "    <tr style=\"text-align: right;\">\n",
       "      <th></th>\n",
       "      <th>Episode_Total</th>\n",
       "      <th>Season_Num</th>\n",
       "      <th>Episode_Num</th>\n",
       "      <th>Title</th>\n",
       "      <th>Original_Chevrons</th>\n",
       "      <th>Brent_Chevrons</th>\n",
       "      <th>Zach_Chevrons</th>\n",
       "      <th>Rating_Differential</th>\n",
       "    </tr>\n",
       "  </thead>\n",
       "  <tbody>\n",
       "    <tr>\n",
       "      <th>0</th>\n",
       "      <td>1</td>\n",
       "      <td>1</td>\n",
       "      <td>1</td>\n",
       "      <td>Children of the Gods</td>\n",
       "      <td>(4.0, 4.0)</td>\n",
       "      <td>6.0</td>\n",
       "      <td>4.0</td>\n",
       "      <td>2.0</td>\n",
       "    </tr>\n",
       "    <tr>\n",
       "      <th>1</th>\n",
       "      <td>2</td>\n",
       "      <td>1</td>\n",
       "      <td>2</td>\n",
       "      <td>The Enemy Within</td>\n",
       "      <td>(2.0, 5.0)</td>\n",
       "      <td>2.0</td>\n",
       "      <td>5.0</td>\n",
       "      <td>3.0</td>\n",
       "    </tr>\n",
       "    <tr>\n",
       "      <th>2</th>\n",
       "      <td>3</td>\n",
       "      <td>1</td>\n",
       "      <td>3</td>\n",
       "      <td>Emancipation</td>\n",
       "      <td>(1.0, 0.5)</td>\n",
       "      <td>0.0</td>\n",
       "      <td>0.0</td>\n",
       "      <td>0.0</td>\n",
       "    </tr>\n",
       "    <tr>\n",
       "      <th>3</th>\n",
       "      <td>4</td>\n",
       "      <td>1</td>\n",
       "      <td>4</td>\n",
       "      <td>The Broca Divide</td>\n",
       "      <td>(6.0, 5.0)</td>\n",
       "      <td>6.0</td>\n",
       "      <td>5.0</td>\n",
       "      <td>1.0</td>\n",
       "    </tr>\n",
       "    <tr>\n",
       "      <th>4</th>\n",
       "      <td>5</td>\n",
       "      <td>1</td>\n",
       "      <td>5</td>\n",
       "      <td>The First Commandment</td>\n",
       "      <td>(3.0, 2.5)</td>\n",
       "      <td>3.0</td>\n",
       "      <td>2.5</td>\n",
       "      <td>0.5</td>\n",
       "    </tr>\n",
       "    <tr>\n",
       "      <th>...</th>\n",
       "      <td>...</td>\n",
       "      <td>...</td>\n",
       "      <td>...</td>\n",
       "      <td>...</td>\n",
       "      <td>...</td>\n",
       "      <td>...</td>\n",
       "      <td>...</td>\n",
       "      <td>...</td>\n",
       "    </tr>\n",
       "    <tr>\n",
       "      <th>188</th>\n",
       "      <td>189</td>\n",
       "      <td>9</td>\n",
       "      <td>16</td>\n",
       "      <td>Off the Grid</td>\n",
       "      <td>(7.0, 7.0)</td>\n",
       "      <td>7.0</td>\n",
       "      <td>7.0</td>\n",
       "      <td>0.0</td>\n",
       "    </tr>\n",
       "    <tr>\n",
       "      <th>189</th>\n",
       "      <td>190</td>\n",
       "      <td>9</td>\n",
       "      <td>17</td>\n",
       "      <td>The Scourge</td>\n",
       "      <td>(2.0, 2.5)</td>\n",
       "      <td>2.0</td>\n",
       "      <td>2.5</td>\n",
       "      <td>0.5</td>\n",
       "    </tr>\n",
       "    <tr>\n",
       "      <th>190</th>\n",
       "      <td>191</td>\n",
       "      <td>9</td>\n",
       "      <td>18</td>\n",
       "      <td>Arthur's Mantle</td>\n",
       "      <td>(5.0, 5.0)</td>\n",
       "      <td>5.0</td>\n",
       "      <td>5.0</td>\n",
       "      <td>0.0</td>\n",
       "    </tr>\n",
       "    <tr>\n",
       "      <th>191</th>\n",
       "      <td>192</td>\n",
       "      <td>9</td>\n",
       "      <td>19</td>\n",
       "      <td>Crusade</td>\n",
       "      <td>(5.0, 5.5)</td>\n",
       "      <td>5.0</td>\n",
       "      <td>5.5</td>\n",
       "      <td>0.5</td>\n",
       "    </tr>\n",
       "    <tr>\n",
       "      <th>192</th>\n",
       "      <td>193</td>\n",
       "      <td>9</td>\n",
       "      <td>20</td>\n",
       "      <td>Camelot</td>\n",
       "      <td>(6.0, 6.0)</td>\n",
       "      <td>6.0</td>\n",
       "      <td>6.0</td>\n",
       "      <td>0.0</td>\n",
       "    </tr>\n",
       "  </tbody>\n",
       "</table>\n",
       "<p>193 rows × 8 columns</p>\n",
       "</div>"
      ],
      "text/plain": [
       "     Episode_Total  Season_Num  Episode_Num                  Title  \\\n",
       "0                1           1            1   Children of the Gods   \n",
       "1                2           1            2       The Enemy Within   \n",
       "2                3           1            3           Emancipation   \n",
       "3                4           1            4       The Broca Divide   \n",
       "4                5           1            5  The First Commandment   \n",
       "..             ...         ...          ...                    ...   \n",
       "188            189           9           16           Off the Grid   \n",
       "189            190           9           17            The Scourge   \n",
       "190            191           9           18        Arthur's Mantle   \n",
       "191            192           9           19                Crusade   \n",
       "192            193           9           20                Camelot   \n",
       "\n",
       "    Original_Chevrons  Brent_Chevrons  Zach_Chevrons  Rating_Differential  \n",
       "0          (4.0, 4.0)             6.0            4.0                  2.0  \n",
       "1          (2.0, 5.0)             2.0            5.0                  3.0  \n",
       "2          (1.0, 0.5)             0.0            0.0                  0.0  \n",
       "3          (6.0, 5.0)             6.0            5.0                  1.0  \n",
       "4          (3.0, 2.5)             3.0            2.5                  0.5  \n",
       "..                ...             ...            ...                  ...  \n",
       "188        (7.0, 7.0)             7.0            7.0                  0.0  \n",
       "189        (2.0, 2.5)             2.0            2.5                  0.5  \n",
       "190        (5.0, 5.0)             5.0            5.0                  0.0  \n",
       "191        (5.0, 5.5)             5.0            5.5                  0.5  \n",
       "192        (6.0, 6.0)             6.0            6.0                  0.0  \n",
       "\n",
       "[193 rows x 8 columns]"
      ]
     },
     "execution_count": 9,
     "metadata": {},
     "output_type": "execute_result"
    }
   ],
   "source": [
    "ratings_df"
   ]
  },
  {
   "cell_type": "markdown",
   "id": "80322221",
   "metadata": {},
   "source": [
    "### Brent's Least Favorite Episodes"
   ]
  },
  {
   "cell_type": "code",
   "execution_count": 10,
   "id": "c79e034d",
   "metadata": {},
   "outputs": [
    {
     "data": {
      "text/html": [
       "<div>\n",
       "<style scoped>\n",
       "    .dataframe tbody tr th:only-of-type {\n",
       "        vertical-align: middle;\n",
       "    }\n",
       "\n",
       "    .dataframe tbody tr th {\n",
       "        vertical-align: top;\n",
       "    }\n",
       "\n",
       "    .dataframe thead th {\n",
       "        text-align: right;\n",
       "    }\n",
       "</style>\n",
       "<table border=\"1\" class=\"dataframe\">\n",
       "  <thead>\n",
       "    <tr style=\"text-align: right;\">\n",
       "      <th></th>\n",
       "      <th>Season_Num</th>\n",
       "      <th>Episode_Num</th>\n",
       "      <th>Title</th>\n",
       "      <th>Brent_Chevrons</th>\n",
       "    </tr>\n",
       "  </thead>\n",
       "  <tbody>\n",
       "    <tr>\n",
       "      <th>0</th>\n",
       "      <td>1</td>\n",
       "      <td>3</td>\n",
       "      <td>Emancipation</td>\n",
       "      <td>0.0</td>\n",
       "    </tr>\n",
       "    <tr>\n",
       "      <th>1</th>\n",
       "      <td>1</td>\n",
       "      <td>2</td>\n",
       "      <td>The Enemy Within</td>\n",
       "      <td>2.0</td>\n",
       "    </tr>\n",
       "    <tr>\n",
       "      <th>2</th>\n",
       "      <td>1</td>\n",
       "      <td>8</td>\n",
       "      <td>Brief Candle</td>\n",
       "      <td>2.0</td>\n",
       "    </tr>\n",
       "    <tr>\n",
       "      <th>3</th>\n",
       "      <td>1</td>\n",
       "      <td>20</td>\n",
       "      <td>Politics</td>\n",
       "      <td>2.0</td>\n",
       "    </tr>\n",
       "    <tr>\n",
       "      <th>4</th>\n",
       "      <td>2</td>\n",
       "      <td>10</td>\n",
       "      <td>Bane</td>\n",
       "      <td>2.0</td>\n",
       "    </tr>\n",
       "    <tr>\n",
       "      <th>5</th>\n",
       "      <td>2</td>\n",
       "      <td>13</td>\n",
       "      <td>Spirits</td>\n",
       "      <td>2.0</td>\n",
       "    </tr>\n",
       "    <tr>\n",
       "      <th>6</th>\n",
       "      <td>2</td>\n",
       "      <td>19</td>\n",
       "      <td>One False Step</td>\n",
       "      <td>2.0</td>\n",
       "    </tr>\n",
       "    <tr>\n",
       "      <th>7</th>\n",
       "      <td>3</td>\n",
       "      <td>2</td>\n",
       "      <td>Seth</td>\n",
       "      <td>2.0</td>\n",
       "    </tr>\n",
       "    <tr>\n",
       "      <th>8</th>\n",
       "      <td>3</td>\n",
       "      <td>13</td>\n",
       "      <td>The Devil You Know</td>\n",
       "      <td>2.0</td>\n",
       "    </tr>\n",
       "    <tr>\n",
       "      <th>9</th>\n",
       "      <td>5</td>\n",
       "      <td>20</td>\n",
       "      <td>The Sentinel</td>\n",
       "      <td>2.0</td>\n",
       "    </tr>\n",
       "    <tr>\n",
       "      <th>10</th>\n",
       "      <td>6</td>\n",
       "      <td>10</td>\n",
       "      <td>Cure</td>\n",
       "      <td>2.0</td>\n",
       "    </tr>\n",
       "    <tr>\n",
       "      <th>11</th>\n",
       "      <td>8</td>\n",
       "      <td>5</td>\n",
       "      <td>Icon</td>\n",
       "      <td>2.0</td>\n",
       "    </tr>\n",
       "    <tr>\n",
       "      <th>12</th>\n",
       "      <td>8</td>\n",
       "      <td>7</td>\n",
       "      <td>Affinity</td>\n",
       "      <td>2.0</td>\n",
       "    </tr>\n",
       "    <tr>\n",
       "      <th>13</th>\n",
       "      <td>9</td>\n",
       "      <td>13</td>\n",
       "      <td>Ripple Effect</td>\n",
       "      <td>2.0</td>\n",
       "    </tr>\n",
       "  </tbody>\n",
       "</table>\n",
       "</div>"
      ],
      "text/plain": [
       "    Season_Num  Episode_Num               Title  Brent_Chevrons\n",
       "0            1            3        Emancipation             0.0\n",
       "1            1            2    The Enemy Within             2.0\n",
       "2            1            8        Brief Candle             2.0\n",
       "3            1           20            Politics             2.0\n",
       "4            2           10                Bane             2.0\n",
       "5            2           13             Spirits             2.0\n",
       "6            2           19      One False Step             2.0\n",
       "7            3            2                Seth             2.0\n",
       "8            3           13  The Devil You Know             2.0\n",
       "9            5           20        The Sentinel             2.0\n",
       "10           6           10                Cure             2.0\n",
       "11           8            5                Icon             2.0\n",
       "12           8            7            Affinity             2.0\n",
       "13           9           13       Ripple Effect             2.0"
      ]
     },
     "execution_count": 10,
     "metadata": {},
     "output_type": "execute_result"
    }
   ],
   "source": [
    "ratings_df.sort_values(by = ['Brent_Chevrons', 'Season_Num', 'Episode_Num']).head(14).reset_index()[['Season_Num', 'Episode_Num', 'Title', 'Brent_Chevrons']]"
   ]
  },
  {
   "cell_type": "markdown",
   "id": "e125eb37",
   "metadata": {},
   "source": [
    "### Zach's Least Favorite Episodes"
   ]
  },
  {
   "cell_type": "code",
   "execution_count": 11,
   "id": "e360a81d",
   "metadata": {},
   "outputs": [
    {
     "data": {
      "text/html": [
       "<div>\n",
       "<style scoped>\n",
       "    .dataframe tbody tr th:only-of-type {\n",
       "        vertical-align: middle;\n",
       "    }\n",
       "\n",
       "    .dataframe tbody tr th {\n",
       "        vertical-align: top;\n",
       "    }\n",
       "\n",
       "    .dataframe thead th {\n",
       "        text-align: right;\n",
       "    }\n",
       "</style>\n",
       "<table border=\"1\" class=\"dataframe\">\n",
       "  <thead>\n",
       "    <tr style=\"text-align: right;\">\n",
       "      <th></th>\n",
       "      <th>Season_Num</th>\n",
       "      <th>Episode_Num</th>\n",
       "      <th>Title</th>\n",
       "      <th>Zach_Chevrons</th>\n",
       "    </tr>\n",
       "  </thead>\n",
       "  <tbody>\n",
       "    <tr>\n",
       "      <th>0</th>\n",
       "      <td>1</td>\n",
       "      <td>3</td>\n",
       "      <td>Emancipation</td>\n",
       "      <td>0.0</td>\n",
       "    </tr>\n",
       "    <tr>\n",
       "      <th>1</th>\n",
       "      <td>1</td>\n",
       "      <td>15</td>\n",
       "      <td>Cor-ai</td>\n",
       "      <td>2.0</td>\n",
       "    </tr>\n",
       "    <tr>\n",
       "      <th>2</th>\n",
       "      <td>2</td>\n",
       "      <td>10</td>\n",
       "      <td>Bane</td>\n",
       "      <td>2.0</td>\n",
       "    </tr>\n",
       "    <tr>\n",
       "      <th>3</th>\n",
       "      <td>2</td>\n",
       "      <td>13</td>\n",
       "      <td>Spirits</td>\n",
       "      <td>2.0</td>\n",
       "    </tr>\n",
       "    <tr>\n",
       "      <th>4</th>\n",
       "      <td>2</td>\n",
       "      <td>19</td>\n",
       "      <td>One False Step</td>\n",
       "      <td>2.0</td>\n",
       "    </tr>\n",
       "    <tr>\n",
       "      <th>5</th>\n",
       "      <td>3</td>\n",
       "      <td>2</td>\n",
       "      <td>Seth</td>\n",
       "      <td>2.0</td>\n",
       "    </tr>\n",
       "    <tr>\n",
       "      <th>6</th>\n",
       "      <td>8</td>\n",
       "      <td>5</td>\n",
       "      <td>Icon</td>\n",
       "      <td>2.0</td>\n",
       "    </tr>\n",
       "    <tr>\n",
       "      <th>7</th>\n",
       "      <td>1</td>\n",
       "      <td>5</td>\n",
       "      <td>The First Commandment</td>\n",
       "      <td>2.5</td>\n",
       "    </tr>\n",
       "    <tr>\n",
       "      <th>8</th>\n",
       "      <td>1</td>\n",
       "      <td>20</td>\n",
       "      <td>Politics</td>\n",
       "      <td>2.5</td>\n",
       "    </tr>\n",
       "    <tr>\n",
       "      <th>9</th>\n",
       "      <td>2</td>\n",
       "      <td>22</td>\n",
       "      <td>Out of Mind</td>\n",
       "      <td>2.5</td>\n",
       "    </tr>\n",
       "    <tr>\n",
       "      <th>10</th>\n",
       "      <td>3</td>\n",
       "      <td>8</td>\n",
       "      <td>Demons</td>\n",
       "      <td>2.5</td>\n",
       "    </tr>\n",
       "    <tr>\n",
       "      <th>11</th>\n",
       "      <td>6</td>\n",
       "      <td>16</td>\n",
       "      <td>Metamorphosis</td>\n",
       "      <td>2.5</td>\n",
       "    </tr>\n",
       "  </tbody>\n",
       "</table>\n",
       "</div>"
      ],
      "text/plain": [
       "    Season_Num  Episode_Num                  Title  Zach_Chevrons\n",
       "0            1            3           Emancipation            0.0\n",
       "1            1           15                 Cor-ai            2.0\n",
       "2            2           10                   Bane            2.0\n",
       "3            2           13                Spirits            2.0\n",
       "4            2           19         One False Step            2.0\n",
       "5            3            2                   Seth            2.0\n",
       "6            8            5                   Icon            2.0\n",
       "7            1            5  The First Commandment            2.5\n",
       "8            1           20               Politics            2.5\n",
       "9            2           22            Out of Mind            2.5\n",
       "10           3            8                 Demons            2.5\n",
       "11           6           16          Metamorphosis            2.5"
      ]
     },
     "execution_count": 11,
     "metadata": {},
     "output_type": "execute_result"
    }
   ],
   "source": [
    "ratings_df.sort_values(by = ['Zach_Chevrons', 'Season_Num', 'Episode_Num']).head(12).reset_index()[['Season_Num', 'Episode_Num', 'Title', 'Zach_Chevrons']]"
   ]
  },
  {
   "cell_type": "markdown",
   "id": "716f3ade",
   "metadata": {},
   "source": [
    "### Brent's Favorite Episodes"
   ]
  },
  {
   "cell_type": "code",
   "execution_count": 12,
   "id": "4ee84f13",
   "metadata": {},
   "outputs": [
    {
     "data": {
      "text/html": [
       "<div>\n",
       "<style scoped>\n",
       "    .dataframe tbody tr th:only-of-type {\n",
       "        vertical-align: middle;\n",
       "    }\n",
       "\n",
       "    .dataframe tbody tr th {\n",
       "        vertical-align: top;\n",
       "    }\n",
       "\n",
       "    .dataframe thead th {\n",
       "        text-align: right;\n",
       "    }\n",
       "</style>\n",
       "<table border=\"1\" class=\"dataframe\">\n",
       "  <thead>\n",
       "    <tr style=\"text-align: right;\">\n",
       "      <th></th>\n",
       "      <th>Season_Num</th>\n",
       "      <th>Episode_Num</th>\n",
       "      <th>Title</th>\n",
       "      <th>Brent_Chevrons</th>\n",
       "    </tr>\n",
       "  </thead>\n",
       "  <tbody>\n",
       "    <tr>\n",
       "      <th>0</th>\n",
       "      <td>2</td>\n",
       "      <td>15</td>\n",
       "      <td>The Fifth Race</td>\n",
       "      <td>8.0</td>\n",
       "    </tr>\n",
       "    <tr>\n",
       "      <th>1</th>\n",
       "      <td>5</td>\n",
       "      <td>21</td>\n",
       "      <td>Meridian</td>\n",
       "      <td>8.0</td>\n",
       "    </tr>\n",
       "    <tr>\n",
       "      <th>2</th>\n",
       "      <td>6</td>\n",
       "      <td>12</td>\n",
       "      <td>Unnatural Selection</td>\n",
       "      <td>8.0</td>\n",
       "    </tr>\n",
       "    <tr>\n",
       "      <th>3</th>\n",
       "      <td>6</td>\n",
       "      <td>22</td>\n",
       "      <td>Full Circle</td>\n",
       "      <td>8.0</td>\n",
       "    </tr>\n",
       "    <tr>\n",
       "      <th>4</th>\n",
       "      <td>8</td>\n",
       "      <td>11</td>\n",
       "      <td>Gemini</td>\n",
       "      <td>8.0</td>\n",
       "    </tr>\n",
       "    <tr>\n",
       "      <th>5</th>\n",
       "      <td>8</td>\n",
       "      <td>19</td>\n",
       "      <td>Moebius: Part 1</td>\n",
       "      <td>8.0</td>\n",
       "    </tr>\n",
       "    <tr>\n",
       "      <th>6</th>\n",
       "      <td>8</td>\n",
       "      <td>20</td>\n",
       "      <td>Moebius: Part 2</td>\n",
       "      <td>8.0</td>\n",
       "    </tr>\n",
       "  </tbody>\n",
       "</table>\n",
       "</div>"
      ],
      "text/plain": [
       "   Season_Num  Episode_Num                Title  Brent_Chevrons\n",
       "0           2           15       The Fifth Race             8.0\n",
       "1           5           21             Meridian             8.0\n",
       "2           6           12  Unnatural Selection             8.0\n",
       "3           6           22          Full Circle             8.0\n",
       "4           8           11               Gemini             8.0\n",
       "5           8           19      Moebius: Part 1             8.0\n",
       "6           8           20      Moebius: Part 2             8.0"
      ]
     },
     "execution_count": 12,
     "metadata": {},
     "output_type": "execute_result"
    }
   ],
   "source": [
    "ratings_df.sort_values(by = ['Brent_Chevrons', 'Season_Num', 'Episode_Num'], ascending = [False, True, True]).head(7).reset_index()[['Season_Num', 'Episode_Num', 'Title', 'Brent_Chevrons']]"
   ]
  },
  {
   "cell_type": "markdown",
   "id": "f9c6d500",
   "metadata": {},
   "source": [
    "### Zach's Favorite Episodes"
   ]
  },
  {
   "cell_type": "code",
   "execution_count": 13,
   "id": "d1de9f2a",
   "metadata": {},
   "outputs": [
    {
     "data": {
      "text/html": [
       "<div>\n",
       "<style scoped>\n",
       "    .dataframe tbody tr th:only-of-type {\n",
       "        vertical-align: middle;\n",
       "    }\n",
       "\n",
       "    .dataframe tbody tr th {\n",
       "        vertical-align: top;\n",
       "    }\n",
       "\n",
       "    .dataframe thead th {\n",
       "        text-align: right;\n",
       "    }\n",
       "</style>\n",
       "<table border=\"1\" class=\"dataframe\">\n",
       "  <thead>\n",
       "    <tr style=\"text-align: right;\">\n",
       "      <th></th>\n",
       "      <th>Season_Num</th>\n",
       "      <th>Episode_Num</th>\n",
       "      <th>Title</th>\n",
       "      <th>Zach_Chevrons</th>\n",
       "    </tr>\n",
       "  </thead>\n",
       "  <tbody>\n",
       "    <tr>\n",
       "      <th>0</th>\n",
       "      <td>2</td>\n",
       "      <td>15</td>\n",
       "      <td>The Fifth Race</td>\n",
       "      <td>8.0</td>\n",
       "    </tr>\n",
       "    <tr>\n",
       "      <th>1</th>\n",
       "      <td>5</td>\n",
       "      <td>12</td>\n",
       "      <td>Wormhole X-Treme!</td>\n",
       "      <td>8.0</td>\n",
       "    </tr>\n",
       "    <tr>\n",
       "      <th>2</th>\n",
       "      <td>5</td>\n",
       "      <td>21</td>\n",
       "      <td>Meridian</td>\n",
       "      <td>8.0</td>\n",
       "    </tr>\n",
       "    <tr>\n",
       "      <th>3</th>\n",
       "      <td>6</td>\n",
       "      <td>19</td>\n",
       "      <td>The Changeling</td>\n",
       "      <td>8.0</td>\n",
       "    </tr>\n",
       "    <tr>\n",
       "      <th>4</th>\n",
       "      <td>6</td>\n",
       "      <td>22</td>\n",
       "      <td>Full Circle</td>\n",
       "      <td>8.0</td>\n",
       "    </tr>\n",
       "    <tr>\n",
       "      <th>5</th>\n",
       "      <td>7</td>\n",
       "      <td>17</td>\n",
       "      <td>Heroes: Part 1</td>\n",
       "      <td>8.0</td>\n",
       "    </tr>\n",
       "    <tr>\n",
       "      <th>6</th>\n",
       "      <td>7</td>\n",
       "      <td>18</td>\n",
       "      <td>Heroes: Part 2</td>\n",
       "      <td>8.0</td>\n",
       "    </tr>\n",
       "    <tr>\n",
       "      <th>7</th>\n",
       "      <td>7</td>\n",
       "      <td>21</td>\n",
       "      <td>Lost City: Part 1</td>\n",
       "      <td>8.0</td>\n",
       "    </tr>\n",
       "    <tr>\n",
       "      <th>8</th>\n",
       "      <td>7</td>\n",
       "      <td>22</td>\n",
       "      <td>Lost City: Part 2</td>\n",
       "      <td>8.0</td>\n",
       "    </tr>\n",
       "    <tr>\n",
       "      <th>9</th>\n",
       "      <td>8</td>\n",
       "      <td>18</td>\n",
       "      <td>Threads</td>\n",
       "      <td>8.0</td>\n",
       "    </tr>\n",
       "    <tr>\n",
       "      <th>10</th>\n",
       "      <td>8</td>\n",
       "      <td>19</td>\n",
       "      <td>Moebius: Part 1</td>\n",
       "      <td>8.0</td>\n",
       "    </tr>\n",
       "    <tr>\n",
       "      <th>11</th>\n",
       "      <td>8</td>\n",
       "      <td>20</td>\n",
       "      <td>Moebius: Part 2</td>\n",
       "      <td>8.0</td>\n",
       "    </tr>\n",
       "  </tbody>\n",
       "</table>\n",
       "</div>"
      ],
      "text/plain": [
       "    Season_Num  Episode_Num              Title  Zach_Chevrons\n",
       "0            2           15     The Fifth Race            8.0\n",
       "1            5           12  Wormhole X-Treme!            8.0\n",
       "2            5           21           Meridian            8.0\n",
       "3            6           19     The Changeling            8.0\n",
       "4            6           22        Full Circle            8.0\n",
       "5            7           17     Heroes: Part 1            8.0\n",
       "6            7           18     Heroes: Part 2            8.0\n",
       "7            7           21  Lost City: Part 1            8.0\n",
       "8            7           22  Lost City: Part 2            8.0\n",
       "9            8           18            Threads            8.0\n",
       "10           8           19    Moebius: Part 1            8.0\n",
       "11           8           20    Moebius: Part 2            8.0"
      ]
     },
     "execution_count": 13,
     "metadata": {},
     "output_type": "execute_result"
    }
   ],
   "source": [
    "ratings_df.sort_values(by = ['Zach_Chevrons', 'Season_Num', 'Episode_Num'], ascending = [False, True, True]).head(12).reset_index()[['Season_Num', 'Episode_Num', 'Title', 'Zach_Chevrons']]"
   ]
  },
  {
   "cell_type": "code",
   "execution_count": 14,
   "id": "dd3ff3a7",
   "metadata": {
    "scrolled": false
   },
   "outputs": [
    {
     "data": {
      "application/vnd.plotly.v1+json": {
       "config": {
        "plotlyServerURL": "https://plotly.com"
       },
       "data": [
        {
         "hoverinfo": "text",
         "marker": {
          "color": "#0096FF"
         },
         "mode": "markers",
         "name": "Brent",
         "text": [
          "Children of the Gods<br>Rating: 6.0",
          "The Enemy Within<br>Rating: 2.0",
          "Emancipation<br>Rating: 0.0",
          "The Broca Divide<br>Rating: 6.0",
          "The First Commandment<br>Rating: 3.0",
          "Cold Lazarus<br>Rating: 4.0",
          "The Nox<br>Rating: 6.0",
          "Brief Candle<br>Rating: 2.0",
          "Thor's Hammer<br>Rating: 6.0",
          "The Torment of Tantalus<br>Rating: 5.0",
          "Bloodlines<br>Rating: 3.0",
          "Fire and Water<br>Rating: 4.0",
          "Hathor<br>Rating: 3.0",
          "Singularity<br>Rating: 5.0",
          "Cor-ai<br>Rating: 3.0",
          "Enigma<br>Rating: 3.0",
          "Solitudes<br>Rating: 6.0",
          "Tin Man<br>Rating: 5.0",
          "There But for the Grace of God<br>Rating: 5.0",
          "Politics<br>Rating: 2.0",
          "Within the Serpent's Grasp<br>Rating: 5.0",
          "The Serpent's Lair<br>Rating: 4.0",
          "In the Line of Duty<br>Rating: 6.0",
          "Prisoners<br>Rating: 4.0",
          "The Gamekeeper<br>Rating: 3.0",
          "Need<br>Rating: 5.0",
          "Thor's Chariot<br>Rating: 4.0",
          "Message in a Bottle<br>Rating: 5.0",
          "Family<br>Rating: 3.0",
          "Secrets<br>Rating: 5.0",
          "Bane<br>Rating: 2.0",
          "The Tok'ra: Part 1<br>Rating: 4.0",
          "The Tok'ra: Part 2<br>Rating: 4.0",
          "Spirits<br>Rating: 2.0",
          "Touchstone<br>Rating: 4.0",
          "The Fifth Race<br>Rating: 8.0",
          "A Matter of Time<br>Rating: 4.0",
          "Holiday<br>Rating: 3.0",
          "Serpent's Song<br>Rating: 6.0",
          "One False Step<br>Rating: 2.0",
          "Show and Tell<br>Rating: 4.0",
          "1969<br>Rating: 6.0",
          "Out of Mind<br>Rating: 4.0",
          "Into the Fire<br>Rating: 3.0",
          "Seth<br>Rating: 2.0",
          "Fair Game<br>Rating: 6.0",
          "Legacy<br>Rating: 6.0",
          "Learning Curve<br>Rating: 7.0",
          "Point of View<br>Rating: 5.0",
          "Deadman Switch<br>Rating: 4.0",
          "Demons<br>Rating: 3.0",
          "Rules of Engagement<br>Rating: 3.0",
          "Forever in a Day<br>Rating: 6.0",
          "Past and Present<br>Rating: 6.0",
          "Jolinar's Memories<br>Rating: 6.0",
          "The Devil You Know<br>Rating: 2.0",
          "Foothold<br>Rating: 5.0",
          "Pretense<br>Rating: 3.0",
          "Urgo<br>Rating: 7.0",
          "A Hundred Days<br>Rating: 4.0",
          "Shades of Grey<br>Rating: 7.0",
          "New Ground<br>Rating: 5.0",
          "Maternal Instinct<br>Rating: 4.0",
          "Crystal Skull<br>Rating: 7.0",
          "Nemesis<br>Rating: 6.0",
          "Small Victories<br>Rating: 4.0",
          "The Other Side<br>Rating: 6.0",
          "Upgrades<br>Rating: 6.0",
          "Crossroads<br>Rating: 3.0",
          "Divide and Conquer<br>Rating: 6.0",
          "Window of Opportunity<br>Rating: 6.0",
          "Watergate<br>Rating: 4.0",
          "The First Ones<br>Rating: 6.5",
          "Scorched Earth<br>Rating: 4.0",
          "Beneath the Surface<br>Rating: 3.0",
          "Point of No Return<br>Rating: 6.0",
          "Tangent<br>Rating: 7.0",
          "The Curse<br>Rating: 3.0",
          "The Serpent's Venom<br>Rating: 6.0",
          "Chain Reaction<br>Rating: 3.0",
          "2010<br>Rating: 6.0",
          "Absolute Power<br>Rating: 7.0",
          "The Light<br>Rating: 5.0",
          "Prodigy<br>Rating: 4.0",
          "Entity<br>Rating: 6.0",
          "Double Jeopardy<br>Rating: 5.0",
          "Exodus<br>Rating: 6.0",
          "Enemies<br>Rating: 6.0",
          "Threshold<br>Rating: 6.0",
          "Ascension<br>Rating: 4.0",
          "The Fifth Man<br>Rating: 5.0",
          "Red Sky<br>Rating: 7.0",
          "Rite of Passage<br>Rating: 5.0",
          "Beast of Burden<br>Rating: 4.0",
          "The Tomb<br>Rating: 3.0",
          "Between Two Fires<br>Rating: 6.0",
          "2001<br>Rating: 6.0",
          "Desperate Measures<br>Rating: 5.0",
          "Wormhole X-Treme!<br>Rating: 7.0",
          "Proving Ground<br>Rating: 7.0",
          "48 Hours<br>Rating: 5.0",
          "Summit<br>Rating: 6.0",
          "Last Stand<br>Rating: 6.0",
          "Fail Safe<br>Rating: 5.0",
          "The Warrior<br>Rating: 7.0",
          "Menace<br>Rating: 5.0",
          "The Sentinel<br>Rating: 2.0",
          "Meridian<br>Rating: 8.0",
          "Revelations<br>Rating: 6.0",
          "Redemption: Part 1<br>Rating: 5.0",
          "Redemption: Part 2<br>Rating: 5.0",
          "Descent<br>Rating: 6.0",
          "Frozen<br>Rating: 5.0",
          "Nightwalkers<br>Rating: 4.0",
          "Abyss<br>Rating: 7.0",
          "Shadow Play<br>Rating: 4.0",
          "The Other Guys<br>Rating: 7.0",
          "Allegiance<br>Rating: 5.0",
          "Cure<br>Rating: 2.0",
          "Prometheus<br>Rating: 5.0",
          "Unnatural Selection<br>Rating: 8.0",
          "Sight Unseen<br>Rating: 6.0",
          "Smoke & Mirrors<br>Rating: 3.0",
          "Paradise Lost<br>Rating: 4.0",
          "Metamorphosis<br>Rating: 5.0",
          "Disclosure<br>Rating: 3.0",
          "Forsaken<br>Rating: 4.0",
          "The Changeling<br>Rating: 7.0",
          "Memento<br>Rating: 3.0",
          "Prophecy<br>Rating: 5.0",
          "Full Circle<br>Rating: 8.0",
          "Fallen<br>Rating: 5.0",
          "Homecoming<br>Rating: 5.0",
          "Fragile Balance<br>Rating: 6.0",
          "Orpheus<br>Rating: 7.0",
          "Revisions<br>Rating: 6.0",
          "Lifeboat<br>Rating: 7.0",
          "Enemy Mine<br>Rating: 7.0",
          "Space Race<br>Rating: 4.0",
          "Avenger 2.0<br>Rating: 5.0",
          "Birthright<br>Rating: 3.0",
          "Evolution: Part 1<br>Rating: 6.0",
          "Evolution: Part 2<br>Rating: 6.0",
          "Grace<br>Rating: 7.0",
          "Fallout<br>Rating: 3.0",
          "Chimera<br>Rating: 6.0",
          "Death Knell<br>Rating: 4.0",
          "Heroes: Part 1<br>Rating: 7.0",
          "Heroes: Part 2<br>Rating: 7.0",
          "Resurrection<br>Rating: 4.0",
          "Inauguration<br>Rating: 6.0",
          "Lost City: Part 1<br>Rating: 7.0",
          "Lost City: Part 2<br>Rating: 7.0",
          "New Order: Part 1<br>Rating: 5.0",
          "New Order: Part 2<br>Rating: 5.0",
          "Lockdown<br>Rating: 5.0",
          "Zero Hour<br>Rating: 5.0",
          "Icon<br>Rating: 2.0",
          "Avatar<br>Rating: 7.0",
          "Affinity<br>Rating: 2.0",
          "Covenant<br>Rating: 3.0",
          "Sacrifices<br>Rating: 3.0",
          "Endgame<br>Rating: 4.0",
          "Gemini<br>Rating: 8.0",
          "Prometheus Unbound<br>Rating: 5.0",
          "It's Good to Be King<br>Rating: 7.0",
          "Full Alert<br>Rating: 5.0",
          "Citizen Joe<br>Rating: 7.0",
          "Reckoning: Part 1<br>Rating: 7.0",
          "Reckoning: Part 2<br>Rating: 7.0",
          "Threads<br>Rating: 6.0",
          "Moebius: Part 1<br>Rating: 8.0",
          "Moebius: Part 2<br>Rating: 8.0",
          "Avalon: Part 1<br>Rating: 5.0",
          "Avalon: Part 2<br>Rating: 6.0",
          "Origin<br>Rating: 7.0",
          "The Ties That Bind<br>Rating: 7.0",
          "The Powers That Be<br>Rating: 5.0",
          "Beachhead<br>Rating: 6.0",
          "Ex Deus Machina<br>Rating: 4.0",
          "Babylon<br>Rating: 3.0",
          "Prototype<br>Rating: 5.0",
          "The Fourth Horseman: Part 1<br>Rating: 6.0",
          "The Fourth Horseman: Part 2<br>Rating: 6.0",
          "Collateral Damage<br>Rating: 4.0",
          "Ripple Effect<br>Rating: 2.0",
          "Stronghold<br>Rating: 4.0",
          "Ethon<br>Rating: 7.0",
          "Off the Grid<br>Rating: 7.0",
          "The Scourge<br>Rating: 2.0",
          "Arthur's Mantle<br>Rating: 5.0",
          "Crusade<br>Rating: 5.0",
          "Camelot<br>Rating: 6.0"
         ],
         "type": "scatter",
         "x": [
          0,
          1,
          2,
          3,
          4,
          5,
          6,
          7,
          8,
          9,
          10,
          11,
          12,
          13,
          14,
          15,
          16,
          17,
          18,
          19,
          20,
          21,
          22,
          23,
          24,
          25,
          26,
          27,
          28,
          29,
          30,
          31,
          32,
          33,
          34,
          35,
          36,
          37,
          38,
          39,
          40,
          41,
          42,
          43,
          44,
          45,
          46,
          47,
          48,
          49,
          50,
          51,
          52,
          53,
          54,
          55,
          56,
          57,
          58,
          59,
          60,
          61,
          62,
          63,
          64,
          65,
          66,
          67,
          68,
          69,
          70,
          71,
          72,
          73,
          74,
          75,
          76,
          77,
          78,
          79,
          80,
          81,
          82,
          83,
          84,
          85,
          86,
          87,
          88,
          89,
          90,
          91,
          92,
          93,
          94,
          95,
          96,
          97,
          98,
          99,
          100,
          101,
          102,
          103,
          104,
          105,
          106,
          107,
          108,
          109,
          110,
          111,
          112,
          113,
          114,
          115,
          116,
          117,
          118,
          119,
          120,
          121,
          122,
          123,
          124,
          125,
          126,
          127,
          128,
          129,
          130,
          131,
          132,
          133,
          134,
          135,
          136,
          137,
          138,
          139,
          140,
          141,
          142,
          143,
          144,
          145,
          146,
          147,
          148,
          149,
          150,
          151,
          152,
          153,
          154,
          155,
          156,
          157,
          158,
          159,
          160,
          161,
          162,
          163,
          164,
          165,
          166,
          167,
          168,
          169,
          170,
          171,
          172,
          173,
          174,
          175,
          176,
          177,
          178,
          179,
          180,
          181,
          182,
          183,
          184,
          185,
          186,
          187,
          188,
          189,
          190,
          191,
          192
         ],
         "y": [
          6,
          2,
          0,
          6,
          3,
          4,
          6,
          2,
          6,
          5,
          3,
          4,
          3,
          5,
          3,
          3,
          6,
          5,
          5,
          2,
          5,
          4,
          6,
          4,
          3,
          5,
          4,
          5,
          3,
          5,
          2,
          4,
          4,
          2,
          4,
          8,
          4,
          3,
          6,
          2,
          4,
          6,
          4,
          3,
          2,
          6,
          6,
          7,
          5,
          4,
          3,
          3,
          6,
          6,
          6,
          2,
          5,
          3,
          7,
          4,
          7,
          5,
          4,
          7,
          6,
          4,
          6,
          6,
          3,
          6,
          6,
          4,
          6.5,
          4,
          3,
          6,
          7,
          3,
          6,
          3,
          6,
          7,
          5,
          4,
          6,
          5,
          6,
          6,
          6,
          4,
          5,
          7,
          5,
          4,
          3,
          6,
          6,
          5,
          7,
          7,
          5,
          6,
          6,
          5,
          7,
          5,
          2,
          8,
          6,
          5,
          5,
          6,
          5,
          4,
          7,
          4,
          7,
          5,
          2,
          5,
          8,
          6,
          3,
          4,
          5,
          3,
          4,
          7,
          3,
          5,
          8,
          5,
          5,
          6,
          7,
          6,
          7,
          7,
          4,
          5,
          3,
          6,
          6,
          7,
          3,
          6,
          4,
          7,
          7,
          4,
          6,
          7,
          7,
          5,
          5,
          5,
          5,
          2,
          7,
          2,
          3,
          3,
          4,
          8,
          5,
          7,
          5,
          7,
          7,
          7,
          6,
          8,
          8,
          5,
          6,
          7,
          7,
          5,
          6,
          4,
          3,
          5,
          6,
          6,
          4,
          2,
          4,
          7,
          7,
          2,
          5,
          5,
          6
         ]
        },
        {
         "hoverinfo": "text",
         "marker": {
          "color": "#FFA500"
         },
         "mode": "markers",
         "name": "Zach",
         "text": [
          "Children of the Gods<br>Rating: 4.0",
          "The Enemy Within<br>Rating: 5.0",
          "Emancipation<br>Rating: 0.0",
          "The Broca Divide<br>Rating: 5.0",
          "The First Commandment<br>Rating: 2.5",
          "Cold Lazarus<br>Rating: 4.0",
          "The Nox<br>Rating: 6.0",
          "Brief Candle<br>Rating: 3.0",
          "Thor's Hammer<br>Rating: 6.0",
          "The Torment of Tantalus<br>Rating: 7.0",
          "Bloodlines<br>Rating: 3.0",
          "Fire and Water<br>Rating: 3.0",
          "Hathor<br>Rating: 3.0",
          "Singularity<br>Rating: 4.5",
          "Cor-ai<br>Rating: 2.0",
          "Enigma<br>Rating: 3.5",
          "Solitudes<br>Rating: 6.0",
          "Tin Man<br>Rating: 5.0",
          "There But for the Grace of God<br>Rating: 4.5",
          "Politics<br>Rating: 2.5",
          "Within the Serpent's Grasp<br>Rating: 5.0",
          "The Serpent's Lair<br>Rating: 4.5",
          "In the Line of Duty<br>Rating: 6.0",
          "Prisoners<br>Rating: 4.0",
          "The Gamekeeper<br>Rating: 3.0",
          "Need<br>Rating: 3.5",
          "Thor's Chariot<br>Rating: 4.0",
          "Message in a Bottle<br>Rating: 5.0",
          "Family<br>Rating: 3.0",
          "Secrets<br>Rating: 5.0",
          "Bane<br>Rating: 2.0",
          "The Tok'ra: Part 1<br>Rating: 4.0",
          "The Tok'ra: Part 2<br>Rating: 4.0",
          "Spirits<br>Rating: 2.0",
          "Touchstone<br>Rating: 4.0",
          "The Fifth Race<br>Rating: 8.0",
          "A Matter of Time<br>Rating: 3.5",
          "Holiday<br>Rating: 4.0",
          "Serpent's Song<br>Rating: 6.0",
          "One False Step<br>Rating: 2.0",
          "Show and Tell<br>Rating: 4.0",
          "1969<br>Rating: 6.0",
          "Out of Mind<br>Rating: 2.5",
          "Into the Fire<br>Rating: 3.0",
          "Seth<br>Rating: 2.0",
          "Fair Game<br>Rating: 6.0",
          "Legacy<br>Rating: 5.5",
          "Learning Curve<br>Rating: 7.0",
          "Point of View<br>Rating: 5.0",
          "Deadman Switch<br>Rating: 3.5",
          "Demons<br>Rating: 2.5",
          "Rules of Engagement<br>Rating: 3.0",
          "Forever in a Day<br>Rating: 6.0",
          "Past and Present<br>Rating: 5.0",
          "Jolinar's Memories<br>Rating: 6.0",
          "The Devil You Know<br>Rating: 3.5",
          "Foothold<br>Rating: 4.5",
          "Pretense<br>Rating: 5.0",
          "Urgo<br>Rating: 7.0",
          "A Hundred Days<br>Rating: 5.0",
          "Shades of Grey<br>Rating: 6.0",
          "New Ground<br>Rating: 4.5",
          "Maternal Instinct<br>Rating: 5.0",
          "Crystal Skull<br>Rating: 6.0",
          "Nemesis<br>Rating: 6.0",
          "Small Victories<br>Rating: 7.0",
          "The Other Side<br>Rating: 6.0",
          "Upgrades<br>Rating: 5.0",
          "Crossroads<br>Rating: 4.0",
          "Divide and Conquer<br>Rating: 5.0",
          "Window of Opportunity<br>Rating: 7.0",
          "Watergate<br>Rating: 4.0",
          "The First Ones<br>Rating: 6.5",
          "Scorched Earth<br>Rating: 4.0",
          "Beneath the Surface<br>Rating: 3.0",
          "Point of No Return<br>Rating: 5.0",
          "Tangent<br>Rating: 5.5",
          "The Curse<br>Rating: 5.5",
          "The Serpent's Venom<br>Rating: 6.0",
          "Chain Reaction<br>Rating: 7.0",
          "2010<br>Rating: 7.0",
          "Absolute Power<br>Rating: 6.0",
          "The Light<br>Rating: 5.0",
          "Prodigy<br>Rating: 4.0",
          "Entity<br>Rating: 3.5",
          "Double Jeopardy<br>Rating: 5.5",
          "Exodus<br>Rating: 6.0",
          "Enemies<br>Rating: 6.0",
          "Threshold<br>Rating: 7.0",
          "Ascension<br>Rating: 5.0",
          "The Fifth Man<br>Rating: 5.0",
          "Red Sky<br>Rating: 4.5",
          "Rite of Passage<br>Rating: 4.5",
          "Beast of Burden<br>Rating: 6.0",
          "The Tomb<br>Rating: 3.5",
          "Between Two Fires<br>Rating: 5.0",
          "2001<br>Rating: 6.0",
          "Desperate Measures<br>Rating: 5.0",
          "Wormhole X-Treme!<br>Rating: 8.0",
          "Proving Ground<br>Rating: 4.0",
          "48 Hours<br>Rating: 6.0",
          "Summit<br>Rating: 5.5",
          "Last Stand<br>Rating: 5.5",
          "Fail Safe<br>Rating: 5.5",
          "The Warrior<br>Rating: 6.0",
          "Menace<br>Rating: 7.0",
          "The Sentinel<br>Rating: 3.0",
          "Meridian<br>Rating: 8.0",
          "Revelations<br>Rating: 5.0",
          "Redemption: Part 1<br>Rating: 5.0",
          "Redemption: Part 2<br>Rating: 5.0",
          "Descent<br>Rating: 5.0",
          "Frozen<br>Rating: 6.0",
          "Nightwalkers<br>Rating: 4.5",
          "Abyss<br>Rating: 7.0",
          "Shadow Play<br>Rating: 4.5",
          "The Other Guys<br>Rating: 7.0",
          "Allegiance<br>Rating: 5.0",
          "Cure<br>Rating: 4.0",
          "Prometheus<br>Rating: 5.0",
          "Unnatural Selection<br>Rating: 7.0",
          "Sight Unseen<br>Rating: 4.0",
          "Smoke & Mirrors<br>Rating: 5.0",
          "Paradise Lost<br>Rating: 4.5",
          "Metamorphosis<br>Rating: 2.5",
          "Disclosure<br>Rating: 4.5",
          "Forsaken<br>Rating: 3.5",
          "The Changeling<br>Rating: 8.0",
          "Memento<br>Rating: 3.0",
          "Prophecy<br>Rating: 4.0",
          "Full Circle<br>Rating: 8.0",
          "Fallen<br>Rating: 6.0",
          "Homecoming<br>Rating: 5.5",
          "Fragile Balance<br>Rating: 6.0",
          "Orpheus<br>Rating: 6.0",
          "Revisions<br>Rating: 4.5",
          "Lifeboat<br>Rating: 3.0",
          "Enemy Mine<br>Rating: 7.0",
          "Space Race<br>Rating: 5.0",
          "Avenger 2.0<br>Rating: 3.5",
          "Birthright<br>Rating: 3.5",
          "Evolution: Part 1<br>Rating: 5.5",
          "Evolution: Part 2<br>Rating: 6.0",
          "Grace<br>Rating: 4.0",
          "Fallout<br>Rating: 3.0",
          "Chimera<br>Rating: 3.0",
          "Death Knell<br>Rating: 6.0",
          "Heroes: Part 1<br>Rating: 8.0",
          "Heroes: Part 2<br>Rating: 8.0",
          "Resurrection<br>Rating: 3.0",
          "Inauguration<br>Rating: 5.0",
          "Lost City: Part 1<br>Rating: 8.0",
          "Lost City: Part 2<br>Rating: 8.0",
          "New Order: Part 1<br>Rating: 5.0",
          "New Order: Part 2<br>Rating: 5.0",
          "Lockdown<br>Rating: 4.5",
          "Zero Hour<br>Rating: 4.0",
          "Icon<br>Rating: 2.0",
          "Avatar<br>Rating: 7.0",
          "Affinity<br>Rating: 3.5",
          "Covenant<br>Rating: 3.5",
          "Sacrifices<br>Rating: 3.0",
          "Endgame<br>Rating: 5.0",
          "Gemini<br>Rating: 7.0",
          "Prometheus Unbound<br>Rating: 6.0",
          "It's Good to Be King<br>Rating: 7.0",
          "Full Alert<br>Rating: 5.0",
          "Citizen Joe<br>Rating: 7.0",
          "Reckoning: Part 1<br>Rating: 6.5",
          "Reckoning: Part 2<br>Rating: 6.5",
          "Threads<br>Rating: 8.0",
          "Moebius: Part 1<br>Rating: 8.0",
          "Moebius: Part 2<br>Rating: 8.0",
          "Avalon: Part 1<br>Rating: 5.5",
          "Avalon: Part 2<br>Rating: 6.0",
          "Origin<br>Rating: 6.5",
          "The Ties That Bind<br>Rating: 7.0",
          "The Powers That Be<br>Rating: 6.0",
          "Beachhead<br>Rating: 6.0",
          "Ex Deus Machina<br>Rating: 4.5",
          "Babylon<br>Rating: 4.5",
          "Prototype<br>Rating: 5.0",
          "The Fourth Horseman: Part 1<br>Rating: 6.0",
          "The Fourth Horseman: Part 2<br>Rating: 7.0",
          "Collateral Damage<br>Rating: 4.5",
          "Ripple Effect<br>Rating: 3.5",
          "Stronghold<br>Rating: 4.0",
          "Ethon<br>Rating: 6.5",
          "Off the Grid<br>Rating: 7.0",
          "The Scourge<br>Rating: 2.5",
          "Arthur's Mantle<br>Rating: 5.0",
          "Crusade<br>Rating: 5.5",
          "Camelot<br>Rating: 6.0"
         ],
         "type": "scatter",
         "x": [
          0,
          1,
          2,
          3,
          4,
          5,
          6,
          7,
          8,
          9,
          10,
          11,
          12,
          13,
          14,
          15,
          16,
          17,
          18,
          19,
          20,
          21,
          22,
          23,
          24,
          25,
          26,
          27,
          28,
          29,
          30,
          31,
          32,
          33,
          34,
          35,
          36,
          37,
          38,
          39,
          40,
          41,
          42,
          43,
          44,
          45,
          46,
          47,
          48,
          49,
          50,
          51,
          52,
          53,
          54,
          55,
          56,
          57,
          58,
          59,
          60,
          61,
          62,
          63,
          64,
          65,
          66,
          67,
          68,
          69,
          70,
          71,
          72,
          73,
          74,
          75,
          76,
          77,
          78,
          79,
          80,
          81,
          82,
          83,
          84,
          85,
          86,
          87,
          88,
          89,
          90,
          91,
          92,
          93,
          94,
          95,
          96,
          97,
          98,
          99,
          100,
          101,
          102,
          103,
          104,
          105,
          106,
          107,
          108,
          109,
          110,
          111,
          112,
          113,
          114,
          115,
          116,
          117,
          118,
          119,
          120,
          121,
          122,
          123,
          124,
          125,
          126,
          127,
          128,
          129,
          130,
          131,
          132,
          133,
          134,
          135,
          136,
          137,
          138,
          139,
          140,
          141,
          142,
          143,
          144,
          145,
          146,
          147,
          148,
          149,
          150,
          151,
          152,
          153,
          154,
          155,
          156,
          157,
          158,
          159,
          160,
          161,
          162,
          163,
          164,
          165,
          166,
          167,
          168,
          169,
          170,
          171,
          172,
          173,
          174,
          175,
          176,
          177,
          178,
          179,
          180,
          181,
          182,
          183,
          184,
          185,
          186,
          187,
          188,
          189,
          190,
          191,
          192
         ],
         "y": [
          4,
          5,
          0,
          5,
          2.5,
          4,
          6,
          3,
          6,
          7,
          3,
          3,
          3,
          4.5,
          2,
          3.5,
          6,
          5,
          4.5,
          2.5,
          5,
          4.5,
          6,
          4,
          3,
          3.5,
          4,
          5,
          3,
          5,
          2,
          4,
          4,
          2,
          4,
          8,
          3.5,
          4,
          6,
          2,
          4,
          6,
          2.5,
          3,
          2,
          6,
          5.5,
          7,
          5,
          3.5,
          2.5,
          3,
          6,
          5,
          6,
          3.5,
          4.5,
          5,
          7,
          5,
          6,
          4.5,
          5,
          6,
          6,
          7,
          6,
          5,
          4,
          5,
          7,
          4,
          6.5,
          4,
          3,
          5,
          5.5,
          5.5,
          6,
          7,
          7,
          6,
          5,
          4,
          3.5,
          5.5,
          6,
          6,
          7,
          5,
          5,
          4.5,
          4.5,
          6,
          3.5,
          5,
          6,
          5,
          8,
          4,
          6,
          5.5,
          5.5,
          5.5,
          6,
          7,
          3,
          8,
          5,
          5,
          5,
          5,
          6,
          4.5,
          7,
          4.5,
          7,
          5,
          4,
          5,
          7,
          4,
          5,
          4.5,
          2.5,
          4.5,
          3.5,
          8,
          3,
          4,
          8,
          6,
          5.5,
          6,
          6,
          4.5,
          3,
          7,
          5,
          3.5,
          3.5,
          5.5,
          6,
          4,
          3,
          3,
          6,
          8,
          8,
          3,
          5,
          8,
          8,
          5,
          5,
          4.5,
          4,
          2,
          7,
          3.5,
          3.5,
          3,
          5,
          7,
          6,
          7,
          5,
          7,
          6.5,
          6.5,
          8,
          8,
          8,
          5.5,
          6,
          6.5,
          7,
          6,
          6,
          4.5,
          4.5,
          5,
          6,
          7,
          4.5,
          3.5,
          4,
          6.5,
          7,
          2.5,
          5,
          5.5,
          6
         ]
        }
       ],
       "layout": {
        "font": {
         "color": "#ffffff"
        },
        "paper_bgcolor": "#011222",
        "template": {
         "data": {
          "bar": [
           {
            "error_x": {
             "color": "#2a3f5f"
            },
            "error_y": {
             "color": "#2a3f5f"
            },
            "marker": {
             "line": {
              "color": "#E5ECF6",
              "width": 0.5
             },
             "pattern": {
              "fillmode": "overlay",
              "size": 10,
              "solidity": 0.2
             }
            },
            "type": "bar"
           }
          ],
          "barpolar": [
           {
            "marker": {
             "line": {
              "color": "#E5ECF6",
              "width": 0.5
             },
             "pattern": {
              "fillmode": "overlay",
              "size": 10,
              "solidity": 0.2
             }
            },
            "type": "barpolar"
           }
          ],
          "carpet": [
           {
            "aaxis": {
             "endlinecolor": "#2a3f5f",
             "gridcolor": "white",
             "linecolor": "white",
             "minorgridcolor": "white",
             "startlinecolor": "#2a3f5f"
            },
            "baxis": {
             "endlinecolor": "#2a3f5f",
             "gridcolor": "white",
             "linecolor": "white",
             "minorgridcolor": "white",
             "startlinecolor": "#2a3f5f"
            },
            "type": "carpet"
           }
          ],
          "choropleth": [
           {
            "colorbar": {
             "outlinewidth": 0,
             "ticks": ""
            },
            "type": "choropleth"
           }
          ],
          "contour": [
           {
            "colorbar": {
             "outlinewidth": 0,
             "ticks": ""
            },
            "colorscale": [
             [
              0,
              "#0d0887"
             ],
             [
              0.1111111111111111,
              "#46039f"
             ],
             [
              0.2222222222222222,
              "#7201a8"
             ],
             [
              0.3333333333333333,
              "#9c179e"
             ],
             [
              0.4444444444444444,
              "#bd3786"
             ],
             [
              0.5555555555555556,
              "#d8576b"
             ],
             [
              0.6666666666666666,
              "#ed7953"
             ],
             [
              0.7777777777777778,
              "#fb9f3a"
             ],
             [
              0.8888888888888888,
              "#fdca26"
             ],
             [
              1,
              "#f0f921"
             ]
            ],
            "type": "contour"
           }
          ],
          "contourcarpet": [
           {
            "colorbar": {
             "outlinewidth": 0,
             "ticks": ""
            },
            "type": "contourcarpet"
           }
          ],
          "heatmap": [
           {
            "colorbar": {
             "outlinewidth": 0,
             "ticks": ""
            },
            "colorscale": [
             [
              0,
              "#0d0887"
             ],
             [
              0.1111111111111111,
              "#46039f"
             ],
             [
              0.2222222222222222,
              "#7201a8"
             ],
             [
              0.3333333333333333,
              "#9c179e"
             ],
             [
              0.4444444444444444,
              "#bd3786"
             ],
             [
              0.5555555555555556,
              "#d8576b"
             ],
             [
              0.6666666666666666,
              "#ed7953"
             ],
             [
              0.7777777777777778,
              "#fb9f3a"
             ],
             [
              0.8888888888888888,
              "#fdca26"
             ],
             [
              1,
              "#f0f921"
             ]
            ],
            "type": "heatmap"
           }
          ],
          "heatmapgl": [
           {
            "colorbar": {
             "outlinewidth": 0,
             "ticks": ""
            },
            "colorscale": [
             [
              0,
              "#0d0887"
             ],
             [
              0.1111111111111111,
              "#46039f"
             ],
             [
              0.2222222222222222,
              "#7201a8"
             ],
             [
              0.3333333333333333,
              "#9c179e"
             ],
             [
              0.4444444444444444,
              "#bd3786"
             ],
             [
              0.5555555555555556,
              "#d8576b"
             ],
             [
              0.6666666666666666,
              "#ed7953"
             ],
             [
              0.7777777777777778,
              "#fb9f3a"
             ],
             [
              0.8888888888888888,
              "#fdca26"
             ],
             [
              1,
              "#f0f921"
             ]
            ],
            "type": "heatmapgl"
           }
          ],
          "histogram": [
           {
            "marker": {
             "pattern": {
              "fillmode": "overlay",
              "size": 10,
              "solidity": 0.2
             }
            },
            "type": "histogram"
           }
          ],
          "histogram2d": [
           {
            "colorbar": {
             "outlinewidth": 0,
             "ticks": ""
            },
            "colorscale": [
             [
              0,
              "#0d0887"
             ],
             [
              0.1111111111111111,
              "#46039f"
             ],
             [
              0.2222222222222222,
              "#7201a8"
             ],
             [
              0.3333333333333333,
              "#9c179e"
             ],
             [
              0.4444444444444444,
              "#bd3786"
             ],
             [
              0.5555555555555556,
              "#d8576b"
             ],
             [
              0.6666666666666666,
              "#ed7953"
             ],
             [
              0.7777777777777778,
              "#fb9f3a"
             ],
             [
              0.8888888888888888,
              "#fdca26"
             ],
             [
              1,
              "#f0f921"
             ]
            ],
            "type": "histogram2d"
           }
          ],
          "histogram2dcontour": [
           {
            "colorbar": {
             "outlinewidth": 0,
             "ticks": ""
            },
            "colorscale": [
             [
              0,
              "#0d0887"
             ],
             [
              0.1111111111111111,
              "#46039f"
             ],
             [
              0.2222222222222222,
              "#7201a8"
             ],
             [
              0.3333333333333333,
              "#9c179e"
             ],
             [
              0.4444444444444444,
              "#bd3786"
             ],
             [
              0.5555555555555556,
              "#d8576b"
             ],
             [
              0.6666666666666666,
              "#ed7953"
             ],
             [
              0.7777777777777778,
              "#fb9f3a"
             ],
             [
              0.8888888888888888,
              "#fdca26"
             ],
             [
              1,
              "#f0f921"
             ]
            ],
            "type": "histogram2dcontour"
           }
          ],
          "mesh3d": [
           {
            "colorbar": {
             "outlinewidth": 0,
             "ticks": ""
            },
            "type": "mesh3d"
           }
          ],
          "parcoords": [
           {
            "line": {
             "colorbar": {
              "outlinewidth": 0,
              "ticks": ""
             }
            },
            "type": "parcoords"
           }
          ],
          "pie": [
           {
            "automargin": true,
            "type": "pie"
           }
          ],
          "scatter": [
           {
            "fillpattern": {
             "fillmode": "overlay",
             "size": 10,
             "solidity": 0.2
            },
            "type": "scatter"
           }
          ],
          "scatter3d": [
           {
            "line": {
             "colorbar": {
              "outlinewidth": 0,
              "ticks": ""
             }
            },
            "marker": {
             "colorbar": {
              "outlinewidth": 0,
              "ticks": ""
             }
            },
            "type": "scatter3d"
           }
          ],
          "scattercarpet": [
           {
            "marker": {
             "colorbar": {
              "outlinewidth": 0,
              "ticks": ""
             }
            },
            "type": "scattercarpet"
           }
          ],
          "scattergeo": [
           {
            "marker": {
             "colorbar": {
              "outlinewidth": 0,
              "ticks": ""
             }
            },
            "type": "scattergeo"
           }
          ],
          "scattergl": [
           {
            "marker": {
             "colorbar": {
              "outlinewidth": 0,
              "ticks": ""
             }
            },
            "type": "scattergl"
           }
          ],
          "scattermapbox": [
           {
            "marker": {
             "colorbar": {
              "outlinewidth": 0,
              "ticks": ""
             }
            },
            "type": "scattermapbox"
           }
          ],
          "scatterpolar": [
           {
            "marker": {
             "colorbar": {
              "outlinewidth": 0,
              "ticks": ""
             }
            },
            "type": "scatterpolar"
           }
          ],
          "scatterpolargl": [
           {
            "marker": {
             "colorbar": {
              "outlinewidth": 0,
              "ticks": ""
             }
            },
            "type": "scatterpolargl"
           }
          ],
          "scatterternary": [
           {
            "marker": {
             "colorbar": {
              "outlinewidth": 0,
              "ticks": ""
             }
            },
            "type": "scatterternary"
           }
          ],
          "surface": [
           {
            "colorbar": {
             "outlinewidth": 0,
             "ticks": ""
            },
            "colorscale": [
             [
              0,
              "#0d0887"
             ],
             [
              0.1111111111111111,
              "#46039f"
             ],
             [
              0.2222222222222222,
              "#7201a8"
             ],
             [
              0.3333333333333333,
              "#9c179e"
             ],
             [
              0.4444444444444444,
              "#bd3786"
             ],
             [
              0.5555555555555556,
              "#d8576b"
             ],
             [
              0.6666666666666666,
              "#ed7953"
             ],
             [
              0.7777777777777778,
              "#fb9f3a"
             ],
             [
              0.8888888888888888,
              "#fdca26"
             ],
             [
              1,
              "#f0f921"
             ]
            ],
            "type": "surface"
           }
          ],
          "table": [
           {
            "cells": {
             "fill": {
              "color": "#EBF0F8"
             },
             "line": {
              "color": "white"
             }
            },
            "header": {
             "fill": {
              "color": "#C8D4E3"
             },
             "line": {
              "color": "white"
             }
            },
            "type": "table"
           }
          ]
         },
         "layout": {
          "annotationdefaults": {
           "arrowcolor": "#2a3f5f",
           "arrowhead": 0,
           "arrowwidth": 1
          },
          "autotypenumbers": "strict",
          "coloraxis": {
           "colorbar": {
            "outlinewidth": 0,
            "ticks": ""
           }
          },
          "colorscale": {
           "diverging": [
            [
             0,
             "#8e0152"
            ],
            [
             0.1,
             "#c51b7d"
            ],
            [
             0.2,
             "#de77ae"
            ],
            [
             0.3,
             "#f1b6da"
            ],
            [
             0.4,
             "#fde0ef"
            ],
            [
             0.5,
             "#f7f7f7"
            ],
            [
             0.6,
             "#e6f5d0"
            ],
            [
             0.7,
             "#b8e186"
            ],
            [
             0.8,
             "#7fbc41"
            ],
            [
             0.9,
             "#4d9221"
            ],
            [
             1,
             "#276419"
            ]
           ],
           "sequential": [
            [
             0,
             "#0d0887"
            ],
            [
             0.1111111111111111,
             "#46039f"
            ],
            [
             0.2222222222222222,
             "#7201a8"
            ],
            [
             0.3333333333333333,
             "#9c179e"
            ],
            [
             0.4444444444444444,
             "#bd3786"
            ],
            [
             0.5555555555555556,
             "#d8576b"
            ],
            [
             0.6666666666666666,
             "#ed7953"
            ],
            [
             0.7777777777777778,
             "#fb9f3a"
            ],
            [
             0.8888888888888888,
             "#fdca26"
            ],
            [
             1,
             "#f0f921"
            ]
           ],
           "sequentialminus": [
            [
             0,
             "#0d0887"
            ],
            [
             0.1111111111111111,
             "#46039f"
            ],
            [
             0.2222222222222222,
             "#7201a8"
            ],
            [
             0.3333333333333333,
             "#9c179e"
            ],
            [
             0.4444444444444444,
             "#bd3786"
            ],
            [
             0.5555555555555556,
             "#d8576b"
            ],
            [
             0.6666666666666666,
             "#ed7953"
            ],
            [
             0.7777777777777778,
             "#fb9f3a"
            ],
            [
             0.8888888888888888,
             "#fdca26"
            ],
            [
             1,
             "#f0f921"
            ]
           ]
          },
          "colorway": [
           "#636efa",
           "#EF553B",
           "#00cc96",
           "#ab63fa",
           "#FFA15A",
           "#19d3f3",
           "#FF6692",
           "#B6E880",
           "#FF97FF",
           "#FECB52"
          ],
          "font": {
           "color": "#2a3f5f"
          },
          "geo": {
           "bgcolor": "white",
           "lakecolor": "white",
           "landcolor": "#E5ECF6",
           "showlakes": true,
           "showland": true,
           "subunitcolor": "white"
          },
          "hoverlabel": {
           "align": "left"
          },
          "hovermode": "closest",
          "mapbox": {
           "style": "light"
          },
          "paper_bgcolor": "white",
          "plot_bgcolor": "#E5ECF6",
          "polar": {
           "angularaxis": {
            "gridcolor": "white",
            "linecolor": "white",
            "ticks": ""
           },
           "bgcolor": "#E5ECF6",
           "radialaxis": {
            "gridcolor": "white",
            "linecolor": "white",
            "ticks": ""
           }
          },
          "scene": {
           "xaxis": {
            "backgroundcolor": "#E5ECF6",
            "gridcolor": "white",
            "gridwidth": 2,
            "linecolor": "white",
            "showbackground": true,
            "ticks": "",
            "zerolinecolor": "white"
           },
           "yaxis": {
            "backgroundcolor": "#E5ECF6",
            "gridcolor": "white",
            "gridwidth": 2,
            "linecolor": "white",
            "showbackground": true,
            "ticks": "",
            "zerolinecolor": "white"
           },
           "zaxis": {
            "backgroundcolor": "#E5ECF6",
            "gridcolor": "white",
            "gridwidth": 2,
            "linecolor": "white",
            "showbackground": true,
            "ticks": "",
            "zerolinecolor": "white"
           }
          },
          "shapedefaults": {
           "line": {
            "color": "#2a3f5f"
           }
          },
          "ternary": {
           "aaxis": {
            "gridcolor": "white",
            "linecolor": "white",
            "ticks": ""
           },
           "baxis": {
            "gridcolor": "white",
            "linecolor": "white",
            "ticks": ""
           },
           "bgcolor": "#E5ECF6",
           "caxis": {
            "gridcolor": "white",
            "linecolor": "white",
            "ticks": ""
           }
          },
          "title": {
           "x": 0.05
          },
          "xaxis": {
           "automargin": true,
           "gridcolor": "white",
           "linecolor": "white",
           "ticks": "",
           "title": {
            "standoff": 15
           },
           "zerolinecolor": "white",
           "zerolinewidth": 2
          },
          "yaxis": {
           "automargin": true,
           "gridcolor": "white",
           "linecolor": "white",
           "ticks": "",
           "title": {
            "standoff": 15
           },
           "zerolinecolor": "white",
           "zerolinewidth": 2
          }
         }
        },
        "title": {
         "text": "Chevron Ratings"
        },
        "xaxis": {
         "title": {
          "text": "Episode Number"
         }
        },
        "yaxis": {
         "range": [
          0,
          9
         ],
         "title": {
          "text": "Rating"
         }
        }
       }
      },
      "text/html": [
       "<div>                            <div id=\"54ea5ff9-e37f-4e2b-8d3b-34bedf71c005\" class=\"plotly-graph-div\" style=\"height:525px; width:100%;\"></div>            <script type=\"text/javascript\">                require([\"plotly\"], function(Plotly) {                    window.PLOTLYENV=window.PLOTLYENV || {};                                    if (document.getElementById(\"54ea5ff9-e37f-4e2b-8d3b-34bedf71c005\")) {                    Plotly.newPlot(                        \"54ea5ff9-e37f-4e2b-8d3b-34bedf71c005\",                        [{\"hoverinfo\":\"text\",\"marker\":{\"color\":\"#0096FF\"},\"mode\":\"markers\",\"name\":\"Brent\",\"text\":[\"Children of the Gods<br>Rating: 6.0\",\"The Enemy Within<br>Rating: 2.0\",\"Emancipation<br>Rating: 0.0\",\"The Broca Divide<br>Rating: 6.0\",\"The First Commandment<br>Rating: 3.0\",\"Cold Lazarus<br>Rating: 4.0\",\"The Nox<br>Rating: 6.0\",\"Brief Candle<br>Rating: 2.0\",\"Thor's Hammer<br>Rating: 6.0\",\"The Torment of Tantalus<br>Rating: 5.0\",\"Bloodlines<br>Rating: 3.0\",\"Fire and Water<br>Rating: 4.0\",\"Hathor<br>Rating: 3.0\",\"Singularity<br>Rating: 5.0\",\"Cor-ai<br>Rating: 3.0\",\"Enigma<br>Rating: 3.0\",\"Solitudes<br>Rating: 6.0\",\"Tin Man<br>Rating: 5.0\",\"There But for the Grace of God<br>Rating: 5.0\",\"Politics<br>Rating: 2.0\",\"Within the Serpent's Grasp<br>Rating: 5.0\",\"The Serpent's Lair<br>Rating: 4.0\",\"In the Line of Duty<br>Rating: 6.0\",\"Prisoners<br>Rating: 4.0\",\"The Gamekeeper<br>Rating: 3.0\",\"Need<br>Rating: 5.0\",\"Thor's Chariot<br>Rating: 4.0\",\"Message in a Bottle<br>Rating: 5.0\",\"Family<br>Rating: 3.0\",\"Secrets<br>Rating: 5.0\",\"Bane<br>Rating: 2.0\",\"The Tok'ra: Part 1<br>Rating: 4.0\",\"The Tok'ra: Part 2<br>Rating: 4.0\",\"Spirits<br>Rating: 2.0\",\"Touchstone<br>Rating: 4.0\",\"The Fifth Race<br>Rating: 8.0\",\"A Matter of Time<br>Rating: 4.0\",\"Holiday<br>Rating: 3.0\",\"Serpent's Song<br>Rating: 6.0\",\"One False Step<br>Rating: 2.0\",\"Show and Tell<br>Rating: 4.0\",\"1969<br>Rating: 6.0\",\"Out of Mind<br>Rating: 4.0\",\"Into the Fire<br>Rating: 3.0\",\"Seth<br>Rating: 2.0\",\"Fair Game<br>Rating: 6.0\",\"Legacy<br>Rating: 6.0\",\"Learning Curve<br>Rating: 7.0\",\"Point of View<br>Rating: 5.0\",\"Deadman Switch<br>Rating: 4.0\",\"Demons<br>Rating: 3.0\",\"Rules of Engagement<br>Rating: 3.0\",\"Forever in a Day<br>Rating: 6.0\",\"Past and Present<br>Rating: 6.0\",\"Jolinar's Memories<br>Rating: 6.0\",\"The Devil You Know<br>Rating: 2.0\",\"Foothold<br>Rating: 5.0\",\"Pretense<br>Rating: 3.0\",\"Urgo<br>Rating: 7.0\",\"A Hundred Days<br>Rating: 4.0\",\"Shades of Grey<br>Rating: 7.0\",\"New Ground<br>Rating: 5.0\",\"Maternal Instinct<br>Rating: 4.0\",\"Crystal Skull<br>Rating: 7.0\",\"Nemesis<br>Rating: 6.0\",\"Small Victories<br>Rating: 4.0\",\"The Other Side<br>Rating: 6.0\",\"Upgrades<br>Rating: 6.0\",\"Crossroads<br>Rating: 3.0\",\"Divide and Conquer<br>Rating: 6.0\",\"Window of Opportunity<br>Rating: 6.0\",\"Watergate<br>Rating: 4.0\",\"The First Ones<br>Rating: 6.5\",\"Scorched Earth<br>Rating: 4.0\",\"Beneath the Surface<br>Rating: 3.0\",\"Point of No Return<br>Rating: 6.0\",\"Tangent<br>Rating: 7.0\",\"The Curse<br>Rating: 3.0\",\"The Serpent's Venom<br>Rating: 6.0\",\"Chain Reaction<br>Rating: 3.0\",\"2010<br>Rating: 6.0\",\"Absolute Power<br>Rating: 7.0\",\"The Light<br>Rating: 5.0\",\"Prodigy<br>Rating: 4.0\",\"Entity<br>Rating: 6.0\",\"Double Jeopardy<br>Rating: 5.0\",\"Exodus<br>Rating: 6.0\",\"Enemies<br>Rating: 6.0\",\"Threshold<br>Rating: 6.0\",\"Ascension<br>Rating: 4.0\",\"The Fifth Man<br>Rating: 5.0\",\"Red Sky<br>Rating: 7.0\",\"Rite of Passage<br>Rating: 5.0\",\"Beast of Burden<br>Rating: 4.0\",\"The Tomb<br>Rating: 3.0\",\"Between Two Fires<br>Rating: 6.0\",\"2001<br>Rating: 6.0\",\"Desperate Measures<br>Rating: 5.0\",\"Wormhole X-Treme!<br>Rating: 7.0\",\"Proving Ground<br>Rating: 7.0\",\"48 Hours<br>Rating: 5.0\",\"Summit<br>Rating: 6.0\",\"Last Stand<br>Rating: 6.0\",\"Fail Safe<br>Rating: 5.0\",\"The Warrior<br>Rating: 7.0\",\"Menace<br>Rating: 5.0\",\"The Sentinel<br>Rating: 2.0\",\"Meridian<br>Rating: 8.0\",\"Revelations<br>Rating: 6.0\",\"Redemption: Part 1<br>Rating: 5.0\",\"Redemption: Part 2<br>Rating: 5.0\",\"Descent<br>Rating: 6.0\",\"Frozen<br>Rating: 5.0\",\"Nightwalkers<br>Rating: 4.0\",\"Abyss<br>Rating: 7.0\",\"Shadow Play<br>Rating: 4.0\",\"The Other Guys<br>Rating: 7.0\",\"Allegiance<br>Rating: 5.0\",\"Cure<br>Rating: 2.0\",\"Prometheus<br>Rating: 5.0\",\"Unnatural Selection<br>Rating: 8.0\",\"Sight Unseen<br>Rating: 6.0\",\"Smoke & Mirrors<br>Rating: 3.0\",\"Paradise Lost<br>Rating: 4.0\",\"Metamorphosis<br>Rating: 5.0\",\"Disclosure<br>Rating: 3.0\",\"Forsaken<br>Rating: 4.0\",\"The Changeling<br>Rating: 7.0\",\"Memento<br>Rating: 3.0\",\"Prophecy<br>Rating: 5.0\",\"Full Circle<br>Rating: 8.0\",\"Fallen<br>Rating: 5.0\",\"Homecoming<br>Rating: 5.0\",\"Fragile Balance<br>Rating: 6.0\",\"Orpheus<br>Rating: 7.0\",\"Revisions<br>Rating: 6.0\",\"Lifeboat<br>Rating: 7.0\",\"Enemy Mine<br>Rating: 7.0\",\"Space Race<br>Rating: 4.0\",\"Avenger 2.0<br>Rating: 5.0\",\"Birthright<br>Rating: 3.0\",\"Evolution: Part 1<br>Rating: 6.0\",\"Evolution: Part 2<br>Rating: 6.0\",\"Grace<br>Rating: 7.0\",\"Fallout<br>Rating: 3.0\",\"Chimera<br>Rating: 6.0\",\"Death Knell<br>Rating: 4.0\",\"Heroes: Part 1<br>Rating: 7.0\",\"Heroes: Part 2<br>Rating: 7.0\",\"Resurrection<br>Rating: 4.0\",\"Inauguration<br>Rating: 6.0\",\"Lost City: Part 1<br>Rating: 7.0\",\"Lost City: Part 2<br>Rating: 7.0\",\"New Order: Part 1<br>Rating: 5.0\",\"New Order: Part 2<br>Rating: 5.0\",\"Lockdown<br>Rating: 5.0\",\"Zero Hour<br>Rating: 5.0\",\"Icon<br>Rating: 2.0\",\"Avatar<br>Rating: 7.0\",\"Affinity<br>Rating: 2.0\",\"Covenant<br>Rating: 3.0\",\"Sacrifices<br>Rating: 3.0\",\"Endgame<br>Rating: 4.0\",\"Gemini<br>Rating: 8.0\",\"Prometheus Unbound<br>Rating: 5.0\",\"It's Good to Be King<br>Rating: 7.0\",\"Full Alert<br>Rating: 5.0\",\"Citizen Joe<br>Rating: 7.0\",\"Reckoning: Part 1<br>Rating: 7.0\",\"Reckoning: Part 2<br>Rating: 7.0\",\"Threads<br>Rating: 6.0\",\"Moebius: Part 1<br>Rating: 8.0\",\"Moebius: Part 2<br>Rating: 8.0\",\"Avalon: Part 1<br>Rating: 5.0\",\"Avalon: Part 2<br>Rating: 6.0\",\"Origin<br>Rating: 7.0\",\"The Ties That Bind<br>Rating: 7.0\",\"The Powers That Be<br>Rating: 5.0\",\"Beachhead<br>Rating: 6.0\",\"Ex Deus Machina<br>Rating: 4.0\",\"Babylon<br>Rating: 3.0\",\"Prototype<br>Rating: 5.0\",\"The Fourth Horseman: Part 1<br>Rating: 6.0\",\"The Fourth Horseman: Part 2<br>Rating: 6.0\",\"Collateral Damage<br>Rating: 4.0\",\"Ripple Effect<br>Rating: 2.0\",\"Stronghold<br>Rating: 4.0\",\"Ethon<br>Rating: 7.0\",\"Off the Grid<br>Rating: 7.0\",\"The Scourge<br>Rating: 2.0\",\"Arthur's Mantle<br>Rating: 5.0\",\"Crusade<br>Rating: 5.0\",\"Camelot<br>Rating: 6.0\"],\"x\":[0,1,2,3,4,5,6,7,8,9,10,11,12,13,14,15,16,17,18,19,20,21,22,23,24,25,26,27,28,29,30,31,32,33,34,35,36,37,38,39,40,41,42,43,44,45,46,47,48,49,50,51,52,53,54,55,56,57,58,59,60,61,62,63,64,65,66,67,68,69,70,71,72,73,74,75,76,77,78,79,80,81,82,83,84,85,86,87,88,89,90,91,92,93,94,95,96,97,98,99,100,101,102,103,104,105,106,107,108,109,110,111,112,113,114,115,116,117,118,119,120,121,122,123,124,125,126,127,128,129,130,131,132,133,134,135,136,137,138,139,140,141,142,143,144,145,146,147,148,149,150,151,152,153,154,155,156,157,158,159,160,161,162,163,164,165,166,167,168,169,170,171,172,173,174,175,176,177,178,179,180,181,182,183,184,185,186,187,188,189,190,191,192],\"y\":[6.0,2.0,0.0,6.0,3.0,4.0,6.0,2.0,6.0,5.0,3.0,4.0,3.0,5.0,3.0,3.0,6.0,5.0,5.0,2.0,5.0,4.0,6.0,4.0,3.0,5.0,4.0,5.0,3.0,5.0,2.0,4.0,4.0,2.0,4.0,8.0,4.0,3.0,6.0,2.0,4.0,6.0,4.0,3.0,2.0,6.0,6.0,7.0,5.0,4.0,3.0,3.0,6.0,6.0,6.0,2.0,5.0,3.0,7.0,4.0,7.0,5.0,4.0,7.0,6.0,4.0,6.0,6.0,3.0,6.0,6.0,4.0,6.5,4.0,3.0,6.0,7.0,3.0,6.0,3.0,6.0,7.0,5.0,4.0,6.0,5.0,6.0,6.0,6.0,4.0,5.0,7.0,5.0,4.0,3.0,6.0,6.0,5.0,7.0,7.0,5.0,6.0,6.0,5.0,7.0,5.0,2.0,8.0,6.0,5.0,5.0,6.0,5.0,4.0,7.0,4.0,7.0,5.0,2.0,5.0,8.0,6.0,3.0,4.0,5.0,3.0,4.0,7.0,3.0,5.0,8.0,5.0,5.0,6.0,7.0,6.0,7.0,7.0,4.0,5.0,3.0,6.0,6.0,7.0,3.0,6.0,4.0,7.0,7.0,4.0,6.0,7.0,7.0,5.0,5.0,5.0,5.0,2.0,7.0,2.0,3.0,3.0,4.0,8.0,5.0,7.0,5.0,7.0,7.0,7.0,6.0,8.0,8.0,5.0,6.0,7.0,7.0,5.0,6.0,4.0,3.0,5.0,6.0,6.0,4.0,2.0,4.0,7.0,7.0,2.0,5.0,5.0,6.0],\"type\":\"scatter\"},{\"hoverinfo\":\"text\",\"marker\":{\"color\":\"#FFA500\"},\"mode\":\"markers\",\"name\":\"Zach\",\"text\":[\"Children of the Gods<br>Rating: 4.0\",\"The Enemy Within<br>Rating: 5.0\",\"Emancipation<br>Rating: 0.0\",\"The Broca Divide<br>Rating: 5.0\",\"The First Commandment<br>Rating: 2.5\",\"Cold Lazarus<br>Rating: 4.0\",\"The Nox<br>Rating: 6.0\",\"Brief Candle<br>Rating: 3.0\",\"Thor's Hammer<br>Rating: 6.0\",\"The Torment of Tantalus<br>Rating: 7.0\",\"Bloodlines<br>Rating: 3.0\",\"Fire and Water<br>Rating: 3.0\",\"Hathor<br>Rating: 3.0\",\"Singularity<br>Rating: 4.5\",\"Cor-ai<br>Rating: 2.0\",\"Enigma<br>Rating: 3.5\",\"Solitudes<br>Rating: 6.0\",\"Tin Man<br>Rating: 5.0\",\"There But for the Grace of God<br>Rating: 4.5\",\"Politics<br>Rating: 2.5\",\"Within the Serpent's Grasp<br>Rating: 5.0\",\"The Serpent's Lair<br>Rating: 4.5\",\"In the Line of Duty<br>Rating: 6.0\",\"Prisoners<br>Rating: 4.0\",\"The Gamekeeper<br>Rating: 3.0\",\"Need<br>Rating: 3.5\",\"Thor's Chariot<br>Rating: 4.0\",\"Message in a Bottle<br>Rating: 5.0\",\"Family<br>Rating: 3.0\",\"Secrets<br>Rating: 5.0\",\"Bane<br>Rating: 2.0\",\"The Tok'ra: Part 1<br>Rating: 4.0\",\"The Tok'ra: Part 2<br>Rating: 4.0\",\"Spirits<br>Rating: 2.0\",\"Touchstone<br>Rating: 4.0\",\"The Fifth Race<br>Rating: 8.0\",\"A Matter of Time<br>Rating: 3.5\",\"Holiday<br>Rating: 4.0\",\"Serpent's Song<br>Rating: 6.0\",\"One False Step<br>Rating: 2.0\",\"Show and Tell<br>Rating: 4.0\",\"1969<br>Rating: 6.0\",\"Out of Mind<br>Rating: 2.5\",\"Into the Fire<br>Rating: 3.0\",\"Seth<br>Rating: 2.0\",\"Fair Game<br>Rating: 6.0\",\"Legacy<br>Rating: 5.5\",\"Learning Curve<br>Rating: 7.0\",\"Point of View<br>Rating: 5.0\",\"Deadman Switch<br>Rating: 3.5\",\"Demons<br>Rating: 2.5\",\"Rules of Engagement<br>Rating: 3.0\",\"Forever in a Day<br>Rating: 6.0\",\"Past and Present<br>Rating: 5.0\",\"Jolinar's Memories<br>Rating: 6.0\",\"The Devil You Know<br>Rating: 3.5\",\"Foothold<br>Rating: 4.5\",\"Pretense<br>Rating: 5.0\",\"Urgo<br>Rating: 7.0\",\"A Hundred Days<br>Rating: 5.0\",\"Shades of Grey<br>Rating: 6.0\",\"New Ground<br>Rating: 4.5\",\"Maternal Instinct<br>Rating: 5.0\",\"Crystal Skull<br>Rating: 6.0\",\"Nemesis<br>Rating: 6.0\",\"Small Victories<br>Rating: 7.0\",\"The Other Side<br>Rating: 6.0\",\"Upgrades<br>Rating: 5.0\",\"Crossroads<br>Rating: 4.0\",\"Divide and Conquer<br>Rating: 5.0\",\"Window of Opportunity<br>Rating: 7.0\",\"Watergate<br>Rating: 4.0\",\"The First Ones<br>Rating: 6.5\",\"Scorched Earth<br>Rating: 4.0\",\"Beneath the Surface<br>Rating: 3.0\",\"Point of No Return<br>Rating: 5.0\",\"Tangent<br>Rating: 5.5\",\"The Curse<br>Rating: 5.5\",\"The Serpent's Venom<br>Rating: 6.0\",\"Chain Reaction<br>Rating: 7.0\",\"2010<br>Rating: 7.0\",\"Absolute Power<br>Rating: 6.0\",\"The Light<br>Rating: 5.0\",\"Prodigy<br>Rating: 4.0\",\"Entity<br>Rating: 3.5\",\"Double Jeopardy<br>Rating: 5.5\",\"Exodus<br>Rating: 6.0\",\"Enemies<br>Rating: 6.0\",\"Threshold<br>Rating: 7.0\",\"Ascension<br>Rating: 5.0\",\"The Fifth Man<br>Rating: 5.0\",\"Red Sky<br>Rating: 4.5\",\"Rite of Passage<br>Rating: 4.5\",\"Beast of Burden<br>Rating: 6.0\",\"The Tomb<br>Rating: 3.5\",\"Between Two Fires<br>Rating: 5.0\",\"2001<br>Rating: 6.0\",\"Desperate Measures<br>Rating: 5.0\",\"Wormhole X-Treme!<br>Rating: 8.0\",\"Proving Ground<br>Rating: 4.0\",\"48 Hours<br>Rating: 6.0\",\"Summit<br>Rating: 5.5\",\"Last Stand<br>Rating: 5.5\",\"Fail Safe<br>Rating: 5.5\",\"The Warrior<br>Rating: 6.0\",\"Menace<br>Rating: 7.0\",\"The Sentinel<br>Rating: 3.0\",\"Meridian<br>Rating: 8.0\",\"Revelations<br>Rating: 5.0\",\"Redemption: Part 1<br>Rating: 5.0\",\"Redemption: Part 2<br>Rating: 5.0\",\"Descent<br>Rating: 5.0\",\"Frozen<br>Rating: 6.0\",\"Nightwalkers<br>Rating: 4.5\",\"Abyss<br>Rating: 7.0\",\"Shadow Play<br>Rating: 4.5\",\"The Other Guys<br>Rating: 7.0\",\"Allegiance<br>Rating: 5.0\",\"Cure<br>Rating: 4.0\",\"Prometheus<br>Rating: 5.0\",\"Unnatural Selection<br>Rating: 7.0\",\"Sight Unseen<br>Rating: 4.0\",\"Smoke & Mirrors<br>Rating: 5.0\",\"Paradise Lost<br>Rating: 4.5\",\"Metamorphosis<br>Rating: 2.5\",\"Disclosure<br>Rating: 4.5\",\"Forsaken<br>Rating: 3.5\",\"The Changeling<br>Rating: 8.0\",\"Memento<br>Rating: 3.0\",\"Prophecy<br>Rating: 4.0\",\"Full Circle<br>Rating: 8.0\",\"Fallen<br>Rating: 6.0\",\"Homecoming<br>Rating: 5.5\",\"Fragile Balance<br>Rating: 6.0\",\"Orpheus<br>Rating: 6.0\",\"Revisions<br>Rating: 4.5\",\"Lifeboat<br>Rating: 3.0\",\"Enemy Mine<br>Rating: 7.0\",\"Space Race<br>Rating: 5.0\",\"Avenger 2.0<br>Rating: 3.5\",\"Birthright<br>Rating: 3.5\",\"Evolution: Part 1<br>Rating: 5.5\",\"Evolution: Part 2<br>Rating: 6.0\",\"Grace<br>Rating: 4.0\",\"Fallout<br>Rating: 3.0\",\"Chimera<br>Rating: 3.0\",\"Death Knell<br>Rating: 6.0\",\"Heroes: Part 1<br>Rating: 8.0\",\"Heroes: Part 2<br>Rating: 8.0\",\"Resurrection<br>Rating: 3.0\",\"Inauguration<br>Rating: 5.0\",\"Lost City: Part 1<br>Rating: 8.0\",\"Lost City: Part 2<br>Rating: 8.0\",\"New Order: Part 1<br>Rating: 5.0\",\"New Order: Part 2<br>Rating: 5.0\",\"Lockdown<br>Rating: 4.5\",\"Zero Hour<br>Rating: 4.0\",\"Icon<br>Rating: 2.0\",\"Avatar<br>Rating: 7.0\",\"Affinity<br>Rating: 3.5\",\"Covenant<br>Rating: 3.5\",\"Sacrifices<br>Rating: 3.0\",\"Endgame<br>Rating: 5.0\",\"Gemini<br>Rating: 7.0\",\"Prometheus Unbound<br>Rating: 6.0\",\"It's Good to Be King<br>Rating: 7.0\",\"Full Alert<br>Rating: 5.0\",\"Citizen Joe<br>Rating: 7.0\",\"Reckoning: Part 1<br>Rating: 6.5\",\"Reckoning: Part 2<br>Rating: 6.5\",\"Threads<br>Rating: 8.0\",\"Moebius: Part 1<br>Rating: 8.0\",\"Moebius: Part 2<br>Rating: 8.0\",\"Avalon: Part 1<br>Rating: 5.5\",\"Avalon: Part 2<br>Rating: 6.0\",\"Origin<br>Rating: 6.5\",\"The Ties That Bind<br>Rating: 7.0\",\"The Powers That Be<br>Rating: 6.0\",\"Beachhead<br>Rating: 6.0\",\"Ex Deus Machina<br>Rating: 4.5\",\"Babylon<br>Rating: 4.5\",\"Prototype<br>Rating: 5.0\",\"The Fourth Horseman: Part 1<br>Rating: 6.0\",\"The Fourth Horseman: Part 2<br>Rating: 7.0\",\"Collateral Damage<br>Rating: 4.5\",\"Ripple Effect<br>Rating: 3.5\",\"Stronghold<br>Rating: 4.0\",\"Ethon<br>Rating: 6.5\",\"Off the Grid<br>Rating: 7.0\",\"The Scourge<br>Rating: 2.5\",\"Arthur's Mantle<br>Rating: 5.0\",\"Crusade<br>Rating: 5.5\",\"Camelot<br>Rating: 6.0\"],\"x\":[0,1,2,3,4,5,6,7,8,9,10,11,12,13,14,15,16,17,18,19,20,21,22,23,24,25,26,27,28,29,30,31,32,33,34,35,36,37,38,39,40,41,42,43,44,45,46,47,48,49,50,51,52,53,54,55,56,57,58,59,60,61,62,63,64,65,66,67,68,69,70,71,72,73,74,75,76,77,78,79,80,81,82,83,84,85,86,87,88,89,90,91,92,93,94,95,96,97,98,99,100,101,102,103,104,105,106,107,108,109,110,111,112,113,114,115,116,117,118,119,120,121,122,123,124,125,126,127,128,129,130,131,132,133,134,135,136,137,138,139,140,141,142,143,144,145,146,147,148,149,150,151,152,153,154,155,156,157,158,159,160,161,162,163,164,165,166,167,168,169,170,171,172,173,174,175,176,177,178,179,180,181,182,183,184,185,186,187,188,189,190,191,192],\"y\":[4.0,5.0,0.0,5.0,2.5,4.0,6.0,3.0,6.0,7.0,3.0,3.0,3.0,4.5,2.0,3.5,6.0,5.0,4.5,2.5,5.0,4.5,6.0,4.0,3.0,3.5,4.0,5.0,3.0,5.0,2.0,4.0,4.0,2.0,4.0,8.0,3.5,4.0,6.0,2.0,4.0,6.0,2.5,3.0,2.0,6.0,5.5,7.0,5.0,3.5,2.5,3.0,6.0,5.0,6.0,3.5,4.5,5.0,7.0,5.0,6.0,4.5,5.0,6.0,6.0,7.0,6.0,5.0,4.0,5.0,7.0,4.0,6.5,4.0,3.0,5.0,5.5,5.5,6.0,7.0,7.0,6.0,5.0,4.0,3.5,5.5,6.0,6.0,7.0,5.0,5.0,4.5,4.5,6.0,3.5,5.0,6.0,5.0,8.0,4.0,6.0,5.5,5.5,5.5,6.0,7.0,3.0,8.0,5.0,5.0,5.0,5.0,6.0,4.5,7.0,4.5,7.0,5.0,4.0,5.0,7.0,4.0,5.0,4.5,2.5,4.5,3.5,8.0,3.0,4.0,8.0,6.0,5.5,6.0,6.0,4.5,3.0,7.0,5.0,3.5,3.5,5.5,6.0,4.0,3.0,3.0,6.0,8.0,8.0,3.0,5.0,8.0,8.0,5.0,5.0,4.5,4.0,2.0,7.0,3.5,3.5,3.0,5.0,7.0,6.0,7.0,5.0,7.0,6.5,6.5,8.0,8.0,8.0,5.5,6.0,6.5,7.0,6.0,6.0,4.5,4.5,5.0,6.0,7.0,4.5,3.5,4.0,6.5,7.0,2.5,5.0,5.5,6.0],\"type\":\"scatter\"}],                        {\"template\":{\"data\":{\"histogram2dcontour\":[{\"type\":\"histogram2dcontour\",\"colorbar\":{\"outlinewidth\":0,\"ticks\":\"\"},\"colorscale\":[[0.0,\"#0d0887\"],[0.1111111111111111,\"#46039f\"],[0.2222222222222222,\"#7201a8\"],[0.3333333333333333,\"#9c179e\"],[0.4444444444444444,\"#bd3786\"],[0.5555555555555556,\"#d8576b\"],[0.6666666666666666,\"#ed7953\"],[0.7777777777777778,\"#fb9f3a\"],[0.8888888888888888,\"#fdca26\"],[1.0,\"#f0f921\"]]}],\"choropleth\":[{\"type\":\"choropleth\",\"colorbar\":{\"outlinewidth\":0,\"ticks\":\"\"}}],\"histogram2d\":[{\"type\":\"histogram2d\",\"colorbar\":{\"outlinewidth\":0,\"ticks\":\"\"},\"colorscale\":[[0.0,\"#0d0887\"],[0.1111111111111111,\"#46039f\"],[0.2222222222222222,\"#7201a8\"],[0.3333333333333333,\"#9c179e\"],[0.4444444444444444,\"#bd3786\"],[0.5555555555555556,\"#d8576b\"],[0.6666666666666666,\"#ed7953\"],[0.7777777777777778,\"#fb9f3a\"],[0.8888888888888888,\"#fdca26\"],[1.0,\"#f0f921\"]]}],\"heatmap\":[{\"type\":\"heatmap\",\"colorbar\":{\"outlinewidth\":0,\"ticks\":\"\"},\"colorscale\":[[0.0,\"#0d0887\"],[0.1111111111111111,\"#46039f\"],[0.2222222222222222,\"#7201a8\"],[0.3333333333333333,\"#9c179e\"],[0.4444444444444444,\"#bd3786\"],[0.5555555555555556,\"#d8576b\"],[0.6666666666666666,\"#ed7953\"],[0.7777777777777778,\"#fb9f3a\"],[0.8888888888888888,\"#fdca26\"],[1.0,\"#f0f921\"]]}],\"heatmapgl\":[{\"type\":\"heatmapgl\",\"colorbar\":{\"outlinewidth\":0,\"ticks\":\"\"},\"colorscale\":[[0.0,\"#0d0887\"],[0.1111111111111111,\"#46039f\"],[0.2222222222222222,\"#7201a8\"],[0.3333333333333333,\"#9c179e\"],[0.4444444444444444,\"#bd3786\"],[0.5555555555555556,\"#d8576b\"],[0.6666666666666666,\"#ed7953\"],[0.7777777777777778,\"#fb9f3a\"],[0.8888888888888888,\"#fdca26\"],[1.0,\"#f0f921\"]]}],\"contourcarpet\":[{\"type\":\"contourcarpet\",\"colorbar\":{\"outlinewidth\":0,\"ticks\":\"\"}}],\"contour\":[{\"type\":\"contour\",\"colorbar\":{\"outlinewidth\":0,\"ticks\":\"\"},\"colorscale\":[[0.0,\"#0d0887\"],[0.1111111111111111,\"#46039f\"],[0.2222222222222222,\"#7201a8\"],[0.3333333333333333,\"#9c179e\"],[0.4444444444444444,\"#bd3786\"],[0.5555555555555556,\"#d8576b\"],[0.6666666666666666,\"#ed7953\"],[0.7777777777777778,\"#fb9f3a\"],[0.8888888888888888,\"#fdca26\"],[1.0,\"#f0f921\"]]}],\"surface\":[{\"type\":\"surface\",\"colorbar\":{\"outlinewidth\":0,\"ticks\":\"\"},\"colorscale\":[[0.0,\"#0d0887\"],[0.1111111111111111,\"#46039f\"],[0.2222222222222222,\"#7201a8\"],[0.3333333333333333,\"#9c179e\"],[0.4444444444444444,\"#bd3786\"],[0.5555555555555556,\"#d8576b\"],[0.6666666666666666,\"#ed7953\"],[0.7777777777777778,\"#fb9f3a\"],[0.8888888888888888,\"#fdca26\"],[1.0,\"#f0f921\"]]}],\"mesh3d\":[{\"type\":\"mesh3d\",\"colorbar\":{\"outlinewidth\":0,\"ticks\":\"\"}}],\"scatter\":[{\"fillpattern\":{\"fillmode\":\"overlay\",\"size\":10,\"solidity\":0.2},\"type\":\"scatter\"}],\"parcoords\":[{\"type\":\"parcoords\",\"line\":{\"colorbar\":{\"outlinewidth\":0,\"ticks\":\"\"}}}],\"scatterpolargl\":[{\"type\":\"scatterpolargl\",\"marker\":{\"colorbar\":{\"outlinewidth\":0,\"ticks\":\"\"}}}],\"bar\":[{\"error_x\":{\"color\":\"#2a3f5f\"},\"error_y\":{\"color\":\"#2a3f5f\"},\"marker\":{\"line\":{\"color\":\"#E5ECF6\",\"width\":0.5},\"pattern\":{\"fillmode\":\"overlay\",\"size\":10,\"solidity\":0.2}},\"type\":\"bar\"}],\"scattergeo\":[{\"type\":\"scattergeo\",\"marker\":{\"colorbar\":{\"outlinewidth\":0,\"ticks\":\"\"}}}],\"scatterpolar\":[{\"type\":\"scatterpolar\",\"marker\":{\"colorbar\":{\"outlinewidth\":0,\"ticks\":\"\"}}}],\"histogram\":[{\"marker\":{\"pattern\":{\"fillmode\":\"overlay\",\"size\":10,\"solidity\":0.2}},\"type\":\"histogram\"}],\"scattergl\":[{\"type\":\"scattergl\",\"marker\":{\"colorbar\":{\"outlinewidth\":0,\"ticks\":\"\"}}}],\"scatter3d\":[{\"type\":\"scatter3d\",\"line\":{\"colorbar\":{\"outlinewidth\":0,\"ticks\":\"\"}},\"marker\":{\"colorbar\":{\"outlinewidth\":0,\"ticks\":\"\"}}}],\"scattermapbox\":[{\"type\":\"scattermapbox\",\"marker\":{\"colorbar\":{\"outlinewidth\":0,\"ticks\":\"\"}}}],\"scatterternary\":[{\"type\":\"scatterternary\",\"marker\":{\"colorbar\":{\"outlinewidth\":0,\"ticks\":\"\"}}}],\"scattercarpet\":[{\"type\":\"scattercarpet\",\"marker\":{\"colorbar\":{\"outlinewidth\":0,\"ticks\":\"\"}}}],\"carpet\":[{\"aaxis\":{\"endlinecolor\":\"#2a3f5f\",\"gridcolor\":\"white\",\"linecolor\":\"white\",\"minorgridcolor\":\"white\",\"startlinecolor\":\"#2a3f5f\"},\"baxis\":{\"endlinecolor\":\"#2a3f5f\",\"gridcolor\":\"white\",\"linecolor\":\"white\",\"minorgridcolor\":\"white\",\"startlinecolor\":\"#2a3f5f\"},\"type\":\"carpet\"}],\"table\":[{\"cells\":{\"fill\":{\"color\":\"#EBF0F8\"},\"line\":{\"color\":\"white\"}},\"header\":{\"fill\":{\"color\":\"#C8D4E3\"},\"line\":{\"color\":\"white\"}},\"type\":\"table\"}],\"barpolar\":[{\"marker\":{\"line\":{\"color\":\"#E5ECF6\",\"width\":0.5},\"pattern\":{\"fillmode\":\"overlay\",\"size\":10,\"solidity\":0.2}},\"type\":\"barpolar\"}],\"pie\":[{\"automargin\":true,\"type\":\"pie\"}]},\"layout\":{\"autotypenumbers\":\"strict\",\"colorway\":[\"#636efa\",\"#EF553B\",\"#00cc96\",\"#ab63fa\",\"#FFA15A\",\"#19d3f3\",\"#FF6692\",\"#B6E880\",\"#FF97FF\",\"#FECB52\"],\"font\":{\"color\":\"#2a3f5f\"},\"hovermode\":\"closest\",\"hoverlabel\":{\"align\":\"left\"},\"paper_bgcolor\":\"white\",\"plot_bgcolor\":\"#E5ECF6\",\"polar\":{\"bgcolor\":\"#E5ECF6\",\"angularaxis\":{\"gridcolor\":\"white\",\"linecolor\":\"white\",\"ticks\":\"\"},\"radialaxis\":{\"gridcolor\":\"white\",\"linecolor\":\"white\",\"ticks\":\"\"}},\"ternary\":{\"bgcolor\":\"#E5ECF6\",\"aaxis\":{\"gridcolor\":\"white\",\"linecolor\":\"white\",\"ticks\":\"\"},\"baxis\":{\"gridcolor\":\"white\",\"linecolor\":\"white\",\"ticks\":\"\"},\"caxis\":{\"gridcolor\":\"white\",\"linecolor\":\"white\",\"ticks\":\"\"}},\"coloraxis\":{\"colorbar\":{\"outlinewidth\":0,\"ticks\":\"\"}},\"colorscale\":{\"sequential\":[[0.0,\"#0d0887\"],[0.1111111111111111,\"#46039f\"],[0.2222222222222222,\"#7201a8\"],[0.3333333333333333,\"#9c179e\"],[0.4444444444444444,\"#bd3786\"],[0.5555555555555556,\"#d8576b\"],[0.6666666666666666,\"#ed7953\"],[0.7777777777777778,\"#fb9f3a\"],[0.8888888888888888,\"#fdca26\"],[1.0,\"#f0f921\"]],\"sequentialminus\":[[0.0,\"#0d0887\"],[0.1111111111111111,\"#46039f\"],[0.2222222222222222,\"#7201a8\"],[0.3333333333333333,\"#9c179e\"],[0.4444444444444444,\"#bd3786\"],[0.5555555555555556,\"#d8576b\"],[0.6666666666666666,\"#ed7953\"],[0.7777777777777778,\"#fb9f3a\"],[0.8888888888888888,\"#fdca26\"],[1.0,\"#f0f921\"]],\"diverging\":[[0,\"#8e0152\"],[0.1,\"#c51b7d\"],[0.2,\"#de77ae\"],[0.3,\"#f1b6da\"],[0.4,\"#fde0ef\"],[0.5,\"#f7f7f7\"],[0.6,\"#e6f5d0\"],[0.7,\"#b8e186\"],[0.8,\"#7fbc41\"],[0.9,\"#4d9221\"],[1,\"#276419\"]]},\"xaxis\":{\"gridcolor\":\"white\",\"linecolor\":\"white\",\"ticks\":\"\",\"title\":{\"standoff\":15},\"zerolinecolor\":\"white\",\"automargin\":true,\"zerolinewidth\":2},\"yaxis\":{\"gridcolor\":\"white\",\"linecolor\":\"white\",\"ticks\":\"\",\"title\":{\"standoff\":15},\"zerolinecolor\":\"white\",\"automargin\":true,\"zerolinewidth\":2},\"scene\":{\"xaxis\":{\"backgroundcolor\":\"#E5ECF6\",\"gridcolor\":\"white\",\"linecolor\":\"white\",\"showbackground\":true,\"ticks\":\"\",\"zerolinecolor\":\"white\",\"gridwidth\":2},\"yaxis\":{\"backgroundcolor\":\"#E5ECF6\",\"gridcolor\":\"white\",\"linecolor\":\"white\",\"showbackground\":true,\"ticks\":\"\",\"zerolinecolor\":\"white\",\"gridwidth\":2},\"zaxis\":{\"backgroundcolor\":\"#E5ECF6\",\"gridcolor\":\"white\",\"linecolor\":\"white\",\"showbackground\":true,\"ticks\":\"\",\"zerolinecolor\":\"white\",\"gridwidth\":2}},\"shapedefaults\":{\"line\":{\"color\":\"#2a3f5f\"}},\"annotationdefaults\":{\"arrowcolor\":\"#2a3f5f\",\"arrowhead\":0,\"arrowwidth\":1},\"geo\":{\"bgcolor\":\"white\",\"landcolor\":\"#E5ECF6\",\"subunitcolor\":\"white\",\"showland\":true,\"showlakes\":true,\"lakecolor\":\"white\"},\"title\":{\"x\":0.05},\"mapbox\":{\"style\":\"light\"}}},\"yaxis\":{\"title\":{\"text\":\"Rating\"},\"range\":[0,9]},\"font\":{\"color\":\"#ffffff\"},\"title\":{\"text\":\"Chevron Ratings\"},\"xaxis\":{\"title\":{\"text\":\"Episode Number\"}},\"paper_bgcolor\":\"#011222\"},                        {\"responsive\": true}                    ).then(function(){\n",
       "                            \n",
       "var gd = document.getElementById('54ea5ff9-e37f-4e2b-8d3b-34bedf71c005');\n",
       "var x = new MutationObserver(function (mutations, observer) {{\n",
       "        var display = window.getComputedStyle(gd).display;\n",
       "        if (!display || display === 'none') {{\n",
       "            console.log([gd, 'removed!']);\n",
       "            Plotly.purge(gd);\n",
       "            observer.disconnect();\n",
       "        }}\n",
       "}});\n",
       "\n",
       "// Listen for the removal of the full notebook cells\n",
       "var notebookContainer = gd.closest('#notebook-container');\n",
       "if (notebookContainer) {{\n",
       "    x.observe(notebookContainer, {childList: true});\n",
       "}}\n",
       "\n",
       "// Listen for the clearing of the current output cell\n",
       "var outputEl = gd.closest('.output');\n",
       "if (outputEl) {{\n",
       "    x.observe(outputEl, {childList: true});\n",
       "}}\n",
       "\n",
       "                        })                };                });            </script>        </div>"
      ]
     },
     "metadata": {},
     "output_type": "display_data"
    },
    {
     "data": {
      "text/plain": [
       "'https://plotly.com/~Cbsiros/8/'"
      ]
     },
     "execution_count": 14,
     "metadata": {},
     "output_type": "execute_result"
    }
   ],
   "source": [
    "# Create figure\n",
    "fig = go.Figure()\n",
    "\n",
    "# Create list of hover texts using custom hover text template by iterating over every data row\n",
    "hover_texts = [f'{row.Title}<br>Rating: {row.Brent_Chevrons}' for row in ratings_df.itertuples(index=False)]\n",
    "\n",
    "fig.add_trace(go.Scatter(x = ratings_df.index,               # x-axis data (Episode number)\n",
    "                         y = ratings_df['Brent_Chevrons'],   # y-axis data (Brent's ratings)\n",
    "                         mode = 'markers',                   # Trace type\n",
    "                         name = 'Brent',                     # Custom legend text\n",
    "                         marker = dict(color = '#0096FF'),   # Custom marker color\n",
    "                         text = hover_texts,                 # Custom hover text\n",
    "                         hoverinfo = 'text'))                # Only display custom text\n",
    "\n",
    "# Create list of hover texts using custom hover text template by iterating over every data row\n",
    "hover_texts = [f'{row.Title}<br>Rating: {row.Zach_Chevrons}' for row in ratings_df.itertuples(index=False)]\n",
    "\n",
    "fig.add_trace(go.Scatter(x = ratings_df.index,               # x-axis data (Episode number)\n",
    "                         y = ratings_df['Zach_Chevrons'],    # y-axis data (Zach's ratings)\n",
    "                         mode = 'markers',                   # Trace type\n",
    "                         name = 'Zach',                      # Custom legend text\n",
    "                         marker = dict(color = '#FFA500'),   # Custom marker color\n",
    "                         text = hover_texts,                 # Custom hover text\n",
    "                         hoverinfo = 'text'))                # Only display custom text\n",
    "\n",
    "#Further style the figure\n",
    "fig.update_layout(\n",
    "    title = 'Chevron Ratings',        # Set plot title\n",
    "    xaxis_title = 'Episode Number',   # Set x-axis title\n",
    "    yaxis_title = 'Rating',           # Set y-axis title\n",
    "    yaxis = dict(range = [0, 9]),     # Set y-axis range\n",
    "    paper_bgcolor = '#011222',        # Set background color\n",
    "    font_color = '#ffffff')           # Set font color\n",
    "\n",
    "# Display figure\n",
    "fig.show()\n",
    "\n",
    "# Create plot in Chart Studio for later embedding\n",
    "py.plot(fig, filename = 'Chevron Ratings', auto_open = False)"
   ]
  },
  {
   "cell_type": "markdown",
   "id": "10d34b07",
   "metadata": {},
   "source": [
    "### How do Brent and Zach's scores compare over time? "
   ]
  },
  {
   "cell_type": "code",
   "execution_count": 15,
   "id": "7f718d28",
   "metadata": {},
   "outputs": [
    {
     "data": {
      "application/vnd.plotly.v1+json": {
       "config": {
        "plotlyServerURL": "https://plotly.com"
       },
       "data": [
        {
         "line": {
          "color": "#0096FF",
          "width": 2
         },
         "mode": "lines",
         "name": "Brent",
         "type": "scatter",
         "x": [
          0,
          1,
          2,
          3,
          4,
          5,
          6,
          7,
          8,
          9,
          10,
          11,
          12,
          13,
          14,
          15,
          16,
          17,
          18,
          19,
          20,
          21,
          22,
          23,
          24,
          25,
          26,
          27,
          28,
          29,
          30,
          31,
          32,
          33,
          34,
          35,
          36,
          37,
          38,
          39,
          40,
          41,
          42,
          43,
          44,
          45,
          46,
          47,
          48,
          49,
          50,
          51,
          52,
          53,
          54,
          55,
          56,
          57,
          58,
          59,
          60,
          61,
          62,
          63,
          64,
          65,
          66,
          67,
          68,
          69,
          70,
          71,
          72,
          73,
          74,
          75,
          76,
          77,
          78,
          79,
          80,
          81,
          82,
          83,
          84,
          85,
          86,
          87,
          88,
          89,
          90,
          91,
          92,
          93,
          94,
          95,
          96,
          97,
          98,
          99,
          100,
          101,
          102,
          103,
          104,
          105,
          106,
          107,
          108,
          109,
          110,
          111,
          112,
          113,
          114,
          115,
          116,
          117,
          118,
          119,
          120,
          121,
          122,
          123,
          124,
          125,
          126,
          127,
          128,
          129,
          130,
          131,
          132,
          133,
          134,
          135,
          136,
          137,
          138,
          139,
          140,
          141,
          142,
          143,
          144,
          145,
          146,
          147,
          148,
          149,
          150,
          151,
          152,
          153,
          154,
          155,
          156,
          157,
          158,
          159,
          160,
          161,
          162,
          163,
          164,
          165,
          166,
          167,
          168,
          169,
          170,
          171,
          172,
          173,
          174,
          175,
          176,
          177,
          178,
          179,
          180,
          181,
          182,
          183,
          184,
          185,
          186,
          187,
          188,
          189,
          190,
          191,
          192
         ],
         "y": [
          6,
          4,
          2.667,
          3.5,
          3.4,
          3.5,
          3.857,
          3.625,
          3.889,
          4,
          3.909,
          3.917,
          3.846,
          3.929,
          3.867,
          3.812,
          3.941,
          4,
          4.053,
          3.95,
          4,
          4,
          4.087,
          4.083,
          4.04,
          4.077,
          4.074,
          4.107,
          4.069,
          4.1,
          4.032,
          4.031,
          4.03,
          3.971,
          3.971,
          4.083,
          4.081,
          4.053,
          4.103,
          4.05,
          4.049,
          4.095,
          4.093,
          4.068,
          4.022,
          4.065,
          4.106,
          4.167,
          4.184,
          4.18,
          4.157,
          4.135,
          4.17,
          4.204,
          4.236,
          4.196,
          4.211,
          4.19,
          4.237,
          4.233,
          4.279,
          4.29,
          4.286,
          4.328,
          4.354,
          4.348,
          4.373,
          4.397,
          4.377,
          4.4,
          4.423,
          4.417,
          4.445,
          4.439,
          4.42,
          4.441,
          4.474,
          4.455,
          4.475,
          4.456,
          4.475,
          4.506,
          4.512,
          4.506,
          4.524,
          4.529,
          4.546,
          4.562,
          4.579,
          4.572,
          4.577,
          4.603,
          4.608,
          4.601,
          4.584,
          4.599,
          4.613,
          4.617,
          4.641,
          4.665,
          4.668,
          4.681,
          4.694,
          4.697,
          4.719,
          4.722,
          4.696,
          4.727,
          4.739,
          4.741,
          4.743,
          4.754,
          4.757,
          4.75,
          4.77,
          4.763,
          4.782,
          4.784,
          4.761,
          4.762,
          4.789,
          4.799,
          4.785,
          4.778,
          4.78,
          4.766,
          4.76,
          4.777,
          4.764,
          4.765,
          4.79,
          4.792,
          4.793,
          4.802,
          4.819,
          4.827,
          4.843,
          4.859,
          4.853,
          4.854,
          4.84,
          4.849,
          4.857,
          4.872,
          4.859,
          4.866,
          4.861,
          4.875,
          4.889,
          4.883,
          4.891,
          4.905,
          4.918,
          4.919,
          4.919,
          4.92,
          4.92,
          4.902,
          4.915,
          4.897,
          4.885,
          4.873,
          4.868,
          4.887,
          4.888,
          4.901,
          4.901,
          4.914,
          4.926,
          4.938,
          4.944,
          4.962,
          4.98,
          4.98,
          4.986,
          4.997,
          5.008,
          5.008,
          5.014,
          5.008,
          4.997,
          4.997,
          5.003,
          5.008,
          5.003,
          4.987,
          4.981,
          4.992,
          5.003,
          4.987,
          4.987,
          4.987,
          4.992
         ]
        },
        {
         "line": {
          "color": "#FFA500",
          "width": 2
         },
         "mode": "lines",
         "name": "Zach",
         "type": "scatter",
         "x": [
          0,
          1,
          2,
          3,
          4,
          5,
          6,
          7,
          8,
          9,
          10,
          11,
          12,
          13,
          14,
          15,
          16,
          17,
          18,
          19,
          20,
          21,
          22,
          23,
          24,
          25,
          26,
          27,
          28,
          29,
          30,
          31,
          32,
          33,
          34,
          35,
          36,
          37,
          38,
          39,
          40,
          41,
          42,
          43,
          44,
          45,
          46,
          47,
          48,
          49,
          50,
          51,
          52,
          53,
          54,
          55,
          56,
          57,
          58,
          59,
          60,
          61,
          62,
          63,
          64,
          65,
          66,
          67,
          68,
          69,
          70,
          71,
          72,
          73,
          74,
          75,
          76,
          77,
          78,
          79,
          80,
          81,
          82,
          83,
          84,
          85,
          86,
          87,
          88,
          89,
          90,
          91,
          92,
          93,
          94,
          95,
          96,
          97,
          98,
          99,
          100,
          101,
          102,
          103,
          104,
          105,
          106,
          107,
          108,
          109,
          110,
          111,
          112,
          113,
          114,
          115,
          116,
          117,
          118,
          119,
          120,
          121,
          122,
          123,
          124,
          125,
          126,
          127,
          128,
          129,
          130,
          131,
          132,
          133,
          134,
          135,
          136,
          137,
          138,
          139,
          140,
          141,
          142,
          143,
          144,
          145,
          146,
          147,
          148,
          149,
          150,
          151,
          152,
          153,
          154,
          155,
          156,
          157,
          158,
          159,
          160,
          161,
          162,
          163,
          164,
          165,
          166,
          167,
          168,
          169,
          170,
          171,
          172,
          173,
          174,
          175,
          176,
          177,
          178,
          179,
          180,
          181,
          182,
          183,
          184,
          185,
          186,
          187,
          188,
          189,
          190,
          191,
          192
         ],
         "y": [
          4,
          4.5,
          3,
          3.5,
          3.3,
          3.417,
          3.786,
          3.688,
          3.944,
          4.25,
          4.136,
          4.042,
          3.962,
          4,
          3.867,
          3.844,
          3.971,
          4.028,
          4.053,
          3.975,
          4.024,
          4.045,
          4.13,
          4.125,
          4.08,
          4.058,
          4.056,
          4.089,
          4.052,
          4.083,
          4.016,
          4.016,
          4.015,
          3.956,
          3.957,
          4.069,
          4.054,
          4.053,
          4.103,
          4.05,
          4.049,
          4.095,
          4.058,
          4.034,
          3.989,
          4.033,
          4.064,
          4.125,
          4.143,
          4.13,
          4.098,
          4.077,
          4.113,
          4.13,
          4.164,
          4.152,
          4.158,
          4.172,
          4.22,
          4.233,
          4.262,
          4.266,
          4.278,
          4.305,
          4.331,
          4.371,
          4.396,
          4.404,
          4.399,
          4.407,
          4.444,
          4.438,
          4.466,
          4.459,
          4.44,
          4.447,
          4.461,
          4.474,
          4.494,
          4.525,
          4.556,
          4.573,
          4.578,
          4.571,
          4.559,
          4.57,
          4.586,
          4.602,
          4.629,
          4.633,
          4.637,
          4.636,
          4.634,
          4.649,
          4.637,
          4.641,
          4.655,
          4.658,
          4.692,
          4.685,
          4.698,
          4.706,
          4.714,
          4.721,
          4.733,
          4.755,
          4.738,
          4.769,
          4.771,
          4.773,
          4.775,
          4.777,
          4.788,
          4.785,
          4.804,
          4.802,
          4.821,
          4.822,
          4.815,
          4.817,
          4.835,
          4.828,
          4.829,
          4.827,
          4.808,
          4.806,
          4.795,
          4.82,
          4.806,
          4.8,
          4.824,
          4.833,
          4.838,
          4.847,
          4.856,
          4.853,
          4.839,
          4.855,
          4.856,
          4.846,
          4.837,
          4.842,
          4.85,
          4.844,
          4.831,
          4.818,
          4.827,
          4.848,
          4.869,
          4.857,
          4.858,
          4.878,
          4.899,
          4.899,
          4.9,
          4.897,
          4.892,
          4.873,
          4.887,
          4.878,
          4.87,
          4.858,
          4.859,
          4.872,
          4.879,
          4.892,
          4.892,
          4.905,
          4.914,
          4.924,
          4.942,
          4.959,
          4.977,
          4.98,
          4.986,
          4.994,
          5.006,
          5.011,
          5.017,
          5.014,
          5.011,
          5.011,
          5.016,
          5.027,
          5.024,
          5.016,
          5.011,
          5.019,
          5.029,
          5.016,
          5.016,
          5.018,
          5.023
         ]
        }
       ],
       "layout": {
        "font": {
         "color": "#ffffff"
        },
        "paper_bgcolor": "#011222",
        "template": {
         "data": {
          "bar": [
           {
            "error_x": {
             "color": "#2a3f5f"
            },
            "error_y": {
             "color": "#2a3f5f"
            },
            "marker": {
             "line": {
              "color": "#E5ECF6",
              "width": 0.5
             },
             "pattern": {
              "fillmode": "overlay",
              "size": 10,
              "solidity": 0.2
             }
            },
            "type": "bar"
           }
          ],
          "barpolar": [
           {
            "marker": {
             "line": {
              "color": "#E5ECF6",
              "width": 0.5
             },
             "pattern": {
              "fillmode": "overlay",
              "size": 10,
              "solidity": 0.2
             }
            },
            "type": "barpolar"
           }
          ],
          "carpet": [
           {
            "aaxis": {
             "endlinecolor": "#2a3f5f",
             "gridcolor": "white",
             "linecolor": "white",
             "minorgridcolor": "white",
             "startlinecolor": "#2a3f5f"
            },
            "baxis": {
             "endlinecolor": "#2a3f5f",
             "gridcolor": "white",
             "linecolor": "white",
             "minorgridcolor": "white",
             "startlinecolor": "#2a3f5f"
            },
            "type": "carpet"
           }
          ],
          "choropleth": [
           {
            "colorbar": {
             "outlinewidth": 0,
             "ticks": ""
            },
            "type": "choropleth"
           }
          ],
          "contour": [
           {
            "colorbar": {
             "outlinewidth": 0,
             "ticks": ""
            },
            "colorscale": [
             [
              0,
              "#0d0887"
             ],
             [
              0.1111111111111111,
              "#46039f"
             ],
             [
              0.2222222222222222,
              "#7201a8"
             ],
             [
              0.3333333333333333,
              "#9c179e"
             ],
             [
              0.4444444444444444,
              "#bd3786"
             ],
             [
              0.5555555555555556,
              "#d8576b"
             ],
             [
              0.6666666666666666,
              "#ed7953"
             ],
             [
              0.7777777777777778,
              "#fb9f3a"
             ],
             [
              0.8888888888888888,
              "#fdca26"
             ],
             [
              1,
              "#f0f921"
             ]
            ],
            "type": "contour"
           }
          ],
          "contourcarpet": [
           {
            "colorbar": {
             "outlinewidth": 0,
             "ticks": ""
            },
            "type": "contourcarpet"
           }
          ],
          "heatmap": [
           {
            "colorbar": {
             "outlinewidth": 0,
             "ticks": ""
            },
            "colorscale": [
             [
              0,
              "#0d0887"
             ],
             [
              0.1111111111111111,
              "#46039f"
             ],
             [
              0.2222222222222222,
              "#7201a8"
             ],
             [
              0.3333333333333333,
              "#9c179e"
             ],
             [
              0.4444444444444444,
              "#bd3786"
             ],
             [
              0.5555555555555556,
              "#d8576b"
             ],
             [
              0.6666666666666666,
              "#ed7953"
             ],
             [
              0.7777777777777778,
              "#fb9f3a"
             ],
             [
              0.8888888888888888,
              "#fdca26"
             ],
             [
              1,
              "#f0f921"
             ]
            ],
            "type": "heatmap"
           }
          ],
          "heatmapgl": [
           {
            "colorbar": {
             "outlinewidth": 0,
             "ticks": ""
            },
            "colorscale": [
             [
              0,
              "#0d0887"
             ],
             [
              0.1111111111111111,
              "#46039f"
             ],
             [
              0.2222222222222222,
              "#7201a8"
             ],
             [
              0.3333333333333333,
              "#9c179e"
             ],
             [
              0.4444444444444444,
              "#bd3786"
             ],
             [
              0.5555555555555556,
              "#d8576b"
             ],
             [
              0.6666666666666666,
              "#ed7953"
             ],
             [
              0.7777777777777778,
              "#fb9f3a"
             ],
             [
              0.8888888888888888,
              "#fdca26"
             ],
             [
              1,
              "#f0f921"
             ]
            ],
            "type": "heatmapgl"
           }
          ],
          "histogram": [
           {
            "marker": {
             "pattern": {
              "fillmode": "overlay",
              "size": 10,
              "solidity": 0.2
             }
            },
            "type": "histogram"
           }
          ],
          "histogram2d": [
           {
            "colorbar": {
             "outlinewidth": 0,
             "ticks": ""
            },
            "colorscale": [
             [
              0,
              "#0d0887"
             ],
             [
              0.1111111111111111,
              "#46039f"
             ],
             [
              0.2222222222222222,
              "#7201a8"
             ],
             [
              0.3333333333333333,
              "#9c179e"
             ],
             [
              0.4444444444444444,
              "#bd3786"
             ],
             [
              0.5555555555555556,
              "#d8576b"
             ],
             [
              0.6666666666666666,
              "#ed7953"
             ],
             [
              0.7777777777777778,
              "#fb9f3a"
             ],
             [
              0.8888888888888888,
              "#fdca26"
             ],
             [
              1,
              "#f0f921"
             ]
            ],
            "type": "histogram2d"
           }
          ],
          "histogram2dcontour": [
           {
            "colorbar": {
             "outlinewidth": 0,
             "ticks": ""
            },
            "colorscale": [
             [
              0,
              "#0d0887"
             ],
             [
              0.1111111111111111,
              "#46039f"
             ],
             [
              0.2222222222222222,
              "#7201a8"
             ],
             [
              0.3333333333333333,
              "#9c179e"
             ],
             [
              0.4444444444444444,
              "#bd3786"
             ],
             [
              0.5555555555555556,
              "#d8576b"
             ],
             [
              0.6666666666666666,
              "#ed7953"
             ],
             [
              0.7777777777777778,
              "#fb9f3a"
             ],
             [
              0.8888888888888888,
              "#fdca26"
             ],
             [
              1,
              "#f0f921"
             ]
            ],
            "type": "histogram2dcontour"
           }
          ],
          "mesh3d": [
           {
            "colorbar": {
             "outlinewidth": 0,
             "ticks": ""
            },
            "type": "mesh3d"
           }
          ],
          "parcoords": [
           {
            "line": {
             "colorbar": {
              "outlinewidth": 0,
              "ticks": ""
             }
            },
            "type": "parcoords"
           }
          ],
          "pie": [
           {
            "automargin": true,
            "type": "pie"
           }
          ],
          "scatter": [
           {
            "fillpattern": {
             "fillmode": "overlay",
             "size": 10,
             "solidity": 0.2
            },
            "type": "scatter"
           }
          ],
          "scatter3d": [
           {
            "line": {
             "colorbar": {
              "outlinewidth": 0,
              "ticks": ""
             }
            },
            "marker": {
             "colorbar": {
              "outlinewidth": 0,
              "ticks": ""
             }
            },
            "type": "scatter3d"
           }
          ],
          "scattercarpet": [
           {
            "marker": {
             "colorbar": {
              "outlinewidth": 0,
              "ticks": ""
             }
            },
            "type": "scattercarpet"
           }
          ],
          "scattergeo": [
           {
            "marker": {
             "colorbar": {
              "outlinewidth": 0,
              "ticks": ""
             }
            },
            "type": "scattergeo"
           }
          ],
          "scattergl": [
           {
            "marker": {
             "colorbar": {
              "outlinewidth": 0,
              "ticks": ""
             }
            },
            "type": "scattergl"
           }
          ],
          "scattermapbox": [
           {
            "marker": {
             "colorbar": {
              "outlinewidth": 0,
              "ticks": ""
             }
            },
            "type": "scattermapbox"
           }
          ],
          "scatterpolar": [
           {
            "marker": {
             "colorbar": {
              "outlinewidth": 0,
              "ticks": ""
             }
            },
            "type": "scatterpolar"
           }
          ],
          "scatterpolargl": [
           {
            "marker": {
             "colorbar": {
              "outlinewidth": 0,
              "ticks": ""
             }
            },
            "type": "scatterpolargl"
           }
          ],
          "scatterternary": [
           {
            "marker": {
             "colorbar": {
              "outlinewidth": 0,
              "ticks": ""
             }
            },
            "type": "scatterternary"
           }
          ],
          "surface": [
           {
            "colorbar": {
             "outlinewidth": 0,
             "ticks": ""
            },
            "colorscale": [
             [
              0,
              "#0d0887"
             ],
             [
              0.1111111111111111,
              "#46039f"
             ],
             [
              0.2222222222222222,
              "#7201a8"
             ],
             [
              0.3333333333333333,
              "#9c179e"
             ],
             [
              0.4444444444444444,
              "#bd3786"
             ],
             [
              0.5555555555555556,
              "#d8576b"
             ],
             [
              0.6666666666666666,
              "#ed7953"
             ],
             [
              0.7777777777777778,
              "#fb9f3a"
             ],
             [
              0.8888888888888888,
              "#fdca26"
             ],
             [
              1,
              "#f0f921"
             ]
            ],
            "type": "surface"
           }
          ],
          "table": [
           {
            "cells": {
             "fill": {
              "color": "#EBF0F8"
             },
             "line": {
              "color": "white"
             }
            },
            "header": {
             "fill": {
              "color": "#C8D4E3"
             },
             "line": {
              "color": "white"
             }
            },
            "type": "table"
           }
          ]
         },
         "layout": {
          "annotationdefaults": {
           "arrowcolor": "#2a3f5f",
           "arrowhead": 0,
           "arrowwidth": 1
          },
          "autotypenumbers": "strict",
          "coloraxis": {
           "colorbar": {
            "outlinewidth": 0,
            "ticks": ""
           }
          },
          "colorscale": {
           "diverging": [
            [
             0,
             "#8e0152"
            ],
            [
             0.1,
             "#c51b7d"
            ],
            [
             0.2,
             "#de77ae"
            ],
            [
             0.3,
             "#f1b6da"
            ],
            [
             0.4,
             "#fde0ef"
            ],
            [
             0.5,
             "#f7f7f7"
            ],
            [
             0.6,
             "#e6f5d0"
            ],
            [
             0.7,
             "#b8e186"
            ],
            [
             0.8,
             "#7fbc41"
            ],
            [
             0.9,
             "#4d9221"
            ],
            [
             1,
             "#276419"
            ]
           ],
           "sequential": [
            [
             0,
             "#0d0887"
            ],
            [
             0.1111111111111111,
             "#46039f"
            ],
            [
             0.2222222222222222,
             "#7201a8"
            ],
            [
             0.3333333333333333,
             "#9c179e"
            ],
            [
             0.4444444444444444,
             "#bd3786"
            ],
            [
             0.5555555555555556,
             "#d8576b"
            ],
            [
             0.6666666666666666,
             "#ed7953"
            ],
            [
             0.7777777777777778,
             "#fb9f3a"
            ],
            [
             0.8888888888888888,
             "#fdca26"
            ],
            [
             1,
             "#f0f921"
            ]
           ],
           "sequentialminus": [
            [
             0,
             "#0d0887"
            ],
            [
             0.1111111111111111,
             "#46039f"
            ],
            [
             0.2222222222222222,
             "#7201a8"
            ],
            [
             0.3333333333333333,
             "#9c179e"
            ],
            [
             0.4444444444444444,
             "#bd3786"
            ],
            [
             0.5555555555555556,
             "#d8576b"
            ],
            [
             0.6666666666666666,
             "#ed7953"
            ],
            [
             0.7777777777777778,
             "#fb9f3a"
            ],
            [
             0.8888888888888888,
             "#fdca26"
            ],
            [
             1,
             "#f0f921"
            ]
           ]
          },
          "colorway": [
           "#636efa",
           "#EF553B",
           "#00cc96",
           "#ab63fa",
           "#FFA15A",
           "#19d3f3",
           "#FF6692",
           "#B6E880",
           "#FF97FF",
           "#FECB52"
          ],
          "font": {
           "color": "#2a3f5f"
          },
          "geo": {
           "bgcolor": "white",
           "lakecolor": "white",
           "landcolor": "#E5ECF6",
           "showlakes": true,
           "showland": true,
           "subunitcolor": "white"
          },
          "hoverlabel": {
           "align": "left"
          },
          "hovermode": "closest",
          "mapbox": {
           "style": "light"
          },
          "paper_bgcolor": "white",
          "plot_bgcolor": "#E5ECF6",
          "polar": {
           "angularaxis": {
            "gridcolor": "white",
            "linecolor": "white",
            "ticks": ""
           },
           "bgcolor": "#E5ECF6",
           "radialaxis": {
            "gridcolor": "white",
            "linecolor": "white",
            "ticks": ""
           }
          },
          "scene": {
           "xaxis": {
            "backgroundcolor": "#E5ECF6",
            "gridcolor": "white",
            "gridwidth": 2,
            "linecolor": "white",
            "showbackground": true,
            "ticks": "",
            "zerolinecolor": "white"
           },
           "yaxis": {
            "backgroundcolor": "#E5ECF6",
            "gridcolor": "white",
            "gridwidth": 2,
            "linecolor": "white",
            "showbackground": true,
            "ticks": "",
            "zerolinecolor": "white"
           },
           "zaxis": {
            "backgroundcolor": "#E5ECF6",
            "gridcolor": "white",
            "gridwidth": 2,
            "linecolor": "white",
            "showbackground": true,
            "ticks": "",
            "zerolinecolor": "white"
           }
          },
          "shapedefaults": {
           "line": {
            "color": "#2a3f5f"
           }
          },
          "ternary": {
           "aaxis": {
            "gridcolor": "white",
            "linecolor": "white",
            "ticks": ""
           },
           "baxis": {
            "gridcolor": "white",
            "linecolor": "white",
            "ticks": ""
           },
           "bgcolor": "#E5ECF6",
           "caxis": {
            "gridcolor": "white",
            "linecolor": "white",
            "ticks": ""
           }
          },
          "title": {
           "x": 0.05
          },
          "xaxis": {
           "automargin": true,
           "gridcolor": "white",
           "linecolor": "white",
           "ticks": "",
           "title": {
            "standoff": 15
           },
           "zerolinecolor": "white",
           "zerolinewidth": 2
          },
          "yaxis": {
           "automargin": true,
           "gridcolor": "white",
           "linecolor": "white",
           "ticks": "",
           "title": {
            "standoff": 15
           },
           "zerolinecolor": "white",
           "zerolinewidth": 2
          }
         }
        },
        "title": {
         "text": "Average Chevron Ratings Over Time"
        },
        "xaxis": {
         "title": {
          "text": "Episode Number"
         }
        },
        "yaxis": {
         "range": [
          0,
          8
         ],
         "title": {
          "text": "Rating"
         }
        }
       }
      },
      "text/html": [
       "<div>                            <div id=\"729382f5-1d21-4315-b11c-41e82bc345e8\" class=\"plotly-graph-div\" style=\"height:525px; width:100%;\"></div>            <script type=\"text/javascript\">                require([\"plotly\"], function(Plotly) {                    window.PLOTLYENV=window.PLOTLYENV || {};                                    if (document.getElementById(\"729382f5-1d21-4315-b11c-41e82bc345e8\")) {                    Plotly.newPlot(                        \"729382f5-1d21-4315-b11c-41e82bc345e8\",                        [{\"line\":{\"color\":\"#0096FF\",\"width\":2},\"mode\":\"lines\",\"name\":\"Brent\",\"x\":[0,1,2,3,4,5,6,7,8,9,10,11,12,13,14,15,16,17,18,19,20,21,22,23,24,25,26,27,28,29,30,31,32,33,34,35,36,37,38,39,40,41,42,43,44,45,46,47,48,49,50,51,52,53,54,55,56,57,58,59,60,61,62,63,64,65,66,67,68,69,70,71,72,73,74,75,76,77,78,79,80,81,82,83,84,85,86,87,88,89,90,91,92,93,94,95,96,97,98,99,100,101,102,103,104,105,106,107,108,109,110,111,112,113,114,115,116,117,118,119,120,121,122,123,124,125,126,127,128,129,130,131,132,133,134,135,136,137,138,139,140,141,142,143,144,145,146,147,148,149,150,151,152,153,154,155,156,157,158,159,160,161,162,163,164,165,166,167,168,169,170,171,172,173,174,175,176,177,178,179,180,181,182,183,184,185,186,187,188,189,190,191,192],\"y\":[6.0,4.0,2.667,3.5,3.4,3.5,3.857,3.625,3.889,4.0,3.909,3.917,3.846,3.929,3.867,3.812,3.941,4.0,4.053,3.95,4.0,4.0,4.087,4.083,4.04,4.077,4.074,4.107,4.069,4.1,4.032,4.031,4.03,3.971,3.971,4.083,4.081,4.053,4.103,4.05,4.049,4.095,4.093,4.068,4.022,4.065,4.106,4.167,4.184,4.18,4.157,4.135,4.17,4.204,4.236,4.196,4.211,4.19,4.237,4.233,4.279,4.29,4.286,4.328,4.354,4.348,4.373,4.397,4.377,4.4,4.423,4.417,4.445,4.439,4.42,4.441,4.474,4.455,4.475,4.456,4.475,4.506,4.512,4.506,4.524,4.529,4.546,4.562,4.579,4.572,4.577,4.603,4.608,4.601,4.584,4.599,4.613,4.617,4.641,4.665,4.668,4.681,4.694,4.697,4.719,4.722,4.696,4.727,4.739,4.741,4.743,4.754,4.757,4.75,4.77,4.763,4.782,4.784,4.761,4.762,4.789,4.799,4.785,4.778,4.78,4.766,4.76,4.777,4.764,4.765,4.79,4.792,4.793,4.802,4.819,4.827,4.843,4.859,4.853,4.854,4.84,4.849,4.857,4.872,4.859,4.866,4.861,4.875,4.889,4.883,4.891,4.905,4.918,4.919,4.919,4.92,4.92,4.902,4.915,4.897,4.885,4.873,4.868,4.887,4.888,4.901,4.901,4.914,4.926,4.938,4.944,4.962,4.98,4.98,4.986,4.997,5.008,5.008,5.014,5.008,4.997,4.997,5.003,5.008,5.003,4.987,4.981,4.992,5.003,4.987,4.987,4.987,4.992],\"type\":\"scatter\"},{\"line\":{\"color\":\"#FFA500\",\"width\":2},\"mode\":\"lines\",\"name\":\"Zach\",\"x\":[0,1,2,3,4,5,6,7,8,9,10,11,12,13,14,15,16,17,18,19,20,21,22,23,24,25,26,27,28,29,30,31,32,33,34,35,36,37,38,39,40,41,42,43,44,45,46,47,48,49,50,51,52,53,54,55,56,57,58,59,60,61,62,63,64,65,66,67,68,69,70,71,72,73,74,75,76,77,78,79,80,81,82,83,84,85,86,87,88,89,90,91,92,93,94,95,96,97,98,99,100,101,102,103,104,105,106,107,108,109,110,111,112,113,114,115,116,117,118,119,120,121,122,123,124,125,126,127,128,129,130,131,132,133,134,135,136,137,138,139,140,141,142,143,144,145,146,147,148,149,150,151,152,153,154,155,156,157,158,159,160,161,162,163,164,165,166,167,168,169,170,171,172,173,174,175,176,177,178,179,180,181,182,183,184,185,186,187,188,189,190,191,192],\"y\":[4.0,4.5,3.0,3.5,3.3,3.417,3.786,3.688,3.944,4.25,4.136,4.042,3.962,4.0,3.867,3.844,3.971,4.028,4.053,3.975,4.024,4.045,4.13,4.125,4.08,4.058,4.056,4.089,4.052,4.083,4.016,4.016,4.015,3.956,3.957,4.069,4.054,4.053,4.103,4.05,4.049,4.095,4.058,4.034,3.989,4.033,4.064,4.125,4.143,4.13,4.098,4.077,4.113,4.13,4.164,4.152,4.158,4.172,4.22,4.233,4.262,4.266,4.278,4.305,4.331,4.371,4.396,4.404,4.399,4.407,4.444,4.438,4.466,4.459,4.44,4.447,4.461,4.474,4.494,4.525,4.556,4.573,4.578,4.571,4.559,4.57,4.586,4.602,4.629,4.633,4.637,4.636,4.634,4.649,4.637,4.641,4.655,4.658,4.692,4.685,4.698,4.706,4.714,4.721,4.733,4.755,4.738,4.769,4.771,4.773,4.775,4.777,4.788,4.785,4.804,4.802,4.821,4.822,4.815,4.817,4.835,4.828,4.829,4.827,4.808,4.806,4.795,4.82,4.806,4.8,4.824,4.833,4.838,4.847,4.856,4.853,4.839,4.855,4.856,4.846,4.837,4.842,4.85,4.844,4.831,4.818,4.827,4.848,4.869,4.857,4.858,4.878,4.899,4.899,4.9,4.897,4.892,4.873,4.887,4.878,4.87,4.858,4.859,4.872,4.879,4.892,4.892,4.905,4.914,4.924,4.942,4.959,4.977,4.98,4.986,4.994,5.006,5.011,5.017,5.014,5.011,5.011,5.016,5.027,5.024,5.016,5.011,5.019,5.029,5.016,5.016,5.018,5.023],\"type\":\"scatter\"}],                        {\"template\":{\"data\":{\"histogram2dcontour\":[{\"type\":\"histogram2dcontour\",\"colorbar\":{\"outlinewidth\":0,\"ticks\":\"\"},\"colorscale\":[[0.0,\"#0d0887\"],[0.1111111111111111,\"#46039f\"],[0.2222222222222222,\"#7201a8\"],[0.3333333333333333,\"#9c179e\"],[0.4444444444444444,\"#bd3786\"],[0.5555555555555556,\"#d8576b\"],[0.6666666666666666,\"#ed7953\"],[0.7777777777777778,\"#fb9f3a\"],[0.8888888888888888,\"#fdca26\"],[1.0,\"#f0f921\"]]}],\"choropleth\":[{\"type\":\"choropleth\",\"colorbar\":{\"outlinewidth\":0,\"ticks\":\"\"}}],\"histogram2d\":[{\"type\":\"histogram2d\",\"colorbar\":{\"outlinewidth\":0,\"ticks\":\"\"},\"colorscale\":[[0.0,\"#0d0887\"],[0.1111111111111111,\"#46039f\"],[0.2222222222222222,\"#7201a8\"],[0.3333333333333333,\"#9c179e\"],[0.4444444444444444,\"#bd3786\"],[0.5555555555555556,\"#d8576b\"],[0.6666666666666666,\"#ed7953\"],[0.7777777777777778,\"#fb9f3a\"],[0.8888888888888888,\"#fdca26\"],[1.0,\"#f0f921\"]]}],\"heatmap\":[{\"type\":\"heatmap\",\"colorbar\":{\"outlinewidth\":0,\"ticks\":\"\"},\"colorscale\":[[0.0,\"#0d0887\"],[0.1111111111111111,\"#46039f\"],[0.2222222222222222,\"#7201a8\"],[0.3333333333333333,\"#9c179e\"],[0.4444444444444444,\"#bd3786\"],[0.5555555555555556,\"#d8576b\"],[0.6666666666666666,\"#ed7953\"],[0.7777777777777778,\"#fb9f3a\"],[0.8888888888888888,\"#fdca26\"],[1.0,\"#f0f921\"]]}],\"heatmapgl\":[{\"type\":\"heatmapgl\",\"colorbar\":{\"outlinewidth\":0,\"ticks\":\"\"},\"colorscale\":[[0.0,\"#0d0887\"],[0.1111111111111111,\"#46039f\"],[0.2222222222222222,\"#7201a8\"],[0.3333333333333333,\"#9c179e\"],[0.4444444444444444,\"#bd3786\"],[0.5555555555555556,\"#d8576b\"],[0.6666666666666666,\"#ed7953\"],[0.7777777777777778,\"#fb9f3a\"],[0.8888888888888888,\"#fdca26\"],[1.0,\"#f0f921\"]]}],\"contourcarpet\":[{\"type\":\"contourcarpet\",\"colorbar\":{\"outlinewidth\":0,\"ticks\":\"\"}}],\"contour\":[{\"type\":\"contour\",\"colorbar\":{\"outlinewidth\":0,\"ticks\":\"\"},\"colorscale\":[[0.0,\"#0d0887\"],[0.1111111111111111,\"#46039f\"],[0.2222222222222222,\"#7201a8\"],[0.3333333333333333,\"#9c179e\"],[0.4444444444444444,\"#bd3786\"],[0.5555555555555556,\"#d8576b\"],[0.6666666666666666,\"#ed7953\"],[0.7777777777777778,\"#fb9f3a\"],[0.8888888888888888,\"#fdca26\"],[1.0,\"#f0f921\"]]}],\"surface\":[{\"type\":\"surface\",\"colorbar\":{\"outlinewidth\":0,\"ticks\":\"\"},\"colorscale\":[[0.0,\"#0d0887\"],[0.1111111111111111,\"#46039f\"],[0.2222222222222222,\"#7201a8\"],[0.3333333333333333,\"#9c179e\"],[0.4444444444444444,\"#bd3786\"],[0.5555555555555556,\"#d8576b\"],[0.6666666666666666,\"#ed7953\"],[0.7777777777777778,\"#fb9f3a\"],[0.8888888888888888,\"#fdca26\"],[1.0,\"#f0f921\"]]}],\"mesh3d\":[{\"type\":\"mesh3d\",\"colorbar\":{\"outlinewidth\":0,\"ticks\":\"\"}}],\"scatter\":[{\"fillpattern\":{\"fillmode\":\"overlay\",\"size\":10,\"solidity\":0.2},\"type\":\"scatter\"}],\"parcoords\":[{\"type\":\"parcoords\",\"line\":{\"colorbar\":{\"outlinewidth\":0,\"ticks\":\"\"}}}],\"scatterpolargl\":[{\"type\":\"scatterpolargl\",\"marker\":{\"colorbar\":{\"outlinewidth\":0,\"ticks\":\"\"}}}],\"bar\":[{\"error_x\":{\"color\":\"#2a3f5f\"},\"error_y\":{\"color\":\"#2a3f5f\"},\"marker\":{\"line\":{\"color\":\"#E5ECF6\",\"width\":0.5},\"pattern\":{\"fillmode\":\"overlay\",\"size\":10,\"solidity\":0.2}},\"type\":\"bar\"}],\"scattergeo\":[{\"type\":\"scattergeo\",\"marker\":{\"colorbar\":{\"outlinewidth\":0,\"ticks\":\"\"}}}],\"scatterpolar\":[{\"type\":\"scatterpolar\",\"marker\":{\"colorbar\":{\"outlinewidth\":0,\"ticks\":\"\"}}}],\"histogram\":[{\"marker\":{\"pattern\":{\"fillmode\":\"overlay\",\"size\":10,\"solidity\":0.2}},\"type\":\"histogram\"}],\"scattergl\":[{\"type\":\"scattergl\",\"marker\":{\"colorbar\":{\"outlinewidth\":0,\"ticks\":\"\"}}}],\"scatter3d\":[{\"type\":\"scatter3d\",\"line\":{\"colorbar\":{\"outlinewidth\":0,\"ticks\":\"\"}},\"marker\":{\"colorbar\":{\"outlinewidth\":0,\"ticks\":\"\"}}}],\"scattermapbox\":[{\"type\":\"scattermapbox\",\"marker\":{\"colorbar\":{\"outlinewidth\":0,\"ticks\":\"\"}}}],\"scatterternary\":[{\"type\":\"scatterternary\",\"marker\":{\"colorbar\":{\"outlinewidth\":0,\"ticks\":\"\"}}}],\"scattercarpet\":[{\"type\":\"scattercarpet\",\"marker\":{\"colorbar\":{\"outlinewidth\":0,\"ticks\":\"\"}}}],\"carpet\":[{\"aaxis\":{\"endlinecolor\":\"#2a3f5f\",\"gridcolor\":\"white\",\"linecolor\":\"white\",\"minorgridcolor\":\"white\",\"startlinecolor\":\"#2a3f5f\"},\"baxis\":{\"endlinecolor\":\"#2a3f5f\",\"gridcolor\":\"white\",\"linecolor\":\"white\",\"minorgridcolor\":\"white\",\"startlinecolor\":\"#2a3f5f\"},\"type\":\"carpet\"}],\"table\":[{\"cells\":{\"fill\":{\"color\":\"#EBF0F8\"},\"line\":{\"color\":\"white\"}},\"header\":{\"fill\":{\"color\":\"#C8D4E3\"},\"line\":{\"color\":\"white\"}},\"type\":\"table\"}],\"barpolar\":[{\"marker\":{\"line\":{\"color\":\"#E5ECF6\",\"width\":0.5},\"pattern\":{\"fillmode\":\"overlay\",\"size\":10,\"solidity\":0.2}},\"type\":\"barpolar\"}],\"pie\":[{\"automargin\":true,\"type\":\"pie\"}]},\"layout\":{\"autotypenumbers\":\"strict\",\"colorway\":[\"#636efa\",\"#EF553B\",\"#00cc96\",\"#ab63fa\",\"#FFA15A\",\"#19d3f3\",\"#FF6692\",\"#B6E880\",\"#FF97FF\",\"#FECB52\"],\"font\":{\"color\":\"#2a3f5f\"},\"hovermode\":\"closest\",\"hoverlabel\":{\"align\":\"left\"},\"paper_bgcolor\":\"white\",\"plot_bgcolor\":\"#E5ECF6\",\"polar\":{\"bgcolor\":\"#E5ECF6\",\"angularaxis\":{\"gridcolor\":\"white\",\"linecolor\":\"white\",\"ticks\":\"\"},\"radialaxis\":{\"gridcolor\":\"white\",\"linecolor\":\"white\",\"ticks\":\"\"}},\"ternary\":{\"bgcolor\":\"#E5ECF6\",\"aaxis\":{\"gridcolor\":\"white\",\"linecolor\":\"white\",\"ticks\":\"\"},\"baxis\":{\"gridcolor\":\"white\",\"linecolor\":\"white\",\"ticks\":\"\"},\"caxis\":{\"gridcolor\":\"white\",\"linecolor\":\"white\",\"ticks\":\"\"}},\"coloraxis\":{\"colorbar\":{\"outlinewidth\":0,\"ticks\":\"\"}},\"colorscale\":{\"sequential\":[[0.0,\"#0d0887\"],[0.1111111111111111,\"#46039f\"],[0.2222222222222222,\"#7201a8\"],[0.3333333333333333,\"#9c179e\"],[0.4444444444444444,\"#bd3786\"],[0.5555555555555556,\"#d8576b\"],[0.6666666666666666,\"#ed7953\"],[0.7777777777777778,\"#fb9f3a\"],[0.8888888888888888,\"#fdca26\"],[1.0,\"#f0f921\"]],\"sequentialminus\":[[0.0,\"#0d0887\"],[0.1111111111111111,\"#46039f\"],[0.2222222222222222,\"#7201a8\"],[0.3333333333333333,\"#9c179e\"],[0.4444444444444444,\"#bd3786\"],[0.5555555555555556,\"#d8576b\"],[0.6666666666666666,\"#ed7953\"],[0.7777777777777778,\"#fb9f3a\"],[0.8888888888888888,\"#fdca26\"],[1.0,\"#f0f921\"]],\"diverging\":[[0,\"#8e0152\"],[0.1,\"#c51b7d\"],[0.2,\"#de77ae\"],[0.3,\"#f1b6da\"],[0.4,\"#fde0ef\"],[0.5,\"#f7f7f7\"],[0.6,\"#e6f5d0\"],[0.7,\"#b8e186\"],[0.8,\"#7fbc41\"],[0.9,\"#4d9221\"],[1,\"#276419\"]]},\"xaxis\":{\"gridcolor\":\"white\",\"linecolor\":\"white\",\"ticks\":\"\",\"title\":{\"standoff\":15},\"zerolinecolor\":\"white\",\"automargin\":true,\"zerolinewidth\":2},\"yaxis\":{\"gridcolor\":\"white\",\"linecolor\":\"white\",\"ticks\":\"\",\"title\":{\"standoff\":15},\"zerolinecolor\":\"white\",\"automargin\":true,\"zerolinewidth\":2},\"scene\":{\"xaxis\":{\"backgroundcolor\":\"#E5ECF6\",\"gridcolor\":\"white\",\"linecolor\":\"white\",\"showbackground\":true,\"ticks\":\"\",\"zerolinecolor\":\"white\",\"gridwidth\":2},\"yaxis\":{\"backgroundcolor\":\"#E5ECF6\",\"gridcolor\":\"white\",\"linecolor\":\"white\",\"showbackground\":true,\"ticks\":\"\",\"zerolinecolor\":\"white\",\"gridwidth\":2},\"zaxis\":{\"backgroundcolor\":\"#E5ECF6\",\"gridcolor\":\"white\",\"linecolor\":\"white\",\"showbackground\":true,\"ticks\":\"\",\"zerolinecolor\":\"white\",\"gridwidth\":2}},\"shapedefaults\":{\"line\":{\"color\":\"#2a3f5f\"}},\"annotationdefaults\":{\"arrowcolor\":\"#2a3f5f\",\"arrowhead\":0,\"arrowwidth\":1},\"geo\":{\"bgcolor\":\"white\",\"landcolor\":\"#E5ECF6\",\"subunitcolor\":\"white\",\"showland\":true,\"showlakes\":true,\"lakecolor\":\"white\"},\"title\":{\"x\":0.05},\"mapbox\":{\"style\":\"light\"}}},\"yaxis\":{\"title\":{\"text\":\"Rating\"},\"range\":[0,8]},\"font\":{\"color\":\"#ffffff\"},\"title\":{\"text\":\"Average Chevron Ratings Over Time\"},\"xaxis\":{\"title\":{\"text\":\"Episode Number\"}},\"paper_bgcolor\":\"#011222\"},                        {\"responsive\": true}                    ).then(function(){\n",
       "                            \n",
       "var gd = document.getElementById('729382f5-1d21-4315-b11c-41e82bc345e8');\n",
       "var x = new MutationObserver(function (mutations, observer) {{\n",
       "        var display = window.getComputedStyle(gd).display;\n",
       "        if (!display || display === 'none') {{\n",
       "            console.log([gd, 'removed!']);\n",
       "            Plotly.purge(gd);\n",
       "            observer.disconnect();\n",
       "        }}\n",
       "}});\n",
       "\n",
       "// Listen for the removal of the full notebook cells\n",
       "var notebookContainer = gd.closest('#notebook-container');\n",
       "if (notebookContainer) {{\n",
       "    x.observe(notebookContainer, {childList: true});\n",
       "}}\n",
       "\n",
       "// Listen for the clearing of the current output cell\n",
       "var outputEl = gd.closest('.output');\n",
       "if (outputEl) {{\n",
       "    x.observe(outputEl, {childList: true});\n",
       "}}\n",
       "\n",
       "                        })                };                });            </script>        </div>"
      ]
     },
     "metadata": {},
     "output_type": "display_data"
    },
    {
     "data": {
      "text/plain": [
       "'https://plotly.com/~Cbsiros/11/'"
      ]
     },
     "execution_count": 15,
     "metadata": {},
     "output_type": "execute_result"
    }
   ],
   "source": [
    "# Create figure\n",
    "fig = go.Figure()\n",
    "\n",
    "fig.add_trace(go.Scatter(x = ratings_df.index,                                           # x-axis data (Episode number)\n",
    "                         y = ratings_df['Brent_Chevrons'].expanding().mean().round(3),   # y-axis data (Expanding average rating, rounded to three decimals)\n",
    "                         mode = 'lines',                                                 # Trace type\n",
    "                         name = 'Brent',                                                 # Custom legend text\n",
    "                         line = dict(color = '#0096FF', width = 2)))                     # Custom line color and width\n",
    "\n",
    "fig.add_trace(go.Scatter(x = ratings_df.index,                                          # x-axis data (Episode number)\n",
    "                         y = ratings_df['Zach_Chevrons'].expanding().mean().round(3),   # y-axis data (Expanding average rating, rounded to three decimals)\n",
    "                         mode = 'lines',                                                # Trace type\n",
    "                         name = 'Zach',                                                 # Custom legend text\n",
    "                         line = dict(color = '#FFA500', width = 2)))                    # Custom line color and width\n",
    "\n",
    "#Further style the figure\n",
    "fig.update_layout(\n",
    "    title = 'Average Chevron Ratings Over Time',   # Set plot title\n",
    "    xaxis_title = 'Episode Number',                # Set x-axis title\n",
    "    yaxis_title = 'Rating',                        # Set y-axis title\n",
    "    yaxis = dict(range = [0, 8]),                  # Set y-axis range\n",
    "    paper_bgcolor = '#011222',                     # Set background color\n",
    "    font_color = '#ffffff')                        # Set font color\n",
    "\n",
    "# Display figure\n",
    "fig.show()\n",
    "\n",
    "# Create plot in Chart Studio for later embedding\n",
    "py.plot(fig, filename = 'Average Chevron Ratings Over Time', auto_open = False)"
   ]
  },
  {
   "cell_type": "markdown",
   "id": "5725403a",
   "metadata": {},
   "source": [
    "# The Differences in the Hosts' Scores"
   ]
  },
  {
   "cell_type": "markdown",
   "id": "f6e4ba82",
   "metadata": {},
   "source": [
    "### What episodes did Brent and Zach disagree on the most? "
   ]
  },
  {
   "cell_type": "code",
   "execution_count": 16,
   "id": "ce0829ef",
   "metadata": {},
   "outputs": [
    {
     "data": {
      "text/html": [
       "<div>\n",
       "<style scoped>\n",
       "    .dataframe tbody tr th:only-of-type {\n",
       "        vertical-align: middle;\n",
       "    }\n",
       "\n",
       "    .dataframe tbody tr th {\n",
       "        vertical-align: top;\n",
       "    }\n",
       "\n",
       "    .dataframe thead th {\n",
       "        text-align: right;\n",
       "    }\n",
       "</style>\n",
       "<table border=\"1\" class=\"dataframe\">\n",
       "  <thead>\n",
       "    <tr style=\"text-align: right;\">\n",
       "      <th></th>\n",
       "      <th>Season_Num</th>\n",
       "      <th>Episode_Num</th>\n",
       "      <th>Title</th>\n",
       "      <th>Brent_Chevrons</th>\n",
       "      <th>Zach_Chevrons</th>\n",
       "      <th>Rating_Differential</th>\n",
       "    </tr>\n",
       "  </thead>\n",
       "  <tbody>\n",
       "    <tr>\n",
       "      <th>0</th>\n",
       "      <td>7</td>\n",
       "      <td>6</td>\n",
       "      <td>Lifeboat</td>\n",
       "      <td>7.0</td>\n",
       "      <td>3.0</td>\n",
       "      <td>4.0</td>\n",
       "    </tr>\n",
       "    <tr>\n",
       "      <th>1</th>\n",
       "      <td>4</td>\n",
       "      <td>15</td>\n",
       "      <td>Chain Reaction</td>\n",
       "      <td>3.0</td>\n",
       "      <td>7.0</td>\n",
       "      <td>4.0</td>\n",
       "    </tr>\n",
       "    <tr>\n",
       "      <th>2</th>\n",
       "      <td>1</td>\n",
       "      <td>2</td>\n",
       "      <td>The Enemy Within</td>\n",
       "      <td>2.0</td>\n",
       "      <td>5.0</td>\n",
       "      <td>3.0</td>\n",
       "    </tr>\n",
       "    <tr>\n",
       "      <th>3</th>\n",
       "      <td>7</td>\n",
       "      <td>13</td>\n",
       "      <td>Grace</td>\n",
       "      <td>7.0</td>\n",
       "      <td>4.0</td>\n",
       "      <td>3.0</td>\n",
       "    </tr>\n",
       "    <tr>\n",
       "      <th>4</th>\n",
       "      <td>5</td>\n",
       "      <td>13</td>\n",
       "      <td>Proving Ground</td>\n",
       "      <td>7.0</td>\n",
       "      <td>4.0</td>\n",
       "      <td>3.0</td>\n",
       "    </tr>\n",
       "    <tr>\n",
       "      <th>5</th>\n",
       "      <td>7</td>\n",
       "      <td>15</td>\n",
       "      <td>Chimera</td>\n",
       "      <td>6.0</td>\n",
       "      <td>3.0</td>\n",
       "      <td>3.0</td>\n",
       "    </tr>\n",
       "    <tr>\n",
       "      <th>6</th>\n",
       "      <td>4</td>\n",
       "      <td>1</td>\n",
       "      <td>Small Victories</td>\n",
       "      <td>4.0</td>\n",
       "      <td>7.0</td>\n",
       "      <td>3.0</td>\n",
       "    </tr>\n",
       "    <tr>\n",
       "      <th>7</th>\n",
       "      <td>4</td>\n",
       "      <td>20</td>\n",
       "      <td>Entity</td>\n",
       "      <td>6.0</td>\n",
       "      <td>3.5</td>\n",
       "      <td>2.5</td>\n",
       "    </tr>\n",
       "    <tr>\n",
       "      <th>8</th>\n",
       "      <td>5</td>\n",
       "      <td>5</td>\n",
       "      <td>Red Sky</td>\n",
       "      <td>7.0</td>\n",
       "      <td>4.5</td>\n",
       "      <td>2.5</td>\n",
       "    </tr>\n",
       "    <tr>\n",
       "      <th>9</th>\n",
       "      <td>6</td>\n",
       "      <td>16</td>\n",
       "      <td>Metamorphosis</td>\n",
       "      <td>5.0</td>\n",
       "      <td>2.5</td>\n",
       "      <td>2.5</td>\n",
       "    </tr>\n",
       "    <tr>\n",
       "      <th>10</th>\n",
       "      <td>4</td>\n",
       "      <td>13</td>\n",
       "      <td>The Curse</td>\n",
       "      <td>3.0</td>\n",
       "      <td>5.5</td>\n",
       "      <td>2.5</td>\n",
       "    </tr>\n",
       "  </tbody>\n",
       "</table>\n",
       "</div>"
      ],
      "text/plain": [
       "    Season_Num  Episode_Num             Title  Brent_Chevrons  Zach_Chevrons  \\\n",
       "0            7            6          Lifeboat             7.0            3.0   \n",
       "1            4           15    Chain Reaction             3.0            7.0   \n",
       "2            1            2  The Enemy Within             2.0            5.0   \n",
       "3            7           13             Grace             7.0            4.0   \n",
       "4            5           13    Proving Ground             7.0            4.0   \n",
       "5            7           15           Chimera             6.0            3.0   \n",
       "6            4            1   Small Victories             4.0            7.0   \n",
       "7            4           20            Entity             6.0            3.5   \n",
       "8            5            5           Red Sky             7.0            4.5   \n",
       "9            6           16     Metamorphosis             5.0            2.5   \n",
       "10           4           13         The Curse             3.0            5.5   \n",
       "\n",
       "    Rating_Differential  \n",
       "0                   4.0  \n",
       "1                   4.0  \n",
       "2                   3.0  \n",
       "3                   3.0  \n",
       "4                   3.0  \n",
       "5                   3.0  \n",
       "6                   3.0  \n",
       "7                   2.5  \n",
       "8                   2.5  \n",
       "9                   2.5  \n",
       "10                  2.5  "
      ]
     },
     "execution_count": 16,
     "metadata": {},
     "output_type": "execute_result"
    }
   ],
   "source": [
    "ratings_df.sort_values('Rating_Differential', ascending = False).head(11).reset_index()[['Season_Num', 'Episode_Num', 'Title', 'Brent_Chevrons', 'Zach_Chevrons', 'Rating_Differential']]"
   ]
  },
  {
   "cell_type": "code",
   "execution_count": 17,
   "id": "c1e68adc",
   "metadata": {},
   "outputs": [],
   "source": [
    "# Create a list of lists that holds the rating differentials for each episode grouped by seasons, to be used in upcoming heatmap\n",
    "rating_differentials = []\n",
    "\n",
    "# Create a list of lists that holds the hover text for each episode grouped by seasons, to be used in upcoming heatmap\n",
    "hover_texts = []\n",
    "\n",
    "# Loop through every season\n",
    "for i in ratings_df['Season_Num'].unique():\n",
    "    \n",
    "    # Collect every episode title in this season\n",
    "    episode_titles = ratings_df.loc[ratings_df['Season_Num'] == i, 'Title'].values\n",
    "    \n",
    "    # Collect every rating differential in this season\n",
    "    episode_rating_differences = ratings_df.loc[ratings_df['Season_Num'] == i, 'Rating_Differential'].values\n",
    "    \n",
    "    # Add rating differentials to global list for use later\n",
    "    rating_differentials.append(episode_rating_differences)\n",
    "    \n",
    "    # Create a list to hold hover_texts for each episode in this season\n",
    "    season_hover_texts = []\n",
    "    \n",
    "    # Loop through every episode in this season\n",
    "    for j in range(len(episode_titles)):\n",
    "        \n",
    "        # If/else statement for grammer purposes (1 Chevron vs 2 Chevrons), which appends the hover text for this episode to season_hover_texts\n",
    "        if(episode_rating_differences[j]) == 1:\n",
    "            season_hover_texts.append(f'Season {i}, Episode {j + 1}<br>{episode_titles[j]}<br>Difference: {episode_rating_differences[j]} Chevron')\n",
    "        else:\n",
    "            season_hover_texts.append(f'Season {i}, Episode {j + 1}<br>{episode_titles[j]}<br>Difference: {episode_rating_differences[j]} Chevrons')\n",
    "    \n",
    "    # Finally, append each season_hover_text to hover_texts for use in heatmap\n",
    "    hover_texts.append(season_hover_texts)"
   ]
  },
  {
   "cell_type": "code",
   "execution_count": 18,
   "id": "18ca2db1",
   "metadata": {
    "scrolled": false
   },
   "outputs": [
    {
     "data": {
      "application/vnd.plotly.v1+json": {
       "config": {
        "plotlyServerURL": "https://plotly.com"
       },
       "data": [
        {
         "hoverinfo": "text",
         "hoverongaps": false,
         "text": [
          [
           "Season 1, Episode 1<br>Children of the Gods<br>Difference: 2.0 Chevrons",
           "Season 1, Episode 2<br>The Enemy Within<br>Difference: 3.0 Chevrons",
           "Season 1, Episode 3<br>Emancipation<br>Difference: 0.0 Chevrons",
           "Season 1, Episode 4<br>The Broca Divide<br>Difference: 1.0 Chevron",
           "Season 1, Episode 5<br>The First Commandment<br>Difference: 0.5 Chevrons",
           "Season 1, Episode 6<br>Cold Lazarus<br>Difference: 0.0 Chevrons",
           "Season 1, Episode 7<br>The Nox<br>Difference: 0.0 Chevrons",
           "Season 1, Episode 8<br>Brief Candle<br>Difference: 1.0 Chevron",
           "Season 1, Episode 9<br>Thor's Hammer<br>Difference: 0.0 Chevrons",
           "Season 1, Episode 10<br>The Torment of Tantalus<br>Difference: 2.0 Chevrons",
           "Season 1, Episode 11<br>Bloodlines<br>Difference: 0.0 Chevrons",
           "Season 1, Episode 12<br>Fire and Water<br>Difference: 1.0 Chevron",
           "Season 1, Episode 13<br>Hathor<br>Difference: 0.0 Chevrons",
           "Season 1, Episode 14<br>Singularity<br>Difference: 0.5 Chevrons",
           "Season 1, Episode 15<br>Cor-ai<br>Difference: 1.0 Chevron",
           "Season 1, Episode 16<br>Enigma<br>Difference: 0.5 Chevrons",
           "Season 1, Episode 17<br>Solitudes<br>Difference: 0.0 Chevrons",
           "Season 1, Episode 18<br>Tin Man<br>Difference: 0.0 Chevrons",
           "Season 1, Episode 19<br>There But for the Grace of God<br>Difference: 0.5 Chevrons",
           "Season 1, Episode 20<br>Politics<br>Difference: 0.5 Chevrons",
           "Season 1, Episode 21<br>Within the Serpent's Grasp<br>Difference: 0.0 Chevrons"
          ],
          [
           "Season 2, Episode 1<br>The Serpent's Lair<br>Difference: 0.5 Chevrons",
           "Season 2, Episode 2<br>In the Line of Duty<br>Difference: 0.0 Chevrons",
           "Season 2, Episode 3<br>Prisoners<br>Difference: 0.0 Chevrons",
           "Season 2, Episode 4<br>The Gamekeeper<br>Difference: 0.0 Chevrons",
           "Season 2, Episode 5<br>Need<br>Difference: 1.5 Chevrons",
           "Season 2, Episode 6<br>Thor's Chariot<br>Difference: 0.0 Chevrons",
           "Season 2, Episode 7<br>Message in a Bottle<br>Difference: 0.0 Chevrons",
           "Season 2, Episode 8<br>Family<br>Difference: 0.0 Chevrons",
           "Season 2, Episode 9<br>Secrets<br>Difference: 0.0 Chevrons",
           "Season 2, Episode 10<br>Bane<br>Difference: 0.0 Chevrons",
           "Season 2, Episode 11<br>The Tok'ra: Part 1<br>Difference: 0.0 Chevrons",
           "Season 2, Episode 12<br>The Tok'ra: Part 2<br>Difference: 0.0 Chevrons",
           "Season 2, Episode 13<br>Spirits<br>Difference: 0.0 Chevrons",
           "Season 2, Episode 14<br>Touchstone<br>Difference: 0.0 Chevrons",
           "Season 2, Episode 15<br>The Fifth Race<br>Difference: 0.0 Chevrons",
           "Season 2, Episode 16<br>A Matter of Time<br>Difference: 0.5 Chevrons",
           "Season 2, Episode 17<br>Holiday<br>Difference: 1.0 Chevron",
           "Season 2, Episode 18<br>Serpent's Song<br>Difference: 0.0 Chevrons",
           "Season 2, Episode 19<br>One False Step<br>Difference: 0.0 Chevrons",
           "Season 2, Episode 20<br>Show and Tell<br>Difference: 0.0 Chevrons",
           "Season 2, Episode 21<br>1969<br>Difference: 0.0 Chevrons",
           "Season 2, Episode 22<br>Out of Mind<br>Difference: 1.5 Chevrons"
          ],
          [
           "Season 3, Episode 1<br>Into the Fire<br>Difference: 0.0 Chevrons",
           "Season 3, Episode 2<br>Seth<br>Difference: 0.0 Chevrons",
           "Season 3, Episode 3<br>Fair Game<br>Difference: 0.0 Chevrons",
           "Season 3, Episode 4<br>Legacy<br>Difference: 0.5 Chevrons",
           "Season 3, Episode 5<br>Learning Curve<br>Difference: 0.0 Chevrons",
           "Season 3, Episode 6<br>Point of View<br>Difference: 0.0 Chevrons",
           "Season 3, Episode 7<br>Deadman Switch<br>Difference: 0.5 Chevrons",
           "Season 3, Episode 8<br>Demons<br>Difference: 0.5 Chevrons",
           "Season 3, Episode 9<br>Rules of Engagement<br>Difference: 0.0 Chevrons",
           "Season 3, Episode 10<br>Forever in a Day<br>Difference: 0.0 Chevrons",
           "Season 3, Episode 11<br>Past and Present<br>Difference: 1.0 Chevron",
           "Season 3, Episode 12<br>Jolinar's Memories<br>Difference: 0.0 Chevrons",
           "Season 3, Episode 13<br>The Devil You Know<br>Difference: 1.5 Chevrons",
           "Season 3, Episode 14<br>Foothold<br>Difference: 0.5 Chevrons",
           "Season 3, Episode 15<br>Pretense<br>Difference: 2.0 Chevrons",
           "Season 3, Episode 16<br>Urgo<br>Difference: 0.0 Chevrons",
           "Season 3, Episode 17<br>A Hundred Days<br>Difference: 1.0 Chevron",
           "Season 3, Episode 18<br>Shades of Grey<br>Difference: 1.0 Chevron",
           "Season 3, Episode 19<br>New Ground<br>Difference: 0.5 Chevrons",
           "Season 3, Episode 20<br>Maternal Instinct<br>Difference: 1.0 Chevron",
           "Season 3, Episode 21<br>Crystal Skull<br>Difference: 1.0 Chevron",
           "Season 3, Episode 22<br>Nemesis<br>Difference: 0.0 Chevrons"
          ],
          [
           "Season 4, Episode 1<br>Small Victories<br>Difference: 3.0 Chevrons",
           "Season 4, Episode 2<br>The Other Side<br>Difference: 0.0 Chevrons",
           "Season 4, Episode 3<br>Upgrades<br>Difference: 1.0 Chevron",
           "Season 4, Episode 4<br>Crossroads<br>Difference: 1.0 Chevron",
           "Season 4, Episode 5<br>Divide and Conquer<br>Difference: 1.0 Chevron",
           "Season 4, Episode 6<br>Window of Opportunity<br>Difference: 1.0 Chevron",
           "Season 4, Episode 7<br>Watergate<br>Difference: 0.0 Chevrons",
           "Season 4, Episode 8<br>The First Ones<br>Difference: 0.0 Chevrons",
           "Season 4, Episode 9<br>Scorched Earth<br>Difference: 0.0 Chevrons",
           "Season 4, Episode 10<br>Beneath the Surface<br>Difference: 0.0 Chevrons",
           "Season 4, Episode 11<br>Point of No Return<br>Difference: 1.0 Chevron",
           "Season 4, Episode 12<br>Tangent<br>Difference: 1.5 Chevrons",
           "Season 4, Episode 13<br>The Curse<br>Difference: 2.5 Chevrons",
           "Season 4, Episode 14<br>The Serpent's Venom<br>Difference: 0.0 Chevrons",
           "Season 4, Episode 15<br>Chain Reaction<br>Difference: 4.0 Chevrons",
           "Season 4, Episode 16<br>2010<br>Difference: 1.0 Chevron",
           "Season 4, Episode 17<br>Absolute Power<br>Difference: 1.0 Chevron",
           "Season 4, Episode 18<br>The Light<br>Difference: 0.0 Chevrons",
           "Season 4, Episode 19<br>Prodigy<br>Difference: 0.0 Chevrons",
           "Season 4, Episode 20<br>Entity<br>Difference: 2.5 Chevrons",
           "Season 4, Episode 21<br>Double Jeopardy<br>Difference: 0.5 Chevrons",
           "Season 4, Episode 22<br>Exodus<br>Difference: 0.0 Chevrons"
          ],
          [
           "Season 5, Episode 1<br>Enemies<br>Difference: 0.0 Chevrons",
           "Season 5, Episode 2<br>Threshold<br>Difference: 1.0 Chevron",
           "Season 5, Episode 3<br>Ascension<br>Difference: 1.0 Chevron",
           "Season 5, Episode 4<br>The Fifth Man<br>Difference: 0.0 Chevrons",
           "Season 5, Episode 5<br>Red Sky<br>Difference: 2.5 Chevrons",
           "Season 5, Episode 6<br>Rite of Passage<br>Difference: 0.5 Chevrons",
           "Season 5, Episode 7<br>Beast of Burden<br>Difference: 2.0 Chevrons",
           "Season 5, Episode 8<br>The Tomb<br>Difference: 0.5 Chevrons",
           "Season 5, Episode 9<br>Between Two Fires<br>Difference: 1.0 Chevron",
           "Season 5, Episode 10<br>2001<br>Difference: 0.0 Chevrons",
           "Season 5, Episode 11<br>Desperate Measures<br>Difference: 0.0 Chevrons",
           "Season 5, Episode 12<br>Wormhole X-Treme!<br>Difference: 1.0 Chevron",
           "Season 5, Episode 13<br>Proving Ground<br>Difference: 3.0 Chevrons",
           "Season 5, Episode 14<br>48 Hours<br>Difference: 1.0 Chevron",
           "Season 5, Episode 15<br>Summit<br>Difference: 0.5 Chevrons",
           "Season 5, Episode 16<br>Last Stand<br>Difference: 0.5 Chevrons",
           "Season 5, Episode 17<br>Fail Safe<br>Difference: 0.5 Chevrons",
           "Season 5, Episode 18<br>The Warrior<br>Difference: 1.0 Chevron",
           "Season 5, Episode 19<br>Menace<br>Difference: 2.0 Chevrons",
           "Season 5, Episode 20<br>The Sentinel<br>Difference: 1.0 Chevron",
           "Season 5, Episode 21<br>Meridian<br>Difference: 0.0 Chevrons",
           "Season 5, Episode 22<br>Revelations<br>Difference: 1.0 Chevron"
          ],
          [
           "Season 6, Episode 1<br>Redemption: Part 1<br>Difference: 0.0 Chevrons",
           "Season 6, Episode 2<br>Redemption: Part 2<br>Difference: 0.0 Chevrons",
           "Season 6, Episode 3<br>Descent<br>Difference: 1.0 Chevron",
           "Season 6, Episode 4<br>Frozen<br>Difference: 1.0 Chevron",
           "Season 6, Episode 5<br>Nightwalkers<br>Difference: 0.5 Chevrons",
           "Season 6, Episode 6<br>Abyss<br>Difference: 0.0 Chevrons",
           "Season 6, Episode 7<br>Shadow Play<br>Difference: 0.5 Chevrons",
           "Season 6, Episode 8<br>The Other Guys<br>Difference: 0.0 Chevrons",
           "Season 6, Episode 9<br>Allegiance<br>Difference: 0.0 Chevrons",
           "Season 6, Episode 10<br>Cure<br>Difference: 2.0 Chevrons",
           "Season 6, Episode 11<br>Prometheus<br>Difference: 0.0 Chevrons",
           "Season 6, Episode 12<br>Unnatural Selection<br>Difference: 1.0 Chevron",
           "Season 6, Episode 13<br>Sight Unseen<br>Difference: 2.0 Chevrons",
           "Season 6, Episode 14<br>Smoke & Mirrors<br>Difference: 2.0 Chevrons",
           "Season 6, Episode 15<br>Paradise Lost<br>Difference: 0.5 Chevrons",
           "Season 6, Episode 16<br>Metamorphosis<br>Difference: 2.5 Chevrons",
           "Season 6, Episode 17<br>Disclosure<br>Difference: 1.5 Chevrons",
           "Season 6, Episode 18<br>Forsaken<br>Difference: 0.5 Chevrons",
           "Season 6, Episode 19<br>The Changeling<br>Difference: 1.0 Chevron",
           "Season 6, Episode 20<br>Memento<br>Difference: 0.0 Chevrons",
           "Season 6, Episode 21<br>Prophecy<br>Difference: 1.0 Chevron",
           "Season 6, Episode 22<br>Full Circle<br>Difference: 0.0 Chevrons"
          ],
          [
           "Season 7, Episode 1<br>Fallen<br>Difference: 1.0 Chevron",
           "Season 7, Episode 2<br>Homecoming<br>Difference: 0.5 Chevrons",
           "Season 7, Episode 3<br>Fragile Balance<br>Difference: 0.0 Chevrons",
           "Season 7, Episode 4<br>Orpheus<br>Difference: 1.0 Chevron",
           "Season 7, Episode 5<br>Revisions<br>Difference: 1.5 Chevrons",
           "Season 7, Episode 6<br>Lifeboat<br>Difference: 4.0 Chevrons",
           "Season 7, Episode 7<br>Enemy Mine<br>Difference: 0.0 Chevrons",
           "Season 7, Episode 8<br>Space Race<br>Difference: 1.0 Chevron",
           "Season 7, Episode 9<br>Avenger 2.0<br>Difference: 1.5 Chevrons",
           "Season 7, Episode 10<br>Birthright<br>Difference: 0.5 Chevrons",
           "Season 7, Episode 11<br>Evolution: Part 1<br>Difference: 0.5 Chevrons",
           "Season 7, Episode 12<br>Evolution: Part 2<br>Difference: 0.0 Chevrons",
           "Season 7, Episode 13<br>Grace<br>Difference: 3.0 Chevrons",
           "Season 7, Episode 14<br>Fallout<br>Difference: 0.0 Chevrons",
           "Season 7, Episode 15<br>Chimera<br>Difference: 3.0 Chevrons",
           "Season 7, Episode 16<br>Death Knell<br>Difference: 2.0 Chevrons",
           "Season 7, Episode 17<br>Heroes: Part 1<br>Difference: 1.0 Chevron",
           "Season 7, Episode 18<br>Heroes: Part 2<br>Difference: 1.0 Chevron",
           "Season 7, Episode 19<br>Resurrection<br>Difference: 1.0 Chevron",
           "Season 7, Episode 20<br>Inauguration<br>Difference: 1.0 Chevron",
           "Season 7, Episode 21<br>Lost City: Part 1<br>Difference: 1.0 Chevron",
           "Season 7, Episode 22<br>Lost City: Part 2<br>Difference: 1.0 Chevron"
          ],
          [
           "Season 8, Episode 1<br>New Order: Part 1<br>Difference: 0.0 Chevrons",
           "Season 8, Episode 2<br>New Order: Part 2<br>Difference: 0.0 Chevrons",
           "Season 8, Episode 3<br>Lockdown<br>Difference: 0.5 Chevrons",
           "Season 8, Episode 4<br>Zero Hour<br>Difference: 1.0 Chevron",
           "Season 8, Episode 5<br>Icon<br>Difference: 0.0 Chevrons",
           "Season 8, Episode 6<br>Avatar<br>Difference: 0.0 Chevrons",
           "Season 8, Episode 7<br>Affinity<br>Difference: 1.5 Chevrons",
           "Season 8, Episode 8<br>Covenant<br>Difference: 0.5 Chevrons",
           "Season 8, Episode 9<br>Sacrifices<br>Difference: 0.0 Chevrons",
           "Season 8, Episode 10<br>Endgame<br>Difference: 1.0 Chevron",
           "Season 8, Episode 11<br>Gemini<br>Difference: 1.0 Chevron",
           "Season 8, Episode 12<br>Prometheus Unbound<br>Difference: 1.0 Chevron",
           "Season 8, Episode 13<br>It's Good to Be King<br>Difference: 0.0 Chevrons",
           "Season 8, Episode 14<br>Full Alert<br>Difference: 0.0 Chevrons",
           "Season 8, Episode 15<br>Citizen Joe<br>Difference: 0.0 Chevrons",
           "Season 8, Episode 16<br>Reckoning: Part 1<br>Difference: 0.5 Chevrons",
           "Season 8, Episode 17<br>Reckoning: Part 2<br>Difference: 0.5 Chevrons",
           "Season 8, Episode 18<br>Threads<br>Difference: 2.0 Chevrons",
           "Season 8, Episode 19<br>Moebius: Part 1<br>Difference: 0.0 Chevrons",
           "Season 8, Episode 20<br>Moebius: Part 2<br>Difference: 0.0 Chevrons"
          ],
          [
           "Season 9, Episode 1<br>Avalon: Part 1<br>Difference: 0.5 Chevrons",
           "Season 9, Episode 2<br>Avalon: Part 2<br>Difference: 0.0 Chevrons",
           "Season 9, Episode 3<br>Origin<br>Difference: 0.5 Chevrons",
           "Season 9, Episode 4<br>The Ties That Bind<br>Difference: 0.0 Chevrons",
           "Season 9, Episode 5<br>The Powers That Be<br>Difference: 1.0 Chevron",
           "Season 9, Episode 6<br>Beachhead<br>Difference: 0.0 Chevrons",
           "Season 9, Episode 7<br>Ex Deus Machina<br>Difference: 0.5 Chevrons",
           "Season 9, Episode 8<br>Babylon<br>Difference: 1.5 Chevrons",
           "Season 9, Episode 9<br>Prototype<br>Difference: 0.0 Chevrons",
           "Season 9, Episode 10<br>The Fourth Horseman: Part 1<br>Difference: 0.0 Chevrons",
           "Season 9, Episode 11<br>The Fourth Horseman: Part 2<br>Difference: 1.0 Chevron",
           "Season 9, Episode 12<br>Collateral Damage<br>Difference: 0.5 Chevrons",
           "Season 9, Episode 13<br>Ripple Effect<br>Difference: 1.5 Chevrons",
           "Season 9, Episode 14<br>Stronghold<br>Difference: 0.0 Chevrons",
           "Season 9, Episode 15<br>Ethon<br>Difference: 0.5 Chevrons",
           "Season 9, Episode 16<br>Off the Grid<br>Difference: 0.0 Chevrons",
           "Season 9, Episode 17<br>The Scourge<br>Difference: 0.5 Chevrons",
           "Season 9, Episode 18<br>Arthur's Mantle<br>Difference: 0.0 Chevrons",
           "Season 9, Episode 19<br>Crusade<br>Difference: 0.5 Chevrons",
           "Season 9, Episode 20<br>Camelot<br>Difference: 0.0 Chevrons"
          ]
         ],
         "type": "heatmap",
         "x": [
          1,
          2,
          3,
          4,
          5,
          6,
          7,
          8,
          9,
          10,
          11,
          12,
          13,
          14,
          15,
          16,
          17,
          18,
          19,
          20,
          21,
          22
         ],
         "y": [
          1,
          2,
          3,
          4,
          5,
          6,
          7,
          8,
          9
         ],
         "z": [
          [
           2,
           3,
           0,
           1,
           0.5,
           0,
           0,
           1,
           0,
           2,
           0,
           1,
           0,
           0.5,
           1,
           0.5,
           0,
           0,
           0.5,
           0.5,
           0
          ],
          [
           0.5,
           0,
           0,
           0,
           1.5,
           0,
           0,
           0,
           0,
           0,
           0,
           0,
           0,
           0,
           0,
           0.5,
           1,
           0,
           0,
           0,
           0,
           1.5
          ],
          [
           0,
           0,
           0,
           0.5,
           0,
           0,
           0.5,
           0.5,
           0,
           0,
           1,
           0,
           1.5,
           0.5,
           2,
           0,
           1,
           1,
           0.5,
           1,
           1,
           0
          ],
          [
           3,
           0,
           1,
           1,
           1,
           1,
           0,
           0,
           0,
           0,
           1,
           1.5,
           2.5,
           0,
           4,
           1,
           1,
           0,
           0,
           2.5,
           0.5,
           0
          ],
          [
           0,
           1,
           1,
           0,
           2.5,
           0.5,
           2,
           0.5,
           1,
           0,
           0,
           1,
           3,
           1,
           0.5,
           0.5,
           0.5,
           1,
           2,
           1,
           0,
           1
          ],
          [
           0,
           0,
           1,
           1,
           0.5,
           0,
           0.5,
           0,
           0,
           2,
           0,
           1,
           2,
           2,
           0.5,
           2.5,
           1.5,
           0.5,
           1,
           0,
           1,
           0
          ],
          [
           1,
           0.5,
           0,
           1,
           1.5,
           4,
           0,
           1,
           1.5,
           0.5,
           0.5,
           0,
           3,
           0,
           3,
           2,
           1,
           1,
           1,
           1,
           1,
           1
          ],
          [
           0,
           0,
           0.5,
           1,
           0,
           0,
           1.5,
           0.5,
           0,
           1,
           1,
           1,
           0,
           0,
           0,
           0.5,
           0.5,
           2,
           0,
           0
          ],
          [
           0.5,
           0,
           0.5,
           0,
           1,
           0,
           0.5,
           1.5,
           0,
           0,
           1,
           0.5,
           1.5,
           0,
           0.5,
           0,
           0.5,
           0,
           0.5,
           0
          ]
         ]
        }
       ],
       "layout": {
        "font": {
         "color": "#ffffff"
        },
        "paper_bgcolor": "#011222",
        "template": {
         "data": {
          "bar": [
           {
            "error_x": {
             "color": "#2a3f5f"
            },
            "error_y": {
             "color": "#2a3f5f"
            },
            "marker": {
             "line": {
              "color": "#E5ECF6",
              "width": 0.5
             },
             "pattern": {
              "fillmode": "overlay",
              "size": 10,
              "solidity": 0.2
             }
            },
            "type": "bar"
           }
          ],
          "barpolar": [
           {
            "marker": {
             "line": {
              "color": "#E5ECF6",
              "width": 0.5
             },
             "pattern": {
              "fillmode": "overlay",
              "size": 10,
              "solidity": 0.2
             }
            },
            "type": "barpolar"
           }
          ],
          "carpet": [
           {
            "aaxis": {
             "endlinecolor": "#2a3f5f",
             "gridcolor": "white",
             "linecolor": "white",
             "minorgridcolor": "white",
             "startlinecolor": "#2a3f5f"
            },
            "baxis": {
             "endlinecolor": "#2a3f5f",
             "gridcolor": "white",
             "linecolor": "white",
             "minorgridcolor": "white",
             "startlinecolor": "#2a3f5f"
            },
            "type": "carpet"
           }
          ],
          "choropleth": [
           {
            "colorbar": {
             "outlinewidth": 0,
             "ticks": ""
            },
            "type": "choropleth"
           }
          ],
          "contour": [
           {
            "colorbar": {
             "outlinewidth": 0,
             "ticks": ""
            },
            "colorscale": [
             [
              0,
              "#0d0887"
             ],
             [
              0.1111111111111111,
              "#46039f"
             ],
             [
              0.2222222222222222,
              "#7201a8"
             ],
             [
              0.3333333333333333,
              "#9c179e"
             ],
             [
              0.4444444444444444,
              "#bd3786"
             ],
             [
              0.5555555555555556,
              "#d8576b"
             ],
             [
              0.6666666666666666,
              "#ed7953"
             ],
             [
              0.7777777777777778,
              "#fb9f3a"
             ],
             [
              0.8888888888888888,
              "#fdca26"
             ],
             [
              1,
              "#f0f921"
             ]
            ],
            "type": "contour"
           }
          ],
          "contourcarpet": [
           {
            "colorbar": {
             "outlinewidth": 0,
             "ticks": ""
            },
            "type": "contourcarpet"
           }
          ],
          "heatmap": [
           {
            "colorbar": {
             "outlinewidth": 0,
             "ticks": ""
            },
            "colorscale": [
             [
              0,
              "#0d0887"
             ],
             [
              0.1111111111111111,
              "#46039f"
             ],
             [
              0.2222222222222222,
              "#7201a8"
             ],
             [
              0.3333333333333333,
              "#9c179e"
             ],
             [
              0.4444444444444444,
              "#bd3786"
             ],
             [
              0.5555555555555556,
              "#d8576b"
             ],
             [
              0.6666666666666666,
              "#ed7953"
             ],
             [
              0.7777777777777778,
              "#fb9f3a"
             ],
             [
              0.8888888888888888,
              "#fdca26"
             ],
             [
              1,
              "#f0f921"
             ]
            ],
            "type": "heatmap"
           }
          ],
          "heatmapgl": [
           {
            "colorbar": {
             "outlinewidth": 0,
             "ticks": ""
            },
            "colorscale": [
             [
              0,
              "#0d0887"
             ],
             [
              0.1111111111111111,
              "#46039f"
             ],
             [
              0.2222222222222222,
              "#7201a8"
             ],
             [
              0.3333333333333333,
              "#9c179e"
             ],
             [
              0.4444444444444444,
              "#bd3786"
             ],
             [
              0.5555555555555556,
              "#d8576b"
             ],
             [
              0.6666666666666666,
              "#ed7953"
             ],
             [
              0.7777777777777778,
              "#fb9f3a"
             ],
             [
              0.8888888888888888,
              "#fdca26"
             ],
             [
              1,
              "#f0f921"
             ]
            ],
            "type": "heatmapgl"
           }
          ],
          "histogram": [
           {
            "marker": {
             "pattern": {
              "fillmode": "overlay",
              "size": 10,
              "solidity": 0.2
             }
            },
            "type": "histogram"
           }
          ],
          "histogram2d": [
           {
            "colorbar": {
             "outlinewidth": 0,
             "ticks": ""
            },
            "colorscale": [
             [
              0,
              "#0d0887"
             ],
             [
              0.1111111111111111,
              "#46039f"
             ],
             [
              0.2222222222222222,
              "#7201a8"
             ],
             [
              0.3333333333333333,
              "#9c179e"
             ],
             [
              0.4444444444444444,
              "#bd3786"
             ],
             [
              0.5555555555555556,
              "#d8576b"
             ],
             [
              0.6666666666666666,
              "#ed7953"
             ],
             [
              0.7777777777777778,
              "#fb9f3a"
             ],
             [
              0.8888888888888888,
              "#fdca26"
             ],
             [
              1,
              "#f0f921"
             ]
            ],
            "type": "histogram2d"
           }
          ],
          "histogram2dcontour": [
           {
            "colorbar": {
             "outlinewidth": 0,
             "ticks": ""
            },
            "colorscale": [
             [
              0,
              "#0d0887"
             ],
             [
              0.1111111111111111,
              "#46039f"
             ],
             [
              0.2222222222222222,
              "#7201a8"
             ],
             [
              0.3333333333333333,
              "#9c179e"
             ],
             [
              0.4444444444444444,
              "#bd3786"
             ],
             [
              0.5555555555555556,
              "#d8576b"
             ],
             [
              0.6666666666666666,
              "#ed7953"
             ],
             [
              0.7777777777777778,
              "#fb9f3a"
             ],
             [
              0.8888888888888888,
              "#fdca26"
             ],
             [
              1,
              "#f0f921"
             ]
            ],
            "type": "histogram2dcontour"
           }
          ],
          "mesh3d": [
           {
            "colorbar": {
             "outlinewidth": 0,
             "ticks": ""
            },
            "type": "mesh3d"
           }
          ],
          "parcoords": [
           {
            "line": {
             "colorbar": {
              "outlinewidth": 0,
              "ticks": ""
             }
            },
            "type": "parcoords"
           }
          ],
          "pie": [
           {
            "automargin": true,
            "type": "pie"
           }
          ],
          "scatter": [
           {
            "fillpattern": {
             "fillmode": "overlay",
             "size": 10,
             "solidity": 0.2
            },
            "type": "scatter"
           }
          ],
          "scatter3d": [
           {
            "line": {
             "colorbar": {
              "outlinewidth": 0,
              "ticks": ""
             }
            },
            "marker": {
             "colorbar": {
              "outlinewidth": 0,
              "ticks": ""
             }
            },
            "type": "scatter3d"
           }
          ],
          "scattercarpet": [
           {
            "marker": {
             "colorbar": {
              "outlinewidth": 0,
              "ticks": ""
             }
            },
            "type": "scattercarpet"
           }
          ],
          "scattergeo": [
           {
            "marker": {
             "colorbar": {
              "outlinewidth": 0,
              "ticks": ""
             }
            },
            "type": "scattergeo"
           }
          ],
          "scattergl": [
           {
            "marker": {
             "colorbar": {
              "outlinewidth": 0,
              "ticks": ""
             }
            },
            "type": "scattergl"
           }
          ],
          "scattermapbox": [
           {
            "marker": {
             "colorbar": {
              "outlinewidth": 0,
              "ticks": ""
             }
            },
            "type": "scattermapbox"
           }
          ],
          "scatterpolar": [
           {
            "marker": {
             "colorbar": {
              "outlinewidth": 0,
              "ticks": ""
             }
            },
            "type": "scatterpolar"
           }
          ],
          "scatterpolargl": [
           {
            "marker": {
             "colorbar": {
              "outlinewidth": 0,
              "ticks": ""
             }
            },
            "type": "scatterpolargl"
           }
          ],
          "scatterternary": [
           {
            "marker": {
             "colorbar": {
              "outlinewidth": 0,
              "ticks": ""
             }
            },
            "type": "scatterternary"
           }
          ],
          "surface": [
           {
            "colorbar": {
             "outlinewidth": 0,
             "ticks": ""
            },
            "colorscale": [
             [
              0,
              "#0d0887"
             ],
             [
              0.1111111111111111,
              "#46039f"
             ],
             [
              0.2222222222222222,
              "#7201a8"
             ],
             [
              0.3333333333333333,
              "#9c179e"
             ],
             [
              0.4444444444444444,
              "#bd3786"
             ],
             [
              0.5555555555555556,
              "#d8576b"
             ],
             [
              0.6666666666666666,
              "#ed7953"
             ],
             [
              0.7777777777777778,
              "#fb9f3a"
             ],
             [
              0.8888888888888888,
              "#fdca26"
             ],
             [
              1,
              "#f0f921"
             ]
            ],
            "type": "surface"
           }
          ],
          "table": [
           {
            "cells": {
             "fill": {
              "color": "#EBF0F8"
             },
             "line": {
              "color": "white"
             }
            },
            "header": {
             "fill": {
              "color": "#C8D4E3"
             },
             "line": {
              "color": "white"
             }
            },
            "type": "table"
           }
          ]
         },
         "layout": {
          "annotationdefaults": {
           "arrowcolor": "#2a3f5f",
           "arrowhead": 0,
           "arrowwidth": 1
          },
          "autotypenumbers": "strict",
          "coloraxis": {
           "colorbar": {
            "outlinewidth": 0,
            "ticks": ""
           }
          },
          "colorscale": {
           "diverging": [
            [
             0,
             "#8e0152"
            ],
            [
             0.1,
             "#c51b7d"
            ],
            [
             0.2,
             "#de77ae"
            ],
            [
             0.3,
             "#f1b6da"
            ],
            [
             0.4,
             "#fde0ef"
            ],
            [
             0.5,
             "#f7f7f7"
            ],
            [
             0.6,
             "#e6f5d0"
            ],
            [
             0.7,
             "#b8e186"
            ],
            [
             0.8,
             "#7fbc41"
            ],
            [
             0.9,
             "#4d9221"
            ],
            [
             1,
             "#276419"
            ]
           ],
           "sequential": [
            [
             0,
             "#0d0887"
            ],
            [
             0.1111111111111111,
             "#46039f"
            ],
            [
             0.2222222222222222,
             "#7201a8"
            ],
            [
             0.3333333333333333,
             "#9c179e"
            ],
            [
             0.4444444444444444,
             "#bd3786"
            ],
            [
             0.5555555555555556,
             "#d8576b"
            ],
            [
             0.6666666666666666,
             "#ed7953"
            ],
            [
             0.7777777777777778,
             "#fb9f3a"
            ],
            [
             0.8888888888888888,
             "#fdca26"
            ],
            [
             1,
             "#f0f921"
            ]
           ],
           "sequentialminus": [
            [
             0,
             "#0d0887"
            ],
            [
             0.1111111111111111,
             "#46039f"
            ],
            [
             0.2222222222222222,
             "#7201a8"
            ],
            [
             0.3333333333333333,
             "#9c179e"
            ],
            [
             0.4444444444444444,
             "#bd3786"
            ],
            [
             0.5555555555555556,
             "#d8576b"
            ],
            [
             0.6666666666666666,
             "#ed7953"
            ],
            [
             0.7777777777777778,
             "#fb9f3a"
            ],
            [
             0.8888888888888888,
             "#fdca26"
            ],
            [
             1,
             "#f0f921"
            ]
           ]
          },
          "colorway": [
           "#636efa",
           "#EF553B",
           "#00cc96",
           "#ab63fa",
           "#FFA15A",
           "#19d3f3",
           "#FF6692",
           "#B6E880",
           "#FF97FF",
           "#FECB52"
          ],
          "font": {
           "color": "#2a3f5f"
          },
          "geo": {
           "bgcolor": "white",
           "lakecolor": "white",
           "landcolor": "#E5ECF6",
           "showlakes": true,
           "showland": true,
           "subunitcolor": "white"
          },
          "hoverlabel": {
           "align": "left"
          },
          "hovermode": "closest",
          "mapbox": {
           "style": "light"
          },
          "paper_bgcolor": "white",
          "plot_bgcolor": "#E5ECF6",
          "polar": {
           "angularaxis": {
            "gridcolor": "white",
            "linecolor": "white",
            "ticks": ""
           },
           "bgcolor": "#E5ECF6",
           "radialaxis": {
            "gridcolor": "white",
            "linecolor": "white",
            "ticks": ""
           }
          },
          "scene": {
           "xaxis": {
            "backgroundcolor": "#E5ECF6",
            "gridcolor": "white",
            "gridwidth": 2,
            "linecolor": "white",
            "showbackground": true,
            "ticks": "",
            "zerolinecolor": "white"
           },
           "yaxis": {
            "backgroundcolor": "#E5ECF6",
            "gridcolor": "white",
            "gridwidth": 2,
            "linecolor": "white",
            "showbackground": true,
            "ticks": "",
            "zerolinecolor": "white"
           },
           "zaxis": {
            "backgroundcolor": "#E5ECF6",
            "gridcolor": "white",
            "gridwidth": 2,
            "linecolor": "white",
            "showbackground": true,
            "ticks": "",
            "zerolinecolor": "white"
           }
          },
          "shapedefaults": {
           "line": {
            "color": "#2a3f5f"
           }
          },
          "ternary": {
           "aaxis": {
            "gridcolor": "white",
            "linecolor": "white",
            "ticks": ""
           },
           "baxis": {
            "gridcolor": "white",
            "linecolor": "white",
            "ticks": ""
           },
           "bgcolor": "#E5ECF6",
           "caxis": {
            "gridcolor": "white",
            "linecolor": "white",
            "ticks": ""
           }
          },
          "title": {
           "x": 0.05
          },
          "xaxis": {
           "automargin": true,
           "gridcolor": "white",
           "linecolor": "white",
           "ticks": "",
           "title": {
            "standoff": 15
           },
           "zerolinecolor": "white",
           "zerolinewidth": 2
          },
          "yaxis": {
           "automargin": true,
           "gridcolor": "white",
           "linecolor": "white",
           "ticks": "",
           "title": {
            "standoff": 15
           },
           "zerolinecolor": "white",
           "zerolinewidth": 2
          }
         }
        },
        "title": {
         "text": "Differences in the Host Ratings"
        },
        "xaxis": {
         "title": {
          "text": "Episode Number"
         }
        },
        "yaxis": {
         "title": {
          "text": "Season Number"
         }
        }
       }
      },
      "text/html": [
       "<div>                            <div id=\"f6c0831c-d9c7-40f4-a878-116072eec324\" class=\"plotly-graph-div\" style=\"height:525px; width:100%;\"></div>            <script type=\"text/javascript\">                require([\"plotly\"], function(Plotly) {                    window.PLOTLYENV=window.PLOTLYENV || {};                                    if (document.getElementById(\"f6c0831c-d9c7-40f4-a878-116072eec324\")) {                    Plotly.newPlot(                        \"f6c0831c-d9c7-40f4-a878-116072eec324\",                        [{\"hoverinfo\":\"text\",\"hoverongaps\":false,\"text\":[[\"Season 1, Episode 1<br>Children of the Gods<br>Difference: 2.0 Chevrons\",\"Season 1, Episode 2<br>The Enemy Within<br>Difference: 3.0 Chevrons\",\"Season 1, Episode 3<br>Emancipation<br>Difference: 0.0 Chevrons\",\"Season 1, Episode 4<br>The Broca Divide<br>Difference: 1.0 Chevron\",\"Season 1, Episode 5<br>The First Commandment<br>Difference: 0.5 Chevrons\",\"Season 1, Episode 6<br>Cold Lazarus<br>Difference: 0.0 Chevrons\",\"Season 1, Episode 7<br>The Nox<br>Difference: 0.0 Chevrons\",\"Season 1, Episode 8<br>Brief Candle<br>Difference: 1.0 Chevron\",\"Season 1, Episode 9<br>Thor's Hammer<br>Difference: 0.0 Chevrons\",\"Season 1, Episode 10<br>The Torment of Tantalus<br>Difference: 2.0 Chevrons\",\"Season 1, Episode 11<br>Bloodlines<br>Difference: 0.0 Chevrons\",\"Season 1, Episode 12<br>Fire and Water<br>Difference: 1.0 Chevron\",\"Season 1, Episode 13<br>Hathor<br>Difference: 0.0 Chevrons\",\"Season 1, Episode 14<br>Singularity<br>Difference: 0.5 Chevrons\",\"Season 1, Episode 15<br>Cor-ai<br>Difference: 1.0 Chevron\",\"Season 1, Episode 16<br>Enigma<br>Difference: 0.5 Chevrons\",\"Season 1, Episode 17<br>Solitudes<br>Difference: 0.0 Chevrons\",\"Season 1, Episode 18<br>Tin Man<br>Difference: 0.0 Chevrons\",\"Season 1, Episode 19<br>There But for the Grace of God<br>Difference: 0.5 Chevrons\",\"Season 1, Episode 20<br>Politics<br>Difference: 0.5 Chevrons\",\"Season 1, Episode 21<br>Within the Serpent's Grasp<br>Difference: 0.0 Chevrons\"],[\"Season 2, Episode 1<br>The Serpent's Lair<br>Difference: 0.5 Chevrons\",\"Season 2, Episode 2<br>In the Line of Duty<br>Difference: 0.0 Chevrons\",\"Season 2, Episode 3<br>Prisoners<br>Difference: 0.0 Chevrons\",\"Season 2, Episode 4<br>The Gamekeeper<br>Difference: 0.0 Chevrons\",\"Season 2, Episode 5<br>Need<br>Difference: 1.5 Chevrons\",\"Season 2, Episode 6<br>Thor's Chariot<br>Difference: 0.0 Chevrons\",\"Season 2, Episode 7<br>Message in a Bottle<br>Difference: 0.0 Chevrons\",\"Season 2, Episode 8<br>Family<br>Difference: 0.0 Chevrons\",\"Season 2, Episode 9<br>Secrets<br>Difference: 0.0 Chevrons\",\"Season 2, Episode 10<br>Bane<br>Difference: 0.0 Chevrons\",\"Season 2, Episode 11<br>The Tok'ra: Part 1<br>Difference: 0.0 Chevrons\",\"Season 2, Episode 12<br>The Tok'ra: Part 2<br>Difference: 0.0 Chevrons\",\"Season 2, Episode 13<br>Spirits<br>Difference: 0.0 Chevrons\",\"Season 2, Episode 14<br>Touchstone<br>Difference: 0.0 Chevrons\",\"Season 2, Episode 15<br>The Fifth Race<br>Difference: 0.0 Chevrons\",\"Season 2, Episode 16<br>A Matter of Time<br>Difference: 0.5 Chevrons\",\"Season 2, Episode 17<br>Holiday<br>Difference: 1.0 Chevron\",\"Season 2, Episode 18<br>Serpent's Song<br>Difference: 0.0 Chevrons\",\"Season 2, Episode 19<br>One False Step<br>Difference: 0.0 Chevrons\",\"Season 2, Episode 20<br>Show and Tell<br>Difference: 0.0 Chevrons\",\"Season 2, Episode 21<br>1969<br>Difference: 0.0 Chevrons\",\"Season 2, Episode 22<br>Out of Mind<br>Difference: 1.5 Chevrons\"],[\"Season 3, Episode 1<br>Into the Fire<br>Difference: 0.0 Chevrons\",\"Season 3, Episode 2<br>Seth<br>Difference: 0.0 Chevrons\",\"Season 3, Episode 3<br>Fair Game<br>Difference: 0.0 Chevrons\",\"Season 3, Episode 4<br>Legacy<br>Difference: 0.5 Chevrons\",\"Season 3, Episode 5<br>Learning Curve<br>Difference: 0.0 Chevrons\",\"Season 3, Episode 6<br>Point of View<br>Difference: 0.0 Chevrons\",\"Season 3, Episode 7<br>Deadman Switch<br>Difference: 0.5 Chevrons\",\"Season 3, Episode 8<br>Demons<br>Difference: 0.5 Chevrons\",\"Season 3, Episode 9<br>Rules of Engagement<br>Difference: 0.0 Chevrons\",\"Season 3, Episode 10<br>Forever in a Day<br>Difference: 0.0 Chevrons\",\"Season 3, Episode 11<br>Past and Present<br>Difference: 1.0 Chevron\",\"Season 3, Episode 12<br>Jolinar's Memories<br>Difference: 0.0 Chevrons\",\"Season 3, Episode 13<br>The Devil You Know<br>Difference: 1.5 Chevrons\",\"Season 3, Episode 14<br>Foothold<br>Difference: 0.5 Chevrons\",\"Season 3, Episode 15<br>Pretense<br>Difference: 2.0 Chevrons\",\"Season 3, Episode 16<br>Urgo<br>Difference: 0.0 Chevrons\",\"Season 3, Episode 17<br>A Hundred Days<br>Difference: 1.0 Chevron\",\"Season 3, Episode 18<br>Shades of Grey<br>Difference: 1.0 Chevron\",\"Season 3, Episode 19<br>New Ground<br>Difference: 0.5 Chevrons\",\"Season 3, Episode 20<br>Maternal Instinct<br>Difference: 1.0 Chevron\",\"Season 3, Episode 21<br>Crystal Skull<br>Difference: 1.0 Chevron\",\"Season 3, Episode 22<br>Nemesis<br>Difference: 0.0 Chevrons\"],[\"Season 4, Episode 1<br>Small Victories<br>Difference: 3.0 Chevrons\",\"Season 4, Episode 2<br>The Other Side<br>Difference: 0.0 Chevrons\",\"Season 4, Episode 3<br>Upgrades<br>Difference: 1.0 Chevron\",\"Season 4, Episode 4<br>Crossroads<br>Difference: 1.0 Chevron\",\"Season 4, Episode 5<br>Divide and Conquer<br>Difference: 1.0 Chevron\",\"Season 4, Episode 6<br>Window of Opportunity<br>Difference: 1.0 Chevron\",\"Season 4, Episode 7<br>Watergate<br>Difference: 0.0 Chevrons\",\"Season 4, Episode 8<br>The First Ones<br>Difference: 0.0 Chevrons\",\"Season 4, Episode 9<br>Scorched Earth<br>Difference: 0.0 Chevrons\",\"Season 4, Episode 10<br>Beneath the Surface<br>Difference: 0.0 Chevrons\",\"Season 4, Episode 11<br>Point of No Return<br>Difference: 1.0 Chevron\",\"Season 4, Episode 12<br>Tangent<br>Difference: 1.5 Chevrons\",\"Season 4, Episode 13<br>The Curse<br>Difference: 2.5 Chevrons\",\"Season 4, Episode 14<br>The Serpent's Venom<br>Difference: 0.0 Chevrons\",\"Season 4, Episode 15<br>Chain Reaction<br>Difference: 4.0 Chevrons\",\"Season 4, Episode 16<br>2010<br>Difference: 1.0 Chevron\",\"Season 4, Episode 17<br>Absolute Power<br>Difference: 1.0 Chevron\",\"Season 4, Episode 18<br>The Light<br>Difference: 0.0 Chevrons\",\"Season 4, Episode 19<br>Prodigy<br>Difference: 0.0 Chevrons\",\"Season 4, Episode 20<br>Entity<br>Difference: 2.5 Chevrons\",\"Season 4, Episode 21<br>Double Jeopardy<br>Difference: 0.5 Chevrons\",\"Season 4, Episode 22<br>Exodus<br>Difference: 0.0 Chevrons\"],[\"Season 5, Episode 1<br>Enemies<br>Difference: 0.0 Chevrons\",\"Season 5, Episode 2<br>Threshold<br>Difference: 1.0 Chevron\",\"Season 5, Episode 3<br>Ascension<br>Difference: 1.0 Chevron\",\"Season 5, Episode 4<br>The Fifth Man<br>Difference: 0.0 Chevrons\",\"Season 5, Episode 5<br>Red Sky<br>Difference: 2.5 Chevrons\",\"Season 5, Episode 6<br>Rite of Passage<br>Difference: 0.5 Chevrons\",\"Season 5, Episode 7<br>Beast of Burden<br>Difference: 2.0 Chevrons\",\"Season 5, Episode 8<br>The Tomb<br>Difference: 0.5 Chevrons\",\"Season 5, Episode 9<br>Between Two Fires<br>Difference: 1.0 Chevron\",\"Season 5, Episode 10<br>2001<br>Difference: 0.0 Chevrons\",\"Season 5, Episode 11<br>Desperate Measures<br>Difference: 0.0 Chevrons\",\"Season 5, Episode 12<br>Wormhole X-Treme!<br>Difference: 1.0 Chevron\",\"Season 5, Episode 13<br>Proving Ground<br>Difference: 3.0 Chevrons\",\"Season 5, Episode 14<br>48 Hours<br>Difference: 1.0 Chevron\",\"Season 5, Episode 15<br>Summit<br>Difference: 0.5 Chevrons\",\"Season 5, Episode 16<br>Last Stand<br>Difference: 0.5 Chevrons\",\"Season 5, Episode 17<br>Fail Safe<br>Difference: 0.5 Chevrons\",\"Season 5, Episode 18<br>The Warrior<br>Difference: 1.0 Chevron\",\"Season 5, Episode 19<br>Menace<br>Difference: 2.0 Chevrons\",\"Season 5, Episode 20<br>The Sentinel<br>Difference: 1.0 Chevron\",\"Season 5, Episode 21<br>Meridian<br>Difference: 0.0 Chevrons\",\"Season 5, Episode 22<br>Revelations<br>Difference: 1.0 Chevron\"],[\"Season 6, Episode 1<br>Redemption: Part 1<br>Difference: 0.0 Chevrons\",\"Season 6, Episode 2<br>Redemption: Part 2<br>Difference: 0.0 Chevrons\",\"Season 6, Episode 3<br>Descent<br>Difference: 1.0 Chevron\",\"Season 6, Episode 4<br>Frozen<br>Difference: 1.0 Chevron\",\"Season 6, Episode 5<br>Nightwalkers<br>Difference: 0.5 Chevrons\",\"Season 6, Episode 6<br>Abyss<br>Difference: 0.0 Chevrons\",\"Season 6, Episode 7<br>Shadow Play<br>Difference: 0.5 Chevrons\",\"Season 6, Episode 8<br>The Other Guys<br>Difference: 0.0 Chevrons\",\"Season 6, Episode 9<br>Allegiance<br>Difference: 0.0 Chevrons\",\"Season 6, Episode 10<br>Cure<br>Difference: 2.0 Chevrons\",\"Season 6, Episode 11<br>Prometheus<br>Difference: 0.0 Chevrons\",\"Season 6, Episode 12<br>Unnatural Selection<br>Difference: 1.0 Chevron\",\"Season 6, Episode 13<br>Sight Unseen<br>Difference: 2.0 Chevrons\",\"Season 6, Episode 14<br>Smoke & Mirrors<br>Difference: 2.0 Chevrons\",\"Season 6, Episode 15<br>Paradise Lost<br>Difference: 0.5 Chevrons\",\"Season 6, Episode 16<br>Metamorphosis<br>Difference: 2.5 Chevrons\",\"Season 6, Episode 17<br>Disclosure<br>Difference: 1.5 Chevrons\",\"Season 6, Episode 18<br>Forsaken<br>Difference: 0.5 Chevrons\",\"Season 6, Episode 19<br>The Changeling<br>Difference: 1.0 Chevron\",\"Season 6, Episode 20<br>Memento<br>Difference: 0.0 Chevrons\",\"Season 6, Episode 21<br>Prophecy<br>Difference: 1.0 Chevron\",\"Season 6, Episode 22<br>Full Circle<br>Difference: 0.0 Chevrons\"],[\"Season 7, Episode 1<br>Fallen<br>Difference: 1.0 Chevron\",\"Season 7, Episode 2<br>Homecoming<br>Difference: 0.5 Chevrons\",\"Season 7, Episode 3<br>Fragile Balance<br>Difference: 0.0 Chevrons\",\"Season 7, Episode 4<br>Orpheus<br>Difference: 1.0 Chevron\",\"Season 7, Episode 5<br>Revisions<br>Difference: 1.5 Chevrons\",\"Season 7, Episode 6<br>Lifeboat<br>Difference: 4.0 Chevrons\",\"Season 7, Episode 7<br>Enemy Mine<br>Difference: 0.0 Chevrons\",\"Season 7, Episode 8<br>Space Race<br>Difference: 1.0 Chevron\",\"Season 7, Episode 9<br>Avenger 2.0<br>Difference: 1.5 Chevrons\",\"Season 7, Episode 10<br>Birthright<br>Difference: 0.5 Chevrons\",\"Season 7, Episode 11<br>Evolution: Part 1<br>Difference: 0.5 Chevrons\",\"Season 7, Episode 12<br>Evolution: Part 2<br>Difference: 0.0 Chevrons\",\"Season 7, Episode 13<br>Grace<br>Difference: 3.0 Chevrons\",\"Season 7, Episode 14<br>Fallout<br>Difference: 0.0 Chevrons\",\"Season 7, Episode 15<br>Chimera<br>Difference: 3.0 Chevrons\",\"Season 7, Episode 16<br>Death Knell<br>Difference: 2.0 Chevrons\",\"Season 7, Episode 17<br>Heroes: Part 1<br>Difference: 1.0 Chevron\",\"Season 7, Episode 18<br>Heroes: Part 2<br>Difference: 1.0 Chevron\",\"Season 7, Episode 19<br>Resurrection<br>Difference: 1.0 Chevron\",\"Season 7, Episode 20<br>Inauguration<br>Difference: 1.0 Chevron\",\"Season 7, Episode 21<br>Lost City: Part 1<br>Difference: 1.0 Chevron\",\"Season 7, Episode 22<br>Lost City: Part 2<br>Difference: 1.0 Chevron\"],[\"Season 8, Episode 1<br>New Order: Part 1<br>Difference: 0.0 Chevrons\",\"Season 8, Episode 2<br>New Order: Part 2<br>Difference: 0.0 Chevrons\",\"Season 8, Episode 3<br>Lockdown<br>Difference: 0.5 Chevrons\",\"Season 8, Episode 4<br>Zero Hour<br>Difference: 1.0 Chevron\",\"Season 8, Episode 5<br>Icon<br>Difference: 0.0 Chevrons\",\"Season 8, Episode 6<br>Avatar<br>Difference: 0.0 Chevrons\",\"Season 8, Episode 7<br>Affinity<br>Difference: 1.5 Chevrons\",\"Season 8, Episode 8<br>Covenant<br>Difference: 0.5 Chevrons\",\"Season 8, Episode 9<br>Sacrifices<br>Difference: 0.0 Chevrons\",\"Season 8, Episode 10<br>Endgame<br>Difference: 1.0 Chevron\",\"Season 8, Episode 11<br>Gemini<br>Difference: 1.0 Chevron\",\"Season 8, Episode 12<br>Prometheus Unbound<br>Difference: 1.0 Chevron\",\"Season 8, Episode 13<br>It's Good to Be King<br>Difference: 0.0 Chevrons\",\"Season 8, Episode 14<br>Full Alert<br>Difference: 0.0 Chevrons\",\"Season 8, Episode 15<br>Citizen Joe<br>Difference: 0.0 Chevrons\",\"Season 8, Episode 16<br>Reckoning: Part 1<br>Difference: 0.5 Chevrons\",\"Season 8, Episode 17<br>Reckoning: Part 2<br>Difference: 0.5 Chevrons\",\"Season 8, Episode 18<br>Threads<br>Difference: 2.0 Chevrons\",\"Season 8, Episode 19<br>Moebius: Part 1<br>Difference: 0.0 Chevrons\",\"Season 8, Episode 20<br>Moebius: Part 2<br>Difference: 0.0 Chevrons\"],[\"Season 9, Episode 1<br>Avalon: Part 1<br>Difference: 0.5 Chevrons\",\"Season 9, Episode 2<br>Avalon: Part 2<br>Difference: 0.0 Chevrons\",\"Season 9, Episode 3<br>Origin<br>Difference: 0.5 Chevrons\",\"Season 9, Episode 4<br>The Ties That Bind<br>Difference: 0.0 Chevrons\",\"Season 9, Episode 5<br>The Powers That Be<br>Difference: 1.0 Chevron\",\"Season 9, Episode 6<br>Beachhead<br>Difference: 0.0 Chevrons\",\"Season 9, Episode 7<br>Ex Deus Machina<br>Difference: 0.5 Chevrons\",\"Season 9, Episode 8<br>Babylon<br>Difference: 1.5 Chevrons\",\"Season 9, Episode 9<br>Prototype<br>Difference: 0.0 Chevrons\",\"Season 9, Episode 10<br>The Fourth Horseman: Part 1<br>Difference: 0.0 Chevrons\",\"Season 9, Episode 11<br>The Fourth Horseman: Part 2<br>Difference: 1.0 Chevron\",\"Season 9, Episode 12<br>Collateral Damage<br>Difference: 0.5 Chevrons\",\"Season 9, Episode 13<br>Ripple Effect<br>Difference: 1.5 Chevrons\",\"Season 9, Episode 14<br>Stronghold<br>Difference: 0.0 Chevrons\",\"Season 9, Episode 15<br>Ethon<br>Difference: 0.5 Chevrons\",\"Season 9, Episode 16<br>Off the Grid<br>Difference: 0.0 Chevrons\",\"Season 9, Episode 17<br>The Scourge<br>Difference: 0.5 Chevrons\",\"Season 9, Episode 18<br>Arthur's Mantle<br>Difference: 0.0 Chevrons\",\"Season 9, Episode 19<br>Crusade<br>Difference: 0.5 Chevrons\",\"Season 9, Episode 20<br>Camelot<br>Difference: 0.0 Chevrons\"]],\"x\":[1,2,3,4,5,6,7,8,9,10,11,12,13,14,15,16,17,18,19,20,21,22],\"y\":[1,2,3,4,5,6,7,8,9],\"z\":[[2.0,3.0,0.0,1.0,0.5,0.0,0.0,1.0,0.0,2.0,0.0,1.0,0.0,0.5,1.0,0.5,0.0,0.0,0.5,0.5,0.0],[0.5,0.0,0.0,0.0,1.5,0.0,0.0,0.0,0.0,0.0,0.0,0.0,0.0,0.0,0.0,0.5,1.0,0.0,0.0,0.0,0.0,1.5],[0.0,0.0,0.0,0.5,0.0,0.0,0.5,0.5,0.0,0.0,1.0,0.0,1.5,0.5,2.0,0.0,1.0,1.0,0.5,1.0,1.0,0.0],[3.0,0.0,1.0,1.0,1.0,1.0,0.0,0.0,0.0,0.0,1.0,1.5,2.5,0.0,4.0,1.0,1.0,0.0,0.0,2.5,0.5,0.0],[0.0,1.0,1.0,0.0,2.5,0.5,2.0,0.5,1.0,0.0,0.0,1.0,3.0,1.0,0.5,0.5,0.5,1.0,2.0,1.0,0.0,1.0],[0.0,0.0,1.0,1.0,0.5,0.0,0.5,0.0,0.0,2.0,0.0,1.0,2.0,2.0,0.5,2.5,1.5,0.5,1.0,0.0,1.0,0.0],[1.0,0.5,0.0,1.0,1.5,4.0,0.0,1.0,1.5,0.5,0.5,0.0,3.0,0.0,3.0,2.0,1.0,1.0,1.0,1.0,1.0,1.0],[0.0,0.0,0.5,1.0,0.0,0.0,1.5,0.5,0.0,1.0,1.0,1.0,0.0,0.0,0.0,0.5,0.5,2.0,0.0,0.0],[0.5,0.0,0.5,0.0,1.0,0.0,0.5,1.5,0.0,0.0,1.0,0.5,1.5,0.0,0.5,0.0,0.5,0.0,0.5,0.0]],\"type\":\"heatmap\"}],                        {\"template\":{\"data\":{\"histogram2dcontour\":[{\"type\":\"histogram2dcontour\",\"colorbar\":{\"outlinewidth\":0,\"ticks\":\"\"},\"colorscale\":[[0.0,\"#0d0887\"],[0.1111111111111111,\"#46039f\"],[0.2222222222222222,\"#7201a8\"],[0.3333333333333333,\"#9c179e\"],[0.4444444444444444,\"#bd3786\"],[0.5555555555555556,\"#d8576b\"],[0.6666666666666666,\"#ed7953\"],[0.7777777777777778,\"#fb9f3a\"],[0.8888888888888888,\"#fdca26\"],[1.0,\"#f0f921\"]]}],\"choropleth\":[{\"type\":\"choropleth\",\"colorbar\":{\"outlinewidth\":0,\"ticks\":\"\"}}],\"histogram2d\":[{\"type\":\"histogram2d\",\"colorbar\":{\"outlinewidth\":0,\"ticks\":\"\"},\"colorscale\":[[0.0,\"#0d0887\"],[0.1111111111111111,\"#46039f\"],[0.2222222222222222,\"#7201a8\"],[0.3333333333333333,\"#9c179e\"],[0.4444444444444444,\"#bd3786\"],[0.5555555555555556,\"#d8576b\"],[0.6666666666666666,\"#ed7953\"],[0.7777777777777778,\"#fb9f3a\"],[0.8888888888888888,\"#fdca26\"],[1.0,\"#f0f921\"]]}],\"heatmap\":[{\"type\":\"heatmap\",\"colorbar\":{\"outlinewidth\":0,\"ticks\":\"\"},\"colorscale\":[[0.0,\"#0d0887\"],[0.1111111111111111,\"#46039f\"],[0.2222222222222222,\"#7201a8\"],[0.3333333333333333,\"#9c179e\"],[0.4444444444444444,\"#bd3786\"],[0.5555555555555556,\"#d8576b\"],[0.6666666666666666,\"#ed7953\"],[0.7777777777777778,\"#fb9f3a\"],[0.8888888888888888,\"#fdca26\"],[1.0,\"#f0f921\"]]}],\"heatmapgl\":[{\"type\":\"heatmapgl\",\"colorbar\":{\"outlinewidth\":0,\"ticks\":\"\"},\"colorscale\":[[0.0,\"#0d0887\"],[0.1111111111111111,\"#46039f\"],[0.2222222222222222,\"#7201a8\"],[0.3333333333333333,\"#9c179e\"],[0.4444444444444444,\"#bd3786\"],[0.5555555555555556,\"#d8576b\"],[0.6666666666666666,\"#ed7953\"],[0.7777777777777778,\"#fb9f3a\"],[0.8888888888888888,\"#fdca26\"],[1.0,\"#f0f921\"]]}],\"contourcarpet\":[{\"type\":\"contourcarpet\",\"colorbar\":{\"outlinewidth\":0,\"ticks\":\"\"}}],\"contour\":[{\"type\":\"contour\",\"colorbar\":{\"outlinewidth\":0,\"ticks\":\"\"},\"colorscale\":[[0.0,\"#0d0887\"],[0.1111111111111111,\"#46039f\"],[0.2222222222222222,\"#7201a8\"],[0.3333333333333333,\"#9c179e\"],[0.4444444444444444,\"#bd3786\"],[0.5555555555555556,\"#d8576b\"],[0.6666666666666666,\"#ed7953\"],[0.7777777777777778,\"#fb9f3a\"],[0.8888888888888888,\"#fdca26\"],[1.0,\"#f0f921\"]]}],\"surface\":[{\"type\":\"surface\",\"colorbar\":{\"outlinewidth\":0,\"ticks\":\"\"},\"colorscale\":[[0.0,\"#0d0887\"],[0.1111111111111111,\"#46039f\"],[0.2222222222222222,\"#7201a8\"],[0.3333333333333333,\"#9c179e\"],[0.4444444444444444,\"#bd3786\"],[0.5555555555555556,\"#d8576b\"],[0.6666666666666666,\"#ed7953\"],[0.7777777777777778,\"#fb9f3a\"],[0.8888888888888888,\"#fdca26\"],[1.0,\"#f0f921\"]]}],\"mesh3d\":[{\"type\":\"mesh3d\",\"colorbar\":{\"outlinewidth\":0,\"ticks\":\"\"}}],\"scatter\":[{\"fillpattern\":{\"fillmode\":\"overlay\",\"size\":10,\"solidity\":0.2},\"type\":\"scatter\"}],\"parcoords\":[{\"type\":\"parcoords\",\"line\":{\"colorbar\":{\"outlinewidth\":0,\"ticks\":\"\"}}}],\"scatterpolargl\":[{\"type\":\"scatterpolargl\",\"marker\":{\"colorbar\":{\"outlinewidth\":0,\"ticks\":\"\"}}}],\"bar\":[{\"error_x\":{\"color\":\"#2a3f5f\"},\"error_y\":{\"color\":\"#2a3f5f\"},\"marker\":{\"line\":{\"color\":\"#E5ECF6\",\"width\":0.5},\"pattern\":{\"fillmode\":\"overlay\",\"size\":10,\"solidity\":0.2}},\"type\":\"bar\"}],\"scattergeo\":[{\"type\":\"scattergeo\",\"marker\":{\"colorbar\":{\"outlinewidth\":0,\"ticks\":\"\"}}}],\"scatterpolar\":[{\"type\":\"scatterpolar\",\"marker\":{\"colorbar\":{\"outlinewidth\":0,\"ticks\":\"\"}}}],\"histogram\":[{\"marker\":{\"pattern\":{\"fillmode\":\"overlay\",\"size\":10,\"solidity\":0.2}},\"type\":\"histogram\"}],\"scattergl\":[{\"type\":\"scattergl\",\"marker\":{\"colorbar\":{\"outlinewidth\":0,\"ticks\":\"\"}}}],\"scatter3d\":[{\"type\":\"scatter3d\",\"line\":{\"colorbar\":{\"outlinewidth\":0,\"ticks\":\"\"}},\"marker\":{\"colorbar\":{\"outlinewidth\":0,\"ticks\":\"\"}}}],\"scattermapbox\":[{\"type\":\"scattermapbox\",\"marker\":{\"colorbar\":{\"outlinewidth\":0,\"ticks\":\"\"}}}],\"scatterternary\":[{\"type\":\"scatterternary\",\"marker\":{\"colorbar\":{\"outlinewidth\":0,\"ticks\":\"\"}}}],\"scattercarpet\":[{\"type\":\"scattercarpet\",\"marker\":{\"colorbar\":{\"outlinewidth\":0,\"ticks\":\"\"}}}],\"carpet\":[{\"aaxis\":{\"endlinecolor\":\"#2a3f5f\",\"gridcolor\":\"white\",\"linecolor\":\"white\",\"minorgridcolor\":\"white\",\"startlinecolor\":\"#2a3f5f\"},\"baxis\":{\"endlinecolor\":\"#2a3f5f\",\"gridcolor\":\"white\",\"linecolor\":\"white\",\"minorgridcolor\":\"white\",\"startlinecolor\":\"#2a3f5f\"},\"type\":\"carpet\"}],\"table\":[{\"cells\":{\"fill\":{\"color\":\"#EBF0F8\"},\"line\":{\"color\":\"white\"}},\"header\":{\"fill\":{\"color\":\"#C8D4E3\"},\"line\":{\"color\":\"white\"}},\"type\":\"table\"}],\"barpolar\":[{\"marker\":{\"line\":{\"color\":\"#E5ECF6\",\"width\":0.5},\"pattern\":{\"fillmode\":\"overlay\",\"size\":10,\"solidity\":0.2}},\"type\":\"barpolar\"}],\"pie\":[{\"automargin\":true,\"type\":\"pie\"}]},\"layout\":{\"autotypenumbers\":\"strict\",\"colorway\":[\"#636efa\",\"#EF553B\",\"#00cc96\",\"#ab63fa\",\"#FFA15A\",\"#19d3f3\",\"#FF6692\",\"#B6E880\",\"#FF97FF\",\"#FECB52\"],\"font\":{\"color\":\"#2a3f5f\"},\"hovermode\":\"closest\",\"hoverlabel\":{\"align\":\"left\"},\"paper_bgcolor\":\"white\",\"plot_bgcolor\":\"#E5ECF6\",\"polar\":{\"bgcolor\":\"#E5ECF6\",\"angularaxis\":{\"gridcolor\":\"white\",\"linecolor\":\"white\",\"ticks\":\"\"},\"radialaxis\":{\"gridcolor\":\"white\",\"linecolor\":\"white\",\"ticks\":\"\"}},\"ternary\":{\"bgcolor\":\"#E5ECF6\",\"aaxis\":{\"gridcolor\":\"white\",\"linecolor\":\"white\",\"ticks\":\"\"},\"baxis\":{\"gridcolor\":\"white\",\"linecolor\":\"white\",\"ticks\":\"\"},\"caxis\":{\"gridcolor\":\"white\",\"linecolor\":\"white\",\"ticks\":\"\"}},\"coloraxis\":{\"colorbar\":{\"outlinewidth\":0,\"ticks\":\"\"}},\"colorscale\":{\"sequential\":[[0.0,\"#0d0887\"],[0.1111111111111111,\"#46039f\"],[0.2222222222222222,\"#7201a8\"],[0.3333333333333333,\"#9c179e\"],[0.4444444444444444,\"#bd3786\"],[0.5555555555555556,\"#d8576b\"],[0.6666666666666666,\"#ed7953\"],[0.7777777777777778,\"#fb9f3a\"],[0.8888888888888888,\"#fdca26\"],[1.0,\"#f0f921\"]],\"sequentialminus\":[[0.0,\"#0d0887\"],[0.1111111111111111,\"#46039f\"],[0.2222222222222222,\"#7201a8\"],[0.3333333333333333,\"#9c179e\"],[0.4444444444444444,\"#bd3786\"],[0.5555555555555556,\"#d8576b\"],[0.6666666666666666,\"#ed7953\"],[0.7777777777777778,\"#fb9f3a\"],[0.8888888888888888,\"#fdca26\"],[1.0,\"#f0f921\"]],\"diverging\":[[0,\"#8e0152\"],[0.1,\"#c51b7d\"],[0.2,\"#de77ae\"],[0.3,\"#f1b6da\"],[0.4,\"#fde0ef\"],[0.5,\"#f7f7f7\"],[0.6,\"#e6f5d0\"],[0.7,\"#b8e186\"],[0.8,\"#7fbc41\"],[0.9,\"#4d9221\"],[1,\"#276419\"]]},\"xaxis\":{\"gridcolor\":\"white\",\"linecolor\":\"white\",\"ticks\":\"\",\"title\":{\"standoff\":15},\"zerolinecolor\":\"white\",\"automargin\":true,\"zerolinewidth\":2},\"yaxis\":{\"gridcolor\":\"white\",\"linecolor\":\"white\",\"ticks\":\"\",\"title\":{\"standoff\":15},\"zerolinecolor\":\"white\",\"automargin\":true,\"zerolinewidth\":2},\"scene\":{\"xaxis\":{\"backgroundcolor\":\"#E5ECF6\",\"gridcolor\":\"white\",\"linecolor\":\"white\",\"showbackground\":true,\"ticks\":\"\",\"zerolinecolor\":\"white\",\"gridwidth\":2},\"yaxis\":{\"backgroundcolor\":\"#E5ECF6\",\"gridcolor\":\"white\",\"linecolor\":\"white\",\"showbackground\":true,\"ticks\":\"\",\"zerolinecolor\":\"white\",\"gridwidth\":2},\"zaxis\":{\"backgroundcolor\":\"#E5ECF6\",\"gridcolor\":\"white\",\"linecolor\":\"white\",\"showbackground\":true,\"ticks\":\"\",\"zerolinecolor\":\"white\",\"gridwidth\":2}},\"shapedefaults\":{\"line\":{\"color\":\"#2a3f5f\"}},\"annotationdefaults\":{\"arrowcolor\":\"#2a3f5f\",\"arrowhead\":0,\"arrowwidth\":1},\"geo\":{\"bgcolor\":\"white\",\"landcolor\":\"#E5ECF6\",\"subunitcolor\":\"white\",\"showland\":true,\"showlakes\":true,\"lakecolor\":\"white\"},\"title\":{\"x\":0.05},\"mapbox\":{\"style\":\"light\"}}},\"font\":{\"color\":\"#ffffff\"},\"title\":{\"text\":\"Differences in the Host Ratings\"},\"xaxis\":{\"title\":{\"text\":\"Episode Number\"}},\"yaxis\":{\"title\":{\"text\":\"Season Number\"}},\"paper_bgcolor\":\"#011222\"},                        {\"responsive\": true}                    ).then(function(){\n",
       "                            \n",
       "var gd = document.getElementById('f6c0831c-d9c7-40f4-a878-116072eec324');\n",
       "var x = new MutationObserver(function (mutations, observer) {{\n",
       "        var display = window.getComputedStyle(gd).display;\n",
       "        if (!display || display === 'none') {{\n",
       "            console.log([gd, 'removed!']);\n",
       "            Plotly.purge(gd);\n",
       "            observer.disconnect();\n",
       "        }}\n",
       "}});\n",
       "\n",
       "// Listen for the removal of the full notebook cells\n",
       "var notebookContainer = gd.closest('#notebook-container');\n",
       "if (notebookContainer) {{\n",
       "    x.observe(notebookContainer, {childList: true});\n",
       "}}\n",
       "\n",
       "// Listen for the clearing of the current output cell\n",
       "var outputEl = gd.closest('.output');\n",
       "if (outputEl) {{\n",
       "    x.observe(outputEl, {childList: true});\n",
       "}}\n",
       "\n",
       "                        })                };                });            </script>        </div>"
      ]
     },
     "metadata": {},
     "output_type": "display_data"
    },
    {
     "data": {
      "text/plain": [
       "'https://plotly.com/~Cbsiros/13/'"
      ]
     },
     "execution_count": 18,
     "metadata": {},
     "output_type": "execute_result"
    }
   ],
   "source": [
    "# Create heatmap figure\n",
    "fig = go.Figure(data = go.Heatmap(z = rating_differentials,                                          # z-axis data (Difference in episode ratings)\n",
    "                                  x = list(range(1, len(ratings_df['Episode_Num'].unique()) + 1)),   # x-axis data (Episode numbers)\n",
    "                                  y = list(range(1, ratings_df['Season_Num'].max() + 1)),            # y-axis data (Corresponding season numbers)\n",
    "                                  hoverongaps = False,                                              # Do not show info for missing values\n",
    "                                  text = hover_texts,                                                # Custom hover text\n",
    "                                  hoverinfo = 'text'))                                               # Only display custom text\n",
    "\n",
    "#Further style the figure\n",
    "fig.update_layout(\n",
    "    title = 'Differences in the Host Ratings',   # Set plot title\n",
    "    xaxis_title = 'Episode Number',              # Set x-axis title\n",
    "    yaxis_title = 'Season Number',               # Set y-axis title\n",
    "    paper_bgcolor = '#011222',                   # Set background color\n",
    "    font_color = '#ffffff')                      # Set font color\n",
    "\n",
    "# Display figure\n",
    "fig.show()\n",
    "\n",
    "# Create plot in Chart Studio for later embedding\n",
    "py.plot(fig, filename = 'Differences in the Host Ratings', auto_open = False)"
   ]
  },
  {
   "cell_type": "code",
   "execution_count": 19,
   "id": "042ad50f",
   "metadata": {},
   "outputs": [
    {
     "data": {
      "application/vnd.plotly.v1+json": {
       "config": {
        "plotlyServerURL": "https://plotly.com"
       },
       "data": [
        {
         "line": {
          "color": "#DA9100",
          "width": 2
         },
         "mode": "lines",
         "type": "scatter",
         "x": [
          0,
          1,
          2,
          3,
          4,
          5,
          6,
          7,
          8,
          9,
          10,
          11,
          12,
          13,
          14,
          15,
          16,
          17,
          18,
          19,
          20,
          21,
          22,
          23,
          24,
          25,
          26,
          27,
          28,
          29,
          30,
          31,
          32,
          33,
          34,
          35,
          36,
          37,
          38,
          39,
          40,
          41,
          42,
          43,
          44,
          45,
          46,
          47,
          48,
          49,
          50,
          51,
          52,
          53,
          54,
          55,
          56,
          57,
          58,
          59,
          60,
          61,
          62,
          63,
          64,
          65,
          66,
          67,
          68,
          69,
          70,
          71,
          72,
          73,
          74,
          75,
          76,
          77,
          78,
          79,
          80,
          81,
          82,
          83,
          84,
          85,
          86,
          87,
          88,
          89,
          90,
          91,
          92,
          93,
          94,
          95,
          96,
          97,
          98,
          99,
          100,
          101,
          102,
          103,
          104,
          105,
          106,
          107,
          108,
          109,
          110,
          111,
          112,
          113,
          114,
          115,
          116,
          117,
          118,
          119,
          120,
          121,
          122,
          123,
          124,
          125,
          126,
          127,
          128,
          129,
          130,
          131,
          132,
          133,
          134,
          135,
          136,
          137,
          138,
          139,
          140,
          141,
          142,
          143,
          144,
          145,
          146,
          147,
          148,
          149,
          150,
          151,
          152,
          153,
          154,
          155,
          156,
          157,
          158,
          159,
          160,
          161,
          162,
          163,
          164,
          165,
          166,
          167,
          168,
          169,
          170,
          171,
          172,
          173,
          174,
          175,
          176,
          177,
          178,
          179,
          180,
          181,
          182,
          183,
          184,
          185,
          186,
          187,
          188,
          189,
          190,
          191,
          192
         ],
         "y": [
          2,
          2.5,
          1.667,
          1.5,
          1.3,
          1.083,
          0.929,
          0.938,
          0.833,
          0.95,
          0.864,
          0.875,
          0.808,
          0.786,
          0.8,
          0.781,
          0.735,
          0.694,
          0.684,
          0.675,
          0.643,
          0.636,
          0.609,
          0.583,
          0.56,
          0.596,
          0.574,
          0.554,
          0.534,
          0.517,
          0.5,
          0.484,
          0.47,
          0.456,
          0.443,
          0.431,
          0.432,
          0.447,
          0.436,
          0.425,
          0.415,
          0.405,
          0.43,
          0.42,
          0.411,
          0.402,
          0.404,
          0.396,
          0.388,
          0.39,
          0.392,
          0.385,
          0.377,
          0.389,
          0.382,
          0.402,
          0.404,
          0.431,
          0.424,
          0.433,
          0.443,
          0.444,
          0.452,
          0.461,
          0.454,
          0.492,
          0.485,
          0.493,
          0.5,
          0.507,
          0.514,
          0.507,
          0.5,
          0.493,
          0.487,
          0.493,
          0.506,
          0.532,
          0.525,
          0.569,
          0.574,
          0.579,
          0.572,
          0.565,
          0.588,
          0.587,
          0.58,
          0.574,
          0.579,
          0.583,
          0.577,
          0.598,
          0.597,
          0.612,
          0.611,
          0.615,
          0.608,
          0.602,
          0.606,
          0.63,
          0.634,
          0.632,
          0.631,
          0.63,
          0.633,
          0.646,
          0.65,
          0.644,
          0.647,
          0.641,
          0.635,
          0.638,
          0.642,
          0.64,
          0.635,
          0.634,
          0.628,
          0.623,
          0.634,
          0.629,
          0.632,
          0.643,
          0.654,
          0.653,
          0.668,
          0.675,
          0.673,
          0.676,
          0.671,
          0.673,
          0.668,
          0.67,
          0.669,
          0.664,
          0.667,
          0.673,
          0.697,
          0.692,
          0.694,
          0.7,
          0.699,
          0.697,
          0.692,
          0.708,
          0.703,
          0.719,
          0.728,
          0.73,
          0.732,
          0.733,
          0.735,
          0.737,
          0.739,
          0.734,
          0.729,
          0.728,
          0.729,
          0.725,
          0.72,
          0.725,
          0.724,
          0.719,
          0.721,
          0.723,
          0.724,
          0.72,
          0.716,
          0.711,
          0.71,
          0.709,
          0.716,
          0.712,
          0.708,
          0.707,
          0.703,
          0.702,
          0.698,
          0.699,
          0.696,
          0.694,
          0.699,
          0.695,
          0.691,
          0.693,
          0.692,
          0.696,
          0.693,
          0.691,
          0.688,
          0.687,
          0.683,
          0.682,
          0.679
         ]
        }
       ],
       "layout": {
        "font": {
         "color": "#ffffff"
        },
        "paper_bgcolor": "#011222",
        "showlegend": false,
        "template": {
         "data": {
          "bar": [
           {
            "error_x": {
             "color": "#2a3f5f"
            },
            "error_y": {
             "color": "#2a3f5f"
            },
            "marker": {
             "line": {
              "color": "#E5ECF6",
              "width": 0.5
             },
             "pattern": {
              "fillmode": "overlay",
              "size": 10,
              "solidity": 0.2
             }
            },
            "type": "bar"
           }
          ],
          "barpolar": [
           {
            "marker": {
             "line": {
              "color": "#E5ECF6",
              "width": 0.5
             },
             "pattern": {
              "fillmode": "overlay",
              "size": 10,
              "solidity": 0.2
             }
            },
            "type": "barpolar"
           }
          ],
          "carpet": [
           {
            "aaxis": {
             "endlinecolor": "#2a3f5f",
             "gridcolor": "white",
             "linecolor": "white",
             "minorgridcolor": "white",
             "startlinecolor": "#2a3f5f"
            },
            "baxis": {
             "endlinecolor": "#2a3f5f",
             "gridcolor": "white",
             "linecolor": "white",
             "minorgridcolor": "white",
             "startlinecolor": "#2a3f5f"
            },
            "type": "carpet"
           }
          ],
          "choropleth": [
           {
            "colorbar": {
             "outlinewidth": 0,
             "ticks": ""
            },
            "type": "choropleth"
           }
          ],
          "contour": [
           {
            "colorbar": {
             "outlinewidth": 0,
             "ticks": ""
            },
            "colorscale": [
             [
              0,
              "#0d0887"
             ],
             [
              0.1111111111111111,
              "#46039f"
             ],
             [
              0.2222222222222222,
              "#7201a8"
             ],
             [
              0.3333333333333333,
              "#9c179e"
             ],
             [
              0.4444444444444444,
              "#bd3786"
             ],
             [
              0.5555555555555556,
              "#d8576b"
             ],
             [
              0.6666666666666666,
              "#ed7953"
             ],
             [
              0.7777777777777778,
              "#fb9f3a"
             ],
             [
              0.8888888888888888,
              "#fdca26"
             ],
             [
              1,
              "#f0f921"
             ]
            ],
            "type": "contour"
           }
          ],
          "contourcarpet": [
           {
            "colorbar": {
             "outlinewidth": 0,
             "ticks": ""
            },
            "type": "contourcarpet"
           }
          ],
          "heatmap": [
           {
            "colorbar": {
             "outlinewidth": 0,
             "ticks": ""
            },
            "colorscale": [
             [
              0,
              "#0d0887"
             ],
             [
              0.1111111111111111,
              "#46039f"
             ],
             [
              0.2222222222222222,
              "#7201a8"
             ],
             [
              0.3333333333333333,
              "#9c179e"
             ],
             [
              0.4444444444444444,
              "#bd3786"
             ],
             [
              0.5555555555555556,
              "#d8576b"
             ],
             [
              0.6666666666666666,
              "#ed7953"
             ],
             [
              0.7777777777777778,
              "#fb9f3a"
             ],
             [
              0.8888888888888888,
              "#fdca26"
             ],
             [
              1,
              "#f0f921"
             ]
            ],
            "type": "heatmap"
           }
          ],
          "heatmapgl": [
           {
            "colorbar": {
             "outlinewidth": 0,
             "ticks": ""
            },
            "colorscale": [
             [
              0,
              "#0d0887"
             ],
             [
              0.1111111111111111,
              "#46039f"
             ],
             [
              0.2222222222222222,
              "#7201a8"
             ],
             [
              0.3333333333333333,
              "#9c179e"
             ],
             [
              0.4444444444444444,
              "#bd3786"
             ],
             [
              0.5555555555555556,
              "#d8576b"
             ],
             [
              0.6666666666666666,
              "#ed7953"
             ],
             [
              0.7777777777777778,
              "#fb9f3a"
             ],
             [
              0.8888888888888888,
              "#fdca26"
             ],
             [
              1,
              "#f0f921"
             ]
            ],
            "type": "heatmapgl"
           }
          ],
          "histogram": [
           {
            "marker": {
             "pattern": {
              "fillmode": "overlay",
              "size": 10,
              "solidity": 0.2
             }
            },
            "type": "histogram"
           }
          ],
          "histogram2d": [
           {
            "colorbar": {
             "outlinewidth": 0,
             "ticks": ""
            },
            "colorscale": [
             [
              0,
              "#0d0887"
             ],
             [
              0.1111111111111111,
              "#46039f"
             ],
             [
              0.2222222222222222,
              "#7201a8"
             ],
             [
              0.3333333333333333,
              "#9c179e"
             ],
             [
              0.4444444444444444,
              "#bd3786"
             ],
             [
              0.5555555555555556,
              "#d8576b"
             ],
             [
              0.6666666666666666,
              "#ed7953"
             ],
             [
              0.7777777777777778,
              "#fb9f3a"
             ],
             [
              0.8888888888888888,
              "#fdca26"
             ],
             [
              1,
              "#f0f921"
             ]
            ],
            "type": "histogram2d"
           }
          ],
          "histogram2dcontour": [
           {
            "colorbar": {
             "outlinewidth": 0,
             "ticks": ""
            },
            "colorscale": [
             [
              0,
              "#0d0887"
             ],
             [
              0.1111111111111111,
              "#46039f"
             ],
             [
              0.2222222222222222,
              "#7201a8"
             ],
             [
              0.3333333333333333,
              "#9c179e"
             ],
             [
              0.4444444444444444,
              "#bd3786"
             ],
             [
              0.5555555555555556,
              "#d8576b"
             ],
             [
              0.6666666666666666,
              "#ed7953"
             ],
             [
              0.7777777777777778,
              "#fb9f3a"
             ],
             [
              0.8888888888888888,
              "#fdca26"
             ],
             [
              1,
              "#f0f921"
             ]
            ],
            "type": "histogram2dcontour"
           }
          ],
          "mesh3d": [
           {
            "colorbar": {
             "outlinewidth": 0,
             "ticks": ""
            },
            "type": "mesh3d"
           }
          ],
          "parcoords": [
           {
            "line": {
             "colorbar": {
              "outlinewidth": 0,
              "ticks": ""
             }
            },
            "type": "parcoords"
           }
          ],
          "pie": [
           {
            "automargin": true,
            "type": "pie"
           }
          ],
          "scatter": [
           {
            "fillpattern": {
             "fillmode": "overlay",
             "size": 10,
             "solidity": 0.2
            },
            "type": "scatter"
           }
          ],
          "scatter3d": [
           {
            "line": {
             "colorbar": {
              "outlinewidth": 0,
              "ticks": ""
             }
            },
            "marker": {
             "colorbar": {
              "outlinewidth": 0,
              "ticks": ""
             }
            },
            "type": "scatter3d"
           }
          ],
          "scattercarpet": [
           {
            "marker": {
             "colorbar": {
              "outlinewidth": 0,
              "ticks": ""
             }
            },
            "type": "scattercarpet"
           }
          ],
          "scattergeo": [
           {
            "marker": {
             "colorbar": {
              "outlinewidth": 0,
              "ticks": ""
             }
            },
            "type": "scattergeo"
           }
          ],
          "scattergl": [
           {
            "marker": {
             "colorbar": {
              "outlinewidth": 0,
              "ticks": ""
             }
            },
            "type": "scattergl"
           }
          ],
          "scattermapbox": [
           {
            "marker": {
             "colorbar": {
              "outlinewidth": 0,
              "ticks": ""
             }
            },
            "type": "scattermapbox"
           }
          ],
          "scatterpolar": [
           {
            "marker": {
             "colorbar": {
              "outlinewidth": 0,
              "ticks": ""
             }
            },
            "type": "scatterpolar"
           }
          ],
          "scatterpolargl": [
           {
            "marker": {
             "colorbar": {
              "outlinewidth": 0,
              "ticks": ""
             }
            },
            "type": "scatterpolargl"
           }
          ],
          "scatterternary": [
           {
            "marker": {
             "colorbar": {
              "outlinewidth": 0,
              "ticks": ""
             }
            },
            "type": "scatterternary"
           }
          ],
          "surface": [
           {
            "colorbar": {
             "outlinewidth": 0,
             "ticks": ""
            },
            "colorscale": [
             [
              0,
              "#0d0887"
             ],
             [
              0.1111111111111111,
              "#46039f"
             ],
             [
              0.2222222222222222,
              "#7201a8"
             ],
             [
              0.3333333333333333,
              "#9c179e"
             ],
             [
              0.4444444444444444,
              "#bd3786"
             ],
             [
              0.5555555555555556,
              "#d8576b"
             ],
             [
              0.6666666666666666,
              "#ed7953"
             ],
             [
              0.7777777777777778,
              "#fb9f3a"
             ],
             [
              0.8888888888888888,
              "#fdca26"
             ],
             [
              1,
              "#f0f921"
             ]
            ],
            "type": "surface"
           }
          ],
          "table": [
           {
            "cells": {
             "fill": {
              "color": "#EBF0F8"
             },
             "line": {
              "color": "white"
             }
            },
            "header": {
             "fill": {
              "color": "#C8D4E3"
             },
             "line": {
              "color": "white"
             }
            },
            "type": "table"
           }
          ]
         },
         "layout": {
          "annotationdefaults": {
           "arrowcolor": "#2a3f5f",
           "arrowhead": 0,
           "arrowwidth": 1
          },
          "autotypenumbers": "strict",
          "coloraxis": {
           "colorbar": {
            "outlinewidth": 0,
            "ticks": ""
           }
          },
          "colorscale": {
           "diverging": [
            [
             0,
             "#8e0152"
            ],
            [
             0.1,
             "#c51b7d"
            ],
            [
             0.2,
             "#de77ae"
            ],
            [
             0.3,
             "#f1b6da"
            ],
            [
             0.4,
             "#fde0ef"
            ],
            [
             0.5,
             "#f7f7f7"
            ],
            [
             0.6,
             "#e6f5d0"
            ],
            [
             0.7,
             "#b8e186"
            ],
            [
             0.8,
             "#7fbc41"
            ],
            [
             0.9,
             "#4d9221"
            ],
            [
             1,
             "#276419"
            ]
           ],
           "sequential": [
            [
             0,
             "#0d0887"
            ],
            [
             0.1111111111111111,
             "#46039f"
            ],
            [
             0.2222222222222222,
             "#7201a8"
            ],
            [
             0.3333333333333333,
             "#9c179e"
            ],
            [
             0.4444444444444444,
             "#bd3786"
            ],
            [
             0.5555555555555556,
             "#d8576b"
            ],
            [
             0.6666666666666666,
             "#ed7953"
            ],
            [
             0.7777777777777778,
             "#fb9f3a"
            ],
            [
             0.8888888888888888,
             "#fdca26"
            ],
            [
             1,
             "#f0f921"
            ]
           ],
           "sequentialminus": [
            [
             0,
             "#0d0887"
            ],
            [
             0.1111111111111111,
             "#46039f"
            ],
            [
             0.2222222222222222,
             "#7201a8"
            ],
            [
             0.3333333333333333,
             "#9c179e"
            ],
            [
             0.4444444444444444,
             "#bd3786"
            ],
            [
             0.5555555555555556,
             "#d8576b"
            ],
            [
             0.6666666666666666,
             "#ed7953"
            ],
            [
             0.7777777777777778,
             "#fb9f3a"
            ],
            [
             0.8888888888888888,
             "#fdca26"
            ],
            [
             1,
             "#f0f921"
            ]
           ]
          },
          "colorway": [
           "#636efa",
           "#EF553B",
           "#00cc96",
           "#ab63fa",
           "#FFA15A",
           "#19d3f3",
           "#FF6692",
           "#B6E880",
           "#FF97FF",
           "#FECB52"
          ],
          "font": {
           "color": "#2a3f5f"
          },
          "geo": {
           "bgcolor": "white",
           "lakecolor": "white",
           "landcolor": "#E5ECF6",
           "showlakes": true,
           "showland": true,
           "subunitcolor": "white"
          },
          "hoverlabel": {
           "align": "left"
          },
          "hovermode": "closest",
          "mapbox": {
           "style": "light"
          },
          "paper_bgcolor": "white",
          "plot_bgcolor": "#E5ECF6",
          "polar": {
           "angularaxis": {
            "gridcolor": "white",
            "linecolor": "white",
            "ticks": ""
           },
           "bgcolor": "#E5ECF6",
           "radialaxis": {
            "gridcolor": "white",
            "linecolor": "white",
            "ticks": ""
           }
          },
          "scene": {
           "xaxis": {
            "backgroundcolor": "#E5ECF6",
            "gridcolor": "white",
            "gridwidth": 2,
            "linecolor": "white",
            "showbackground": true,
            "ticks": "",
            "zerolinecolor": "white"
           },
           "yaxis": {
            "backgroundcolor": "#E5ECF6",
            "gridcolor": "white",
            "gridwidth": 2,
            "linecolor": "white",
            "showbackground": true,
            "ticks": "",
            "zerolinecolor": "white"
           },
           "zaxis": {
            "backgroundcolor": "#E5ECF6",
            "gridcolor": "white",
            "gridwidth": 2,
            "linecolor": "white",
            "showbackground": true,
            "ticks": "",
            "zerolinecolor": "white"
           }
          },
          "shapedefaults": {
           "line": {
            "color": "#2a3f5f"
           }
          },
          "ternary": {
           "aaxis": {
            "gridcolor": "white",
            "linecolor": "white",
            "ticks": ""
           },
           "baxis": {
            "gridcolor": "white",
            "linecolor": "white",
            "ticks": ""
           },
           "bgcolor": "#E5ECF6",
           "caxis": {
            "gridcolor": "white",
            "linecolor": "white",
            "ticks": ""
           }
          },
          "title": {
           "x": 0.05
          },
          "xaxis": {
           "automargin": true,
           "gridcolor": "white",
           "linecolor": "white",
           "ticks": "",
           "title": {
            "standoff": 15
           },
           "zerolinecolor": "white",
           "zerolinewidth": 2
          },
          "yaxis": {
           "automargin": true,
           "gridcolor": "white",
           "linecolor": "white",
           "ticks": "",
           "title": {
            "standoff": 15
           },
           "zerolinecolor": "white",
           "zerolinewidth": 2
          }
         }
        },
        "title": {
         "text": "Average Difference Between the Hosts' Scores Over Time"
        },
        "xaxis": {
         "title": {
          "text": "Episode Number"
         }
        },
        "yaxis": {
         "title": {
          "text": "Average Score Difference"
         }
        }
       }
      },
      "text/html": [
       "<div>                            <div id=\"53466102-f12b-4df1-97f0-f35df3429e44\" class=\"plotly-graph-div\" style=\"height:525px; width:100%;\"></div>            <script type=\"text/javascript\">                require([\"plotly\"], function(Plotly) {                    window.PLOTLYENV=window.PLOTLYENV || {};                                    if (document.getElementById(\"53466102-f12b-4df1-97f0-f35df3429e44\")) {                    Plotly.newPlot(                        \"53466102-f12b-4df1-97f0-f35df3429e44\",                        [{\"line\":{\"color\":\"#DA9100\",\"width\":2},\"mode\":\"lines\",\"x\":[0,1,2,3,4,5,6,7,8,9,10,11,12,13,14,15,16,17,18,19,20,21,22,23,24,25,26,27,28,29,30,31,32,33,34,35,36,37,38,39,40,41,42,43,44,45,46,47,48,49,50,51,52,53,54,55,56,57,58,59,60,61,62,63,64,65,66,67,68,69,70,71,72,73,74,75,76,77,78,79,80,81,82,83,84,85,86,87,88,89,90,91,92,93,94,95,96,97,98,99,100,101,102,103,104,105,106,107,108,109,110,111,112,113,114,115,116,117,118,119,120,121,122,123,124,125,126,127,128,129,130,131,132,133,134,135,136,137,138,139,140,141,142,143,144,145,146,147,148,149,150,151,152,153,154,155,156,157,158,159,160,161,162,163,164,165,166,167,168,169,170,171,172,173,174,175,176,177,178,179,180,181,182,183,184,185,186,187,188,189,190,191,192],\"y\":[2.0,2.5,1.667,1.5,1.3,1.083,0.929,0.938,0.833,0.95,0.864,0.875,0.808,0.786,0.8,0.781,0.735,0.694,0.684,0.675,0.643,0.636,0.609,0.583,0.56,0.596,0.574,0.554,0.534,0.517,0.5,0.484,0.47,0.456,0.443,0.431,0.432,0.447,0.436,0.425,0.415,0.405,0.43,0.42,0.411,0.402,0.404,0.396,0.388,0.39,0.392,0.385,0.377,0.389,0.382,0.402,0.404,0.431,0.424,0.433,0.443,0.444,0.452,0.461,0.454,0.492,0.485,0.493,0.5,0.507,0.514,0.507,0.5,0.493,0.487,0.493,0.506,0.532,0.525,0.569,0.574,0.579,0.572,0.565,0.588,0.587,0.58,0.574,0.579,0.583,0.577,0.598,0.597,0.612,0.611,0.615,0.608,0.602,0.606,0.63,0.634,0.632,0.631,0.63,0.633,0.646,0.65,0.644,0.647,0.641,0.635,0.638,0.642,0.64,0.635,0.634,0.628,0.623,0.634,0.629,0.632,0.643,0.654,0.653,0.668,0.675,0.673,0.676,0.671,0.673,0.668,0.67,0.669,0.664,0.667,0.673,0.697,0.692,0.694,0.7,0.699,0.697,0.692,0.708,0.703,0.719,0.728,0.73,0.732,0.733,0.735,0.737,0.739,0.734,0.729,0.728,0.729,0.725,0.72,0.725,0.724,0.719,0.721,0.723,0.724,0.72,0.716,0.711,0.71,0.709,0.716,0.712,0.708,0.707,0.703,0.702,0.698,0.699,0.696,0.694,0.699,0.695,0.691,0.693,0.692,0.696,0.693,0.691,0.688,0.687,0.683,0.682,0.679],\"type\":\"scatter\"}],                        {\"template\":{\"data\":{\"histogram2dcontour\":[{\"type\":\"histogram2dcontour\",\"colorbar\":{\"outlinewidth\":0,\"ticks\":\"\"},\"colorscale\":[[0.0,\"#0d0887\"],[0.1111111111111111,\"#46039f\"],[0.2222222222222222,\"#7201a8\"],[0.3333333333333333,\"#9c179e\"],[0.4444444444444444,\"#bd3786\"],[0.5555555555555556,\"#d8576b\"],[0.6666666666666666,\"#ed7953\"],[0.7777777777777778,\"#fb9f3a\"],[0.8888888888888888,\"#fdca26\"],[1.0,\"#f0f921\"]]}],\"choropleth\":[{\"type\":\"choropleth\",\"colorbar\":{\"outlinewidth\":0,\"ticks\":\"\"}}],\"histogram2d\":[{\"type\":\"histogram2d\",\"colorbar\":{\"outlinewidth\":0,\"ticks\":\"\"},\"colorscale\":[[0.0,\"#0d0887\"],[0.1111111111111111,\"#46039f\"],[0.2222222222222222,\"#7201a8\"],[0.3333333333333333,\"#9c179e\"],[0.4444444444444444,\"#bd3786\"],[0.5555555555555556,\"#d8576b\"],[0.6666666666666666,\"#ed7953\"],[0.7777777777777778,\"#fb9f3a\"],[0.8888888888888888,\"#fdca26\"],[1.0,\"#f0f921\"]]}],\"heatmap\":[{\"type\":\"heatmap\",\"colorbar\":{\"outlinewidth\":0,\"ticks\":\"\"},\"colorscale\":[[0.0,\"#0d0887\"],[0.1111111111111111,\"#46039f\"],[0.2222222222222222,\"#7201a8\"],[0.3333333333333333,\"#9c179e\"],[0.4444444444444444,\"#bd3786\"],[0.5555555555555556,\"#d8576b\"],[0.6666666666666666,\"#ed7953\"],[0.7777777777777778,\"#fb9f3a\"],[0.8888888888888888,\"#fdca26\"],[1.0,\"#f0f921\"]]}],\"heatmapgl\":[{\"type\":\"heatmapgl\",\"colorbar\":{\"outlinewidth\":0,\"ticks\":\"\"},\"colorscale\":[[0.0,\"#0d0887\"],[0.1111111111111111,\"#46039f\"],[0.2222222222222222,\"#7201a8\"],[0.3333333333333333,\"#9c179e\"],[0.4444444444444444,\"#bd3786\"],[0.5555555555555556,\"#d8576b\"],[0.6666666666666666,\"#ed7953\"],[0.7777777777777778,\"#fb9f3a\"],[0.8888888888888888,\"#fdca26\"],[1.0,\"#f0f921\"]]}],\"contourcarpet\":[{\"type\":\"contourcarpet\",\"colorbar\":{\"outlinewidth\":0,\"ticks\":\"\"}}],\"contour\":[{\"type\":\"contour\",\"colorbar\":{\"outlinewidth\":0,\"ticks\":\"\"},\"colorscale\":[[0.0,\"#0d0887\"],[0.1111111111111111,\"#46039f\"],[0.2222222222222222,\"#7201a8\"],[0.3333333333333333,\"#9c179e\"],[0.4444444444444444,\"#bd3786\"],[0.5555555555555556,\"#d8576b\"],[0.6666666666666666,\"#ed7953\"],[0.7777777777777778,\"#fb9f3a\"],[0.8888888888888888,\"#fdca26\"],[1.0,\"#f0f921\"]]}],\"surface\":[{\"type\":\"surface\",\"colorbar\":{\"outlinewidth\":0,\"ticks\":\"\"},\"colorscale\":[[0.0,\"#0d0887\"],[0.1111111111111111,\"#46039f\"],[0.2222222222222222,\"#7201a8\"],[0.3333333333333333,\"#9c179e\"],[0.4444444444444444,\"#bd3786\"],[0.5555555555555556,\"#d8576b\"],[0.6666666666666666,\"#ed7953\"],[0.7777777777777778,\"#fb9f3a\"],[0.8888888888888888,\"#fdca26\"],[1.0,\"#f0f921\"]]}],\"mesh3d\":[{\"type\":\"mesh3d\",\"colorbar\":{\"outlinewidth\":0,\"ticks\":\"\"}}],\"scatter\":[{\"fillpattern\":{\"fillmode\":\"overlay\",\"size\":10,\"solidity\":0.2},\"type\":\"scatter\"}],\"parcoords\":[{\"type\":\"parcoords\",\"line\":{\"colorbar\":{\"outlinewidth\":0,\"ticks\":\"\"}}}],\"scatterpolargl\":[{\"type\":\"scatterpolargl\",\"marker\":{\"colorbar\":{\"outlinewidth\":0,\"ticks\":\"\"}}}],\"bar\":[{\"error_x\":{\"color\":\"#2a3f5f\"},\"error_y\":{\"color\":\"#2a3f5f\"},\"marker\":{\"line\":{\"color\":\"#E5ECF6\",\"width\":0.5},\"pattern\":{\"fillmode\":\"overlay\",\"size\":10,\"solidity\":0.2}},\"type\":\"bar\"}],\"scattergeo\":[{\"type\":\"scattergeo\",\"marker\":{\"colorbar\":{\"outlinewidth\":0,\"ticks\":\"\"}}}],\"scatterpolar\":[{\"type\":\"scatterpolar\",\"marker\":{\"colorbar\":{\"outlinewidth\":0,\"ticks\":\"\"}}}],\"histogram\":[{\"marker\":{\"pattern\":{\"fillmode\":\"overlay\",\"size\":10,\"solidity\":0.2}},\"type\":\"histogram\"}],\"scattergl\":[{\"type\":\"scattergl\",\"marker\":{\"colorbar\":{\"outlinewidth\":0,\"ticks\":\"\"}}}],\"scatter3d\":[{\"type\":\"scatter3d\",\"line\":{\"colorbar\":{\"outlinewidth\":0,\"ticks\":\"\"}},\"marker\":{\"colorbar\":{\"outlinewidth\":0,\"ticks\":\"\"}}}],\"scattermapbox\":[{\"type\":\"scattermapbox\",\"marker\":{\"colorbar\":{\"outlinewidth\":0,\"ticks\":\"\"}}}],\"scatterternary\":[{\"type\":\"scatterternary\",\"marker\":{\"colorbar\":{\"outlinewidth\":0,\"ticks\":\"\"}}}],\"scattercarpet\":[{\"type\":\"scattercarpet\",\"marker\":{\"colorbar\":{\"outlinewidth\":0,\"ticks\":\"\"}}}],\"carpet\":[{\"aaxis\":{\"endlinecolor\":\"#2a3f5f\",\"gridcolor\":\"white\",\"linecolor\":\"white\",\"minorgridcolor\":\"white\",\"startlinecolor\":\"#2a3f5f\"},\"baxis\":{\"endlinecolor\":\"#2a3f5f\",\"gridcolor\":\"white\",\"linecolor\":\"white\",\"minorgridcolor\":\"white\",\"startlinecolor\":\"#2a3f5f\"},\"type\":\"carpet\"}],\"table\":[{\"cells\":{\"fill\":{\"color\":\"#EBF0F8\"},\"line\":{\"color\":\"white\"}},\"header\":{\"fill\":{\"color\":\"#C8D4E3\"},\"line\":{\"color\":\"white\"}},\"type\":\"table\"}],\"barpolar\":[{\"marker\":{\"line\":{\"color\":\"#E5ECF6\",\"width\":0.5},\"pattern\":{\"fillmode\":\"overlay\",\"size\":10,\"solidity\":0.2}},\"type\":\"barpolar\"}],\"pie\":[{\"automargin\":true,\"type\":\"pie\"}]},\"layout\":{\"autotypenumbers\":\"strict\",\"colorway\":[\"#636efa\",\"#EF553B\",\"#00cc96\",\"#ab63fa\",\"#FFA15A\",\"#19d3f3\",\"#FF6692\",\"#B6E880\",\"#FF97FF\",\"#FECB52\"],\"font\":{\"color\":\"#2a3f5f\"},\"hovermode\":\"closest\",\"hoverlabel\":{\"align\":\"left\"},\"paper_bgcolor\":\"white\",\"plot_bgcolor\":\"#E5ECF6\",\"polar\":{\"bgcolor\":\"#E5ECF6\",\"angularaxis\":{\"gridcolor\":\"white\",\"linecolor\":\"white\",\"ticks\":\"\"},\"radialaxis\":{\"gridcolor\":\"white\",\"linecolor\":\"white\",\"ticks\":\"\"}},\"ternary\":{\"bgcolor\":\"#E5ECF6\",\"aaxis\":{\"gridcolor\":\"white\",\"linecolor\":\"white\",\"ticks\":\"\"},\"baxis\":{\"gridcolor\":\"white\",\"linecolor\":\"white\",\"ticks\":\"\"},\"caxis\":{\"gridcolor\":\"white\",\"linecolor\":\"white\",\"ticks\":\"\"}},\"coloraxis\":{\"colorbar\":{\"outlinewidth\":0,\"ticks\":\"\"}},\"colorscale\":{\"sequential\":[[0.0,\"#0d0887\"],[0.1111111111111111,\"#46039f\"],[0.2222222222222222,\"#7201a8\"],[0.3333333333333333,\"#9c179e\"],[0.4444444444444444,\"#bd3786\"],[0.5555555555555556,\"#d8576b\"],[0.6666666666666666,\"#ed7953\"],[0.7777777777777778,\"#fb9f3a\"],[0.8888888888888888,\"#fdca26\"],[1.0,\"#f0f921\"]],\"sequentialminus\":[[0.0,\"#0d0887\"],[0.1111111111111111,\"#46039f\"],[0.2222222222222222,\"#7201a8\"],[0.3333333333333333,\"#9c179e\"],[0.4444444444444444,\"#bd3786\"],[0.5555555555555556,\"#d8576b\"],[0.6666666666666666,\"#ed7953\"],[0.7777777777777778,\"#fb9f3a\"],[0.8888888888888888,\"#fdca26\"],[1.0,\"#f0f921\"]],\"diverging\":[[0,\"#8e0152\"],[0.1,\"#c51b7d\"],[0.2,\"#de77ae\"],[0.3,\"#f1b6da\"],[0.4,\"#fde0ef\"],[0.5,\"#f7f7f7\"],[0.6,\"#e6f5d0\"],[0.7,\"#b8e186\"],[0.8,\"#7fbc41\"],[0.9,\"#4d9221\"],[1,\"#276419\"]]},\"xaxis\":{\"gridcolor\":\"white\",\"linecolor\":\"white\",\"ticks\":\"\",\"title\":{\"standoff\":15},\"zerolinecolor\":\"white\",\"automargin\":true,\"zerolinewidth\":2},\"yaxis\":{\"gridcolor\":\"white\",\"linecolor\":\"white\",\"ticks\":\"\",\"title\":{\"standoff\":15},\"zerolinecolor\":\"white\",\"automargin\":true,\"zerolinewidth\":2},\"scene\":{\"xaxis\":{\"backgroundcolor\":\"#E5ECF6\",\"gridcolor\":\"white\",\"linecolor\":\"white\",\"showbackground\":true,\"ticks\":\"\",\"zerolinecolor\":\"white\",\"gridwidth\":2},\"yaxis\":{\"backgroundcolor\":\"#E5ECF6\",\"gridcolor\":\"white\",\"linecolor\":\"white\",\"showbackground\":true,\"ticks\":\"\",\"zerolinecolor\":\"white\",\"gridwidth\":2},\"zaxis\":{\"backgroundcolor\":\"#E5ECF6\",\"gridcolor\":\"white\",\"linecolor\":\"white\",\"showbackground\":true,\"ticks\":\"\",\"zerolinecolor\":\"white\",\"gridwidth\":2}},\"shapedefaults\":{\"line\":{\"color\":\"#2a3f5f\"}},\"annotationdefaults\":{\"arrowcolor\":\"#2a3f5f\",\"arrowhead\":0,\"arrowwidth\":1},\"geo\":{\"bgcolor\":\"white\",\"landcolor\":\"#E5ECF6\",\"subunitcolor\":\"white\",\"showland\":true,\"showlakes\":true,\"lakecolor\":\"white\"},\"title\":{\"x\":0.05},\"mapbox\":{\"style\":\"light\"}}},\"font\":{\"color\":\"#ffffff\"},\"title\":{\"text\":\"Average Difference Between the Hosts' Scores Over Time\"},\"xaxis\":{\"title\":{\"text\":\"Episode Number\"}},\"yaxis\":{\"title\":{\"text\":\"Average Score Difference\"}},\"paper_bgcolor\":\"#011222\",\"showlegend\":false},                        {\"responsive\": true}                    ).then(function(){\n",
       "                            \n",
       "var gd = document.getElementById('53466102-f12b-4df1-97f0-f35df3429e44');\n",
       "var x = new MutationObserver(function (mutations, observer) {{\n",
       "        var display = window.getComputedStyle(gd).display;\n",
       "        if (!display || display === 'none') {{\n",
       "            console.log([gd, 'removed!']);\n",
       "            Plotly.purge(gd);\n",
       "            observer.disconnect();\n",
       "        }}\n",
       "}});\n",
       "\n",
       "// Listen for the removal of the full notebook cells\n",
       "var notebookContainer = gd.closest('#notebook-container');\n",
       "if (notebookContainer) {{\n",
       "    x.observe(notebookContainer, {childList: true});\n",
       "}}\n",
       "\n",
       "// Listen for the clearing of the current output cell\n",
       "var outputEl = gd.closest('.output');\n",
       "if (outputEl) {{\n",
       "    x.observe(outputEl, {childList: true});\n",
       "}}\n",
       "\n",
       "                        })                };                });            </script>        </div>"
      ]
     },
     "metadata": {},
     "output_type": "display_data"
    },
    {
     "data": {
      "text/plain": [
       "'https://plotly.com/~Cbsiros/15/'"
      ]
     },
     "execution_count": 19,
     "metadata": {},
     "output_type": "execute_result"
    }
   ],
   "source": [
    "# Create figure\n",
    "fig = go.Figure()\n",
    "\n",
    "fig.add_trace(go.Scatter(x = ratings_df.index,                                                # x-axis data (Episode numbers)\n",
    "                         y = ratings_df['Rating_Differential'].expanding().mean().round(3),   # y-axis data (Expanding average difference between host scores, rounded to three decimal places)\n",
    "                         mode = 'lines',                                                      # Trace type\n",
    "                         line = dict(color = '#DA9100', width = 2)))                          # Custom line color and width\n",
    "\n",
    "#Further style the figure\n",
    "fig.update_layout(\n",
    "    title = 'Average Difference Between the Hosts\\' Scores Over Time',   # Set x-plot title\n",
    "    xaxis_title = 'Episode Number',                                      # Set x-axis title\n",
    "    yaxis_title = 'Average Score Difference',                            # Set y-axis title\n",
    "    paper_bgcolor = '#011222',                                           # Set background color\n",
    "    font_color = '#ffffff',                                              # Set font color\n",
    "    showlegend = False)                                                  # Do not display legend\n",
    "\n",
    "\n",
    "# Display figure\n",
    "fig.show()\n",
    "\n",
    "# Create plot in Chart Studio for later embedding\n",
    "py.plot(fig, filename = 'Average Difference Between the Hosts\\' Scores Over Time', auto_open = False)"
   ]
  },
  {
   "cell_type": "code",
   "execution_count": 32,
   "id": "f6361f9f",
   "metadata": {},
   "outputs": [
    {
     "data": {
      "text/plain": [
       "Tie      81\n",
       "Zach     58\n",
       "Brent    54\n",
       "Name: count, dtype: int64"
      ]
     },
     "execution_count": 32,
     "metadata": {},
     "output_type": "execute_result"
    }
   ],
   "source": [
    "highest_reviewer_counts"
   ]
  },
  {
   "cell_type": "markdown",
   "id": "7e5696b2",
   "metadata": {},
   "source": [
    "### Distribution of Higher Episode Ratings Between Hosts"
   ]
  },
  {
   "cell_type": "code",
   "execution_count": 20,
   "id": "764f6d3a",
   "metadata": {},
   "outputs": [
    {
     "data": {
      "application/vnd.plotly.v1+json": {
       "config": {
        "plotlyServerURL": "https://plotly.com"
       },
       "data": [
        {
         "hole": 0.2,
         "hoverinfo": "label",
         "labels": [
          "Tie",
          "Zach",
          "Brent"
         ],
         "marker": {
          "colors": [
           "#90EE90",
           "FFA500",
           "#0096FF"
          ],
          "line": {
           "color": "#ffffff",
           "width": 2
          }
         },
         "textfont": {
          "size": 20
         },
         "textinfo": "percent",
         "type": "pie",
         "values": [
          81,
          58,
          54
         ]
        }
       ],
       "layout": {
        "font": {
         "color": "#ffffff"
        },
        "paper_bgcolor": "#011222",
        "template": {
         "data": {
          "bar": [
           {
            "error_x": {
             "color": "#2a3f5f"
            },
            "error_y": {
             "color": "#2a3f5f"
            },
            "marker": {
             "line": {
              "color": "#E5ECF6",
              "width": 0.5
             },
             "pattern": {
              "fillmode": "overlay",
              "size": 10,
              "solidity": 0.2
             }
            },
            "type": "bar"
           }
          ],
          "barpolar": [
           {
            "marker": {
             "line": {
              "color": "#E5ECF6",
              "width": 0.5
             },
             "pattern": {
              "fillmode": "overlay",
              "size": 10,
              "solidity": 0.2
             }
            },
            "type": "barpolar"
           }
          ],
          "carpet": [
           {
            "aaxis": {
             "endlinecolor": "#2a3f5f",
             "gridcolor": "white",
             "linecolor": "white",
             "minorgridcolor": "white",
             "startlinecolor": "#2a3f5f"
            },
            "baxis": {
             "endlinecolor": "#2a3f5f",
             "gridcolor": "white",
             "linecolor": "white",
             "minorgridcolor": "white",
             "startlinecolor": "#2a3f5f"
            },
            "type": "carpet"
           }
          ],
          "choropleth": [
           {
            "colorbar": {
             "outlinewidth": 0,
             "ticks": ""
            },
            "type": "choropleth"
           }
          ],
          "contour": [
           {
            "colorbar": {
             "outlinewidth": 0,
             "ticks": ""
            },
            "colorscale": [
             [
              0,
              "#0d0887"
             ],
             [
              0.1111111111111111,
              "#46039f"
             ],
             [
              0.2222222222222222,
              "#7201a8"
             ],
             [
              0.3333333333333333,
              "#9c179e"
             ],
             [
              0.4444444444444444,
              "#bd3786"
             ],
             [
              0.5555555555555556,
              "#d8576b"
             ],
             [
              0.6666666666666666,
              "#ed7953"
             ],
             [
              0.7777777777777778,
              "#fb9f3a"
             ],
             [
              0.8888888888888888,
              "#fdca26"
             ],
             [
              1,
              "#f0f921"
             ]
            ],
            "type": "contour"
           }
          ],
          "contourcarpet": [
           {
            "colorbar": {
             "outlinewidth": 0,
             "ticks": ""
            },
            "type": "contourcarpet"
           }
          ],
          "heatmap": [
           {
            "colorbar": {
             "outlinewidth": 0,
             "ticks": ""
            },
            "colorscale": [
             [
              0,
              "#0d0887"
             ],
             [
              0.1111111111111111,
              "#46039f"
             ],
             [
              0.2222222222222222,
              "#7201a8"
             ],
             [
              0.3333333333333333,
              "#9c179e"
             ],
             [
              0.4444444444444444,
              "#bd3786"
             ],
             [
              0.5555555555555556,
              "#d8576b"
             ],
             [
              0.6666666666666666,
              "#ed7953"
             ],
             [
              0.7777777777777778,
              "#fb9f3a"
             ],
             [
              0.8888888888888888,
              "#fdca26"
             ],
             [
              1,
              "#f0f921"
             ]
            ],
            "type": "heatmap"
           }
          ],
          "heatmapgl": [
           {
            "colorbar": {
             "outlinewidth": 0,
             "ticks": ""
            },
            "colorscale": [
             [
              0,
              "#0d0887"
             ],
             [
              0.1111111111111111,
              "#46039f"
             ],
             [
              0.2222222222222222,
              "#7201a8"
             ],
             [
              0.3333333333333333,
              "#9c179e"
             ],
             [
              0.4444444444444444,
              "#bd3786"
             ],
             [
              0.5555555555555556,
              "#d8576b"
             ],
             [
              0.6666666666666666,
              "#ed7953"
             ],
             [
              0.7777777777777778,
              "#fb9f3a"
             ],
             [
              0.8888888888888888,
              "#fdca26"
             ],
             [
              1,
              "#f0f921"
             ]
            ],
            "type": "heatmapgl"
           }
          ],
          "histogram": [
           {
            "marker": {
             "pattern": {
              "fillmode": "overlay",
              "size": 10,
              "solidity": 0.2
             }
            },
            "type": "histogram"
           }
          ],
          "histogram2d": [
           {
            "colorbar": {
             "outlinewidth": 0,
             "ticks": ""
            },
            "colorscale": [
             [
              0,
              "#0d0887"
             ],
             [
              0.1111111111111111,
              "#46039f"
             ],
             [
              0.2222222222222222,
              "#7201a8"
             ],
             [
              0.3333333333333333,
              "#9c179e"
             ],
             [
              0.4444444444444444,
              "#bd3786"
             ],
             [
              0.5555555555555556,
              "#d8576b"
             ],
             [
              0.6666666666666666,
              "#ed7953"
             ],
             [
              0.7777777777777778,
              "#fb9f3a"
             ],
             [
              0.8888888888888888,
              "#fdca26"
             ],
             [
              1,
              "#f0f921"
             ]
            ],
            "type": "histogram2d"
           }
          ],
          "histogram2dcontour": [
           {
            "colorbar": {
             "outlinewidth": 0,
             "ticks": ""
            },
            "colorscale": [
             [
              0,
              "#0d0887"
             ],
             [
              0.1111111111111111,
              "#46039f"
             ],
             [
              0.2222222222222222,
              "#7201a8"
             ],
             [
              0.3333333333333333,
              "#9c179e"
             ],
             [
              0.4444444444444444,
              "#bd3786"
             ],
             [
              0.5555555555555556,
              "#d8576b"
             ],
             [
              0.6666666666666666,
              "#ed7953"
             ],
             [
              0.7777777777777778,
              "#fb9f3a"
             ],
             [
              0.8888888888888888,
              "#fdca26"
             ],
             [
              1,
              "#f0f921"
             ]
            ],
            "type": "histogram2dcontour"
           }
          ],
          "mesh3d": [
           {
            "colorbar": {
             "outlinewidth": 0,
             "ticks": ""
            },
            "type": "mesh3d"
           }
          ],
          "parcoords": [
           {
            "line": {
             "colorbar": {
              "outlinewidth": 0,
              "ticks": ""
             }
            },
            "type": "parcoords"
           }
          ],
          "pie": [
           {
            "automargin": true,
            "type": "pie"
           }
          ],
          "scatter": [
           {
            "fillpattern": {
             "fillmode": "overlay",
             "size": 10,
             "solidity": 0.2
            },
            "type": "scatter"
           }
          ],
          "scatter3d": [
           {
            "line": {
             "colorbar": {
              "outlinewidth": 0,
              "ticks": ""
             }
            },
            "marker": {
             "colorbar": {
              "outlinewidth": 0,
              "ticks": ""
             }
            },
            "type": "scatter3d"
           }
          ],
          "scattercarpet": [
           {
            "marker": {
             "colorbar": {
              "outlinewidth": 0,
              "ticks": ""
             }
            },
            "type": "scattercarpet"
           }
          ],
          "scattergeo": [
           {
            "marker": {
             "colorbar": {
              "outlinewidth": 0,
              "ticks": ""
             }
            },
            "type": "scattergeo"
           }
          ],
          "scattergl": [
           {
            "marker": {
             "colorbar": {
              "outlinewidth": 0,
              "ticks": ""
             }
            },
            "type": "scattergl"
           }
          ],
          "scattermapbox": [
           {
            "marker": {
             "colorbar": {
              "outlinewidth": 0,
              "ticks": ""
             }
            },
            "type": "scattermapbox"
           }
          ],
          "scatterpolar": [
           {
            "marker": {
             "colorbar": {
              "outlinewidth": 0,
              "ticks": ""
             }
            },
            "type": "scatterpolar"
           }
          ],
          "scatterpolargl": [
           {
            "marker": {
             "colorbar": {
              "outlinewidth": 0,
              "ticks": ""
             }
            },
            "type": "scatterpolargl"
           }
          ],
          "scatterternary": [
           {
            "marker": {
             "colorbar": {
              "outlinewidth": 0,
              "ticks": ""
             }
            },
            "type": "scatterternary"
           }
          ],
          "surface": [
           {
            "colorbar": {
             "outlinewidth": 0,
             "ticks": ""
            },
            "colorscale": [
             [
              0,
              "#0d0887"
             ],
             [
              0.1111111111111111,
              "#46039f"
             ],
             [
              0.2222222222222222,
              "#7201a8"
             ],
             [
              0.3333333333333333,
              "#9c179e"
             ],
             [
              0.4444444444444444,
              "#bd3786"
             ],
             [
              0.5555555555555556,
              "#d8576b"
             ],
             [
              0.6666666666666666,
              "#ed7953"
             ],
             [
              0.7777777777777778,
              "#fb9f3a"
             ],
             [
              0.8888888888888888,
              "#fdca26"
             ],
             [
              1,
              "#f0f921"
             ]
            ],
            "type": "surface"
           }
          ],
          "table": [
           {
            "cells": {
             "fill": {
              "color": "#EBF0F8"
             },
             "line": {
              "color": "white"
             }
            },
            "header": {
             "fill": {
              "color": "#C8D4E3"
             },
             "line": {
              "color": "white"
             }
            },
            "type": "table"
           }
          ]
         },
         "layout": {
          "annotationdefaults": {
           "arrowcolor": "#2a3f5f",
           "arrowhead": 0,
           "arrowwidth": 1
          },
          "autotypenumbers": "strict",
          "coloraxis": {
           "colorbar": {
            "outlinewidth": 0,
            "ticks": ""
           }
          },
          "colorscale": {
           "diverging": [
            [
             0,
             "#8e0152"
            ],
            [
             0.1,
             "#c51b7d"
            ],
            [
             0.2,
             "#de77ae"
            ],
            [
             0.3,
             "#f1b6da"
            ],
            [
             0.4,
             "#fde0ef"
            ],
            [
             0.5,
             "#f7f7f7"
            ],
            [
             0.6,
             "#e6f5d0"
            ],
            [
             0.7,
             "#b8e186"
            ],
            [
             0.8,
             "#7fbc41"
            ],
            [
             0.9,
             "#4d9221"
            ],
            [
             1,
             "#276419"
            ]
           ],
           "sequential": [
            [
             0,
             "#0d0887"
            ],
            [
             0.1111111111111111,
             "#46039f"
            ],
            [
             0.2222222222222222,
             "#7201a8"
            ],
            [
             0.3333333333333333,
             "#9c179e"
            ],
            [
             0.4444444444444444,
             "#bd3786"
            ],
            [
             0.5555555555555556,
             "#d8576b"
            ],
            [
             0.6666666666666666,
             "#ed7953"
            ],
            [
             0.7777777777777778,
             "#fb9f3a"
            ],
            [
             0.8888888888888888,
             "#fdca26"
            ],
            [
             1,
             "#f0f921"
            ]
           ],
           "sequentialminus": [
            [
             0,
             "#0d0887"
            ],
            [
             0.1111111111111111,
             "#46039f"
            ],
            [
             0.2222222222222222,
             "#7201a8"
            ],
            [
             0.3333333333333333,
             "#9c179e"
            ],
            [
             0.4444444444444444,
             "#bd3786"
            ],
            [
             0.5555555555555556,
             "#d8576b"
            ],
            [
             0.6666666666666666,
             "#ed7953"
            ],
            [
             0.7777777777777778,
             "#fb9f3a"
            ],
            [
             0.8888888888888888,
             "#fdca26"
            ],
            [
             1,
             "#f0f921"
            ]
           ]
          },
          "colorway": [
           "#636efa",
           "#EF553B",
           "#00cc96",
           "#ab63fa",
           "#FFA15A",
           "#19d3f3",
           "#FF6692",
           "#B6E880",
           "#FF97FF",
           "#FECB52"
          ],
          "font": {
           "color": "#2a3f5f"
          },
          "geo": {
           "bgcolor": "white",
           "lakecolor": "white",
           "landcolor": "#E5ECF6",
           "showlakes": true,
           "showland": true,
           "subunitcolor": "white"
          },
          "hoverlabel": {
           "align": "left"
          },
          "hovermode": "closest",
          "mapbox": {
           "style": "light"
          },
          "paper_bgcolor": "white",
          "plot_bgcolor": "#E5ECF6",
          "polar": {
           "angularaxis": {
            "gridcolor": "white",
            "linecolor": "white",
            "ticks": ""
           },
           "bgcolor": "#E5ECF6",
           "radialaxis": {
            "gridcolor": "white",
            "linecolor": "white",
            "ticks": ""
           }
          },
          "scene": {
           "xaxis": {
            "backgroundcolor": "#E5ECF6",
            "gridcolor": "white",
            "gridwidth": 2,
            "linecolor": "white",
            "showbackground": true,
            "ticks": "",
            "zerolinecolor": "white"
           },
           "yaxis": {
            "backgroundcolor": "#E5ECF6",
            "gridcolor": "white",
            "gridwidth": 2,
            "linecolor": "white",
            "showbackground": true,
            "ticks": "",
            "zerolinecolor": "white"
           },
           "zaxis": {
            "backgroundcolor": "#E5ECF6",
            "gridcolor": "white",
            "gridwidth": 2,
            "linecolor": "white",
            "showbackground": true,
            "ticks": "",
            "zerolinecolor": "white"
           }
          },
          "shapedefaults": {
           "line": {
            "color": "#2a3f5f"
           }
          },
          "ternary": {
           "aaxis": {
            "gridcolor": "white",
            "linecolor": "white",
            "ticks": ""
           },
           "baxis": {
            "gridcolor": "white",
            "linecolor": "white",
            "ticks": ""
           },
           "bgcolor": "#E5ECF6",
           "caxis": {
            "gridcolor": "white",
            "linecolor": "white",
            "ticks": ""
           }
          },
          "title": {
           "x": 0.05
          },
          "xaxis": {
           "automargin": true,
           "gridcolor": "white",
           "linecolor": "white",
           "ticks": "",
           "title": {
            "standoff": 15
           },
           "zerolinecolor": "white",
           "zerolinewidth": 2
          },
          "yaxis": {
           "automargin": true,
           "gridcolor": "white",
           "linecolor": "white",
           "ticks": "",
           "title": {
            "standoff": 15
           },
           "zerolinecolor": "white",
           "zerolinewidth": 2
          }
         }
        },
        "title": {
         "text": "Distribution of Higher Episode Ratings Between Hosts"
        },
        "xaxis": {
         "title": {
          "text": "Episode Number"
         }
        },
        "yaxis": {
         "title": {
          "text": "Average Score Difference"
         }
        }
       }
      },
      "text/html": [
       "<div>                            <div id=\"350a597d-e079-46f5-b1d2-29c8aa80c4ca\" class=\"plotly-graph-div\" style=\"height:525px; width:100%;\"></div>            <script type=\"text/javascript\">                require([\"plotly\"], function(Plotly) {                    window.PLOTLYENV=window.PLOTLYENV || {};                                    if (document.getElementById(\"350a597d-e079-46f5-b1d2-29c8aa80c4ca\")) {                    Plotly.newPlot(                        \"350a597d-e079-46f5-b1d2-29c8aa80c4ca\",                        [{\"hole\":0.2,\"labels\":[\"Tie\",\"Zach\",\"Brent\"],\"values\":[81,58,54],\"type\":\"pie\",\"textfont\":{\"size\":20},\"marker\":{\"line\":{\"color\":\"#ffffff\",\"width\":2},\"colors\":[\"#90EE90\",\"FFA500\",\"#0096FF\"]},\"hoverinfo\":\"label\",\"textinfo\":\"percent\"}],                        {\"template\":{\"data\":{\"histogram2dcontour\":[{\"type\":\"histogram2dcontour\",\"colorbar\":{\"outlinewidth\":0,\"ticks\":\"\"},\"colorscale\":[[0.0,\"#0d0887\"],[0.1111111111111111,\"#46039f\"],[0.2222222222222222,\"#7201a8\"],[0.3333333333333333,\"#9c179e\"],[0.4444444444444444,\"#bd3786\"],[0.5555555555555556,\"#d8576b\"],[0.6666666666666666,\"#ed7953\"],[0.7777777777777778,\"#fb9f3a\"],[0.8888888888888888,\"#fdca26\"],[1.0,\"#f0f921\"]]}],\"choropleth\":[{\"type\":\"choropleth\",\"colorbar\":{\"outlinewidth\":0,\"ticks\":\"\"}}],\"histogram2d\":[{\"type\":\"histogram2d\",\"colorbar\":{\"outlinewidth\":0,\"ticks\":\"\"},\"colorscale\":[[0.0,\"#0d0887\"],[0.1111111111111111,\"#46039f\"],[0.2222222222222222,\"#7201a8\"],[0.3333333333333333,\"#9c179e\"],[0.4444444444444444,\"#bd3786\"],[0.5555555555555556,\"#d8576b\"],[0.6666666666666666,\"#ed7953\"],[0.7777777777777778,\"#fb9f3a\"],[0.8888888888888888,\"#fdca26\"],[1.0,\"#f0f921\"]]}],\"heatmap\":[{\"type\":\"heatmap\",\"colorbar\":{\"outlinewidth\":0,\"ticks\":\"\"},\"colorscale\":[[0.0,\"#0d0887\"],[0.1111111111111111,\"#46039f\"],[0.2222222222222222,\"#7201a8\"],[0.3333333333333333,\"#9c179e\"],[0.4444444444444444,\"#bd3786\"],[0.5555555555555556,\"#d8576b\"],[0.6666666666666666,\"#ed7953\"],[0.7777777777777778,\"#fb9f3a\"],[0.8888888888888888,\"#fdca26\"],[1.0,\"#f0f921\"]]}],\"heatmapgl\":[{\"type\":\"heatmapgl\",\"colorbar\":{\"outlinewidth\":0,\"ticks\":\"\"},\"colorscale\":[[0.0,\"#0d0887\"],[0.1111111111111111,\"#46039f\"],[0.2222222222222222,\"#7201a8\"],[0.3333333333333333,\"#9c179e\"],[0.4444444444444444,\"#bd3786\"],[0.5555555555555556,\"#d8576b\"],[0.6666666666666666,\"#ed7953\"],[0.7777777777777778,\"#fb9f3a\"],[0.8888888888888888,\"#fdca26\"],[1.0,\"#f0f921\"]]}],\"contourcarpet\":[{\"type\":\"contourcarpet\",\"colorbar\":{\"outlinewidth\":0,\"ticks\":\"\"}}],\"contour\":[{\"type\":\"contour\",\"colorbar\":{\"outlinewidth\":0,\"ticks\":\"\"},\"colorscale\":[[0.0,\"#0d0887\"],[0.1111111111111111,\"#46039f\"],[0.2222222222222222,\"#7201a8\"],[0.3333333333333333,\"#9c179e\"],[0.4444444444444444,\"#bd3786\"],[0.5555555555555556,\"#d8576b\"],[0.6666666666666666,\"#ed7953\"],[0.7777777777777778,\"#fb9f3a\"],[0.8888888888888888,\"#fdca26\"],[1.0,\"#f0f921\"]]}],\"surface\":[{\"type\":\"surface\",\"colorbar\":{\"outlinewidth\":0,\"ticks\":\"\"},\"colorscale\":[[0.0,\"#0d0887\"],[0.1111111111111111,\"#46039f\"],[0.2222222222222222,\"#7201a8\"],[0.3333333333333333,\"#9c179e\"],[0.4444444444444444,\"#bd3786\"],[0.5555555555555556,\"#d8576b\"],[0.6666666666666666,\"#ed7953\"],[0.7777777777777778,\"#fb9f3a\"],[0.8888888888888888,\"#fdca26\"],[1.0,\"#f0f921\"]]}],\"mesh3d\":[{\"type\":\"mesh3d\",\"colorbar\":{\"outlinewidth\":0,\"ticks\":\"\"}}],\"scatter\":[{\"fillpattern\":{\"fillmode\":\"overlay\",\"size\":10,\"solidity\":0.2},\"type\":\"scatter\"}],\"parcoords\":[{\"type\":\"parcoords\",\"line\":{\"colorbar\":{\"outlinewidth\":0,\"ticks\":\"\"}}}],\"scatterpolargl\":[{\"type\":\"scatterpolargl\",\"marker\":{\"colorbar\":{\"outlinewidth\":0,\"ticks\":\"\"}}}],\"bar\":[{\"error_x\":{\"color\":\"#2a3f5f\"},\"error_y\":{\"color\":\"#2a3f5f\"},\"marker\":{\"line\":{\"color\":\"#E5ECF6\",\"width\":0.5},\"pattern\":{\"fillmode\":\"overlay\",\"size\":10,\"solidity\":0.2}},\"type\":\"bar\"}],\"scattergeo\":[{\"type\":\"scattergeo\",\"marker\":{\"colorbar\":{\"outlinewidth\":0,\"ticks\":\"\"}}}],\"scatterpolar\":[{\"type\":\"scatterpolar\",\"marker\":{\"colorbar\":{\"outlinewidth\":0,\"ticks\":\"\"}}}],\"histogram\":[{\"marker\":{\"pattern\":{\"fillmode\":\"overlay\",\"size\":10,\"solidity\":0.2}},\"type\":\"histogram\"}],\"scattergl\":[{\"type\":\"scattergl\",\"marker\":{\"colorbar\":{\"outlinewidth\":0,\"ticks\":\"\"}}}],\"scatter3d\":[{\"type\":\"scatter3d\",\"line\":{\"colorbar\":{\"outlinewidth\":0,\"ticks\":\"\"}},\"marker\":{\"colorbar\":{\"outlinewidth\":0,\"ticks\":\"\"}}}],\"scattermapbox\":[{\"type\":\"scattermapbox\",\"marker\":{\"colorbar\":{\"outlinewidth\":0,\"ticks\":\"\"}}}],\"scatterternary\":[{\"type\":\"scatterternary\",\"marker\":{\"colorbar\":{\"outlinewidth\":0,\"ticks\":\"\"}}}],\"scattercarpet\":[{\"type\":\"scattercarpet\",\"marker\":{\"colorbar\":{\"outlinewidth\":0,\"ticks\":\"\"}}}],\"carpet\":[{\"aaxis\":{\"endlinecolor\":\"#2a3f5f\",\"gridcolor\":\"white\",\"linecolor\":\"white\",\"minorgridcolor\":\"white\",\"startlinecolor\":\"#2a3f5f\"},\"baxis\":{\"endlinecolor\":\"#2a3f5f\",\"gridcolor\":\"white\",\"linecolor\":\"white\",\"minorgridcolor\":\"white\",\"startlinecolor\":\"#2a3f5f\"},\"type\":\"carpet\"}],\"table\":[{\"cells\":{\"fill\":{\"color\":\"#EBF0F8\"},\"line\":{\"color\":\"white\"}},\"header\":{\"fill\":{\"color\":\"#C8D4E3\"},\"line\":{\"color\":\"white\"}},\"type\":\"table\"}],\"barpolar\":[{\"marker\":{\"line\":{\"color\":\"#E5ECF6\",\"width\":0.5},\"pattern\":{\"fillmode\":\"overlay\",\"size\":10,\"solidity\":0.2}},\"type\":\"barpolar\"}],\"pie\":[{\"automargin\":true,\"type\":\"pie\"}]},\"layout\":{\"autotypenumbers\":\"strict\",\"colorway\":[\"#636efa\",\"#EF553B\",\"#00cc96\",\"#ab63fa\",\"#FFA15A\",\"#19d3f3\",\"#FF6692\",\"#B6E880\",\"#FF97FF\",\"#FECB52\"],\"font\":{\"color\":\"#2a3f5f\"},\"hovermode\":\"closest\",\"hoverlabel\":{\"align\":\"left\"},\"paper_bgcolor\":\"white\",\"plot_bgcolor\":\"#E5ECF6\",\"polar\":{\"bgcolor\":\"#E5ECF6\",\"angularaxis\":{\"gridcolor\":\"white\",\"linecolor\":\"white\",\"ticks\":\"\"},\"radialaxis\":{\"gridcolor\":\"white\",\"linecolor\":\"white\",\"ticks\":\"\"}},\"ternary\":{\"bgcolor\":\"#E5ECF6\",\"aaxis\":{\"gridcolor\":\"white\",\"linecolor\":\"white\",\"ticks\":\"\"},\"baxis\":{\"gridcolor\":\"white\",\"linecolor\":\"white\",\"ticks\":\"\"},\"caxis\":{\"gridcolor\":\"white\",\"linecolor\":\"white\",\"ticks\":\"\"}},\"coloraxis\":{\"colorbar\":{\"outlinewidth\":0,\"ticks\":\"\"}},\"colorscale\":{\"sequential\":[[0.0,\"#0d0887\"],[0.1111111111111111,\"#46039f\"],[0.2222222222222222,\"#7201a8\"],[0.3333333333333333,\"#9c179e\"],[0.4444444444444444,\"#bd3786\"],[0.5555555555555556,\"#d8576b\"],[0.6666666666666666,\"#ed7953\"],[0.7777777777777778,\"#fb9f3a\"],[0.8888888888888888,\"#fdca26\"],[1.0,\"#f0f921\"]],\"sequentialminus\":[[0.0,\"#0d0887\"],[0.1111111111111111,\"#46039f\"],[0.2222222222222222,\"#7201a8\"],[0.3333333333333333,\"#9c179e\"],[0.4444444444444444,\"#bd3786\"],[0.5555555555555556,\"#d8576b\"],[0.6666666666666666,\"#ed7953\"],[0.7777777777777778,\"#fb9f3a\"],[0.8888888888888888,\"#fdca26\"],[1.0,\"#f0f921\"]],\"diverging\":[[0,\"#8e0152\"],[0.1,\"#c51b7d\"],[0.2,\"#de77ae\"],[0.3,\"#f1b6da\"],[0.4,\"#fde0ef\"],[0.5,\"#f7f7f7\"],[0.6,\"#e6f5d0\"],[0.7,\"#b8e186\"],[0.8,\"#7fbc41\"],[0.9,\"#4d9221\"],[1,\"#276419\"]]},\"xaxis\":{\"gridcolor\":\"white\",\"linecolor\":\"white\",\"ticks\":\"\",\"title\":{\"standoff\":15},\"zerolinecolor\":\"white\",\"automargin\":true,\"zerolinewidth\":2},\"yaxis\":{\"gridcolor\":\"white\",\"linecolor\":\"white\",\"ticks\":\"\",\"title\":{\"standoff\":15},\"zerolinecolor\":\"white\",\"automargin\":true,\"zerolinewidth\":2},\"scene\":{\"xaxis\":{\"backgroundcolor\":\"#E5ECF6\",\"gridcolor\":\"white\",\"linecolor\":\"white\",\"showbackground\":true,\"ticks\":\"\",\"zerolinecolor\":\"white\",\"gridwidth\":2},\"yaxis\":{\"backgroundcolor\":\"#E5ECF6\",\"gridcolor\":\"white\",\"linecolor\":\"white\",\"showbackground\":true,\"ticks\":\"\",\"zerolinecolor\":\"white\",\"gridwidth\":2},\"zaxis\":{\"backgroundcolor\":\"#E5ECF6\",\"gridcolor\":\"white\",\"linecolor\":\"white\",\"showbackground\":true,\"ticks\":\"\",\"zerolinecolor\":\"white\",\"gridwidth\":2}},\"shapedefaults\":{\"line\":{\"color\":\"#2a3f5f\"}},\"annotationdefaults\":{\"arrowcolor\":\"#2a3f5f\",\"arrowhead\":0,\"arrowwidth\":1},\"geo\":{\"bgcolor\":\"white\",\"landcolor\":\"#E5ECF6\",\"subunitcolor\":\"white\",\"showland\":true,\"showlakes\":true,\"lakecolor\":\"white\"},\"title\":{\"x\":0.05},\"mapbox\":{\"style\":\"light\"}}},\"font\":{\"color\":\"#ffffff\"},\"title\":{\"text\":\"Distribution of Higher Episode Ratings Between Hosts\"},\"xaxis\":{\"title\":{\"text\":\"Episode Number\"}},\"yaxis\":{\"title\":{\"text\":\"Average Score Difference\"}},\"paper_bgcolor\":\"#011222\"},                        {\"responsive\": true}                    ).then(function(){\n",
       "                            \n",
       "var gd = document.getElementById('350a597d-e079-46f5-b1d2-29c8aa80c4ca');\n",
       "var x = new MutationObserver(function (mutations, observer) {{\n",
       "        var display = window.getComputedStyle(gd).display;\n",
       "        if (!display || display === 'none') {{\n",
       "            console.log([gd, 'removed!']);\n",
       "            Plotly.purge(gd);\n",
       "            observer.disconnect();\n",
       "        }}\n",
       "}});\n",
       "\n",
       "// Listen for the removal of the full notebook cells\n",
       "var notebookContainer = gd.closest('#notebook-container');\n",
       "if (notebookContainer) {{\n",
       "    x.observe(notebookContainer, {childList: true});\n",
       "}}\n",
       "\n",
       "// Listen for the clearing of the current output cell\n",
       "var outputEl = gd.closest('.output');\n",
       "if (outputEl) {{\n",
       "    x.observe(outputEl, {childList: true});\n",
       "}}\n",
       "\n",
       "                        })                };                });            </script>        </div>"
      ]
     },
     "metadata": {},
     "output_type": "display_data"
    },
    {
     "data": {
      "text/plain": [
       "'https://plotly.com/~Cbsiros/17/'"
      ]
     },
     "execution_count": 20,
     "metadata": {},
     "output_type": "execute_result"
    }
   ],
   "source": [
    "# Create labels for pie chart\n",
    "labels = ['Tie','Zach','Brent']\n",
    "\n",
    "# Create data for pie chart, based on which host rated episodes higher\n",
    "highest_reviewer = ['Brent' if B > Z else 'Zach' if B < Z else 'Tie' for B, Z in zip(ratings_df['Brent_Chevrons'], ratings_df['Zach_Chevrons'])]\n",
    "\n",
    "# Count number of occurances in previous data\n",
    "highest_reviewer_counts = pd.Series(highest_reviewer).value_counts()\n",
    "\n",
    "# Create figure\n",
    "fig = go.Figure(data = go.Pie(labels = labels,                    # Pie chart labels\n",
    "                              values = highest_reviewer_counts,   # Pie chart values\n",
    "                              hole = 0.2))                        # Create hole in the middle of the chart\n",
    "\n",
    "# Create list of colors for pie chart\n",
    "colors = ['#90EE90', 'FFA500', '#0096FF']\n",
    "\n",
    "fig.update_traces(hoverinfo = 'label',                                                         # Set info upon hover to slice label\n",
    "                  textinfo = 'percent',                                                        # Set text within slice to percent\n",
    "                  textfont_size = 20,                                                          # Set font size\n",
    "                  marker = dict(colors = colors, line = dict(color = '#ffffff', width = 2)))   # Set colors of slices and lines\n",
    "\n",
    "\n",
    "#Further style the figure\n",
    "fig.update_layout(\n",
    "    title = 'Distribution of Higher Episode Ratings Between Hosts',   # Set plot title\n",
    "    xaxis_title = 'Episode Number',             # Set x-axis title\n",
    "    yaxis_title = 'Average Score Difference',   # Set y-axis title\n",
    "    paper_bgcolor = '#011222',                  # Set background color\n",
    "    font_color = '#ffffff')                     # Set font color;\n",
    "\n",
    "# Display figure\n",
    "fig.show()\n",
    "\n",
    "# Create plot in Chart Studio for later embedding\n",
    "py.plot(fig, filename = 'Distribution of Higher Episode Ratings Between Hosts', auto_open = False)"
   ]
  },
  {
   "cell_type": "markdown",
   "id": "84567904",
   "metadata": {},
   "source": [
    "## Season Long Ratings"
   ]
  },
  {
   "cell_type": "code",
   "execution_count": 21,
   "id": "a5d5fd41",
   "metadata": {},
   "outputs": [],
   "source": [
    "# Create a new dataframe of ratings grouped by the season number\n",
    "seasons_df = ratings_df.groupby('Season_Num').mean(numeric_only=True)[['Brent_Chevrons', 'Zach_Chevrons']]"
   ]
  },
  {
   "cell_type": "code",
   "execution_count": 22,
   "id": "e5da289c",
   "metadata": {},
   "outputs": [
    {
     "data": {
      "application/vnd.plotly.v1+json": {
       "config": {
        "plotlyServerURL": "https://plotly.com"
       },
       "data": [
        {
         "marker": {
          "color": "#0096FF"
         },
         "name": "Brent",
         "type": "bar",
         "x": [
          1,
          2,
          3,
          4,
          5,
          6,
          7,
          8,
          9
         ],
         "y": [
          4,
          4.181818181818182,
          4.863636363636363,
          5.113636363636363,
          5.5,
          5.045454545454546,
          5.681818181818182,
          5.45,
          5.1
         ]
        },
        {
         "marker": {
          "color": "#FFA500"
         },
         "name": "Zach",
         "type": "bar",
         "x": [
          1,
          2,
          3,
          4,
          5,
          6,
          7,
          8,
          9
         ],
         "y": [
          4.023809523809524,
          4.090909090909091,
          4.863636363636363,
          5.340909090909091,
          5.5,
          5.090909090909091,
          5.340909090909091,
          5.575,
          5.425
         ]
        }
       ],
       "layout": {
        "bargap": 0.2,
        "bargroupgap": 0.1,
        "font": {
         "color": "#ffffff"
        },
        "paper_bgcolor": "#011222",
        "template": {
         "data": {
          "bar": [
           {
            "error_x": {
             "color": "#2a3f5f"
            },
            "error_y": {
             "color": "#2a3f5f"
            },
            "marker": {
             "line": {
              "color": "#E5ECF6",
              "width": 0.5
             },
             "pattern": {
              "fillmode": "overlay",
              "size": 10,
              "solidity": 0.2
             }
            },
            "type": "bar"
           }
          ],
          "barpolar": [
           {
            "marker": {
             "line": {
              "color": "#E5ECF6",
              "width": 0.5
             },
             "pattern": {
              "fillmode": "overlay",
              "size": 10,
              "solidity": 0.2
             }
            },
            "type": "barpolar"
           }
          ],
          "carpet": [
           {
            "aaxis": {
             "endlinecolor": "#2a3f5f",
             "gridcolor": "white",
             "linecolor": "white",
             "minorgridcolor": "white",
             "startlinecolor": "#2a3f5f"
            },
            "baxis": {
             "endlinecolor": "#2a3f5f",
             "gridcolor": "white",
             "linecolor": "white",
             "minorgridcolor": "white",
             "startlinecolor": "#2a3f5f"
            },
            "type": "carpet"
           }
          ],
          "choropleth": [
           {
            "colorbar": {
             "outlinewidth": 0,
             "ticks": ""
            },
            "type": "choropleth"
           }
          ],
          "contour": [
           {
            "colorbar": {
             "outlinewidth": 0,
             "ticks": ""
            },
            "colorscale": [
             [
              0,
              "#0d0887"
             ],
             [
              0.1111111111111111,
              "#46039f"
             ],
             [
              0.2222222222222222,
              "#7201a8"
             ],
             [
              0.3333333333333333,
              "#9c179e"
             ],
             [
              0.4444444444444444,
              "#bd3786"
             ],
             [
              0.5555555555555556,
              "#d8576b"
             ],
             [
              0.6666666666666666,
              "#ed7953"
             ],
             [
              0.7777777777777778,
              "#fb9f3a"
             ],
             [
              0.8888888888888888,
              "#fdca26"
             ],
             [
              1,
              "#f0f921"
             ]
            ],
            "type": "contour"
           }
          ],
          "contourcarpet": [
           {
            "colorbar": {
             "outlinewidth": 0,
             "ticks": ""
            },
            "type": "contourcarpet"
           }
          ],
          "heatmap": [
           {
            "colorbar": {
             "outlinewidth": 0,
             "ticks": ""
            },
            "colorscale": [
             [
              0,
              "#0d0887"
             ],
             [
              0.1111111111111111,
              "#46039f"
             ],
             [
              0.2222222222222222,
              "#7201a8"
             ],
             [
              0.3333333333333333,
              "#9c179e"
             ],
             [
              0.4444444444444444,
              "#bd3786"
             ],
             [
              0.5555555555555556,
              "#d8576b"
             ],
             [
              0.6666666666666666,
              "#ed7953"
             ],
             [
              0.7777777777777778,
              "#fb9f3a"
             ],
             [
              0.8888888888888888,
              "#fdca26"
             ],
             [
              1,
              "#f0f921"
             ]
            ],
            "type": "heatmap"
           }
          ],
          "heatmapgl": [
           {
            "colorbar": {
             "outlinewidth": 0,
             "ticks": ""
            },
            "colorscale": [
             [
              0,
              "#0d0887"
             ],
             [
              0.1111111111111111,
              "#46039f"
             ],
             [
              0.2222222222222222,
              "#7201a8"
             ],
             [
              0.3333333333333333,
              "#9c179e"
             ],
             [
              0.4444444444444444,
              "#bd3786"
             ],
             [
              0.5555555555555556,
              "#d8576b"
             ],
             [
              0.6666666666666666,
              "#ed7953"
             ],
             [
              0.7777777777777778,
              "#fb9f3a"
             ],
             [
              0.8888888888888888,
              "#fdca26"
             ],
             [
              1,
              "#f0f921"
             ]
            ],
            "type": "heatmapgl"
           }
          ],
          "histogram": [
           {
            "marker": {
             "pattern": {
              "fillmode": "overlay",
              "size": 10,
              "solidity": 0.2
             }
            },
            "type": "histogram"
           }
          ],
          "histogram2d": [
           {
            "colorbar": {
             "outlinewidth": 0,
             "ticks": ""
            },
            "colorscale": [
             [
              0,
              "#0d0887"
             ],
             [
              0.1111111111111111,
              "#46039f"
             ],
             [
              0.2222222222222222,
              "#7201a8"
             ],
             [
              0.3333333333333333,
              "#9c179e"
             ],
             [
              0.4444444444444444,
              "#bd3786"
             ],
             [
              0.5555555555555556,
              "#d8576b"
             ],
             [
              0.6666666666666666,
              "#ed7953"
             ],
             [
              0.7777777777777778,
              "#fb9f3a"
             ],
             [
              0.8888888888888888,
              "#fdca26"
             ],
             [
              1,
              "#f0f921"
             ]
            ],
            "type": "histogram2d"
           }
          ],
          "histogram2dcontour": [
           {
            "colorbar": {
             "outlinewidth": 0,
             "ticks": ""
            },
            "colorscale": [
             [
              0,
              "#0d0887"
             ],
             [
              0.1111111111111111,
              "#46039f"
             ],
             [
              0.2222222222222222,
              "#7201a8"
             ],
             [
              0.3333333333333333,
              "#9c179e"
             ],
             [
              0.4444444444444444,
              "#bd3786"
             ],
             [
              0.5555555555555556,
              "#d8576b"
             ],
             [
              0.6666666666666666,
              "#ed7953"
             ],
             [
              0.7777777777777778,
              "#fb9f3a"
             ],
             [
              0.8888888888888888,
              "#fdca26"
             ],
             [
              1,
              "#f0f921"
             ]
            ],
            "type": "histogram2dcontour"
           }
          ],
          "mesh3d": [
           {
            "colorbar": {
             "outlinewidth": 0,
             "ticks": ""
            },
            "type": "mesh3d"
           }
          ],
          "parcoords": [
           {
            "line": {
             "colorbar": {
              "outlinewidth": 0,
              "ticks": ""
             }
            },
            "type": "parcoords"
           }
          ],
          "pie": [
           {
            "automargin": true,
            "type": "pie"
           }
          ],
          "scatter": [
           {
            "fillpattern": {
             "fillmode": "overlay",
             "size": 10,
             "solidity": 0.2
            },
            "type": "scatter"
           }
          ],
          "scatter3d": [
           {
            "line": {
             "colorbar": {
              "outlinewidth": 0,
              "ticks": ""
             }
            },
            "marker": {
             "colorbar": {
              "outlinewidth": 0,
              "ticks": ""
             }
            },
            "type": "scatter3d"
           }
          ],
          "scattercarpet": [
           {
            "marker": {
             "colorbar": {
              "outlinewidth": 0,
              "ticks": ""
             }
            },
            "type": "scattercarpet"
           }
          ],
          "scattergeo": [
           {
            "marker": {
             "colorbar": {
              "outlinewidth": 0,
              "ticks": ""
             }
            },
            "type": "scattergeo"
           }
          ],
          "scattergl": [
           {
            "marker": {
             "colorbar": {
              "outlinewidth": 0,
              "ticks": ""
             }
            },
            "type": "scattergl"
           }
          ],
          "scattermapbox": [
           {
            "marker": {
             "colorbar": {
              "outlinewidth": 0,
              "ticks": ""
             }
            },
            "type": "scattermapbox"
           }
          ],
          "scatterpolar": [
           {
            "marker": {
             "colorbar": {
              "outlinewidth": 0,
              "ticks": ""
             }
            },
            "type": "scatterpolar"
           }
          ],
          "scatterpolargl": [
           {
            "marker": {
             "colorbar": {
              "outlinewidth": 0,
              "ticks": ""
             }
            },
            "type": "scatterpolargl"
           }
          ],
          "scatterternary": [
           {
            "marker": {
             "colorbar": {
              "outlinewidth": 0,
              "ticks": ""
             }
            },
            "type": "scatterternary"
           }
          ],
          "surface": [
           {
            "colorbar": {
             "outlinewidth": 0,
             "ticks": ""
            },
            "colorscale": [
             [
              0,
              "#0d0887"
             ],
             [
              0.1111111111111111,
              "#46039f"
             ],
             [
              0.2222222222222222,
              "#7201a8"
             ],
             [
              0.3333333333333333,
              "#9c179e"
             ],
             [
              0.4444444444444444,
              "#bd3786"
             ],
             [
              0.5555555555555556,
              "#d8576b"
             ],
             [
              0.6666666666666666,
              "#ed7953"
             ],
             [
              0.7777777777777778,
              "#fb9f3a"
             ],
             [
              0.8888888888888888,
              "#fdca26"
             ],
             [
              1,
              "#f0f921"
             ]
            ],
            "type": "surface"
           }
          ],
          "table": [
           {
            "cells": {
             "fill": {
              "color": "#EBF0F8"
             },
             "line": {
              "color": "white"
             }
            },
            "header": {
             "fill": {
              "color": "#C8D4E3"
             },
             "line": {
              "color": "white"
             }
            },
            "type": "table"
           }
          ]
         },
         "layout": {
          "annotationdefaults": {
           "arrowcolor": "#2a3f5f",
           "arrowhead": 0,
           "arrowwidth": 1
          },
          "autotypenumbers": "strict",
          "coloraxis": {
           "colorbar": {
            "outlinewidth": 0,
            "ticks": ""
           }
          },
          "colorscale": {
           "diverging": [
            [
             0,
             "#8e0152"
            ],
            [
             0.1,
             "#c51b7d"
            ],
            [
             0.2,
             "#de77ae"
            ],
            [
             0.3,
             "#f1b6da"
            ],
            [
             0.4,
             "#fde0ef"
            ],
            [
             0.5,
             "#f7f7f7"
            ],
            [
             0.6,
             "#e6f5d0"
            ],
            [
             0.7,
             "#b8e186"
            ],
            [
             0.8,
             "#7fbc41"
            ],
            [
             0.9,
             "#4d9221"
            ],
            [
             1,
             "#276419"
            ]
           ],
           "sequential": [
            [
             0,
             "#0d0887"
            ],
            [
             0.1111111111111111,
             "#46039f"
            ],
            [
             0.2222222222222222,
             "#7201a8"
            ],
            [
             0.3333333333333333,
             "#9c179e"
            ],
            [
             0.4444444444444444,
             "#bd3786"
            ],
            [
             0.5555555555555556,
             "#d8576b"
            ],
            [
             0.6666666666666666,
             "#ed7953"
            ],
            [
             0.7777777777777778,
             "#fb9f3a"
            ],
            [
             0.8888888888888888,
             "#fdca26"
            ],
            [
             1,
             "#f0f921"
            ]
           ],
           "sequentialminus": [
            [
             0,
             "#0d0887"
            ],
            [
             0.1111111111111111,
             "#46039f"
            ],
            [
             0.2222222222222222,
             "#7201a8"
            ],
            [
             0.3333333333333333,
             "#9c179e"
            ],
            [
             0.4444444444444444,
             "#bd3786"
            ],
            [
             0.5555555555555556,
             "#d8576b"
            ],
            [
             0.6666666666666666,
             "#ed7953"
            ],
            [
             0.7777777777777778,
             "#fb9f3a"
            ],
            [
             0.8888888888888888,
             "#fdca26"
            ],
            [
             1,
             "#f0f921"
            ]
           ]
          },
          "colorway": [
           "#636efa",
           "#EF553B",
           "#00cc96",
           "#ab63fa",
           "#FFA15A",
           "#19d3f3",
           "#FF6692",
           "#B6E880",
           "#FF97FF",
           "#FECB52"
          ],
          "font": {
           "color": "#2a3f5f"
          },
          "geo": {
           "bgcolor": "white",
           "lakecolor": "white",
           "landcolor": "#E5ECF6",
           "showlakes": true,
           "showland": true,
           "subunitcolor": "white"
          },
          "hoverlabel": {
           "align": "left"
          },
          "hovermode": "closest",
          "mapbox": {
           "style": "light"
          },
          "paper_bgcolor": "white",
          "plot_bgcolor": "#E5ECF6",
          "polar": {
           "angularaxis": {
            "gridcolor": "white",
            "linecolor": "white",
            "ticks": ""
           },
           "bgcolor": "#E5ECF6",
           "radialaxis": {
            "gridcolor": "white",
            "linecolor": "white",
            "ticks": ""
           }
          },
          "scene": {
           "xaxis": {
            "backgroundcolor": "#E5ECF6",
            "gridcolor": "white",
            "gridwidth": 2,
            "linecolor": "white",
            "showbackground": true,
            "ticks": "",
            "zerolinecolor": "white"
           },
           "yaxis": {
            "backgroundcolor": "#E5ECF6",
            "gridcolor": "white",
            "gridwidth": 2,
            "linecolor": "white",
            "showbackground": true,
            "ticks": "",
            "zerolinecolor": "white"
           },
           "zaxis": {
            "backgroundcolor": "#E5ECF6",
            "gridcolor": "white",
            "gridwidth": 2,
            "linecolor": "white",
            "showbackground": true,
            "ticks": "",
            "zerolinecolor": "white"
           }
          },
          "shapedefaults": {
           "line": {
            "color": "#2a3f5f"
           }
          },
          "ternary": {
           "aaxis": {
            "gridcolor": "white",
            "linecolor": "white",
            "ticks": ""
           },
           "baxis": {
            "gridcolor": "white",
            "linecolor": "white",
            "ticks": ""
           },
           "bgcolor": "#E5ECF6",
           "caxis": {
            "gridcolor": "white",
            "linecolor": "white",
            "ticks": ""
           }
          },
          "title": {
           "x": 0.05
          },
          "xaxis": {
           "automargin": true,
           "gridcolor": "white",
           "linecolor": "white",
           "ticks": "",
           "title": {
            "standoff": 15
           },
           "zerolinecolor": "white",
           "zerolinewidth": 2
          },
          "yaxis": {
           "automargin": true,
           "gridcolor": "white",
           "linecolor": "white",
           "ticks": "",
           "title": {
            "standoff": 15
           },
           "zerolinecolor": "white",
           "zerolinewidth": 2
          }
         }
        },
        "title": {
         "text": "Average Chevron Rating by Season"
        },
        "xaxis": {
         "title": {
          "text": "Season"
         }
        },
        "yaxis": {
         "title": {
          "text": "Average Chevron Rating"
         }
        }
       }
      },
      "text/html": [
       "<div>                            <div id=\"a8b4cb20-8c1d-4cbd-995c-8a0cf2030808\" class=\"plotly-graph-div\" style=\"height:525px; width:100%;\"></div>            <script type=\"text/javascript\">                require([\"plotly\"], function(Plotly) {                    window.PLOTLYENV=window.PLOTLYENV || {};                                    if (document.getElementById(\"a8b4cb20-8c1d-4cbd-995c-8a0cf2030808\")) {                    Plotly.newPlot(                        \"a8b4cb20-8c1d-4cbd-995c-8a0cf2030808\",                        [{\"marker\":{\"color\":\"#0096FF\"},\"name\":\"Brent\",\"x\":[1,2,3,4,5,6,7,8,9],\"y\":[4.0,4.181818181818182,4.863636363636363,5.113636363636363,5.5,5.045454545454546,5.681818181818182,5.45,5.1],\"type\":\"bar\"},{\"marker\":{\"color\":\"#FFA500\"},\"name\":\"Zach\",\"x\":[1,2,3,4,5,6,7,8,9],\"y\":[4.023809523809524,4.090909090909091,4.863636363636363,5.340909090909091,5.5,5.090909090909091,5.340909090909091,5.575,5.425],\"type\":\"bar\"}],                        {\"template\":{\"data\":{\"histogram2dcontour\":[{\"type\":\"histogram2dcontour\",\"colorbar\":{\"outlinewidth\":0,\"ticks\":\"\"},\"colorscale\":[[0.0,\"#0d0887\"],[0.1111111111111111,\"#46039f\"],[0.2222222222222222,\"#7201a8\"],[0.3333333333333333,\"#9c179e\"],[0.4444444444444444,\"#bd3786\"],[0.5555555555555556,\"#d8576b\"],[0.6666666666666666,\"#ed7953\"],[0.7777777777777778,\"#fb9f3a\"],[0.8888888888888888,\"#fdca26\"],[1.0,\"#f0f921\"]]}],\"choropleth\":[{\"type\":\"choropleth\",\"colorbar\":{\"outlinewidth\":0,\"ticks\":\"\"}}],\"histogram2d\":[{\"type\":\"histogram2d\",\"colorbar\":{\"outlinewidth\":0,\"ticks\":\"\"},\"colorscale\":[[0.0,\"#0d0887\"],[0.1111111111111111,\"#46039f\"],[0.2222222222222222,\"#7201a8\"],[0.3333333333333333,\"#9c179e\"],[0.4444444444444444,\"#bd3786\"],[0.5555555555555556,\"#d8576b\"],[0.6666666666666666,\"#ed7953\"],[0.7777777777777778,\"#fb9f3a\"],[0.8888888888888888,\"#fdca26\"],[1.0,\"#f0f921\"]]}],\"heatmap\":[{\"type\":\"heatmap\",\"colorbar\":{\"outlinewidth\":0,\"ticks\":\"\"},\"colorscale\":[[0.0,\"#0d0887\"],[0.1111111111111111,\"#46039f\"],[0.2222222222222222,\"#7201a8\"],[0.3333333333333333,\"#9c179e\"],[0.4444444444444444,\"#bd3786\"],[0.5555555555555556,\"#d8576b\"],[0.6666666666666666,\"#ed7953\"],[0.7777777777777778,\"#fb9f3a\"],[0.8888888888888888,\"#fdca26\"],[1.0,\"#f0f921\"]]}],\"heatmapgl\":[{\"type\":\"heatmapgl\",\"colorbar\":{\"outlinewidth\":0,\"ticks\":\"\"},\"colorscale\":[[0.0,\"#0d0887\"],[0.1111111111111111,\"#46039f\"],[0.2222222222222222,\"#7201a8\"],[0.3333333333333333,\"#9c179e\"],[0.4444444444444444,\"#bd3786\"],[0.5555555555555556,\"#d8576b\"],[0.6666666666666666,\"#ed7953\"],[0.7777777777777778,\"#fb9f3a\"],[0.8888888888888888,\"#fdca26\"],[1.0,\"#f0f921\"]]}],\"contourcarpet\":[{\"type\":\"contourcarpet\",\"colorbar\":{\"outlinewidth\":0,\"ticks\":\"\"}}],\"contour\":[{\"type\":\"contour\",\"colorbar\":{\"outlinewidth\":0,\"ticks\":\"\"},\"colorscale\":[[0.0,\"#0d0887\"],[0.1111111111111111,\"#46039f\"],[0.2222222222222222,\"#7201a8\"],[0.3333333333333333,\"#9c179e\"],[0.4444444444444444,\"#bd3786\"],[0.5555555555555556,\"#d8576b\"],[0.6666666666666666,\"#ed7953\"],[0.7777777777777778,\"#fb9f3a\"],[0.8888888888888888,\"#fdca26\"],[1.0,\"#f0f921\"]]}],\"surface\":[{\"type\":\"surface\",\"colorbar\":{\"outlinewidth\":0,\"ticks\":\"\"},\"colorscale\":[[0.0,\"#0d0887\"],[0.1111111111111111,\"#46039f\"],[0.2222222222222222,\"#7201a8\"],[0.3333333333333333,\"#9c179e\"],[0.4444444444444444,\"#bd3786\"],[0.5555555555555556,\"#d8576b\"],[0.6666666666666666,\"#ed7953\"],[0.7777777777777778,\"#fb9f3a\"],[0.8888888888888888,\"#fdca26\"],[1.0,\"#f0f921\"]]}],\"mesh3d\":[{\"type\":\"mesh3d\",\"colorbar\":{\"outlinewidth\":0,\"ticks\":\"\"}}],\"scatter\":[{\"fillpattern\":{\"fillmode\":\"overlay\",\"size\":10,\"solidity\":0.2},\"type\":\"scatter\"}],\"parcoords\":[{\"type\":\"parcoords\",\"line\":{\"colorbar\":{\"outlinewidth\":0,\"ticks\":\"\"}}}],\"scatterpolargl\":[{\"type\":\"scatterpolargl\",\"marker\":{\"colorbar\":{\"outlinewidth\":0,\"ticks\":\"\"}}}],\"bar\":[{\"error_x\":{\"color\":\"#2a3f5f\"},\"error_y\":{\"color\":\"#2a3f5f\"},\"marker\":{\"line\":{\"color\":\"#E5ECF6\",\"width\":0.5},\"pattern\":{\"fillmode\":\"overlay\",\"size\":10,\"solidity\":0.2}},\"type\":\"bar\"}],\"scattergeo\":[{\"type\":\"scattergeo\",\"marker\":{\"colorbar\":{\"outlinewidth\":0,\"ticks\":\"\"}}}],\"scatterpolar\":[{\"type\":\"scatterpolar\",\"marker\":{\"colorbar\":{\"outlinewidth\":0,\"ticks\":\"\"}}}],\"histogram\":[{\"marker\":{\"pattern\":{\"fillmode\":\"overlay\",\"size\":10,\"solidity\":0.2}},\"type\":\"histogram\"}],\"scattergl\":[{\"type\":\"scattergl\",\"marker\":{\"colorbar\":{\"outlinewidth\":0,\"ticks\":\"\"}}}],\"scatter3d\":[{\"type\":\"scatter3d\",\"line\":{\"colorbar\":{\"outlinewidth\":0,\"ticks\":\"\"}},\"marker\":{\"colorbar\":{\"outlinewidth\":0,\"ticks\":\"\"}}}],\"scattermapbox\":[{\"type\":\"scattermapbox\",\"marker\":{\"colorbar\":{\"outlinewidth\":0,\"ticks\":\"\"}}}],\"scatterternary\":[{\"type\":\"scatterternary\",\"marker\":{\"colorbar\":{\"outlinewidth\":0,\"ticks\":\"\"}}}],\"scattercarpet\":[{\"type\":\"scattercarpet\",\"marker\":{\"colorbar\":{\"outlinewidth\":0,\"ticks\":\"\"}}}],\"carpet\":[{\"aaxis\":{\"endlinecolor\":\"#2a3f5f\",\"gridcolor\":\"white\",\"linecolor\":\"white\",\"minorgridcolor\":\"white\",\"startlinecolor\":\"#2a3f5f\"},\"baxis\":{\"endlinecolor\":\"#2a3f5f\",\"gridcolor\":\"white\",\"linecolor\":\"white\",\"minorgridcolor\":\"white\",\"startlinecolor\":\"#2a3f5f\"},\"type\":\"carpet\"}],\"table\":[{\"cells\":{\"fill\":{\"color\":\"#EBF0F8\"},\"line\":{\"color\":\"white\"}},\"header\":{\"fill\":{\"color\":\"#C8D4E3\"},\"line\":{\"color\":\"white\"}},\"type\":\"table\"}],\"barpolar\":[{\"marker\":{\"line\":{\"color\":\"#E5ECF6\",\"width\":0.5},\"pattern\":{\"fillmode\":\"overlay\",\"size\":10,\"solidity\":0.2}},\"type\":\"barpolar\"}],\"pie\":[{\"automargin\":true,\"type\":\"pie\"}]},\"layout\":{\"autotypenumbers\":\"strict\",\"colorway\":[\"#636efa\",\"#EF553B\",\"#00cc96\",\"#ab63fa\",\"#FFA15A\",\"#19d3f3\",\"#FF6692\",\"#B6E880\",\"#FF97FF\",\"#FECB52\"],\"font\":{\"color\":\"#2a3f5f\"},\"hovermode\":\"closest\",\"hoverlabel\":{\"align\":\"left\"},\"paper_bgcolor\":\"white\",\"plot_bgcolor\":\"#E5ECF6\",\"polar\":{\"bgcolor\":\"#E5ECF6\",\"angularaxis\":{\"gridcolor\":\"white\",\"linecolor\":\"white\",\"ticks\":\"\"},\"radialaxis\":{\"gridcolor\":\"white\",\"linecolor\":\"white\",\"ticks\":\"\"}},\"ternary\":{\"bgcolor\":\"#E5ECF6\",\"aaxis\":{\"gridcolor\":\"white\",\"linecolor\":\"white\",\"ticks\":\"\"},\"baxis\":{\"gridcolor\":\"white\",\"linecolor\":\"white\",\"ticks\":\"\"},\"caxis\":{\"gridcolor\":\"white\",\"linecolor\":\"white\",\"ticks\":\"\"}},\"coloraxis\":{\"colorbar\":{\"outlinewidth\":0,\"ticks\":\"\"}},\"colorscale\":{\"sequential\":[[0.0,\"#0d0887\"],[0.1111111111111111,\"#46039f\"],[0.2222222222222222,\"#7201a8\"],[0.3333333333333333,\"#9c179e\"],[0.4444444444444444,\"#bd3786\"],[0.5555555555555556,\"#d8576b\"],[0.6666666666666666,\"#ed7953\"],[0.7777777777777778,\"#fb9f3a\"],[0.8888888888888888,\"#fdca26\"],[1.0,\"#f0f921\"]],\"sequentialminus\":[[0.0,\"#0d0887\"],[0.1111111111111111,\"#46039f\"],[0.2222222222222222,\"#7201a8\"],[0.3333333333333333,\"#9c179e\"],[0.4444444444444444,\"#bd3786\"],[0.5555555555555556,\"#d8576b\"],[0.6666666666666666,\"#ed7953\"],[0.7777777777777778,\"#fb9f3a\"],[0.8888888888888888,\"#fdca26\"],[1.0,\"#f0f921\"]],\"diverging\":[[0,\"#8e0152\"],[0.1,\"#c51b7d\"],[0.2,\"#de77ae\"],[0.3,\"#f1b6da\"],[0.4,\"#fde0ef\"],[0.5,\"#f7f7f7\"],[0.6,\"#e6f5d0\"],[0.7,\"#b8e186\"],[0.8,\"#7fbc41\"],[0.9,\"#4d9221\"],[1,\"#276419\"]]},\"xaxis\":{\"gridcolor\":\"white\",\"linecolor\":\"white\",\"ticks\":\"\",\"title\":{\"standoff\":15},\"zerolinecolor\":\"white\",\"automargin\":true,\"zerolinewidth\":2},\"yaxis\":{\"gridcolor\":\"white\",\"linecolor\":\"white\",\"ticks\":\"\",\"title\":{\"standoff\":15},\"zerolinecolor\":\"white\",\"automargin\":true,\"zerolinewidth\":2},\"scene\":{\"xaxis\":{\"backgroundcolor\":\"#E5ECF6\",\"gridcolor\":\"white\",\"linecolor\":\"white\",\"showbackground\":true,\"ticks\":\"\",\"zerolinecolor\":\"white\",\"gridwidth\":2},\"yaxis\":{\"backgroundcolor\":\"#E5ECF6\",\"gridcolor\":\"white\",\"linecolor\":\"white\",\"showbackground\":true,\"ticks\":\"\",\"zerolinecolor\":\"white\",\"gridwidth\":2},\"zaxis\":{\"backgroundcolor\":\"#E5ECF6\",\"gridcolor\":\"white\",\"linecolor\":\"white\",\"showbackground\":true,\"ticks\":\"\",\"zerolinecolor\":\"white\",\"gridwidth\":2}},\"shapedefaults\":{\"line\":{\"color\":\"#2a3f5f\"}},\"annotationdefaults\":{\"arrowcolor\":\"#2a3f5f\",\"arrowhead\":0,\"arrowwidth\":1},\"geo\":{\"bgcolor\":\"white\",\"landcolor\":\"#E5ECF6\",\"subunitcolor\":\"white\",\"showland\":true,\"showlakes\":true,\"lakecolor\":\"white\"},\"title\":{\"x\":0.05},\"mapbox\":{\"style\":\"light\"}}},\"title\":{\"text\":\"Average Chevron Rating by Season\"},\"xaxis\":{\"title\":{\"text\":\"Season\"}},\"yaxis\":{\"title\":{\"text\":\"Average Chevron Rating\"}},\"font\":{\"color\":\"#ffffff\"},\"paper_bgcolor\":\"#011222\",\"bargap\":0.2,\"bargroupgap\":0.1},                        {\"responsive\": true}                    ).then(function(){\n",
       "                            \n",
       "var gd = document.getElementById('a8b4cb20-8c1d-4cbd-995c-8a0cf2030808');\n",
       "var x = new MutationObserver(function (mutations, observer) {{\n",
       "        var display = window.getComputedStyle(gd).display;\n",
       "        if (!display || display === 'none') {{\n",
       "            console.log([gd, 'removed!']);\n",
       "            Plotly.purge(gd);\n",
       "            observer.disconnect();\n",
       "        }}\n",
       "}});\n",
       "\n",
       "// Listen for the removal of the full notebook cells\n",
       "var notebookContainer = gd.closest('#notebook-container');\n",
       "if (notebookContainer) {{\n",
       "    x.observe(notebookContainer, {childList: true});\n",
       "}}\n",
       "\n",
       "// Listen for the clearing of the current output cell\n",
       "var outputEl = gd.closest('.output');\n",
       "if (outputEl) {{\n",
       "    x.observe(outputEl, {childList: true});\n",
       "}}\n",
       "\n",
       "                        })                };                });            </script>        </div>"
      ]
     },
     "metadata": {},
     "output_type": "display_data"
    },
    {
     "data": {
      "text/plain": [
       "'https://plotly.com/~Cbsiros/19/'"
      ]
     },
     "execution_count": 22,
     "metadata": {},
     "output_type": "execute_result"
    }
   ],
   "source": [
    "# Create data for bar chart x-axis\n",
    "seasons = seasons_df.index\n",
    "\n",
    "# Create figure\n",
    "fig = go.Figure()\n",
    "\n",
    "fig.add_trace(go.Bar(x = seasons,                        # x-axis data (Season numbers)\n",
    "                     y = seasons_df['Brent_Chevrons'],   # y-axis data (Brent's average chevron rating of each season)\n",
    "                     name = 'Brent',                     # Custom legend text\n",
    "                     marker_color = '#0096FF'))          # Set color of bars\n",
    "\n",
    "fig.add_trace(go.Bar(x = seasons,                       # x-axis data (Season numbers)\n",
    "                     y = seasons_df['Zach_Chevrons'],   # y-axis data (Zach's average chevron rating of each season)\n",
    "                     name = 'Zach',                     # Custom legend text\n",
    "                     marker_color = '#FFA500'))         # Set color of bars\n",
    "\n",
    "fig.update_layout(\n",
    "    title_text = 'Average Chevron Rating by Season',   # Set plot title\n",
    "    xaxis_title_text = 'Season',                       # Set x-axis title\n",
    "    yaxis_title_text = 'Average Chevron Rating',       # Set y-axis title\n",
    "    paper_bgcolor = '#011222',                         # Set background color\n",
    "    font_color = '#ffffff',                            # Set font color\n",
    "    bargap = 0.2,                                      # Set gap size between groups\n",
    "    bargroupgap = 0.1)                                 # Set gap size within groups\n",
    "\n",
    "\n",
    "# Display figure\n",
    "fig.show()\n",
    "\n",
    "# Create plot in Chart Studio for later embedding\n",
    "py.plot(fig, filename = 'Average Chevron Rating by Season', auto_open = False)"
   ]
  },
  {
   "cell_type": "markdown",
   "id": "aa4f114a",
   "metadata": {},
   "source": [
    "## Working with Listener Predictions"
   ]
  },
  {
   "cell_type": "code",
   "execution_count": 23,
   "id": "d4976d2e",
   "metadata": {},
   "outputs": [],
   "source": [
    "# Create dataframe with predictions\n",
    "predictions_df = WTTS_df.iloc[:most_recent_reviewed_episode, 6:]\n",
    "\n",
    "# Convert all predictions to tuples by iterating through each column\n",
    "for column in predictions_df.columns:\n",
    "    transform_column_values_to_tuples(predictions_df, column)"
   ]
  },
  {
   "cell_type": "code",
   "execution_count": 24,
   "id": "f0657f74",
   "metadata": {},
   "outputs": [
    {
     "data": {
      "text/html": [
       "<div>\n",
       "<style scoped>\n",
       "    .dataframe tbody tr th:only-of-type {\n",
       "        vertical-align: middle;\n",
       "    }\n",
       "\n",
       "    .dataframe tbody tr th {\n",
       "        vertical-align: top;\n",
       "    }\n",
       "\n",
       "    .dataframe thead th {\n",
       "        text-align: right;\n",
       "    }\n",
       "</style>\n",
       "<table border=\"1\" class=\"dataframe\">\n",
       "  <thead>\n",
       "    <tr style=\"text-align: right;\">\n",
       "      <th></th>\n",
       "      <th>David</th>\n",
       "      <th>Kevin</th>\n",
       "      <th>Kree Amisk</th>\n",
       "      <th>Sean</th>\n",
       "      <th>Paul</th>\n",
       "      <th>Dinner Beef</th>\n",
       "      <th>Dimitri</th>\n",
       "      <th>Rowan</th>\n",
       "      <th>Jen</th>\n",
       "      <th>LydiaAnn</th>\n",
       "      <th>...</th>\n",
       "      <th>Dustin</th>\n",
       "      <th>Luther</th>\n",
       "      <th>Cassidy</th>\n",
       "      <th>Letia</th>\n",
       "      <th>Fraiser</th>\n",
       "      <th>Kim</th>\n",
       "      <th>Mcjeston</th>\n",
       "      <th>Shawn</th>\n",
       "      <th>Arin</th>\n",
       "      <th>Mad Baron</th>\n",
       "    </tr>\n",
       "  </thead>\n",
       "  <tbody>\n",
       "    <tr>\n",
       "      <th>0</th>\n",
       "      <td>NaN</td>\n",
       "      <td>NaN</td>\n",
       "      <td>NaN</td>\n",
       "      <td>NaN</td>\n",
       "      <td>NaN</td>\n",
       "      <td>NaN</td>\n",
       "      <td>NaN</td>\n",
       "      <td>NaN</td>\n",
       "      <td>NaN</td>\n",
       "      <td>NaN</td>\n",
       "      <td>...</td>\n",
       "      <td>NaN</td>\n",
       "      <td>NaN</td>\n",
       "      <td>NaN</td>\n",
       "      <td>NaN</td>\n",
       "      <td>NaN</td>\n",
       "      <td>NaN</td>\n",
       "      <td>NaN</td>\n",
       "      <td>NaN</td>\n",
       "      <td>NaN</td>\n",
       "      <td>NaN</td>\n",
       "    </tr>\n",
       "    <tr>\n",
       "      <th>1</th>\n",
       "      <td>NaN</td>\n",
       "      <td>NaN</td>\n",
       "      <td>NaN</td>\n",
       "      <td>NaN</td>\n",
       "      <td>NaN</td>\n",
       "      <td>NaN</td>\n",
       "      <td>NaN</td>\n",
       "      <td>NaN</td>\n",
       "      <td>NaN</td>\n",
       "      <td>NaN</td>\n",
       "      <td>...</td>\n",
       "      <td>NaN</td>\n",
       "      <td>NaN</td>\n",
       "      <td>NaN</td>\n",
       "      <td>NaN</td>\n",
       "      <td>NaN</td>\n",
       "      <td>NaN</td>\n",
       "      <td>NaN</td>\n",
       "      <td>NaN</td>\n",
       "      <td>NaN</td>\n",
       "      <td>NaN</td>\n",
       "    </tr>\n",
       "    <tr>\n",
       "      <th>2</th>\n",
       "      <td>NaN</td>\n",
       "      <td>NaN</td>\n",
       "      <td>NaN</td>\n",
       "      <td>NaN</td>\n",
       "      <td>NaN</td>\n",
       "      <td>NaN</td>\n",
       "      <td>NaN</td>\n",
       "      <td>NaN</td>\n",
       "      <td>NaN</td>\n",
       "      <td>NaN</td>\n",
       "      <td>...</td>\n",
       "      <td>NaN</td>\n",
       "      <td>NaN</td>\n",
       "      <td>NaN</td>\n",
       "      <td>NaN</td>\n",
       "      <td>NaN</td>\n",
       "      <td>NaN</td>\n",
       "      <td>NaN</td>\n",
       "      <td>NaN</td>\n",
       "      <td>NaN</td>\n",
       "      <td>NaN</td>\n",
       "    </tr>\n",
       "    <tr>\n",
       "      <th>3</th>\n",
       "      <td>NaN</td>\n",
       "      <td>NaN</td>\n",
       "      <td>NaN</td>\n",
       "      <td>NaN</td>\n",
       "      <td>NaN</td>\n",
       "      <td>NaN</td>\n",
       "      <td>NaN</td>\n",
       "      <td>NaN</td>\n",
       "      <td>NaN</td>\n",
       "      <td>NaN</td>\n",
       "      <td>...</td>\n",
       "      <td>NaN</td>\n",
       "      <td>NaN</td>\n",
       "      <td>NaN</td>\n",
       "      <td>NaN</td>\n",
       "      <td>NaN</td>\n",
       "      <td>NaN</td>\n",
       "      <td>NaN</td>\n",
       "      <td>NaN</td>\n",
       "      <td>NaN</td>\n",
       "      <td>NaN</td>\n",
       "    </tr>\n",
       "    <tr>\n",
       "      <th>4</th>\n",
       "      <td>NaN</td>\n",
       "      <td>NaN</td>\n",
       "      <td>NaN</td>\n",
       "      <td>NaN</td>\n",
       "      <td>NaN</td>\n",
       "      <td>NaN</td>\n",
       "      <td>NaN</td>\n",
       "      <td>NaN</td>\n",
       "      <td>NaN</td>\n",
       "      <td>NaN</td>\n",
       "      <td>...</td>\n",
       "      <td>NaN</td>\n",
       "      <td>NaN</td>\n",
       "      <td>NaN</td>\n",
       "      <td>NaN</td>\n",
       "      <td>NaN</td>\n",
       "      <td>NaN</td>\n",
       "      <td>NaN</td>\n",
       "      <td>NaN</td>\n",
       "      <td>NaN</td>\n",
       "      <td>NaN</td>\n",
       "    </tr>\n",
       "    <tr>\n",
       "      <th>...</th>\n",
       "      <td>...</td>\n",
       "      <td>...</td>\n",
       "      <td>...</td>\n",
       "      <td>...</td>\n",
       "      <td>...</td>\n",
       "      <td>...</td>\n",
       "      <td>...</td>\n",
       "      <td>...</td>\n",
       "      <td>...</td>\n",
       "      <td>...</td>\n",
       "      <td>...</td>\n",
       "      <td>...</td>\n",
       "      <td>...</td>\n",
       "      <td>...</td>\n",
       "      <td>...</td>\n",
       "      <td>...</td>\n",
       "      <td>...</td>\n",
       "      <td>...</td>\n",
       "      <td>...</td>\n",
       "      <td>...</td>\n",
       "      <td>...</td>\n",
       "    </tr>\n",
       "    <tr>\n",
       "      <th>188</th>\n",
       "      <td>(4.0, 4.5)</td>\n",
       "      <td>(5.0, 5.0)</td>\n",
       "      <td>(5.0, 5.5)</td>\n",
       "      <td>(4.0, 4.0)</td>\n",
       "      <td>(5.0, 5.5)</td>\n",
       "      <td>(5.0, 5.0)</td>\n",
       "      <td>(5.0, 5.0)</td>\n",
       "      <td>NaN</td>\n",
       "      <td>NaN</td>\n",
       "      <td>NaN</td>\n",
       "      <td>...</td>\n",
       "      <td>NaN</td>\n",
       "      <td>NaN</td>\n",
       "      <td>NaN</td>\n",
       "      <td>NaN</td>\n",
       "      <td>NaN</td>\n",
       "      <td>NaN</td>\n",
       "      <td>NaN</td>\n",
       "      <td>NaN</td>\n",
       "      <td>NaN</td>\n",
       "      <td>NaN</td>\n",
       "    </tr>\n",
       "    <tr>\n",
       "      <th>189</th>\n",
       "      <td>(6.0, 6.0)</td>\n",
       "      <td>(4.0, 4.0)</td>\n",
       "      <td>(3.0, 4.0)</td>\n",
       "      <td>(7.0, 3.0)</td>\n",
       "      <td>NaN</td>\n",
       "      <td>NaN</td>\n",
       "      <td>NaN</td>\n",
       "      <td>NaN</td>\n",
       "      <td>NaN</td>\n",
       "      <td>NaN</td>\n",
       "      <td>...</td>\n",
       "      <td>NaN</td>\n",
       "      <td>NaN</td>\n",
       "      <td>NaN</td>\n",
       "      <td>NaN</td>\n",
       "      <td>NaN</td>\n",
       "      <td>NaN</td>\n",
       "      <td>NaN</td>\n",
       "      <td>NaN</td>\n",
       "      <td>NaN</td>\n",
       "      <td>NaN</td>\n",
       "    </tr>\n",
       "    <tr>\n",
       "      <th>190</th>\n",
       "      <td>(3.0, 4.0)</td>\n",
       "      <td>(4.0, 4.0)</td>\n",
       "      <td>(3.0, 4.5)</td>\n",
       "      <td>NaN</td>\n",
       "      <td>NaN</td>\n",
       "      <td>NaN</td>\n",
       "      <td>NaN</td>\n",
       "      <td>NaN</td>\n",
       "      <td>NaN</td>\n",
       "      <td>NaN</td>\n",
       "      <td>...</td>\n",
       "      <td>NaN</td>\n",
       "      <td>NaN</td>\n",
       "      <td>NaN</td>\n",
       "      <td>NaN</td>\n",
       "      <td>NaN</td>\n",
       "      <td>NaN</td>\n",
       "      <td>NaN</td>\n",
       "      <td>NaN</td>\n",
       "      <td>NaN</td>\n",
       "      <td>NaN</td>\n",
       "    </tr>\n",
       "    <tr>\n",
       "      <th>191</th>\n",
       "      <td>(6.0, 6.5)</td>\n",
       "      <td>(3.0, 4.0)</td>\n",
       "      <td>(4.0, 5.0)</td>\n",
       "      <td>(4.0, 4.5)</td>\n",
       "      <td>(6.0, 5.5)</td>\n",
       "      <td>NaN</td>\n",
       "      <td>NaN</td>\n",
       "      <td>NaN</td>\n",
       "      <td>NaN</td>\n",
       "      <td>NaN</td>\n",
       "      <td>...</td>\n",
       "      <td>NaN</td>\n",
       "      <td>NaN</td>\n",
       "      <td>NaN</td>\n",
       "      <td>NaN</td>\n",
       "      <td>NaN</td>\n",
       "      <td>NaN</td>\n",
       "      <td>NaN</td>\n",
       "      <td>NaN</td>\n",
       "      <td>NaN</td>\n",
       "      <td>NaN</td>\n",
       "    </tr>\n",
       "    <tr>\n",
       "      <th>192</th>\n",
       "      <td>(6.0, 6.0)</td>\n",
       "      <td>NaN</td>\n",
       "      <td>(6.0, 6.5)</td>\n",
       "      <td>(8.0, 8.0)</td>\n",
       "      <td>(5.0, 6.0)</td>\n",
       "      <td>(7.0, 7.5)</td>\n",
       "      <td>(5.0, 5.5)</td>\n",
       "      <td>NaN</td>\n",
       "      <td>NaN</td>\n",
       "      <td>NaN</td>\n",
       "      <td>...</td>\n",
       "      <td>NaN</td>\n",
       "      <td>NaN</td>\n",
       "      <td>NaN</td>\n",
       "      <td>NaN</td>\n",
       "      <td>NaN</td>\n",
       "      <td>NaN</td>\n",
       "      <td>NaN</td>\n",
       "      <td>NaN</td>\n",
       "      <td>NaN</td>\n",
       "      <td>NaN</td>\n",
       "    </tr>\n",
       "  </tbody>\n",
       "</table>\n",
       "<p>193 rows × 59 columns</p>\n",
       "</div>"
      ],
      "text/plain": [
       "          David       Kevin  Kree Amisk        Sean        Paul Dinner Beef  \\\n",
       "0           NaN         NaN         NaN         NaN         NaN         NaN   \n",
       "1           NaN         NaN         NaN         NaN         NaN         NaN   \n",
       "2           NaN         NaN         NaN         NaN         NaN         NaN   \n",
       "3           NaN         NaN         NaN         NaN         NaN         NaN   \n",
       "4           NaN         NaN         NaN         NaN         NaN         NaN   \n",
       "..          ...         ...         ...         ...         ...         ...   \n",
       "188  (4.0, 4.5)  (5.0, 5.0)  (5.0, 5.5)  (4.0, 4.0)  (5.0, 5.5)  (5.0, 5.0)   \n",
       "189  (6.0, 6.0)  (4.0, 4.0)  (3.0, 4.0)  (7.0, 3.0)         NaN         NaN   \n",
       "190  (3.0, 4.0)  (4.0, 4.0)  (3.0, 4.5)         NaN         NaN         NaN   \n",
       "191  (6.0, 6.5)  (3.0, 4.0)  (4.0, 5.0)  (4.0, 4.5)  (6.0, 5.5)         NaN   \n",
       "192  (6.0, 6.0)         NaN  (6.0, 6.5)  (8.0, 8.0)  (5.0, 6.0)  (7.0, 7.5)   \n",
       "\n",
       "        Dimitri Rowan  Jen LydiaAnn  ... Dustin Luther Cassidy Letia Fraiser  \\\n",
       "0           NaN   NaN  NaN      NaN  ...    NaN    NaN     NaN   NaN     NaN   \n",
       "1           NaN   NaN  NaN      NaN  ...    NaN    NaN     NaN   NaN     NaN   \n",
       "2           NaN   NaN  NaN      NaN  ...    NaN    NaN     NaN   NaN     NaN   \n",
       "3           NaN   NaN  NaN      NaN  ...    NaN    NaN     NaN   NaN     NaN   \n",
       "4           NaN   NaN  NaN      NaN  ...    NaN    NaN     NaN   NaN     NaN   \n",
       "..          ...   ...  ...      ...  ...    ...    ...     ...   ...     ...   \n",
       "188  (5.0, 5.0)   NaN  NaN      NaN  ...    NaN    NaN     NaN   NaN     NaN   \n",
       "189         NaN   NaN  NaN      NaN  ...    NaN    NaN     NaN   NaN     NaN   \n",
       "190         NaN   NaN  NaN      NaN  ...    NaN    NaN     NaN   NaN     NaN   \n",
       "191         NaN   NaN  NaN      NaN  ...    NaN    NaN     NaN   NaN     NaN   \n",
       "192  (5.0, 5.5)   NaN  NaN      NaN  ...    NaN    NaN     NaN   NaN     NaN   \n",
       "\n",
       "     Kim Mcjeston Shawn Arin Mad Baron  \n",
       "0    NaN      NaN   NaN  NaN       NaN  \n",
       "1    NaN      NaN   NaN  NaN       NaN  \n",
       "2    NaN      NaN   NaN  NaN       NaN  \n",
       "3    NaN      NaN   NaN  NaN       NaN  \n",
       "4    NaN      NaN   NaN  NaN       NaN  \n",
       "..   ...      ...   ...  ...       ...  \n",
       "188  NaN      NaN   NaN  NaN       NaN  \n",
       "189  NaN      NaN   NaN  NaN       NaN  \n",
       "190  NaN      NaN   NaN  NaN       NaN  \n",
       "191  NaN      NaN   NaN  NaN       NaN  \n",
       "192  NaN      NaN   NaN  NaN       NaN  \n",
       "\n",
       "[193 rows x 59 columns]"
      ]
     },
     "execution_count": 24,
     "metadata": {},
     "output_type": "execute_result"
    }
   ],
   "source": [
    "predictions_df"
   ]
  },
  {
   "cell_type": "code",
   "execution_count": 25,
   "id": "cf0c9ea2",
   "metadata": {},
   "outputs": [],
   "source": [
    "# Count the number of correct predictions\n",
    "def count_correct_predictions(targets: pd.Series, predictions: pd.Series) -> int:\n",
    "    correct = 0\n",
    "    \n",
    "    for target, prediction in zip(targets, predictions):\n",
    "        # Check to ensure value is not null and for correctness\n",
    "        if not pd.isna(prediction) and prediction[0] == target[0] and prediction[1] == target[1]:\n",
    "            correct += 1\n",
    "            \n",
    "    return correct\n",
    "\n",
    "# Count the number of  predictions\n",
    "def count_predictions(predictions: pd.Series) -> int:\n",
    "            \n",
    "    return predictions.count()"
   ]
  },
  {
   "cell_type": "code",
   "execution_count": 26,
   "id": "c43a4fb8",
   "metadata": {},
   "outputs": [],
   "source": [
    "data = []\n",
    "\n",
    "# Loop through every listener\n",
    "for name in predictions_df.columns:\n",
    "    num_correct_predictions = count_correct_predictions(ratings_df['Original_Chevrons'], predictions_df[name])\n",
    "    num_predictions = count_predictions(predictions_df[name])\n",
    "    percent_correct = round(num_correct_predictions/num_predictions * 100, 2)\n",
    "    \n",
    "    data.append((num_correct_predictions, num_predictions, percent_correct))\n",
    "                    \n",
    "                \n",
    "# Create a dataframe from data list\n",
    "prediction_stats_df = pd.DataFrame(data, columns = ['Correct', 'Total', 'Percent'])\n",
    "\n",
    "# Set indexes to listener names\n",
    "prediction_stats_df.index = list(predictions_df.columns)\n",
    "\n",
    "# Manually adding a correct score to David for 5.16.Summit/5.17.Last Stand (On behalf of the hosts)\n",
    "prediction_stats_df.loc['David', 'Correct'] += 1\n",
    "prediction_stats_df.loc['David', 'Percent'] = round(prediction_stats_df.loc['David', 'Correct']/prediction_stats_df.loc['David', 'Total'] * 100, 2)"
   ]
  },
  {
   "cell_type": "code",
   "execution_count": 27,
   "id": "d62bbaa9",
   "metadata": {},
   "outputs": [
    {
     "data": {
      "application/vnd.plotly.v1+json": {
       "config": {
        "plotlyServerURL": "https://plotly.com"
       },
       "data": [
        {
         "marker": {
          "color": "#0096FF"
         },
         "type": "bar",
         "x": [
          "Sean",
          "David",
          "Aunt Susie",
          "Jacqueline",
          "Tim",
          "Rowan",
          "Jen",
          "LydiaAnn",
          "Kevin",
          "Dan",
          "Julie",
          "Sondes",
          "Caleb",
          "Austin",
          "Anna",
          "Letia",
          "Helio",
          "Chris",
          "Paula",
          "Tyrantosaurusex",
          "Carrie",
          "Justin",
          "Adrian",
          "JD",
          "Paul",
          "Kree Amisk",
          "Mcjeston"
         ],
         "y": [
          9,
          8,
          4,
          4,
          3,
          3,
          3,
          3,
          3,
          2,
          2,
          2,
          2,
          1,
          1,
          1,
          1,
          1,
          1,
          1,
          1,
          1,
          1,
          1,
          1,
          1,
          1
         ]
        }
       ],
       "layout": {
        "bargap": 0.2,
        "bargroupgap": 0.1,
        "font": {
         "color": "#ffffff"
        },
        "paper_bgcolor": "#011222",
        "template": {
         "data": {
          "bar": [
           {
            "error_x": {
             "color": "#2a3f5f"
            },
            "error_y": {
             "color": "#2a3f5f"
            },
            "marker": {
             "line": {
              "color": "#E5ECF6",
              "width": 0.5
             },
             "pattern": {
              "fillmode": "overlay",
              "size": 10,
              "solidity": 0.2
             }
            },
            "type": "bar"
           }
          ],
          "barpolar": [
           {
            "marker": {
             "line": {
              "color": "#E5ECF6",
              "width": 0.5
             },
             "pattern": {
              "fillmode": "overlay",
              "size": 10,
              "solidity": 0.2
             }
            },
            "type": "barpolar"
           }
          ],
          "carpet": [
           {
            "aaxis": {
             "endlinecolor": "#2a3f5f",
             "gridcolor": "white",
             "linecolor": "white",
             "minorgridcolor": "white",
             "startlinecolor": "#2a3f5f"
            },
            "baxis": {
             "endlinecolor": "#2a3f5f",
             "gridcolor": "white",
             "linecolor": "white",
             "minorgridcolor": "white",
             "startlinecolor": "#2a3f5f"
            },
            "type": "carpet"
           }
          ],
          "choropleth": [
           {
            "colorbar": {
             "outlinewidth": 0,
             "ticks": ""
            },
            "type": "choropleth"
           }
          ],
          "contour": [
           {
            "colorbar": {
             "outlinewidth": 0,
             "ticks": ""
            },
            "colorscale": [
             [
              0,
              "#0d0887"
             ],
             [
              0.1111111111111111,
              "#46039f"
             ],
             [
              0.2222222222222222,
              "#7201a8"
             ],
             [
              0.3333333333333333,
              "#9c179e"
             ],
             [
              0.4444444444444444,
              "#bd3786"
             ],
             [
              0.5555555555555556,
              "#d8576b"
             ],
             [
              0.6666666666666666,
              "#ed7953"
             ],
             [
              0.7777777777777778,
              "#fb9f3a"
             ],
             [
              0.8888888888888888,
              "#fdca26"
             ],
             [
              1,
              "#f0f921"
             ]
            ],
            "type": "contour"
           }
          ],
          "contourcarpet": [
           {
            "colorbar": {
             "outlinewidth": 0,
             "ticks": ""
            },
            "type": "contourcarpet"
           }
          ],
          "heatmap": [
           {
            "colorbar": {
             "outlinewidth": 0,
             "ticks": ""
            },
            "colorscale": [
             [
              0,
              "#0d0887"
             ],
             [
              0.1111111111111111,
              "#46039f"
             ],
             [
              0.2222222222222222,
              "#7201a8"
             ],
             [
              0.3333333333333333,
              "#9c179e"
             ],
             [
              0.4444444444444444,
              "#bd3786"
             ],
             [
              0.5555555555555556,
              "#d8576b"
             ],
             [
              0.6666666666666666,
              "#ed7953"
             ],
             [
              0.7777777777777778,
              "#fb9f3a"
             ],
             [
              0.8888888888888888,
              "#fdca26"
             ],
             [
              1,
              "#f0f921"
             ]
            ],
            "type": "heatmap"
           }
          ],
          "heatmapgl": [
           {
            "colorbar": {
             "outlinewidth": 0,
             "ticks": ""
            },
            "colorscale": [
             [
              0,
              "#0d0887"
             ],
             [
              0.1111111111111111,
              "#46039f"
             ],
             [
              0.2222222222222222,
              "#7201a8"
             ],
             [
              0.3333333333333333,
              "#9c179e"
             ],
             [
              0.4444444444444444,
              "#bd3786"
             ],
             [
              0.5555555555555556,
              "#d8576b"
             ],
             [
              0.6666666666666666,
              "#ed7953"
             ],
             [
              0.7777777777777778,
              "#fb9f3a"
             ],
             [
              0.8888888888888888,
              "#fdca26"
             ],
             [
              1,
              "#f0f921"
             ]
            ],
            "type": "heatmapgl"
           }
          ],
          "histogram": [
           {
            "marker": {
             "pattern": {
              "fillmode": "overlay",
              "size": 10,
              "solidity": 0.2
             }
            },
            "type": "histogram"
           }
          ],
          "histogram2d": [
           {
            "colorbar": {
             "outlinewidth": 0,
             "ticks": ""
            },
            "colorscale": [
             [
              0,
              "#0d0887"
             ],
             [
              0.1111111111111111,
              "#46039f"
             ],
             [
              0.2222222222222222,
              "#7201a8"
             ],
             [
              0.3333333333333333,
              "#9c179e"
             ],
             [
              0.4444444444444444,
              "#bd3786"
             ],
             [
              0.5555555555555556,
              "#d8576b"
             ],
             [
              0.6666666666666666,
              "#ed7953"
             ],
             [
              0.7777777777777778,
              "#fb9f3a"
             ],
             [
              0.8888888888888888,
              "#fdca26"
             ],
             [
              1,
              "#f0f921"
             ]
            ],
            "type": "histogram2d"
           }
          ],
          "histogram2dcontour": [
           {
            "colorbar": {
             "outlinewidth": 0,
             "ticks": ""
            },
            "colorscale": [
             [
              0,
              "#0d0887"
             ],
             [
              0.1111111111111111,
              "#46039f"
             ],
             [
              0.2222222222222222,
              "#7201a8"
             ],
             [
              0.3333333333333333,
              "#9c179e"
             ],
             [
              0.4444444444444444,
              "#bd3786"
             ],
             [
              0.5555555555555556,
              "#d8576b"
             ],
             [
              0.6666666666666666,
              "#ed7953"
             ],
             [
              0.7777777777777778,
              "#fb9f3a"
             ],
             [
              0.8888888888888888,
              "#fdca26"
             ],
             [
              1,
              "#f0f921"
             ]
            ],
            "type": "histogram2dcontour"
           }
          ],
          "mesh3d": [
           {
            "colorbar": {
             "outlinewidth": 0,
             "ticks": ""
            },
            "type": "mesh3d"
           }
          ],
          "parcoords": [
           {
            "line": {
             "colorbar": {
              "outlinewidth": 0,
              "ticks": ""
             }
            },
            "type": "parcoords"
           }
          ],
          "pie": [
           {
            "automargin": true,
            "type": "pie"
           }
          ],
          "scatter": [
           {
            "fillpattern": {
             "fillmode": "overlay",
             "size": 10,
             "solidity": 0.2
            },
            "type": "scatter"
           }
          ],
          "scatter3d": [
           {
            "line": {
             "colorbar": {
              "outlinewidth": 0,
              "ticks": ""
             }
            },
            "marker": {
             "colorbar": {
              "outlinewidth": 0,
              "ticks": ""
             }
            },
            "type": "scatter3d"
           }
          ],
          "scattercarpet": [
           {
            "marker": {
             "colorbar": {
              "outlinewidth": 0,
              "ticks": ""
             }
            },
            "type": "scattercarpet"
           }
          ],
          "scattergeo": [
           {
            "marker": {
             "colorbar": {
              "outlinewidth": 0,
              "ticks": ""
             }
            },
            "type": "scattergeo"
           }
          ],
          "scattergl": [
           {
            "marker": {
             "colorbar": {
              "outlinewidth": 0,
              "ticks": ""
             }
            },
            "type": "scattergl"
           }
          ],
          "scattermapbox": [
           {
            "marker": {
             "colorbar": {
              "outlinewidth": 0,
              "ticks": ""
             }
            },
            "type": "scattermapbox"
           }
          ],
          "scatterpolar": [
           {
            "marker": {
             "colorbar": {
              "outlinewidth": 0,
              "ticks": ""
             }
            },
            "type": "scatterpolar"
           }
          ],
          "scatterpolargl": [
           {
            "marker": {
             "colorbar": {
              "outlinewidth": 0,
              "ticks": ""
             }
            },
            "type": "scatterpolargl"
           }
          ],
          "scatterternary": [
           {
            "marker": {
             "colorbar": {
              "outlinewidth": 0,
              "ticks": ""
             }
            },
            "type": "scatterternary"
           }
          ],
          "surface": [
           {
            "colorbar": {
             "outlinewidth": 0,
             "ticks": ""
            },
            "colorscale": [
             [
              0,
              "#0d0887"
             ],
             [
              0.1111111111111111,
              "#46039f"
             ],
             [
              0.2222222222222222,
              "#7201a8"
             ],
             [
              0.3333333333333333,
              "#9c179e"
             ],
             [
              0.4444444444444444,
              "#bd3786"
             ],
             [
              0.5555555555555556,
              "#d8576b"
             ],
             [
              0.6666666666666666,
              "#ed7953"
             ],
             [
              0.7777777777777778,
              "#fb9f3a"
             ],
             [
              0.8888888888888888,
              "#fdca26"
             ],
             [
              1,
              "#f0f921"
             ]
            ],
            "type": "surface"
           }
          ],
          "table": [
           {
            "cells": {
             "fill": {
              "color": "#EBF0F8"
             },
             "line": {
              "color": "white"
             }
            },
            "header": {
             "fill": {
              "color": "#C8D4E3"
             },
             "line": {
              "color": "white"
             }
            },
            "type": "table"
           }
          ]
         },
         "layout": {
          "annotationdefaults": {
           "arrowcolor": "#2a3f5f",
           "arrowhead": 0,
           "arrowwidth": 1
          },
          "autotypenumbers": "strict",
          "coloraxis": {
           "colorbar": {
            "outlinewidth": 0,
            "ticks": ""
           }
          },
          "colorscale": {
           "diverging": [
            [
             0,
             "#8e0152"
            ],
            [
             0.1,
             "#c51b7d"
            ],
            [
             0.2,
             "#de77ae"
            ],
            [
             0.3,
             "#f1b6da"
            ],
            [
             0.4,
             "#fde0ef"
            ],
            [
             0.5,
             "#f7f7f7"
            ],
            [
             0.6,
             "#e6f5d0"
            ],
            [
             0.7,
             "#b8e186"
            ],
            [
             0.8,
             "#7fbc41"
            ],
            [
             0.9,
             "#4d9221"
            ],
            [
             1,
             "#276419"
            ]
           ],
           "sequential": [
            [
             0,
             "#0d0887"
            ],
            [
             0.1111111111111111,
             "#46039f"
            ],
            [
             0.2222222222222222,
             "#7201a8"
            ],
            [
             0.3333333333333333,
             "#9c179e"
            ],
            [
             0.4444444444444444,
             "#bd3786"
            ],
            [
             0.5555555555555556,
             "#d8576b"
            ],
            [
             0.6666666666666666,
             "#ed7953"
            ],
            [
             0.7777777777777778,
             "#fb9f3a"
            ],
            [
             0.8888888888888888,
             "#fdca26"
            ],
            [
             1,
             "#f0f921"
            ]
           ],
           "sequentialminus": [
            [
             0,
             "#0d0887"
            ],
            [
             0.1111111111111111,
             "#46039f"
            ],
            [
             0.2222222222222222,
             "#7201a8"
            ],
            [
             0.3333333333333333,
             "#9c179e"
            ],
            [
             0.4444444444444444,
             "#bd3786"
            ],
            [
             0.5555555555555556,
             "#d8576b"
            ],
            [
             0.6666666666666666,
             "#ed7953"
            ],
            [
             0.7777777777777778,
             "#fb9f3a"
            ],
            [
             0.8888888888888888,
             "#fdca26"
            ],
            [
             1,
             "#f0f921"
            ]
           ]
          },
          "colorway": [
           "#636efa",
           "#EF553B",
           "#00cc96",
           "#ab63fa",
           "#FFA15A",
           "#19d3f3",
           "#FF6692",
           "#B6E880",
           "#FF97FF",
           "#FECB52"
          ],
          "font": {
           "color": "#2a3f5f"
          },
          "geo": {
           "bgcolor": "white",
           "lakecolor": "white",
           "landcolor": "#E5ECF6",
           "showlakes": true,
           "showland": true,
           "subunitcolor": "white"
          },
          "hoverlabel": {
           "align": "left"
          },
          "hovermode": "closest",
          "mapbox": {
           "style": "light"
          },
          "paper_bgcolor": "white",
          "plot_bgcolor": "#E5ECF6",
          "polar": {
           "angularaxis": {
            "gridcolor": "white",
            "linecolor": "white",
            "ticks": ""
           },
           "bgcolor": "#E5ECF6",
           "radialaxis": {
            "gridcolor": "white",
            "linecolor": "white",
            "ticks": ""
           }
          },
          "scene": {
           "xaxis": {
            "backgroundcolor": "#E5ECF6",
            "gridcolor": "white",
            "gridwidth": 2,
            "linecolor": "white",
            "showbackground": true,
            "ticks": "",
            "zerolinecolor": "white"
           },
           "yaxis": {
            "backgroundcolor": "#E5ECF6",
            "gridcolor": "white",
            "gridwidth": 2,
            "linecolor": "white",
            "showbackground": true,
            "ticks": "",
            "zerolinecolor": "white"
           },
           "zaxis": {
            "backgroundcolor": "#E5ECF6",
            "gridcolor": "white",
            "gridwidth": 2,
            "linecolor": "white",
            "showbackground": true,
            "ticks": "",
            "zerolinecolor": "white"
           }
          },
          "shapedefaults": {
           "line": {
            "color": "#2a3f5f"
           }
          },
          "ternary": {
           "aaxis": {
            "gridcolor": "white",
            "linecolor": "white",
            "ticks": ""
           },
           "baxis": {
            "gridcolor": "white",
            "linecolor": "white",
            "ticks": ""
           },
           "bgcolor": "#E5ECF6",
           "caxis": {
            "gridcolor": "white",
            "linecolor": "white",
            "ticks": ""
           }
          },
          "title": {
           "x": 0.05
          },
          "xaxis": {
           "automargin": true,
           "gridcolor": "white",
           "linecolor": "white",
           "ticks": "",
           "title": {
            "standoff": 15
           },
           "zerolinecolor": "white",
           "zerolinewidth": 2
          },
          "yaxis": {
           "automargin": true,
           "gridcolor": "white",
           "linecolor": "white",
           "ticks": "",
           "title": {
            "standoff": 15
           },
           "zerolinecolor": "white",
           "zerolinewidth": 2
          }
         }
        },
        "title": {
         "text": "Correct Predictions By Listeners"
        },
        "xaxis": {
         "title": {
          "text": "Listener"
         }
        },
        "yaxis": {
         "title": {
          "text": "Number of Correct Predictions"
         }
        }
       }
      },
      "text/html": [
       "<div>                            <div id=\"2a794764-631b-4b8a-9c8f-3bb0b733a810\" class=\"plotly-graph-div\" style=\"height:525px; width:100%;\"></div>            <script type=\"text/javascript\">                require([\"plotly\"], function(Plotly) {                    window.PLOTLYENV=window.PLOTLYENV || {};                                    if (document.getElementById(\"2a794764-631b-4b8a-9c8f-3bb0b733a810\")) {                    Plotly.newPlot(                        \"2a794764-631b-4b8a-9c8f-3bb0b733a810\",                        [{\"marker\":{\"color\":\"#0096FF\"},\"x\":[\"Sean\",\"David\",\"Aunt Susie\",\"Jacqueline\",\"Tim\",\"Rowan\",\"Jen\",\"LydiaAnn\",\"Kevin\",\"Dan\",\"Julie\",\"Sondes\",\"Caleb\",\"Austin\",\"Anna\",\"Letia\",\"Helio\",\"Chris\",\"Paula\",\"Tyrantosaurusex\",\"Carrie\",\"Justin\",\"Adrian\",\"JD\",\"Paul\",\"Kree Amisk\",\"Mcjeston\"],\"y\":[9,8,4,4,3,3,3,3,3,2,2,2,2,1,1,1,1,1,1,1,1,1,1,1,1,1,1],\"type\":\"bar\"}],                        {\"template\":{\"data\":{\"histogram2dcontour\":[{\"type\":\"histogram2dcontour\",\"colorbar\":{\"outlinewidth\":0,\"ticks\":\"\"},\"colorscale\":[[0.0,\"#0d0887\"],[0.1111111111111111,\"#46039f\"],[0.2222222222222222,\"#7201a8\"],[0.3333333333333333,\"#9c179e\"],[0.4444444444444444,\"#bd3786\"],[0.5555555555555556,\"#d8576b\"],[0.6666666666666666,\"#ed7953\"],[0.7777777777777778,\"#fb9f3a\"],[0.8888888888888888,\"#fdca26\"],[1.0,\"#f0f921\"]]}],\"choropleth\":[{\"type\":\"choropleth\",\"colorbar\":{\"outlinewidth\":0,\"ticks\":\"\"}}],\"histogram2d\":[{\"type\":\"histogram2d\",\"colorbar\":{\"outlinewidth\":0,\"ticks\":\"\"},\"colorscale\":[[0.0,\"#0d0887\"],[0.1111111111111111,\"#46039f\"],[0.2222222222222222,\"#7201a8\"],[0.3333333333333333,\"#9c179e\"],[0.4444444444444444,\"#bd3786\"],[0.5555555555555556,\"#d8576b\"],[0.6666666666666666,\"#ed7953\"],[0.7777777777777778,\"#fb9f3a\"],[0.8888888888888888,\"#fdca26\"],[1.0,\"#f0f921\"]]}],\"heatmap\":[{\"type\":\"heatmap\",\"colorbar\":{\"outlinewidth\":0,\"ticks\":\"\"},\"colorscale\":[[0.0,\"#0d0887\"],[0.1111111111111111,\"#46039f\"],[0.2222222222222222,\"#7201a8\"],[0.3333333333333333,\"#9c179e\"],[0.4444444444444444,\"#bd3786\"],[0.5555555555555556,\"#d8576b\"],[0.6666666666666666,\"#ed7953\"],[0.7777777777777778,\"#fb9f3a\"],[0.8888888888888888,\"#fdca26\"],[1.0,\"#f0f921\"]]}],\"heatmapgl\":[{\"type\":\"heatmapgl\",\"colorbar\":{\"outlinewidth\":0,\"ticks\":\"\"},\"colorscale\":[[0.0,\"#0d0887\"],[0.1111111111111111,\"#46039f\"],[0.2222222222222222,\"#7201a8\"],[0.3333333333333333,\"#9c179e\"],[0.4444444444444444,\"#bd3786\"],[0.5555555555555556,\"#d8576b\"],[0.6666666666666666,\"#ed7953\"],[0.7777777777777778,\"#fb9f3a\"],[0.8888888888888888,\"#fdca26\"],[1.0,\"#f0f921\"]]}],\"contourcarpet\":[{\"type\":\"contourcarpet\",\"colorbar\":{\"outlinewidth\":0,\"ticks\":\"\"}}],\"contour\":[{\"type\":\"contour\",\"colorbar\":{\"outlinewidth\":0,\"ticks\":\"\"},\"colorscale\":[[0.0,\"#0d0887\"],[0.1111111111111111,\"#46039f\"],[0.2222222222222222,\"#7201a8\"],[0.3333333333333333,\"#9c179e\"],[0.4444444444444444,\"#bd3786\"],[0.5555555555555556,\"#d8576b\"],[0.6666666666666666,\"#ed7953\"],[0.7777777777777778,\"#fb9f3a\"],[0.8888888888888888,\"#fdca26\"],[1.0,\"#f0f921\"]]}],\"surface\":[{\"type\":\"surface\",\"colorbar\":{\"outlinewidth\":0,\"ticks\":\"\"},\"colorscale\":[[0.0,\"#0d0887\"],[0.1111111111111111,\"#46039f\"],[0.2222222222222222,\"#7201a8\"],[0.3333333333333333,\"#9c179e\"],[0.4444444444444444,\"#bd3786\"],[0.5555555555555556,\"#d8576b\"],[0.6666666666666666,\"#ed7953\"],[0.7777777777777778,\"#fb9f3a\"],[0.8888888888888888,\"#fdca26\"],[1.0,\"#f0f921\"]]}],\"mesh3d\":[{\"type\":\"mesh3d\",\"colorbar\":{\"outlinewidth\":0,\"ticks\":\"\"}}],\"scatter\":[{\"fillpattern\":{\"fillmode\":\"overlay\",\"size\":10,\"solidity\":0.2},\"type\":\"scatter\"}],\"parcoords\":[{\"type\":\"parcoords\",\"line\":{\"colorbar\":{\"outlinewidth\":0,\"ticks\":\"\"}}}],\"scatterpolargl\":[{\"type\":\"scatterpolargl\",\"marker\":{\"colorbar\":{\"outlinewidth\":0,\"ticks\":\"\"}}}],\"bar\":[{\"error_x\":{\"color\":\"#2a3f5f\"},\"error_y\":{\"color\":\"#2a3f5f\"},\"marker\":{\"line\":{\"color\":\"#E5ECF6\",\"width\":0.5},\"pattern\":{\"fillmode\":\"overlay\",\"size\":10,\"solidity\":0.2}},\"type\":\"bar\"}],\"scattergeo\":[{\"type\":\"scattergeo\",\"marker\":{\"colorbar\":{\"outlinewidth\":0,\"ticks\":\"\"}}}],\"scatterpolar\":[{\"type\":\"scatterpolar\",\"marker\":{\"colorbar\":{\"outlinewidth\":0,\"ticks\":\"\"}}}],\"histogram\":[{\"marker\":{\"pattern\":{\"fillmode\":\"overlay\",\"size\":10,\"solidity\":0.2}},\"type\":\"histogram\"}],\"scattergl\":[{\"type\":\"scattergl\",\"marker\":{\"colorbar\":{\"outlinewidth\":0,\"ticks\":\"\"}}}],\"scatter3d\":[{\"type\":\"scatter3d\",\"line\":{\"colorbar\":{\"outlinewidth\":0,\"ticks\":\"\"}},\"marker\":{\"colorbar\":{\"outlinewidth\":0,\"ticks\":\"\"}}}],\"scattermapbox\":[{\"type\":\"scattermapbox\",\"marker\":{\"colorbar\":{\"outlinewidth\":0,\"ticks\":\"\"}}}],\"scatterternary\":[{\"type\":\"scatterternary\",\"marker\":{\"colorbar\":{\"outlinewidth\":0,\"ticks\":\"\"}}}],\"scattercarpet\":[{\"type\":\"scattercarpet\",\"marker\":{\"colorbar\":{\"outlinewidth\":0,\"ticks\":\"\"}}}],\"carpet\":[{\"aaxis\":{\"endlinecolor\":\"#2a3f5f\",\"gridcolor\":\"white\",\"linecolor\":\"white\",\"minorgridcolor\":\"white\",\"startlinecolor\":\"#2a3f5f\"},\"baxis\":{\"endlinecolor\":\"#2a3f5f\",\"gridcolor\":\"white\",\"linecolor\":\"white\",\"minorgridcolor\":\"white\",\"startlinecolor\":\"#2a3f5f\"},\"type\":\"carpet\"}],\"table\":[{\"cells\":{\"fill\":{\"color\":\"#EBF0F8\"},\"line\":{\"color\":\"white\"}},\"header\":{\"fill\":{\"color\":\"#C8D4E3\"},\"line\":{\"color\":\"white\"}},\"type\":\"table\"}],\"barpolar\":[{\"marker\":{\"line\":{\"color\":\"#E5ECF6\",\"width\":0.5},\"pattern\":{\"fillmode\":\"overlay\",\"size\":10,\"solidity\":0.2}},\"type\":\"barpolar\"}],\"pie\":[{\"automargin\":true,\"type\":\"pie\"}]},\"layout\":{\"autotypenumbers\":\"strict\",\"colorway\":[\"#636efa\",\"#EF553B\",\"#00cc96\",\"#ab63fa\",\"#FFA15A\",\"#19d3f3\",\"#FF6692\",\"#B6E880\",\"#FF97FF\",\"#FECB52\"],\"font\":{\"color\":\"#2a3f5f\"},\"hovermode\":\"closest\",\"hoverlabel\":{\"align\":\"left\"},\"paper_bgcolor\":\"white\",\"plot_bgcolor\":\"#E5ECF6\",\"polar\":{\"bgcolor\":\"#E5ECF6\",\"angularaxis\":{\"gridcolor\":\"white\",\"linecolor\":\"white\",\"ticks\":\"\"},\"radialaxis\":{\"gridcolor\":\"white\",\"linecolor\":\"white\",\"ticks\":\"\"}},\"ternary\":{\"bgcolor\":\"#E5ECF6\",\"aaxis\":{\"gridcolor\":\"white\",\"linecolor\":\"white\",\"ticks\":\"\"},\"baxis\":{\"gridcolor\":\"white\",\"linecolor\":\"white\",\"ticks\":\"\"},\"caxis\":{\"gridcolor\":\"white\",\"linecolor\":\"white\",\"ticks\":\"\"}},\"coloraxis\":{\"colorbar\":{\"outlinewidth\":0,\"ticks\":\"\"}},\"colorscale\":{\"sequential\":[[0.0,\"#0d0887\"],[0.1111111111111111,\"#46039f\"],[0.2222222222222222,\"#7201a8\"],[0.3333333333333333,\"#9c179e\"],[0.4444444444444444,\"#bd3786\"],[0.5555555555555556,\"#d8576b\"],[0.6666666666666666,\"#ed7953\"],[0.7777777777777778,\"#fb9f3a\"],[0.8888888888888888,\"#fdca26\"],[1.0,\"#f0f921\"]],\"sequentialminus\":[[0.0,\"#0d0887\"],[0.1111111111111111,\"#46039f\"],[0.2222222222222222,\"#7201a8\"],[0.3333333333333333,\"#9c179e\"],[0.4444444444444444,\"#bd3786\"],[0.5555555555555556,\"#d8576b\"],[0.6666666666666666,\"#ed7953\"],[0.7777777777777778,\"#fb9f3a\"],[0.8888888888888888,\"#fdca26\"],[1.0,\"#f0f921\"]],\"diverging\":[[0,\"#8e0152\"],[0.1,\"#c51b7d\"],[0.2,\"#de77ae\"],[0.3,\"#f1b6da\"],[0.4,\"#fde0ef\"],[0.5,\"#f7f7f7\"],[0.6,\"#e6f5d0\"],[0.7,\"#b8e186\"],[0.8,\"#7fbc41\"],[0.9,\"#4d9221\"],[1,\"#276419\"]]},\"xaxis\":{\"gridcolor\":\"white\",\"linecolor\":\"white\",\"ticks\":\"\",\"title\":{\"standoff\":15},\"zerolinecolor\":\"white\",\"automargin\":true,\"zerolinewidth\":2},\"yaxis\":{\"gridcolor\":\"white\",\"linecolor\":\"white\",\"ticks\":\"\",\"title\":{\"standoff\":15},\"zerolinecolor\":\"white\",\"automargin\":true,\"zerolinewidth\":2},\"scene\":{\"xaxis\":{\"backgroundcolor\":\"#E5ECF6\",\"gridcolor\":\"white\",\"linecolor\":\"white\",\"showbackground\":true,\"ticks\":\"\",\"zerolinecolor\":\"white\",\"gridwidth\":2},\"yaxis\":{\"backgroundcolor\":\"#E5ECF6\",\"gridcolor\":\"white\",\"linecolor\":\"white\",\"showbackground\":true,\"ticks\":\"\",\"zerolinecolor\":\"white\",\"gridwidth\":2},\"zaxis\":{\"backgroundcolor\":\"#E5ECF6\",\"gridcolor\":\"white\",\"linecolor\":\"white\",\"showbackground\":true,\"ticks\":\"\",\"zerolinecolor\":\"white\",\"gridwidth\":2}},\"shapedefaults\":{\"line\":{\"color\":\"#2a3f5f\"}},\"annotationdefaults\":{\"arrowcolor\":\"#2a3f5f\",\"arrowhead\":0,\"arrowwidth\":1},\"geo\":{\"bgcolor\":\"white\",\"landcolor\":\"#E5ECF6\",\"subunitcolor\":\"white\",\"showland\":true,\"showlakes\":true,\"lakecolor\":\"white\"},\"title\":{\"x\":0.05},\"mapbox\":{\"style\":\"light\"}}},\"title\":{\"text\":\"Correct Predictions By Listeners\"},\"xaxis\":{\"title\":{\"text\":\"Listener\"}},\"yaxis\":{\"title\":{\"text\":\"Number of Correct Predictions\"}},\"font\":{\"color\":\"#ffffff\"},\"paper_bgcolor\":\"#011222\",\"bargap\":0.2,\"bargroupgap\":0.1},                        {\"responsive\": true}                    ).then(function(){\n",
       "                            \n",
       "var gd = document.getElementById('2a794764-631b-4b8a-9c8f-3bb0b733a810');\n",
       "var x = new MutationObserver(function (mutations, observer) {{\n",
       "        var display = window.getComputedStyle(gd).display;\n",
       "        if (!display || display === 'none') {{\n",
       "            console.log([gd, 'removed!']);\n",
       "            Plotly.purge(gd);\n",
       "            observer.disconnect();\n",
       "        }}\n",
       "}});\n",
       "\n",
       "// Listen for the removal of the full notebook cells\n",
       "var notebookContainer = gd.closest('#notebook-container');\n",
       "if (notebookContainer) {{\n",
       "    x.observe(notebookContainer, {childList: true});\n",
       "}}\n",
       "\n",
       "// Listen for the clearing of the current output cell\n",
       "var outputEl = gd.closest('.output');\n",
       "if (outputEl) {{\n",
       "    x.observe(outputEl, {childList: true});\n",
       "}}\n",
       "\n",
       "                        })                };                });            </script>        </div>"
      ]
     },
     "metadata": {},
     "output_type": "display_data"
    },
    {
     "data": {
      "text/plain": [
       "'https://plotly.com/~Cbsiros/25/'"
      ]
     },
     "execution_count": 27,
     "metadata": {},
     "output_type": "execute_result"
    }
   ],
   "source": [
    "# Slice dataframe to include listeners with at least one correct prediction\n",
    "prediction_stats_df = prediction_stats_df[prediction_stats_df['Correct'] > 0]\n",
    "\n",
    "# Sort dataframe by most correct predictions\n",
    "prediction_stats_df = prediction_stats_df.sort_values('Correct', ascending = False)\n",
    "\n",
    "\n",
    "# Create figure\n",
    "fig = go.Figure()\n",
    "\n",
    "fig.add_trace(go.Bar(x = prediction_stats_df.index,        # x-axis data (Listener Names)\n",
    "                     y = prediction_stats_df['Correct'],   # y-axis data (Number of correct predictions)\n",
    "                     marker_color = '#0096FF'))            # Set color of bars\n",
    "\n",
    "fig.update_layout(\n",
    "    title_text = 'Correct Predictions By Listeners',          # Set plot title\n",
    "    xaxis_title_text = 'Listener',                            # Set x-axis title\n",
    "    yaxis_title_text = 'Number of Correct Predictions',       # Set y-axis title\n",
    "    paper_bgcolor = '#011222',                                # Set background color\n",
    "    font_color = '#ffffff',                                   # Set font color\n",
    "    bargap = 0.2,                                             # Set gap size between groups\n",
    "    bargroupgap = 0.1)                                        # Set gap size within groups\n",
    "\n",
    "\n",
    "# Display figure\n",
    "fig.show()\n",
    "\n",
    "# Create plot in Chart Studio for later embedding\n",
    "py.plot(fig, filename = 'Correct Predictions By Listeners', auto_open = False)"
   ]
  },
  {
   "cell_type": "code",
   "execution_count": 31,
   "id": "e18a10ac",
   "metadata": {},
   "outputs": [
    {
     "data": {
      "application/vnd.plotly.v1+json": {
       "config": {
        "plotlyServerURL": "https://plotly.com"
       },
       "data": [
        {
         "hoverinfo": "text",
         "hovertext": [
          "Listener: Sean<br>Percent Correct: 13.64%<br>Total Predictions: 66",
          "Listener: David<br>Percent Correct: 6.2%<br>Total Predictions: 129",
          "Listener: Aunt Susie<br>Percent Correct: 11.76%<br>Total Predictions: 34",
          "Listener: Jacqueline<br>Percent Correct: 15.38%<br>Total Predictions: 26",
          "Listener: Tim<br>Percent Correct: 10.0%<br>Total Predictions: 30",
          "Listener: Rowan<br>Percent Correct: 7.14%<br>Total Predictions: 42",
          "Listener: Jen<br>Percent Correct: 11.54%<br>Total Predictions: 26",
          "Listener: LydiaAnn<br>Percent Correct: 11.54%<br>Total Predictions: 26",
          "Listener: Kevin<br>Percent Correct: 4.23%<br>Total Predictions: 71",
          "Listener: Dan<br>Percent Correct: 6.45%<br>Total Predictions: 31",
          "Listener: Julie<br>Percent Correct: 6.9%<br>Total Predictions: 29",
          "Listener: Sondes<br>Percent Correct: 28.57%<br>Total Predictions: 7",
          "Listener: Caleb<br>Percent Correct: 7.69%<br>Total Predictions: 26",
          "Listener: Austin<br>Percent Correct: 6.67%<br>Total Predictions: 15",
          "Listener: Anna<br>Percent Correct: 11.11%<br>Total Predictions: 9",
          "Listener: Letia<br>Percent Correct: 50.0%<br>Total Predictions: 2",
          "Listener: Helio<br>Percent Correct: 6.25%<br>Total Predictions: 16",
          "Listener: Chris<br>Percent Correct: 16.67%<br>Total Predictions: 6",
          "Listener: Paula<br>Percent Correct: 50.0%<br>Total Predictions: 2",
          "Listener: Tyrantosaurusex<br>Percent Correct: 33.33%<br>Total Predictions: 3",
          "Listener: Carrie<br>Percent Correct: 100.0%<br>Total Predictions: 1",
          "Listener: Justin<br>Percent Correct: 3.33%<br>Total Predictions: 30",
          "Listener: Adrian<br>Percent Correct: 5.26%<br>Total Predictions: 19",
          "Listener: JD<br>Percent Correct: 1.92%<br>Total Predictions: 52",
          "Listener: Paul<br>Percent Correct: 5.26%<br>Total Predictions: 19",
          "Listener: Kree Amisk<br>Percent Correct: 6.25%<br>Total Predictions: 16",
          "Listener: Mcjeston & Carrie<br>Percent Correct: 100%<br>Total Predictions: 1"
         ],
         "marker": {
          "color": "#0096FF"
         },
         "mode": "markers",
         "type": "scatter",
         "x": [
          66,
          129,
          34,
          26,
          30,
          42,
          26,
          26,
          71,
          31,
          29,
          7,
          26,
          15,
          9,
          2,
          16,
          6,
          2,
          3,
          1,
          30,
          19,
          52,
          19,
          16,
          1
         ],
         "y": [
          13.64,
          6.2,
          11.76,
          15.38,
          10,
          7.14,
          11.54,
          11.54,
          4.23,
          6.45,
          6.9,
          28.57,
          7.69,
          6.67,
          11.11,
          50,
          6.25,
          16.67,
          50,
          33.33,
          100,
          3.33,
          5.26,
          1.92,
          5.26,
          6.25,
          100
         ]
        }
       ],
       "layout": {
        "bargap": 0.2,
        "bargroupgap": 0.1,
        "font": {
         "color": "#ffffff"
        },
        "paper_bgcolor": "#011222",
        "template": {
         "data": {
          "bar": [
           {
            "error_x": {
             "color": "#2a3f5f"
            },
            "error_y": {
             "color": "#2a3f5f"
            },
            "marker": {
             "line": {
              "color": "#E5ECF6",
              "width": 0.5
             },
             "pattern": {
              "fillmode": "overlay",
              "size": 10,
              "solidity": 0.2
             }
            },
            "type": "bar"
           }
          ],
          "barpolar": [
           {
            "marker": {
             "line": {
              "color": "#E5ECF6",
              "width": 0.5
             },
             "pattern": {
              "fillmode": "overlay",
              "size": 10,
              "solidity": 0.2
             }
            },
            "type": "barpolar"
           }
          ],
          "carpet": [
           {
            "aaxis": {
             "endlinecolor": "#2a3f5f",
             "gridcolor": "white",
             "linecolor": "white",
             "minorgridcolor": "white",
             "startlinecolor": "#2a3f5f"
            },
            "baxis": {
             "endlinecolor": "#2a3f5f",
             "gridcolor": "white",
             "linecolor": "white",
             "minorgridcolor": "white",
             "startlinecolor": "#2a3f5f"
            },
            "type": "carpet"
           }
          ],
          "choropleth": [
           {
            "colorbar": {
             "outlinewidth": 0,
             "ticks": ""
            },
            "type": "choropleth"
           }
          ],
          "contour": [
           {
            "colorbar": {
             "outlinewidth": 0,
             "ticks": ""
            },
            "colorscale": [
             [
              0,
              "#0d0887"
             ],
             [
              0.1111111111111111,
              "#46039f"
             ],
             [
              0.2222222222222222,
              "#7201a8"
             ],
             [
              0.3333333333333333,
              "#9c179e"
             ],
             [
              0.4444444444444444,
              "#bd3786"
             ],
             [
              0.5555555555555556,
              "#d8576b"
             ],
             [
              0.6666666666666666,
              "#ed7953"
             ],
             [
              0.7777777777777778,
              "#fb9f3a"
             ],
             [
              0.8888888888888888,
              "#fdca26"
             ],
             [
              1,
              "#f0f921"
             ]
            ],
            "type": "contour"
           }
          ],
          "contourcarpet": [
           {
            "colorbar": {
             "outlinewidth": 0,
             "ticks": ""
            },
            "type": "contourcarpet"
           }
          ],
          "heatmap": [
           {
            "colorbar": {
             "outlinewidth": 0,
             "ticks": ""
            },
            "colorscale": [
             [
              0,
              "#0d0887"
             ],
             [
              0.1111111111111111,
              "#46039f"
             ],
             [
              0.2222222222222222,
              "#7201a8"
             ],
             [
              0.3333333333333333,
              "#9c179e"
             ],
             [
              0.4444444444444444,
              "#bd3786"
             ],
             [
              0.5555555555555556,
              "#d8576b"
             ],
             [
              0.6666666666666666,
              "#ed7953"
             ],
             [
              0.7777777777777778,
              "#fb9f3a"
             ],
             [
              0.8888888888888888,
              "#fdca26"
             ],
             [
              1,
              "#f0f921"
             ]
            ],
            "type": "heatmap"
           }
          ],
          "heatmapgl": [
           {
            "colorbar": {
             "outlinewidth": 0,
             "ticks": ""
            },
            "colorscale": [
             [
              0,
              "#0d0887"
             ],
             [
              0.1111111111111111,
              "#46039f"
             ],
             [
              0.2222222222222222,
              "#7201a8"
             ],
             [
              0.3333333333333333,
              "#9c179e"
             ],
             [
              0.4444444444444444,
              "#bd3786"
             ],
             [
              0.5555555555555556,
              "#d8576b"
             ],
             [
              0.6666666666666666,
              "#ed7953"
             ],
             [
              0.7777777777777778,
              "#fb9f3a"
             ],
             [
              0.8888888888888888,
              "#fdca26"
             ],
             [
              1,
              "#f0f921"
             ]
            ],
            "type": "heatmapgl"
           }
          ],
          "histogram": [
           {
            "marker": {
             "pattern": {
              "fillmode": "overlay",
              "size": 10,
              "solidity": 0.2
             }
            },
            "type": "histogram"
           }
          ],
          "histogram2d": [
           {
            "colorbar": {
             "outlinewidth": 0,
             "ticks": ""
            },
            "colorscale": [
             [
              0,
              "#0d0887"
             ],
             [
              0.1111111111111111,
              "#46039f"
             ],
             [
              0.2222222222222222,
              "#7201a8"
             ],
             [
              0.3333333333333333,
              "#9c179e"
             ],
             [
              0.4444444444444444,
              "#bd3786"
             ],
             [
              0.5555555555555556,
              "#d8576b"
             ],
             [
              0.6666666666666666,
              "#ed7953"
             ],
             [
              0.7777777777777778,
              "#fb9f3a"
             ],
             [
              0.8888888888888888,
              "#fdca26"
             ],
             [
              1,
              "#f0f921"
             ]
            ],
            "type": "histogram2d"
           }
          ],
          "histogram2dcontour": [
           {
            "colorbar": {
             "outlinewidth": 0,
             "ticks": ""
            },
            "colorscale": [
             [
              0,
              "#0d0887"
             ],
             [
              0.1111111111111111,
              "#46039f"
             ],
             [
              0.2222222222222222,
              "#7201a8"
             ],
             [
              0.3333333333333333,
              "#9c179e"
             ],
             [
              0.4444444444444444,
              "#bd3786"
             ],
             [
              0.5555555555555556,
              "#d8576b"
             ],
             [
              0.6666666666666666,
              "#ed7953"
             ],
             [
              0.7777777777777778,
              "#fb9f3a"
             ],
             [
              0.8888888888888888,
              "#fdca26"
             ],
             [
              1,
              "#f0f921"
             ]
            ],
            "type": "histogram2dcontour"
           }
          ],
          "mesh3d": [
           {
            "colorbar": {
             "outlinewidth": 0,
             "ticks": ""
            },
            "type": "mesh3d"
           }
          ],
          "parcoords": [
           {
            "line": {
             "colorbar": {
              "outlinewidth": 0,
              "ticks": ""
             }
            },
            "type": "parcoords"
           }
          ],
          "pie": [
           {
            "automargin": true,
            "type": "pie"
           }
          ],
          "scatter": [
           {
            "fillpattern": {
             "fillmode": "overlay",
             "size": 10,
             "solidity": 0.2
            },
            "type": "scatter"
           }
          ],
          "scatter3d": [
           {
            "line": {
             "colorbar": {
              "outlinewidth": 0,
              "ticks": ""
             }
            },
            "marker": {
             "colorbar": {
              "outlinewidth": 0,
              "ticks": ""
             }
            },
            "type": "scatter3d"
           }
          ],
          "scattercarpet": [
           {
            "marker": {
             "colorbar": {
              "outlinewidth": 0,
              "ticks": ""
             }
            },
            "type": "scattercarpet"
           }
          ],
          "scattergeo": [
           {
            "marker": {
             "colorbar": {
              "outlinewidth": 0,
              "ticks": ""
             }
            },
            "type": "scattergeo"
           }
          ],
          "scattergl": [
           {
            "marker": {
             "colorbar": {
              "outlinewidth": 0,
              "ticks": ""
             }
            },
            "type": "scattergl"
           }
          ],
          "scattermapbox": [
           {
            "marker": {
             "colorbar": {
              "outlinewidth": 0,
              "ticks": ""
             }
            },
            "type": "scattermapbox"
           }
          ],
          "scatterpolar": [
           {
            "marker": {
             "colorbar": {
              "outlinewidth": 0,
              "ticks": ""
             }
            },
            "type": "scatterpolar"
           }
          ],
          "scatterpolargl": [
           {
            "marker": {
             "colorbar": {
              "outlinewidth": 0,
              "ticks": ""
             }
            },
            "type": "scatterpolargl"
           }
          ],
          "scatterternary": [
           {
            "marker": {
             "colorbar": {
              "outlinewidth": 0,
              "ticks": ""
             }
            },
            "type": "scatterternary"
           }
          ],
          "surface": [
           {
            "colorbar": {
             "outlinewidth": 0,
             "ticks": ""
            },
            "colorscale": [
             [
              0,
              "#0d0887"
             ],
             [
              0.1111111111111111,
              "#46039f"
             ],
             [
              0.2222222222222222,
              "#7201a8"
             ],
             [
              0.3333333333333333,
              "#9c179e"
             ],
             [
              0.4444444444444444,
              "#bd3786"
             ],
             [
              0.5555555555555556,
              "#d8576b"
             ],
             [
              0.6666666666666666,
              "#ed7953"
             ],
             [
              0.7777777777777778,
              "#fb9f3a"
             ],
             [
              0.8888888888888888,
              "#fdca26"
             ],
             [
              1,
              "#f0f921"
             ]
            ],
            "type": "surface"
           }
          ],
          "table": [
           {
            "cells": {
             "fill": {
              "color": "#EBF0F8"
             },
             "line": {
              "color": "white"
             }
            },
            "header": {
             "fill": {
              "color": "#C8D4E3"
             },
             "line": {
              "color": "white"
             }
            },
            "type": "table"
           }
          ]
         },
         "layout": {
          "annotationdefaults": {
           "arrowcolor": "#2a3f5f",
           "arrowhead": 0,
           "arrowwidth": 1
          },
          "autotypenumbers": "strict",
          "coloraxis": {
           "colorbar": {
            "outlinewidth": 0,
            "ticks": ""
           }
          },
          "colorscale": {
           "diverging": [
            [
             0,
             "#8e0152"
            ],
            [
             0.1,
             "#c51b7d"
            ],
            [
             0.2,
             "#de77ae"
            ],
            [
             0.3,
             "#f1b6da"
            ],
            [
             0.4,
             "#fde0ef"
            ],
            [
             0.5,
             "#f7f7f7"
            ],
            [
             0.6,
             "#e6f5d0"
            ],
            [
             0.7,
             "#b8e186"
            ],
            [
             0.8,
             "#7fbc41"
            ],
            [
             0.9,
             "#4d9221"
            ],
            [
             1,
             "#276419"
            ]
           ],
           "sequential": [
            [
             0,
             "#0d0887"
            ],
            [
             0.1111111111111111,
             "#46039f"
            ],
            [
             0.2222222222222222,
             "#7201a8"
            ],
            [
             0.3333333333333333,
             "#9c179e"
            ],
            [
             0.4444444444444444,
             "#bd3786"
            ],
            [
             0.5555555555555556,
             "#d8576b"
            ],
            [
             0.6666666666666666,
             "#ed7953"
            ],
            [
             0.7777777777777778,
             "#fb9f3a"
            ],
            [
             0.8888888888888888,
             "#fdca26"
            ],
            [
             1,
             "#f0f921"
            ]
           ],
           "sequentialminus": [
            [
             0,
             "#0d0887"
            ],
            [
             0.1111111111111111,
             "#46039f"
            ],
            [
             0.2222222222222222,
             "#7201a8"
            ],
            [
             0.3333333333333333,
             "#9c179e"
            ],
            [
             0.4444444444444444,
             "#bd3786"
            ],
            [
             0.5555555555555556,
             "#d8576b"
            ],
            [
             0.6666666666666666,
             "#ed7953"
            ],
            [
             0.7777777777777778,
             "#fb9f3a"
            ],
            [
             0.8888888888888888,
             "#fdca26"
            ],
            [
             1,
             "#f0f921"
            ]
           ]
          },
          "colorway": [
           "#636efa",
           "#EF553B",
           "#00cc96",
           "#ab63fa",
           "#FFA15A",
           "#19d3f3",
           "#FF6692",
           "#B6E880",
           "#FF97FF",
           "#FECB52"
          ],
          "font": {
           "color": "#2a3f5f"
          },
          "geo": {
           "bgcolor": "white",
           "lakecolor": "white",
           "landcolor": "#E5ECF6",
           "showlakes": true,
           "showland": true,
           "subunitcolor": "white"
          },
          "hoverlabel": {
           "align": "left"
          },
          "hovermode": "closest",
          "mapbox": {
           "style": "light"
          },
          "paper_bgcolor": "white",
          "plot_bgcolor": "#E5ECF6",
          "polar": {
           "angularaxis": {
            "gridcolor": "white",
            "linecolor": "white",
            "ticks": ""
           },
           "bgcolor": "#E5ECF6",
           "radialaxis": {
            "gridcolor": "white",
            "linecolor": "white",
            "ticks": ""
           }
          },
          "scene": {
           "xaxis": {
            "backgroundcolor": "#E5ECF6",
            "gridcolor": "white",
            "gridwidth": 2,
            "linecolor": "white",
            "showbackground": true,
            "ticks": "",
            "zerolinecolor": "white"
           },
           "yaxis": {
            "backgroundcolor": "#E5ECF6",
            "gridcolor": "white",
            "gridwidth": 2,
            "linecolor": "white",
            "showbackground": true,
            "ticks": "",
            "zerolinecolor": "white"
           },
           "zaxis": {
            "backgroundcolor": "#E5ECF6",
            "gridcolor": "white",
            "gridwidth": 2,
            "linecolor": "white",
            "showbackground": true,
            "ticks": "",
            "zerolinecolor": "white"
           }
          },
          "shapedefaults": {
           "line": {
            "color": "#2a3f5f"
           }
          },
          "ternary": {
           "aaxis": {
            "gridcolor": "white",
            "linecolor": "white",
            "ticks": ""
           },
           "baxis": {
            "gridcolor": "white",
            "linecolor": "white",
            "ticks": ""
           },
           "bgcolor": "#E5ECF6",
           "caxis": {
            "gridcolor": "white",
            "linecolor": "white",
            "ticks": ""
           }
          },
          "title": {
           "x": 0.05
          },
          "xaxis": {
           "automargin": true,
           "gridcolor": "white",
           "linecolor": "white",
           "ticks": "",
           "title": {
            "standoff": 15
           },
           "zerolinecolor": "white",
           "zerolinewidth": 2
          },
          "yaxis": {
           "automargin": true,
           "gridcolor": "white",
           "linecolor": "white",
           "ticks": "",
           "title": {
            "standoff": 15
           },
           "zerolinecolor": "white",
           "zerolinewidth": 2
          }
         }
        },
        "title": {
         "text": "Total Predictions vs Correct Predictions"
        },
        "xaxis": {
         "title": {
          "text": "Number of Predictions"
         }
        },
        "yaxis": {
         "title": {
          "text": "Percent of Predictions that are Correct"
         }
        }
       }
      },
      "text/html": [
       "<div>                            <div id=\"7024868c-7e43-4079-92c5-dcaa1a55cd78\" class=\"plotly-graph-div\" style=\"height:525px; width:100%;\"></div>            <script type=\"text/javascript\">                require([\"plotly\"], function(Plotly) {                    window.PLOTLYENV=window.PLOTLYENV || {};                                    if (document.getElementById(\"7024868c-7e43-4079-92c5-dcaa1a55cd78\")) {                    Plotly.newPlot(                        \"7024868c-7e43-4079-92c5-dcaa1a55cd78\",                        [{\"hoverinfo\":\"text\",\"hovertext\":[\"Listener: Sean<br>Percent Correct: 13.64%<br>Total Predictions: 66\",\"Listener: David<br>Percent Correct: 6.2%<br>Total Predictions: 129\",\"Listener: Aunt Susie<br>Percent Correct: 11.76%<br>Total Predictions: 34\",\"Listener: Jacqueline<br>Percent Correct: 15.38%<br>Total Predictions: 26\",\"Listener: Tim<br>Percent Correct: 10.0%<br>Total Predictions: 30\",\"Listener: Rowan<br>Percent Correct: 7.14%<br>Total Predictions: 42\",\"Listener: Jen<br>Percent Correct: 11.54%<br>Total Predictions: 26\",\"Listener: LydiaAnn<br>Percent Correct: 11.54%<br>Total Predictions: 26\",\"Listener: Kevin<br>Percent Correct: 4.23%<br>Total Predictions: 71\",\"Listener: Dan<br>Percent Correct: 6.45%<br>Total Predictions: 31\",\"Listener: Julie<br>Percent Correct: 6.9%<br>Total Predictions: 29\",\"Listener: Sondes<br>Percent Correct: 28.57%<br>Total Predictions: 7\",\"Listener: Caleb<br>Percent Correct: 7.69%<br>Total Predictions: 26\",\"Listener: Austin<br>Percent Correct: 6.67%<br>Total Predictions: 15\",\"Listener: Anna<br>Percent Correct: 11.11%<br>Total Predictions: 9\",\"Listener: Letia<br>Percent Correct: 50.0%<br>Total Predictions: 2\",\"Listener: Helio<br>Percent Correct: 6.25%<br>Total Predictions: 16\",\"Listener: Chris<br>Percent Correct: 16.67%<br>Total Predictions: 6\",\"Listener: Paula<br>Percent Correct: 50.0%<br>Total Predictions: 2\",\"Listener: Tyrantosaurusex<br>Percent Correct: 33.33%<br>Total Predictions: 3\",\"Listener: Carrie<br>Percent Correct: 100.0%<br>Total Predictions: 1\",\"Listener: Justin<br>Percent Correct: 3.33%<br>Total Predictions: 30\",\"Listener: Adrian<br>Percent Correct: 5.26%<br>Total Predictions: 19\",\"Listener: JD<br>Percent Correct: 1.92%<br>Total Predictions: 52\",\"Listener: Paul<br>Percent Correct: 5.26%<br>Total Predictions: 19\",\"Listener: Kree Amisk<br>Percent Correct: 6.25%<br>Total Predictions: 16\",\"Listener: Mcjeston & Carrie<br>Percent Correct: 100%<br>Total Predictions: 1\"],\"marker\":{\"color\":\"#0096FF\"},\"mode\":\"markers\",\"x\":[66,129,34,26,30,42,26,26,71,31,29,7,26,15,9,2,16,6,2,3,1,30,19,52,19,16,1],\"y\":[13.64,6.2,11.76,15.38,10.0,7.14,11.54,11.54,4.23,6.45,6.9,28.57,7.69,6.67,11.11,50.0,6.25,16.67,50.0,33.33,100.0,3.33,5.26,1.92,5.26,6.25,100.0],\"type\":\"scatter\"}],                        {\"template\":{\"data\":{\"histogram2dcontour\":[{\"type\":\"histogram2dcontour\",\"colorbar\":{\"outlinewidth\":0,\"ticks\":\"\"},\"colorscale\":[[0.0,\"#0d0887\"],[0.1111111111111111,\"#46039f\"],[0.2222222222222222,\"#7201a8\"],[0.3333333333333333,\"#9c179e\"],[0.4444444444444444,\"#bd3786\"],[0.5555555555555556,\"#d8576b\"],[0.6666666666666666,\"#ed7953\"],[0.7777777777777778,\"#fb9f3a\"],[0.8888888888888888,\"#fdca26\"],[1.0,\"#f0f921\"]]}],\"choropleth\":[{\"type\":\"choropleth\",\"colorbar\":{\"outlinewidth\":0,\"ticks\":\"\"}}],\"histogram2d\":[{\"type\":\"histogram2d\",\"colorbar\":{\"outlinewidth\":0,\"ticks\":\"\"},\"colorscale\":[[0.0,\"#0d0887\"],[0.1111111111111111,\"#46039f\"],[0.2222222222222222,\"#7201a8\"],[0.3333333333333333,\"#9c179e\"],[0.4444444444444444,\"#bd3786\"],[0.5555555555555556,\"#d8576b\"],[0.6666666666666666,\"#ed7953\"],[0.7777777777777778,\"#fb9f3a\"],[0.8888888888888888,\"#fdca26\"],[1.0,\"#f0f921\"]]}],\"heatmap\":[{\"type\":\"heatmap\",\"colorbar\":{\"outlinewidth\":0,\"ticks\":\"\"},\"colorscale\":[[0.0,\"#0d0887\"],[0.1111111111111111,\"#46039f\"],[0.2222222222222222,\"#7201a8\"],[0.3333333333333333,\"#9c179e\"],[0.4444444444444444,\"#bd3786\"],[0.5555555555555556,\"#d8576b\"],[0.6666666666666666,\"#ed7953\"],[0.7777777777777778,\"#fb9f3a\"],[0.8888888888888888,\"#fdca26\"],[1.0,\"#f0f921\"]]}],\"heatmapgl\":[{\"type\":\"heatmapgl\",\"colorbar\":{\"outlinewidth\":0,\"ticks\":\"\"},\"colorscale\":[[0.0,\"#0d0887\"],[0.1111111111111111,\"#46039f\"],[0.2222222222222222,\"#7201a8\"],[0.3333333333333333,\"#9c179e\"],[0.4444444444444444,\"#bd3786\"],[0.5555555555555556,\"#d8576b\"],[0.6666666666666666,\"#ed7953\"],[0.7777777777777778,\"#fb9f3a\"],[0.8888888888888888,\"#fdca26\"],[1.0,\"#f0f921\"]]}],\"contourcarpet\":[{\"type\":\"contourcarpet\",\"colorbar\":{\"outlinewidth\":0,\"ticks\":\"\"}}],\"contour\":[{\"type\":\"contour\",\"colorbar\":{\"outlinewidth\":0,\"ticks\":\"\"},\"colorscale\":[[0.0,\"#0d0887\"],[0.1111111111111111,\"#46039f\"],[0.2222222222222222,\"#7201a8\"],[0.3333333333333333,\"#9c179e\"],[0.4444444444444444,\"#bd3786\"],[0.5555555555555556,\"#d8576b\"],[0.6666666666666666,\"#ed7953\"],[0.7777777777777778,\"#fb9f3a\"],[0.8888888888888888,\"#fdca26\"],[1.0,\"#f0f921\"]]}],\"surface\":[{\"type\":\"surface\",\"colorbar\":{\"outlinewidth\":0,\"ticks\":\"\"},\"colorscale\":[[0.0,\"#0d0887\"],[0.1111111111111111,\"#46039f\"],[0.2222222222222222,\"#7201a8\"],[0.3333333333333333,\"#9c179e\"],[0.4444444444444444,\"#bd3786\"],[0.5555555555555556,\"#d8576b\"],[0.6666666666666666,\"#ed7953\"],[0.7777777777777778,\"#fb9f3a\"],[0.8888888888888888,\"#fdca26\"],[1.0,\"#f0f921\"]]}],\"mesh3d\":[{\"type\":\"mesh3d\",\"colorbar\":{\"outlinewidth\":0,\"ticks\":\"\"}}],\"scatter\":[{\"fillpattern\":{\"fillmode\":\"overlay\",\"size\":10,\"solidity\":0.2},\"type\":\"scatter\"}],\"parcoords\":[{\"type\":\"parcoords\",\"line\":{\"colorbar\":{\"outlinewidth\":0,\"ticks\":\"\"}}}],\"scatterpolargl\":[{\"type\":\"scatterpolargl\",\"marker\":{\"colorbar\":{\"outlinewidth\":0,\"ticks\":\"\"}}}],\"bar\":[{\"error_x\":{\"color\":\"#2a3f5f\"},\"error_y\":{\"color\":\"#2a3f5f\"},\"marker\":{\"line\":{\"color\":\"#E5ECF6\",\"width\":0.5},\"pattern\":{\"fillmode\":\"overlay\",\"size\":10,\"solidity\":0.2}},\"type\":\"bar\"}],\"scattergeo\":[{\"type\":\"scattergeo\",\"marker\":{\"colorbar\":{\"outlinewidth\":0,\"ticks\":\"\"}}}],\"scatterpolar\":[{\"type\":\"scatterpolar\",\"marker\":{\"colorbar\":{\"outlinewidth\":0,\"ticks\":\"\"}}}],\"histogram\":[{\"marker\":{\"pattern\":{\"fillmode\":\"overlay\",\"size\":10,\"solidity\":0.2}},\"type\":\"histogram\"}],\"scattergl\":[{\"type\":\"scattergl\",\"marker\":{\"colorbar\":{\"outlinewidth\":0,\"ticks\":\"\"}}}],\"scatter3d\":[{\"type\":\"scatter3d\",\"line\":{\"colorbar\":{\"outlinewidth\":0,\"ticks\":\"\"}},\"marker\":{\"colorbar\":{\"outlinewidth\":0,\"ticks\":\"\"}}}],\"scattermapbox\":[{\"type\":\"scattermapbox\",\"marker\":{\"colorbar\":{\"outlinewidth\":0,\"ticks\":\"\"}}}],\"scatterternary\":[{\"type\":\"scatterternary\",\"marker\":{\"colorbar\":{\"outlinewidth\":0,\"ticks\":\"\"}}}],\"scattercarpet\":[{\"type\":\"scattercarpet\",\"marker\":{\"colorbar\":{\"outlinewidth\":0,\"ticks\":\"\"}}}],\"carpet\":[{\"aaxis\":{\"endlinecolor\":\"#2a3f5f\",\"gridcolor\":\"white\",\"linecolor\":\"white\",\"minorgridcolor\":\"white\",\"startlinecolor\":\"#2a3f5f\"},\"baxis\":{\"endlinecolor\":\"#2a3f5f\",\"gridcolor\":\"white\",\"linecolor\":\"white\",\"minorgridcolor\":\"white\",\"startlinecolor\":\"#2a3f5f\"},\"type\":\"carpet\"}],\"table\":[{\"cells\":{\"fill\":{\"color\":\"#EBF0F8\"},\"line\":{\"color\":\"white\"}},\"header\":{\"fill\":{\"color\":\"#C8D4E3\"},\"line\":{\"color\":\"white\"}},\"type\":\"table\"}],\"barpolar\":[{\"marker\":{\"line\":{\"color\":\"#E5ECF6\",\"width\":0.5},\"pattern\":{\"fillmode\":\"overlay\",\"size\":10,\"solidity\":0.2}},\"type\":\"barpolar\"}],\"pie\":[{\"automargin\":true,\"type\":\"pie\"}]},\"layout\":{\"autotypenumbers\":\"strict\",\"colorway\":[\"#636efa\",\"#EF553B\",\"#00cc96\",\"#ab63fa\",\"#FFA15A\",\"#19d3f3\",\"#FF6692\",\"#B6E880\",\"#FF97FF\",\"#FECB52\"],\"font\":{\"color\":\"#2a3f5f\"},\"hovermode\":\"closest\",\"hoverlabel\":{\"align\":\"left\"},\"paper_bgcolor\":\"white\",\"plot_bgcolor\":\"#E5ECF6\",\"polar\":{\"bgcolor\":\"#E5ECF6\",\"angularaxis\":{\"gridcolor\":\"white\",\"linecolor\":\"white\",\"ticks\":\"\"},\"radialaxis\":{\"gridcolor\":\"white\",\"linecolor\":\"white\",\"ticks\":\"\"}},\"ternary\":{\"bgcolor\":\"#E5ECF6\",\"aaxis\":{\"gridcolor\":\"white\",\"linecolor\":\"white\",\"ticks\":\"\"},\"baxis\":{\"gridcolor\":\"white\",\"linecolor\":\"white\",\"ticks\":\"\"},\"caxis\":{\"gridcolor\":\"white\",\"linecolor\":\"white\",\"ticks\":\"\"}},\"coloraxis\":{\"colorbar\":{\"outlinewidth\":0,\"ticks\":\"\"}},\"colorscale\":{\"sequential\":[[0.0,\"#0d0887\"],[0.1111111111111111,\"#46039f\"],[0.2222222222222222,\"#7201a8\"],[0.3333333333333333,\"#9c179e\"],[0.4444444444444444,\"#bd3786\"],[0.5555555555555556,\"#d8576b\"],[0.6666666666666666,\"#ed7953\"],[0.7777777777777778,\"#fb9f3a\"],[0.8888888888888888,\"#fdca26\"],[1.0,\"#f0f921\"]],\"sequentialminus\":[[0.0,\"#0d0887\"],[0.1111111111111111,\"#46039f\"],[0.2222222222222222,\"#7201a8\"],[0.3333333333333333,\"#9c179e\"],[0.4444444444444444,\"#bd3786\"],[0.5555555555555556,\"#d8576b\"],[0.6666666666666666,\"#ed7953\"],[0.7777777777777778,\"#fb9f3a\"],[0.8888888888888888,\"#fdca26\"],[1.0,\"#f0f921\"]],\"diverging\":[[0,\"#8e0152\"],[0.1,\"#c51b7d\"],[0.2,\"#de77ae\"],[0.3,\"#f1b6da\"],[0.4,\"#fde0ef\"],[0.5,\"#f7f7f7\"],[0.6,\"#e6f5d0\"],[0.7,\"#b8e186\"],[0.8,\"#7fbc41\"],[0.9,\"#4d9221\"],[1,\"#276419\"]]},\"xaxis\":{\"gridcolor\":\"white\",\"linecolor\":\"white\",\"ticks\":\"\",\"title\":{\"standoff\":15},\"zerolinecolor\":\"white\",\"automargin\":true,\"zerolinewidth\":2},\"yaxis\":{\"gridcolor\":\"white\",\"linecolor\":\"white\",\"ticks\":\"\",\"title\":{\"standoff\":15},\"zerolinecolor\":\"white\",\"automargin\":true,\"zerolinewidth\":2},\"scene\":{\"xaxis\":{\"backgroundcolor\":\"#E5ECF6\",\"gridcolor\":\"white\",\"linecolor\":\"white\",\"showbackground\":true,\"ticks\":\"\",\"zerolinecolor\":\"white\",\"gridwidth\":2},\"yaxis\":{\"backgroundcolor\":\"#E5ECF6\",\"gridcolor\":\"white\",\"linecolor\":\"white\",\"showbackground\":true,\"ticks\":\"\",\"zerolinecolor\":\"white\",\"gridwidth\":2},\"zaxis\":{\"backgroundcolor\":\"#E5ECF6\",\"gridcolor\":\"white\",\"linecolor\":\"white\",\"showbackground\":true,\"ticks\":\"\",\"zerolinecolor\":\"white\",\"gridwidth\":2}},\"shapedefaults\":{\"line\":{\"color\":\"#2a3f5f\"}},\"annotationdefaults\":{\"arrowcolor\":\"#2a3f5f\",\"arrowhead\":0,\"arrowwidth\":1},\"geo\":{\"bgcolor\":\"white\",\"landcolor\":\"#E5ECF6\",\"subunitcolor\":\"white\",\"showland\":true,\"showlakes\":true,\"lakecolor\":\"white\"},\"title\":{\"x\":0.05},\"mapbox\":{\"style\":\"light\"}}},\"title\":{\"text\":\"Total Predictions vs Correct Predictions\"},\"xaxis\":{\"title\":{\"text\":\"Number of Predictions\"}},\"yaxis\":{\"title\":{\"text\":\"Percent of Predictions that are Correct\"}},\"font\":{\"color\":\"#ffffff\"},\"paper_bgcolor\":\"#011222\",\"bargap\":0.2,\"bargroupgap\":0.1},                        {\"responsive\": true}                    ).then(function(){\n",
       "                            \n",
       "var gd = document.getElementById('7024868c-7e43-4079-92c5-dcaa1a55cd78');\n",
       "var x = new MutationObserver(function (mutations, observer) {{\n",
       "        var display = window.getComputedStyle(gd).display;\n",
       "        if (!display || display === 'none') {{\n",
       "            console.log([gd, 'removed!']);\n",
       "            Plotly.purge(gd);\n",
       "            observer.disconnect();\n",
       "        }}\n",
       "}});\n",
       "\n",
       "// Listen for the removal of the full notebook cells\n",
       "var notebookContainer = gd.closest('#notebook-container');\n",
       "if (notebookContainer) {{\n",
       "    x.observe(notebookContainer, {childList: true});\n",
       "}}\n",
       "\n",
       "// Listen for the clearing of the current output cell\n",
       "var outputEl = gd.closest('.output');\n",
       "if (outputEl) {{\n",
       "    x.observe(outputEl, {childList: true});\n",
       "}}\n",
       "\n",
       "                        })                };                });            </script>        </div>"
      ]
     },
     "metadata": {},
     "output_type": "display_data"
    },
    {
     "data": {
      "text/plain": [
       "'https://plotly.com/~Cbsiros/30/'"
      ]
     },
     "execution_count": 31,
     "metadata": {},
     "output_type": "execute_result"
    }
   ],
   "source": [
    "# Create hover text for scatter plot\n",
    "hover_texts = [f\"Listener: {listener}<br>Percent Correct: {correct_percent}%<br>Total Predictions: {total}\"\n",
    "               for listener, correct_percent, total in zip(prediction_stats_df.index, prediction_stats_df['Percent'], prediction_stats_df['Total'])]\n",
    "\n",
    "# Manually modify hover texts, to ensure overlapping entries are noted\n",
    "hover_texts[-1] = \"Listener: Mcjeston & Carrie<br>Percent Correct: 100%<br>Total Predictions: 1\"\n",
    "\n",
    "\n",
    "# Create figure\n",
    "fig = go.Figure()\n",
    "fig.add_trace(go.Scatter(x = prediction_stats_df['Total'] ,        # x-axis data (Number of total guesses)\n",
    "                         y = prediction_stats_df['Percent']  ,     # y-axis data (Percent of predictions that are correct)\n",
    "                         mode = 'markers',                         # Trace type\n",
    "                         marker = dict(color = '#0096FF'),         # Custom marker color\n",
    "                         hovertext = hover_texts,                  # Custom hover text\n",
    "                         hoverinfo = 'text'))                      # Only display custom text\n",
    "                         \n",
    "\n",
    "\n",
    "fig.update_layout(\n",
    "    title_text = 'Total Predictions vs Correct Predictions',        # Set plot title\n",
    "    xaxis_title_text = 'Number of Predictions',                     # Set x-axis title\n",
    "    yaxis_title_text = 'Percent of Predictions that are Correct',   # Set y-axis title\n",
    "    paper_bgcolor = '#011222',                                      # Set background color\n",
    "    font_color = '#ffffff',                                         # Set font color\n",
    "    bargap = 0.2,                                                   # Set gap size between groups\n",
    "    bargroupgap = 0.1)                                              # Set gap size within groups\n",
    "\n",
    "\n",
    "# Display figure\n",
    "fig.show()\n",
    "\n",
    "# Create plot in Chart Studio for later embedding\n",
    "#py.plot(fig, filename = 'Percent Correct Predictions By Listeners', auto_open = False)"
   ]
  },
  {
   "cell_type": "code",
   "execution_count": null,
   "id": "9f95acbb",
   "metadata": {},
   "outputs": [],
   "source": []
  }
 ],
 "metadata": {
  "kernelspec": {
   "display_name": "Python 3 (ipykernel)",
   "language": "python",
   "name": "python3"
  },
  "language_info": {
   "codemirror_mode": {
    "name": "ipython",
    "version": 3
   },
   "file_extension": ".py",
   "mimetype": "text/x-python",
   "name": "python",
   "nbconvert_exporter": "python",
   "pygments_lexer": "ipython3",
   "version": "3.11.5"
  }
 },
 "nbformat": 4,
 "nbformat_minor": 5
}
