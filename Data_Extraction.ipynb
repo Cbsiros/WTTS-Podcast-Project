{
 "cells": [
  {
   "cell_type": "markdown",
   "id": "dba2b962",
   "metadata": {},
   "source": [
    "## Importing Libraries"
   ]
  },
  {
   "cell_type": "code",
   "execution_count": 1,
   "id": "d55463cf",
   "metadata": {},
   "outputs": [],
   "source": [
    "# Web scraping\n",
    "import requests\n",
    "from bs4 import BeautifulSoup\n",
    "\n",
    "# Data processing\n",
    "import numpy as np \n",
    "import pandas as pd "
   ]
  },
  {
   "cell_type": "code",
   "execution_count": 2,
   "id": "dcc737c2",
   "metadata": {},
   "outputs": [
    {
     "data": {
      "text/html": [
       "<style>.container { width:90% !important; }</style>"
      ],
      "text/plain": [
       "<IPython.core.display.HTML object>"
      ]
     },
     "metadata": {},
     "output_type": "display_data"
    }
   ],
   "source": [
    "# Makes Jupyter Notebook cells wider\n",
    "from IPython.display import display, HTML\n",
    "display(HTML(\"<style>.container { width:90% !important; }</style>\"))"
   ]
  },
  {
   "cell_type": "markdown",
   "id": "80df136f",
   "metadata": {},
   "source": [
    "## Extracting Data on Stargate SG-1 from IMDB"
   ]
  },
  {
   "cell_type": "code",
   "execution_count": 3,
   "id": "4c605e84",
   "metadata": {},
   "outputs": [],
   "source": [
    "# Creating a user agent (needed because IMDB blocks the default python user agent)\n",
    "user_agent = {'user-agent': 'Mozilla/5.0'}"
   ]
  },
  {
   "cell_type": "code",
   "execution_count": 4,
   "id": "69ef1c93",
   "metadata": {},
   "outputs": [],
   "source": [
    "# After appending the relevant number, this URL links to each season of Stargate SG1 on IMDB\n",
    "season_URL = 'https://www.imdb.com/title/tt0118480/episodes/?season='"
   ]
  },
  {
   "cell_type": "code",
   "execution_count": 5,
   "id": "384b5263",
   "metadata": {},
   "outputs": [],
   "source": [
    "# Empty list which will collect links to episode pages\n",
    "episode_links = []\n",
    "\n",
    "# Loop through every season's page on imdb and collect every episode link\n",
    "for season_number in range (1, 11):\n",
    "    response = requests.get(season_URL + str(season_number), headers = user_agent)\n",
    "    soup = BeautifulSoup(response.text, 'html.parser')\n",
    "    \n",
    "    episode_list = soup.find_all('a', class_='ipc-title-link-wrapper')[:-1]\n",
    "    \n",
    "    # Add cleaned link to episode_links\n",
    "    for episode in episode_list:\n",
    "        episode_links.append(\"https://imdb.com\" + str(episode).split('\"')[3].split(\"?\")[0][:-1])"
   ]
  },
  {
   "cell_type": "code",
   "execution_count": 6,
   "id": "11c2f7c5",
   "metadata": {},
   "outputs": [],
   "source": [
    "# Empty list which will collect episode data\n",
    "data = []\n",
    "episode_total = 1\n",
    "\n",
    "for episode_link in episode_links:\n",
    "    response = requests.get(episode_link, headers = user_agent)\n",
    "    soup = BeautifulSoup(response.text, 'html.parser')\n",
    "    \n",
    "    season_number, episode_number = soup.find('div', class_='sc-3f4e3993-0 fYpskP').text.split(\".\")\n",
    "    episode_title = soup.find('span', class_='hero__primary-text').text\n",
    "    episode_rating = soup.find('span', class_='sc-eb51e184-1 ljxVSS').text\n",
    "    num_episode_ratings = soup.find('div', class_='sc-eb51e184-3 kgbSIj').text\n",
    "    \n",
    "    summaries_link = episode_link.split(\"?\")[0] + \"/plotsummary/?ref_=tt_stry_pl\"\n",
    "    response = requests.get(summaries_link, headers = user_agent)\n",
    "    soup = BeautifulSoup(response.text, 'html.parser')\n",
    "    summaries = [summary.text.split(\"—\")[0] for summary in soup.find_all('div', class_='ipc-html-content-inner-div')][::2]\n",
    "    \n",
    "    data.append((episode_total, season_number, episode_number, episode_title, float(episode_rating), num_episode_ratings, summaries))\n",
    "    episode_total += 1"
   ]
  },
  {
   "cell_type": "code",
   "execution_count": 7,
   "id": "6997f80f",
   "metadata": {},
   "outputs": [
    {
     "data": {
      "text/html": [
       "<div>\n",
       "<style scoped>\n",
       "    .dataframe tbody tr th:only-of-type {\n",
       "        vertical-align: middle;\n",
       "    }\n",
       "\n",
       "    .dataframe tbody tr th {\n",
       "        vertical-align: top;\n",
       "    }\n",
       "\n",
       "    .dataframe thead th {\n",
       "        text-align: right;\n",
       "    }\n",
       "</style>\n",
       "<table border=\"1\" class=\"dataframe\">\n",
       "  <thead>\n",
       "    <tr style=\"text-align: right;\">\n",
       "      <th></th>\n",
       "      <th>Episode_Total</th>\n",
       "      <th>Season_Num</th>\n",
       "      <th>Episode_Num</th>\n",
       "      <th>Title</th>\n",
       "      <th>Rating</th>\n",
       "      <th>Num_Ratings</th>\n",
       "      <th>Summaries</th>\n",
       "    </tr>\n",
       "  </thead>\n",
       "  <tbody>\n",
       "    <tr>\n",
       "      <th>0</th>\n",
       "      <td>1</td>\n",
       "      <td>S1</td>\n",
       "      <td>E1</td>\n",
       "      <td>Children of the Gods</td>\n",
       "      <td>8.1</td>\n",
       "      <td>3.8K</td>\n",
       "      <td>[Colonel Jack O'Neill is brought out of retire...</td>\n",
       "    </tr>\n",
       "    <tr>\n",
       "      <th>1</th>\n",
       "      <td>2</td>\n",
       "      <td>S1</td>\n",
       "      <td>E2</td>\n",
       "      <td>The Enemy Within</td>\n",
       "      <td>7.6</td>\n",
       "      <td>1.9K</td>\n",
       "      <td>[The team, now designated SG-1 are planning th...</td>\n",
       "    </tr>\n",
       "    <tr>\n",
       "      <th>2</th>\n",
       "      <td>3</td>\n",
       "      <td>S1</td>\n",
       "      <td>E3</td>\n",
       "      <td>Emancipation</td>\n",
       "      <td>5.9</td>\n",
       "      <td>2K</td>\n",
       "      <td>[While exploring a world populated by Mongol d...</td>\n",
       "    </tr>\n",
       "    <tr>\n",
       "      <th>3</th>\n",
       "      <td>4</td>\n",
       "      <td>S1</td>\n",
       "      <td>E4</td>\n",
       "      <td>The Broca Divide</td>\n",
       "      <td>7.0</td>\n",
       "      <td>1.7K</td>\n",
       "      <td>[The Stargate base is put in deadly peril when...</td>\n",
       "    </tr>\n",
       "    <tr>\n",
       "      <th>4</th>\n",
       "      <td>5</td>\n",
       "      <td>S1</td>\n",
       "      <td>E5</td>\n",
       "      <td>The First Commandment</td>\n",
       "      <td>6.6</td>\n",
       "      <td>1.7K</td>\n",
       "      <td>[The SG-1 team is sent after the SG-9 team tha...</td>\n",
       "    </tr>\n",
       "    <tr>\n",
       "      <th>...</th>\n",
       "      <td>...</td>\n",
       "      <td>...</td>\n",
       "      <td>...</td>\n",
       "      <td>...</td>\n",
       "      <td>...</td>\n",
       "      <td>...</td>\n",
       "      <td>...</td>\n",
       "    </tr>\n",
       "    <tr>\n",
       "      <th>208</th>\n",
       "      <td>209</td>\n",
       "      <td>S10</td>\n",
       "      <td>E16</td>\n",
       "      <td>Bad Guys</td>\n",
       "      <td>8.0</td>\n",
       "      <td>1.1K</td>\n",
       "      <td>[When SG-1, minus Carter, investigates a previ...</td>\n",
       "    </tr>\n",
       "    <tr>\n",
       "      <th>209</th>\n",
       "      <td>210</td>\n",
       "      <td>S10</td>\n",
       "      <td>E17</td>\n",
       "      <td>Talion</td>\n",
       "      <td>7.2</td>\n",
       "      <td>942</td>\n",
       "      <td>[Teal'c and Bra'tac are among the numerous vic...</td>\n",
       "    </tr>\n",
       "    <tr>\n",
       "      <th>210</th>\n",
       "      <td>211</td>\n",
       "      <td>S10</td>\n",
       "      <td>E18</td>\n",
       "      <td>Family Ties</td>\n",
       "      <td>6.6</td>\n",
       "      <td>1K</td>\n",
       "      <td>[Stargate Command gets a video message from Va...</td>\n",
       "    </tr>\n",
       "    <tr>\n",
       "      <th>211</th>\n",
       "      <td>212</td>\n",
       "      <td>S10</td>\n",
       "      <td>E19</td>\n",
       "      <td>Dominion</td>\n",
       "      <td>8.1</td>\n",
       "      <td>995</td>\n",
       "      <td>[Vala gambles, wins a cargo ship, but is found...</td>\n",
       "    </tr>\n",
       "    <tr>\n",
       "      <th>212</th>\n",
       "      <td>213</td>\n",
       "      <td>S10</td>\n",
       "      <td>E20</td>\n",
       "      <td>Unending</td>\n",
       "      <td>8.9</td>\n",
       "      <td>1.8K</td>\n",
       "      <td>[General Landry accompanies SG-1 on a mission ...</td>\n",
       "    </tr>\n",
       "  </tbody>\n",
       "</table>\n",
       "<p>213 rows × 7 columns</p>\n",
       "</div>"
      ],
      "text/plain": [
       "     Episode_Total Season_Num Episode_Num                  Title  Rating  \\\n",
       "0                1         S1          E1   Children of the Gods     8.1   \n",
       "1                2         S1          E2       The Enemy Within     7.6   \n",
       "2                3         S1          E3           Emancipation     5.9   \n",
       "3                4         S1          E4       The Broca Divide     7.0   \n",
       "4                5         S1          E5  The First Commandment     6.6   \n",
       "..             ...        ...         ...                    ...     ...   \n",
       "208            209        S10         E16               Bad Guys     8.0   \n",
       "209            210        S10         E17                 Talion     7.2   \n",
       "210            211        S10         E18            Family Ties     6.6   \n",
       "211            212        S10         E19               Dominion     8.1   \n",
       "212            213        S10         E20               Unending     8.9   \n",
       "\n",
       "    Num_Ratings                                          Summaries  \n",
       "0          3.8K  [Colonel Jack O'Neill is brought out of retire...  \n",
       "1          1.9K  [The team, now designated SG-1 are planning th...  \n",
       "2            2K  [While exploring a world populated by Mongol d...  \n",
       "3          1.7K  [The Stargate base is put in deadly peril when...  \n",
       "4          1.7K  [The SG-1 team is sent after the SG-9 team tha...  \n",
       "..          ...                                                ...  \n",
       "208        1.1K  [When SG-1, minus Carter, investigates a previ...  \n",
       "209         942  [Teal'c and Bra'tac are among the numerous vic...  \n",
       "210          1K  [Stargate Command gets a video message from Va...  \n",
       "211         995  [Vala gambles, wins a cargo ship, but is found...  \n",
       "212        1.8K  [General Landry accompanies SG-1 on a mission ...  \n",
       "\n",
       "[213 rows x 7 columns]"
      ]
     },
     "execution_count": 7,
     "metadata": {},
     "output_type": "execute_result"
    }
   ],
   "source": [
    "# Create a dataframe from data list\n",
    "IMDB_df = pd.DataFrame(data, columns=['Episode_Total', 'Season_Num', 'Episode_Num', 'Title', 'Rating', 'Num_Ratings', 'Summaries']) \n",
    "IMDB_df"
   ]
  },
  {
   "cell_type": "code",
   "execution_count": 8,
   "id": "85805bba",
   "metadata": {},
   "outputs": [],
   "source": [
    "# Export dataframe as an Excel file for manual data entry\n",
    "IMDB_df.to_excel('Stargate_IMDB_Info.xlsx', index=False)"
   ]
  }
 ],
 "metadata": {
  "kernelspec": {
   "display_name": "Python 3 (ipykernel)",
   "language": "python",
   "name": "python3"
  },
  "language_info": {
   "codemirror_mode": {
    "name": "ipython",
    "version": 3
   },
   "file_extension": ".py",
   "mimetype": "text/x-python",
   "name": "python",
   "nbconvert_exporter": "python",
   "pygments_lexer": "ipython3",
   "version": "3.11.5"
  }
 },
 "nbformat": 4,
 "nbformat_minor": 5
}
