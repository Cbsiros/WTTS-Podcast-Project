{
 "cells": [
  {
   "cell_type": "markdown",
   "id": "dba2b962",
   "metadata": {},
   "source": [
    "## Importing Libraries"
   ]
  },
  {
   "cell_type": "code",
   "execution_count": 1,
   "id": "d55463cf",
   "metadata": {},
   "outputs": [],
   "source": [
    "# Web scraping\n",
    "import requests\n",
    "from bs4 import BeautifulSoup\n",
    "\n",
    "# Data processing\n",
    "import numpy as np \n",
    "import pandas as pd "
   ]
  },
  {
   "cell_type": "code",
   "execution_count": 2,
   "id": "dcc737c2",
   "metadata": {},
   "outputs": [
    {
     "data": {
      "text/html": [
       "<style>.container { width:90% !important; }</style>"
      ],
      "text/plain": [
       "<IPython.core.display.HTML object>"
      ]
     },
     "metadata": {},
     "output_type": "display_data"
    }
   ],
   "source": [
    "# Makes Jupyter Notebook cells wider\n",
    "from IPython.display import display, HTML\n",
    "display(HTML(\"<style>.container { width:90% !important; }</style>\"))"
   ]
  },
  {
   "cell_type": "markdown",
   "id": "80df136f",
   "metadata": {},
   "source": [
    "## Extracting Data on Stargate SG-1 from IMDB"
   ]
  },
  {
   "cell_type": "code",
   "execution_count": 3,
   "id": "4c605e84",
   "metadata": {},
   "outputs": [],
   "source": [
    "# Creating a user agent (needed because IMDB blocks the default python user agent)\n",
    "user_agent = {'user-agent': 'Mozilla/5.0'}"
   ]
  },
  {
   "cell_type": "code",
   "execution_count": 4,
   "id": "69ef1c93",
   "metadata": {},
   "outputs": [],
   "source": [
    "# After appending the relevant number, this URL links to each season of Stargate SG1 on IMDB\n",
    "season_URL = 'https://www.imdb.com/title/tt0118480/episodes/?season='"
   ]
  },
  {
   "cell_type": "code",
   "execution_count": 5,
   "id": "384b5263",
   "metadata": {},
   "outputs": [],
   "source": [
    "# Empty list which will collect links to episode pages\n",
    "episode_links = []\n",
    "\n",
    "# Loop through every season's page on imdb and collect every episode link\n",
    "for season_number in range (1, 11):\n",
    "    response = requests.get(season_URL + str(season_number), headers = user_agent)\n",
    "    soup = BeautifulSoup(response.text, 'html.parser')\n",
    "    \n",
    "    episode_list = soup.find_all('a', class_='ipc-title-link-wrapper')[:-1]\n",
    "    \n",
    "    # Add cleaned link to episode_links\n",
    "    for episode in episode_list:\n",
    "        episode_links.append(\"https://imdb.com\" + str(episode).split('\"')[3].split(\"?\")[0][:-1])"
   ]
  },
  {
   "cell_type": "code",
   "execution_count": null,
   "id": "11c2f7c5",
   "metadata": {},
   "outputs": [],
   "source": [
    "# Empty list which will collect episode data\n",
    "data = []\n",
    "episode_total = 1\n",
    "\n",
    "for episode_link in episode_links:\n",
    "    response = requests.get(episode_link, headers = user_agent)\n",
    "    soup = BeautifulSoup(response.text, 'html.parser')\n",
    "    \n",
    "    season_number, episode_number = soup.find('div', class_='sc-3f4e3993-0 fYpskP').text.split(\".\")\n",
    "    episode_title = soup.find('span', class_='hero__primary-text').text\n",
    "    episode_rating = soup.find('span', class_='sc-eb51e184-1 ljxVSS').text\n",
    "    num_episode_ratings = soup.find('div', class_='sc-eb51e184-3 kgbSIj').text\n",
    "    \n",
    "    summaries_link = episode_link.split(\"?\")[0] + \"/plotsummary/?ref_=tt_stry_pl\"\n",
    "    response = requests.get(summaries_link, headers = user_agent)\n",
    "    soup = BeautifulSoup(response.text, 'html.parser')\n",
    "    summaries = [summary.text.split(\"—\")[0] for summary in soup.find_all('div', class_='ipc-html-content-inner-div')][::2]\n",
    "    \n",
    "    data.append((episode_total, season_number, episode_number, episode_title, float(episode_rating), num_episode_ratings, summaries))\n",
    "    episode_total += 1"
   ]
  },
  {
   "cell_type": "code",
   "execution_count": null,
   "id": "6997f80f",
   "metadata": {},
   "outputs": [],
   "source": [
    "# Create a dataframe from data list\n",
    "IMDB_df = pd.DataFrame(data, columns=['Episode_Total', 'Season_Num', 'Episode_Num', 'Title', 'Rating', 'Num_Ratings', 'Summaries']) \n",
    "IMDB_df"
   ]
  },
  {
   "cell_type": "code",
   "execution_count": null,
   "id": "85805bba",
   "metadata": {},
   "outputs": [],
   "source": [
    "# Export dataframe as an Excel file for manual data entry\n",
    "IMDB_df.to_excel('Stargate_IMDB_Info.xlsx', index=False)"
   ]
  }
 ],
 "metadata": {
  "kernelspec": {
   "display_name": "Python 3 (ipykernel)",
   "language": "python",
   "name": "python3"
  },
  "language_info": {
   "codemirror_mode": {
    "name": "ipython",
    "version": 3
   },
   "file_extension": ".py",
   "mimetype": "text/x-python",
   "name": "python",
   "nbconvert_exporter": "python",
   "pygments_lexer": "ipython3",
   "version": "3.11.5"
  }
 },
 "nbformat": 4,
 "nbformat_minor": 5
}
